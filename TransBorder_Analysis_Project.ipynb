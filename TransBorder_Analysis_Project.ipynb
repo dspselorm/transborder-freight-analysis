{
  "cells": [
    {
      "cell_type": "markdown",
      "metadata": {
        "id": "view-in-github",
        "colab_type": "text"
      },
      "source": [
        "<a href=\"https://colab.research.google.com/github/dspselorm/transborder-freight-analysis/blob/main/TransBorder_Analysis_Project.ipynb\" target=\"_parent\"><img src=\"https://colab.research.google.com/assets/colab-badge.svg\" alt=\"Open In Colab\"/></a>"
      ]
    },
    {
      "cell_type": "markdown",
      "metadata": {
        "id": "olHliRgr6t82"
      },
      "source": [
        "### **LIBRARIES**"
      ]
    },
    {
      "cell_type": "code",
      "execution_count": 1,
      "metadata": {
        "id": "khhLJYmw6p4B"
      },
      "outputs": [],
      "source": [
        "import pandas as pd\n",
        "import numpy as np\n",
        "import glob\n",
        "import os"
      ]
    },
    {
      "cell_type": "code",
      "execution_count": 2,
      "metadata": {
        "colab": {
          "base_uri": "https://localhost:8080/"
        },
        "id": "z6NRaHQs4q1E",
        "outputId": "77ececb2-ab26-4690-80c2-3bb00203a8c6"
      },
      "outputs": [
        {
          "output_type": "stream",
          "name": "stdout",
          "text": [
            "Mounted at /content/drive\n"
          ]
        }
      ],
      "source": [
        "from google.colab import drive\n",
        "drive.mount('/content/drive')"
      ]
    },
    {
      "cell_type": "markdown",
      "metadata": {
        "id": "9hCNnuh2sbqr",
        "jp-MarkdownHeadingCollapsed": true
      },
      "source": [
        "### **Merge and Save all 2020 CSVs**"
      ]
    },
    {
      "cell_type": "code",
      "execution_count": null,
      "metadata": {
        "colab": {
          "base_uri": "https://localhost:8080/"
        },
        "collapsed": true,
        "id": "FJIeL_Xm6ZeV",
        "jupyter": {
          "outputs_hidden": true
        },
        "outputId": "67d2f52d-92da-4f0a-a04d-bc3240fd434c"
      },
      "outputs": [
        {
          "name": "stdout",
          "output_type": "stream",
          "text": [
            "Drive already mounted at /content/drive; to attempt to forcibly remount, call drive.mount(\"/content/drive\", force_remount=True).\n",
            "Loaded: dot1_0120.csv with 26169 rows\n",
            "Loaded: dot1_ytd_0120.csv with 26169 rows\n"
          ]
        },
        {
          "name": "stderr",
          "output_type": "stream",
          "text": [
            "/tmp/ipython-input-2-2249145376.py:11: DtypeWarning: Columns (4,11) have mixed types. Specify dtype option on import or set low_memory=False.\n",
            "  df = pd.read_csv(file)\n"
          ]
        },
        {
          "name": "stdout",
          "output_type": "stream",
          "text": [
            "Loaded: dot2_0120.csv with 73211 rows\n"
          ]
        },
        {
          "name": "stderr",
          "output_type": "stream",
          "text": [
            "/tmp/ipython-input-2-2249145376.py:11: DtypeWarning: Columns (4,11) have mixed types. Specify dtype option on import or set low_memory=False.\n",
            "  df = pd.read_csv(file)\n"
          ]
        },
        {
          "name": "stdout",
          "output_type": "stream",
          "text": [
            "Loaded: dot2_ytd_0120.csv with 73211 rows\n",
            "Loaded: dot3_0120.csv with 16870 rows\n",
            "Loaded: dot3_ytd_0120.csv with 16870 rows\n",
            "Loaded: dot3_ytd_0220.csv with 33672 rows\n"
          ]
        },
        {
          "name": "stderr",
          "output_type": "stream",
          "text": [
            "/tmp/ipython-input-2-2249145376.py:11: DtypeWarning: Columns (4,11) have mixed types. Specify dtype option on import or set low_memory=False.\n",
            "  df = pd.read_csv(file)\n"
          ]
        },
        {
          "name": "stdout",
          "output_type": "stream",
          "text": [
            "Loaded: dot2_ytd_0220.csv with 146243 rows\n",
            "Loaded: dot1_ytd_0220.csv with 52480 rows\n"
          ]
        },
        {
          "name": "stderr",
          "output_type": "stream",
          "text": [
            "/tmp/ipython-input-2-2249145376.py:11: DtypeWarning: Columns (4,11) have mixed types. Specify dtype option on import or set low_memory=False.\n",
            "  df = pd.read_csv(file)\n"
          ]
        },
        {
          "name": "stdout",
          "output_type": "stream",
          "text": [
            "Loaded: dot2_0220.csv with 73032 rows\n",
            "Loaded: dot1_0220.csv with 26311 rows\n",
            "Loaded: dot3_0220.csv with 16802 rows\n",
            "Loaded: dot1_0320.csv with 27231 rows\n",
            "Loaded: dot1_ytd_0320.csv with 79711 rows\n"
          ]
        },
        {
          "name": "stderr",
          "output_type": "stream",
          "text": [
            "/tmp/ipython-input-2-2249145376.py:11: DtypeWarning: Columns (4,11) have mixed types. Specify dtype option on import or set low_memory=False.\n",
            "  df = pd.read_csv(file)\n"
          ]
        },
        {
          "name": "stdout",
          "output_type": "stream",
          "text": [
            "Loaded: dot2_0320.csv with 74667 rows\n",
            "Loaded: dot2_ytd_0320.csv with 220910 rows\n",
            "Loaded: dot3_0320.csv with 17384 rows\n",
            "Loaded: dot3_ytd_0320.csv with 51056 rows\n",
            "Loaded: dot2_0420.csv with 64884 rows\n",
            "Loaded: dot2_ytd_0420.csv with 285794 rows\n",
            "Loaded: dot3_0420.csv with 15416 rows\n"
          ]
        },
        {
          "name": "stderr",
          "output_type": "stream",
          "text": [
            "/tmp/ipython-input-2-2249145376.py:11: DtypeWarning: Columns (9) have mixed types. Specify dtype option on import or set low_memory=False.\n",
            "  df = pd.read_csv(file)\n"
          ]
        },
        {
          "name": "stdout",
          "output_type": "stream",
          "text": [
            "Loaded: dot3_ytd_0420.csv with 66472 rows\n",
            "Loaded: dot1_0420.csv with 24384 rows\n",
            "Loaded: dot1_ytd_0420.csv with 104095 rows\n",
            "Loaded: dot1_0520.csv with 24155 rows\n",
            "Loaded: dot1_ytd_0520.csv with 128250 rows\n",
            "Loaded: dot2_0520.csv with 64715 rows\n",
            "Loaded: dot2_ytd_0520.csv with 350509 rows\n",
            "Loaded: dot3_0520.csv with 15582 rows\n",
            "Loaded: dot3_ytd_0520.csv with 82054 rows\n",
            "Loaded: dot1_ytd_0620.csv with 153674 rows\n"
          ]
        },
        {
          "name": "stderr",
          "output_type": "stream",
          "text": [
            "/tmp/ipython-input-2-2249145376.py:11: DtypeWarning: Columns (4,11) have mixed types. Specify dtype option on import or set low_memory=False.\n",
            "  df = pd.read_csv(file)\n"
          ]
        },
        {
          "name": "stdout",
          "output_type": "stream",
          "text": [
            "Loaded: dot2_0620.csv with 69259 rows\n",
            "Loaded: dot2_ytd_0620.csv with 419768 rows\n",
            "Loaded: dot3_0620.csv with 16246 rows\n",
            "Loaded: dot3_ytd_0620.csv with 98300 rows\n",
            "Loaded: dot1_0620.csv with 25424 rows\n",
            "Loaded: dot2_ytd_0720.csv with 490595 rows\n"
          ]
        },
        {
          "name": "stderr",
          "output_type": "stream",
          "text": [
            "/tmp/ipython-input-2-2249145376.py:11: DtypeWarning: Columns (4,11) have mixed types. Specify dtype option on import or set low_memory=False.\n",
            "  df = pd.read_csv(file)\n"
          ]
        },
        {
          "name": "stdout",
          "output_type": "stream",
          "text": [
            "Loaded: dot2_0720.csv with 70827 rows\n",
            "Loaded: dot1_0720.csv with 26017 rows\n",
            "Loaded: dot1_ytd_0720.csv with 179691 rows\n",
            "Loaded: dot3_0720.csv with 16672 rows\n",
            "Loaded: dot3_ytd_0720.csv with 114972 rows\n"
          ]
        },
        {
          "name": "stderr",
          "output_type": "stream",
          "text": [
            "/tmp/ipython-input-2-2249145376.py:11: DtypeWarning: Columns (9) have mixed types. Specify dtype option on import or set low_memory=False.\n",
            "  df = pd.read_csv(file)\n"
          ]
        },
        {
          "name": "stdout",
          "output_type": "stream",
          "text": [
            "Loaded: dot3_ytd_0820.csv with 131620 rows\n",
            "Loaded: dot1_0820.csv with 25950 rows\n"
          ]
        },
        {
          "name": "stderr",
          "output_type": "stream",
          "text": [
            "/tmp/ipython-input-2-2249145376.py:11: DtypeWarning: Columns (4,11) have mixed types. Specify dtype option on import or set low_memory=False.\n",
            "  df = pd.read_csv(file)\n"
          ]
        },
        {
          "name": "stdout",
          "output_type": "stream",
          "text": [
            "Loaded: dot1_ytd_0820.csv with 205641 rows\n"
          ]
        },
        {
          "name": "stderr",
          "output_type": "stream",
          "text": [
            "/tmp/ipython-input-2-2249145376.py:11: DtypeWarning: Columns (4,11) have mixed types. Specify dtype option on import or set low_memory=False.\n",
            "  df = pd.read_csv(file)\n"
          ]
        },
        {
          "name": "stdout",
          "output_type": "stream",
          "text": [
            "Loaded: dot2_0820.csv with 71551 rows\n",
            "Loaded: dot2_ytd_0820.csv with 562146 rows\n",
            "Loaded: dot3_0820.csv with 16648 rows\n",
            "Loaded: dot1_0920.csv with 26388 rows\n",
            "Loaded: dot1_ytd_0920.csv with 232029 rows\n"
          ]
        },
        {
          "name": "stderr",
          "output_type": "stream",
          "text": [
            "/tmp/ipython-input-2-2249145376.py:11: DtypeWarning: Columns (4,11) have mixed types. Specify dtype option on import or set low_memory=False.\n",
            "  df = pd.read_csv(file)\n"
          ]
        },
        {
          "name": "stdout",
          "output_type": "stream",
          "text": [
            "Loaded: dot2_0920.csv with 72735 rows\n",
            "Loaded: dot2_ytd_0920.csv with 634881 rows\n",
            "Loaded: dot3_0920.csv with 16902 rows\n",
            "Loaded: dot3_ytd_0920.csv with 148522 rows\n",
            "Successfully merged 54 files into a single DataFrame with 6104767 rows.\n",
            "Merged file saved to: /content/drive/MyDrive/Azubi_TMP/TransBorder_Analysis_Project/Dataset/All_Months_2020/merged_data_2020.csv\n"
          ]
        }
      ],
      "source": [
        "# Define the path to your data folder\n",
        "data_folder_2020 = '/content/drive/MyDrive/Azubi_TMP/TransBorder_Analysis_Project/Dataset/All_Months_2020/'\n",
        "data_2020 = glob.glob(os.path.join(data_folder_2020, \"*.csv\"))\n",
        "\n",
        "# Read and combine all CSV files in 2020 folder\n",
        "df_2020 = []\n",
        "\n",
        "for file in data_2020:\n",
        "    try:\n",
        "        df = pd.read_csv(file)\n",
        "        df_2020.append(df)\n",
        "        print(f\"Loaded: {os.path.basename(file)} with {len(df)} rows\")\n",
        "    except Exception as e:\n",
        "        print(f\"Error loading {file}: {e}\")\n",
        "\n",
        "# Concatenate all DataFrames into one\n",
        "combined_df = pd.concat(df_2020, ignore_index=True)\n",
        "print(f\"Successfully merged {len(df_2020)} files into a single DataFrame with {len(combined_df)} rows.\")\n",
        "\n",
        "# Save the combined data\n",
        "output_path = os.path.join('/content/drive/MyDrive/Azubi_TMP/TransBorder_Analysis_Project/Dataset/', \"merged_data_2020.csv\")\n",
        "combined_df.to_csv(output_path, index=False)\n",
        "print(f\"Merged file saved to: {output_path}\")\n"
      ]
    },
    {
      "cell_type": "markdown",
      "metadata": {
        "id": "pS1HvQ9nskg7",
        "jp-MarkdownHeadingCollapsed": true
      },
      "source": [
        "### **Merge and Save all 2021 CSVs**"
      ]
    },
    {
      "cell_type": "code",
      "execution_count": null,
      "metadata": {
        "colab": {
          "base_uri": "https://localhost:8080/"
        },
        "collapsed": true,
        "id": "o2dLoZdFmpJb",
        "jupyter": {
          "outputs_hidden": true
        },
        "outputId": "032a2187-953b-44bc-9b06-e1c80828eff5"
      },
      "outputs": [
        {
          "name": "stdout",
          "output_type": "stream",
          "text": [
            "Loaded: dot3_ytd_0121.csv with 16597 rows\n",
            "Loaded: dot1_0121.csv with 25968 rows\n",
            "Loaded: dot1_ytd_0121.csv with 25968 rows\n"
          ]
        },
        {
          "name": "stderr",
          "output_type": "stream",
          "text": [
            "/tmp/ipython-input-4-2477998144.py:10: DtypeWarning: Columns (4,11) have mixed types. Specify dtype option on import or set low_memory=False.\n",
            "  df = pd.read_csv(file)\n"
          ]
        },
        {
          "name": "stdout",
          "output_type": "stream",
          "text": [
            "Loaded: dot2_0121.csv with 72051 rows\n"
          ]
        },
        {
          "name": "stderr",
          "output_type": "stream",
          "text": [
            "/tmp/ipython-input-4-2477998144.py:10: DtypeWarning: Columns (4,11) have mixed types. Specify dtype option on import or set low_memory=False.\n",
            "  df = pd.read_csv(file)\n"
          ]
        },
        {
          "name": "stdout",
          "output_type": "stream",
          "text": [
            "Loaded: dot2_ytd_0121.csv with 72051 rows\n",
            "Loaded: dot3_0121.csv with 16597 rows\n",
            "Loaded: dot1_0221.csv with 25895 rows\n",
            "Loaded: dot1_ytd_0221.csv with 51863 rows\n"
          ]
        },
        {
          "name": "stderr",
          "output_type": "stream",
          "text": [
            "/tmp/ipython-input-4-2477998144.py:10: DtypeWarning: Columns (4,11) have mixed types. Specify dtype option on import or set low_memory=False.\n",
            "  df = pd.read_csv(file)\n"
          ]
        },
        {
          "name": "stdout",
          "output_type": "stream",
          "text": [
            "Loaded: dot2_0221.csv with 71396 rows\n"
          ]
        },
        {
          "name": "stderr",
          "output_type": "stream",
          "text": [
            "/tmp/ipython-input-4-2477998144.py:10: DtypeWarning: Columns (4,11) have mixed types. Specify dtype option on import or set low_memory=False.\n",
            "  df = pd.read_csv(file)\n"
          ]
        },
        {
          "name": "stdout",
          "output_type": "stream",
          "text": [
            "Loaded: dot2_ytd_0221.csv with 143447 rows\n",
            "Loaded: dot3_0221.csv with 16628 rows\n",
            "Loaded: dot3_ytd_0221.csv with 33225 rows\n",
            "Loaded: dot3_ytd_0321.csv with 50900 rows\n",
            "Loaded: dot1_0321.csv with 28003 rows\n",
            "Loaded: dot1_ytd_0321.csv with 79866 rows\n"
          ]
        },
        {
          "name": "stderr",
          "output_type": "stream",
          "text": [
            "/tmp/ipython-input-4-2477998144.py:10: DtypeWarning: Columns (4,11) have mixed types. Specify dtype option on import or set low_memory=False.\n",
            "  df = pd.read_csv(file)\n"
          ]
        },
        {
          "name": "stdout",
          "output_type": "stream",
          "text": [
            "Loaded: dot2_0321.csv with 77747 rows\n",
            "Loaded: dot2_ytd_0321.csv with 221194 rows\n",
            "Loaded: dot3_0321.csv with 17675 rows\n",
            "Loaded: dot1_0421.csv with 27475 rows\n",
            "Loaded: dot1_ytd_0421.csv with 107341 rows\n"
          ]
        },
        {
          "name": "stderr",
          "output_type": "stream",
          "text": [
            "/tmp/ipython-input-4-2477998144.py:10: DtypeWarning: Columns (4,11) have mixed types. Specify dtype option on import or set low_memory=False.\n",
            "  df = pd.read_csv(file)\n"
          ]
        },
        {
          "name": "stdout",
          "output_type": "stream",
          "text": [
            "Loaded: dot2_0421.csv with 76057 rows\n",
            "Loaded: dot2_ytd_0421.csv with 297251 rows\n",
            "Loaded: dot3_0421.csv with 17472 rows\n"
          ]
        },
        {
          "name": "stderr",
          "output_type": "stream",
          "text": [
            "/tmp/ipython-input-4-2477998144.py:10: DtypeWarning: Columns (9) have mixed types. Specify dtype option on import or set low_memory=False.\n",
            "  df = pd.read_csv(file)\n"
          ]
        },
        {
          "name": "stdout",
          "output_type": "stream",
          "text": [
            "Loaded: dot3_ytd_0421.csv with 68372 rows\n",
            "Loaded: dot1_0521.csv with 27492 rows\n",
            "Loaded: dot1_ytd_0521.csv with 134833 rows\n",
            "Loaded: dot2_0521.csv with 75501 rows\n",
            "Loaded: dot2_ytd_0521.csv with 372752 rows\n",
            "Loaded: dot3_0521.csv with 17439 rows\n",
            "Loaded: dot3_ytd_0521.csv with 85811 rows\n",
            "Loaded: dot1_ytd_0621.csv with 162567 rows\n",
            "Loaded: dot2_ytd_0621.csv with 449125 rows\n",
            "Loaded: dot3_ytd_0621.csv with 103315 rows\n",
            "Loaded: dot3_0621.csv with 17504 rows\n",
            "Loaded: dot1_0621.csv with 27734 rows\n"
          ]
        },
        {
          "name": "stderr",
          "output_type": "stream",
          "text": [
            "/tmp/ipython-input-4-2477998144.py:10: DtypeWarning: Columns (4,11) have mixed types. Specify dtype option on import or set low_memory=False.\n",
            "  df = pd.read_csv(file)\n"
          ]
        },
        {
          "name": "stdout",
          "output_type": "stream",
          "text": [
            "Loaded: dot2_0621.csv with 76373 rows\n",
            "Loaded: dot1_0721.csv with 27550 rows\n",
            "Loaded: dot1_ytd_0721.csv with 190117 rows\n"
          ]
        },
        {
          "name": "stderr",
          "output_type": "stream",
          "text": [
            "/tmp/ipython-input-4-2477998144.py:10: DtypeWarning: Columns (4,11) have mixed types. Specify dtype option on import or set low_memory=False.\n",
            "  df = pd.read_csv(file)\n"
          ]
        },
        {
          "name": "stdout",
          "output_type": "stream",
          "text": [
            "Loaded: dot2_0721.csv with 75458 rows\n"
          ]
        },
        {
          "name": "stderr",
          "output_type": "stream",
          "text": [
            "/tmp/ipython-input-4-2477998144.py:10: DtypeWarning: Columns (4,11) have mixed types. Specify dtype option on import or set low_memory=False.\n",
            "  df = pd.read_csv(file)\n"
          ]
        },
        {
          "name": "stdout",
          "output_type": "stream",
          "text": [
            "Loaded: dot2_ytd_0721.csv with 524583 rows\n",
            "Loaded: dot3_0721.csv with 17466 rows\n",
            "Loaded: dot3_ytd_0721.csv with 120781 rows\n",
            "Loaded: dot1_0821.csv with 27606 rows\n",
            "Loaded: dot1_ytd_0821.csv with 217723 rows\n"
          ]
        },
        {
          "name": "stderr",
          "output_type": "stream",
          "text": [
            "/tmp/ipython-input-4-2477998144.py:10: DtypeWarning: Columns (4,11) have mixed types. Specify dtype option on import or set low_memory=False.\n",
            "  df = pd.read_csv(file)\n"
          ]
        },
        {
          "name": "stdout",
          "output_type": "stream",
          "text": [
            "Loaded: dot2_0821.csv with 75698 rows\n"
          ]
        },
        {
          "name": "stderr",
          "output_type": "stream",
          "text": [
            "/tmp/ipython-input-4-2477998144.py:10: DtypeWarning: Columns (4,11) have mixed types. Specify dtype option on import or set low_memory=False.\n",
            "  df = pd.read_csv(file)\n"
          ]
        },
        {
          "name": "stdout",
          "output_type": "stream",
          "text": [
            "Loaded: dot2_ytd_0821.csv with 600281 rows\n",
            "Loaded: dot3_0821.csv with 17461 rows\n",
            "Loaded: dot3_ytd_0821.csv with 138242 rows\n",
            "Loaded: dot3_ytd_0921.csv with 155673 rows\n",
            "Loaded: dot1_0921.csv with 27343 rows\n",
            "Loaded: dot1_ytd_0921.csv with 245066 rows\n"
          ]
        },
        {
          "name": "stderr",
          "output_type": "stream",
          "text": [
            "/tmp/ipython-input-4-2477998144.py:10: DtypeWarning: Columns (4,11) have mixed types. Specify dtype option on import or set low_memory=False.\n",
            "  df = pd.read_csv(file)\n"
          ]
        },
        {
          "name": "stdout",
          "output_type": "stream",
          "text": [
            "Loaded: dot2_0921.csv with 75358 rows\n"
          ]
        },
        {
          "name": "stderr",
          "output_type": "stream",
          "text": [
            "/tmp/ipython-input-4-2477998144.py:10: DtypeWarning: Columns (4,11) have mixed types. Specify dtype option on import or set low_memory=False.\n",
            "  df = pd.read_csv(file)\n"
          ]
        },
        {
          "name": "stdout",
          "output_type": "stream",
          "text": [
            "Loaded: dot2_ytd_0921.csv with 675639 rows\n",
            "Loaded: dot3_0921.csv with 17431 rows\n",
            "Loaded: dot1_1021.csv with 27876 rows\n",
            "Loaded: dot1_ytd_1021.csv with 272942 rows\n"
          ]
        },
        {
          "name": "stderr",
          "output_type": "stream",
          "text": [
            "/tmp/ipython-input-4-2477998144.py:10: DtypeWarning: Columns (4,11) have mixed types. Specify dtype option on import or set low_memory=False.\n",
            "  df = pd.read_csv(file)\n"
          ]
        },
        {
          "name": "stdout",
          "output_type": "stream",
          "text": [
            "Loaded: dot2_1021.csv with 76652 rows\n",
            "Loaded: dot2_ytd_1021.csv with 752291 rows\n",
            "Loaded: dot3_1021.csv with 17487 rows\n",
            "Loaded: dot3_ytd_1021.csv with 173160 rows\n",
            "Loaded: dot3_ytd_1121.csv with 190604 rows\n",
            "Loaded: dot1_1121.csv with 27544 rows\n",
            "Loaded: dot1_ytd_1121.csv with 300486 rows\n"
          ]
        },
        {
          "name": "stderr",
          "output_type": "stream",
          "text": [
            "/tmp/ipython-input-4-2477998144.py:10: DtypeWarning: Columns (4,11) have mixed types. Specify dtype option on import or set low_memory=False.\n",
            "  df = pd.read_csv(file)\n"
          ]
        },
        {
          "name": "stdout",
          "output_type": "stream",
          "text": [
            "Loaded: dot2_1121.csv with 75689 rows\n",
            "Loaded: dot2_ytd_1121.csv with 827980 rows\n",
            "Loaded: dot3_1121.csv with 17444 rows\n",
            "Loaded: dot1_1221.csv with 27098 rows\n",
            "Loaded: dot1_2021.csv with 59407 rows\n",
            "Loaded: dot1_ytd_1221.csv with 327584 rows\n"
          ]
        },
        {
          "name": "stderr",
          "output_type": "stream",
          "text": [
            "/tmp/ipython-input-4-2477998144.py:10: DtypeWarning: Columns (4,11) have mixed types. Specify dtype option on import or set low_memory=False.\n",
            "  df = pd.read_csv(file)\n"
          ]
        },
        {
          "name": "stdout",
          "output_type": "stream",
          "text": [
            "Loaded: dot2_1221.csv with 74636 rows\n"
          ]
        },
        {
          "name": "stderr",
          "output_type": "stream",
          "text": [
            "/tmp/ipython-input-4-2477998144.py:10: DtypeWarning: Columns (4,8) have mixed types. Specify dtype option on import or set low_memory=False.\n",
            "  df = pd.read_csv(file)\n"
          ]
        },
        {
          "name": "stdout",
          "output_type": "stream",
          "text": [
            "Loaded: dot2_2021.csv with 152131 rows\n",
            "Loaded: dot2_ytd_1221.csv with 902616 rows\n",
            "Loaded: dot3_1221.csv with 17174 rows\n",
            "Loaded: dot3_2021.csv with 33258 rows\n",
            "Loaded: dot3_ytd_1221.csv with 207778 rows\n",
            "Successfully merged 75 files into a single DataFrame with 10982798 rows.\n",
            "Merged file saved to: /content/drive/MyDrive/Azubi_TMP/TransBorder_Analysis_Project/Dataset/merged_data_2021.csv\n"
          ]
        }
      ],
      "source": [
        "# Define the path to your data folder\n",
        "data_folder_2021 = '/content/drive/MyDrive/Azubi_TMP/TransBorder_Analysis_Project/Dataset/All_Months_2021/'\n",
        "data_2021 = glob.glob(os.path.join(data_folder_2021, \"*.csv\"))\n",
        "\n",
        "# Read and combine all CSV files in 2021 folder\n",
        "df_2021 = []\n",
        "\n",
        "for file in data_2021:\n",
        "    try:\n",
        "        df = pd.read_csv(file)\n",
        "        df_2021.append(df)\n",
        "        print(f\"Loaded: {os.path.basename(file)} with {len(df)} rows\")\n",
        "    except Exception as e:\n",
        "        print(f\"Error loading {file}: {e}\")\n",
        "\n",
        "# Concatenate all DataFrames into one\n",
        "combined_df = pd.concat(df_2021, ignore_index=True)\n",
        "print(f\"Successfully merged {len(df_2021)} files into a single DataFrame with {len(combined_df)} rows.\")\n",
        "\n",
        "# Save the combined data\n",
        "output_path = os.path.join('/content/drive/MyDrive/Azubi_TMP/TransBorder_Analysis_Project/Dataset/', \"merged_data_2021.csv\")\n",
        "combined_df.to_csv(output_path, index=False)\n",
        "print(f\"Merged file saved to: {output_path}\")"
      ]
    },
    {
      "cell_type": "markdown",
      "metadata": {
        "id": "yzdPbFjksmbK",
        "jp-MarkdownHeadingCollapsed": true
      },
      "source": [
        "### **Merge and Save all 2022 CSVs**"
      ]
    },
    {
      "cell_type": "code",
      "execution_count": null,
      "metadata": {
        "colab": {
          "base_uri": "https://localhost:8080/"
        },
        "collapsed": true,
        "id": "Vz7HRMNypgFD",
        "jupyter": {
          "outputs_hidden": true
        },
        "outputId": "6e85f8a8-1d20-4a76-94cd-85614b938bf3"
      },
      "outputs": [
        {
          "name": "stdout",
          "output_type": "stream",
          "text": [
            "Loaded: dot3_ytd_0122.csv with 16673 rows\n",
            "Loaded: dot1_0122.csv with 26614 rows\n",
            "Loaded: dot1_ytd_0122.csv with 26614 rows\n"
          ]
        },
        {
          "name": "stderr",
          "output_type": "stream",
          "text": [
            "/tmp/ipython-input-5-4091811327.py:10: DtypeWarning: Columns (4,11) have mixed types. Specify dtype option on import or set low_memory=False.\n",
            "  df = pd.read_csv(file)\n"
          ]
        },
        {
          "name": "stdout",
          "output_type": "stream",
          "text": [
            "Loaded: dot2_0122.csv with 72636 rows\n"
          ]
        },
        {
          "name": "stderr",
          "output_type": "stream",
          "text": [
            "/tmp/ipython-input-5-4091811327.py:10: DtypeWarning: Columns (4,11) have mixed types. Specify dtype option on import or set low_memory=False.\n",
            "  df = pd.read_csv(file)\n"
          ]
        },
        {
          "name": "stdout",
          "output_type": "stream",
          "text": [
            "Loaded: dot2_ytd_0122.csv with 72636 rows\n",
            "Loaded: dot3_0122.csv with 16673 rows\n",
            "Loaded: dot3_ytd_0222.csv with 34187 rows\n",
            "Loaded: dot1_0222.csv with 28122 rows\n",
            "Loaded: dot1_ytd_0222.csv with 54736 rows\n",
            "Loaded: dot2_0222.csv with 74397 rows\n"
          ]
        },
        {
          "name": "stderr",
          "output_type": "stream",
          "text": [
            "/tmp/ipython-input-5-4091811327.py:10: DtypeWarning: Columns (4,11) have mixed types. Specify dtype option on import or set low_memory=False.\n",
            "  df = pd.read_csv(file)\n"
          ]
        },
        {
          "name": "stdout",
          "output_type": "stream",
          "text": [
            "Loaded: dot2_ytd_0222.csv with 147033 rows\n",
            "Loaded: dot3_0222.csv with 17514 rows\n",
            "Loaded: dot1_ytd_0322.csv with 83859 rows\n"
          ]
        },
        {
          "name": "stderr",
          "output_type": "stream",
          "text": [
            "/tmp/ipython-input-5-4091811327.py:10: DtypeWarning: Columns (4,11) have mixed types. Specify dtype option on import or set low_memory=False.\n",
            "  df = pd.read_csv(file)\n"
          ]
        },
        {
          "name": "stdout",
          "output_type": "stream",
          "text": [
            "Loaded: dot2_0322.csv with 79877 rows\n",
            "Loaded: dot2_ytd_0322.csv with 226910 rows\n",
            "Loaded: dot3_0322.csv with 18060 rows\n",
            "Loaded: dot3_ytd_0322.csv with 52247 rows\n",
            "Loaded: dot1_0322.csv with 29123 rows\n"
          ]
        },
        {
          "name": "stderr",
          "output_type": "stream",
          "text": [
            "/tmp/ipython-input-5-4091811327.py:10: DtypeWarning: Columns (9) have mixed types. Specify dtype option on import or set low_memory=False.\n",
            "  df = pd.read_csv(file)\n"
          ]
        },
        {
          "name": "stdout",
          "output_type": "stream",
          "text": [
            "Loaded: dot3_ytd_0422.csv with 70280 rows\n",
            "Loaded: dot1_0422.csv with 28377 rows\n",
            "Loaded: dot1_ytd_0422.csv with 112236 rows\n"
          ]
        },
        {
          "name": "stderr",
          "output_type": "stream",
          "text": [
            "/tmp/ipython-input-5-4091811327.py:10: DtypeWarning: Columns (4,11) have mixed types. Specify dtype option on import or set low_memory=False.\n",
            "  df = pd.read_csv(file)\n"
          ]
        },
        {
          "name": "stdout",
          "output_type": "stream",
          "text": [
            "Loaded: dot2_0422.csv with 78427 rows\n",
            "Loaded: dot2_ytd_0422.csv with 305337 rows\n",
            "Loaded: dot3_0422.csv with 18033 rows\n",
            "Loaded: dot3_ytd_0522.csv with 88013 rows\n",
            "Loaded: dot1_0522.csv with 28568 rows\n"
          ]
        },
        {
          "name": "stderr",
          "output_type": "stream",
          "text": [
            "/tmp/ipython-input-5-4091811327.py:10: DtypeWarning: Columns (4,11) have mixed types. Specify dtype option on import or set low_memory=False.\n",
            "  df = pd.read_csv(file)\n"
          ]
        },
        {
          "name": "stdout",
          "output_type": "stream",
          "text": [
            "Loaded: dot1_ytd_0522.csv with 140804 rows\n"
          ]
        },
        {
          "name": "stderr",
          "output_type": "stream",
          "text": [
            "/tmp/ipython-input-5-4091811327.py:10: DtypeWarning: Columns (4,11) have mixed types. Specify dtype option on import or set low_memory=False.\n",
            "  df = pd.read_csv(file)\n"
          ]
        },
        {
          "name": "stdout",
          "output_type": "stream",
          "text": [
            "Loaded: dot2_0522.csv with 78464 rows\n",
            "Loaded: dot2_ytd_0522.csv with 383801 rows\n",
            "Loaded: dot3_0522.csv with 17733 rows\n",
            "Loaded: dot3_ytd_0622.csv with 105742 rows\n",
            "Loaded: dot1_0622.csv with 28547 rows\n",
            "Loaded: dot1_ytd_0622.csv with 169351 rows\n"
          ]
        },
        {
          "name": "stderr",
          "output_type": "stream",
          "text": [
            "/tmp/ipython-input-5-4091811327.py:10: DtypeWarning: Columns (4,11) have mixed types. Specify dtype option on import or set low_memory=False.\n",
            "  df = pd.read_csv(file)\n"
          ]
        },
        {
          "name": "stdout",
          "output_type": "stream",
          "text": [
            "Loaded: dot2_0622.csv with 78532 rows\n"
          ]
        },
        {
          "name": "stderr",
          "output_type": "stream",
          "text": [
            "/tmp/ipython-input-5-4091811327.py:10: DtypeWarning: Columns (4,11) have mixed types. Specify dtype option on import or set low_memory=False.\n",
            "  df = pd.read_csv(file)\n"
          ]
        },
        {
          "name": "stdout",
          "output_type": "stream",
          "text": [
            "Loaded: dot2_ytd_0622.csv with 462333 rows\n",
            "Loaded: dot3_0622.csv with 17729 rows\n",
            "Loaded: dot3_ytd_0722.csv with 118261 rows\n",
            "Loaded: dot1_0722.csv with 27887 rows\n"
          ]
        },
        {
          "name": "stderr",
          "output_type": "stream",
          "text": [
            "/tmp/ipython-input-5-4091811327.py:10: DtypeWarning: Columns (4,11) have mixed types. Specify dtype option on import or set low_memory=False.\n",
            "  df = pd.read_csv(file)\n"
          ]
        },
        {
          "name": "stdout",
          "output_type": "stream",
          "text": [
            "Loaded: dot1_ytd_0722.csv with 197238 rows\n"
          ]
        },
        {
          "name": "stderr",
          "output_type": "stream",
          "text": [
            "/tmp/ipython-input-5-4091811327.py:10: DtypeWarning: Columns (4,11) have mixed types. Specify dtype option on import or set low_memory=False.\n",
            "  df = pd.read_csv(file)\n"
          ]
        },
        {
          "name": "stdout",
          "output_type": "stream",
          "text": [
            "Loaded: dot2_0722.csv with 76519 rows\n"
          ]
        },
        {
          "name": "stderr",
          "output_type": "stream",
          "text": [
            "/tmp/ipython-input-5-4091811327.py:10: DtypeWarning: Columns (4,11) have mixed types. Specify dtype option on import or set low_memory=False.\n",
            "  df = pd.read_csv(file)\n"
          ]
        },
        {
          "name": "stdout",
          "output_type": "stream",
          "text": [
            "Loaded: dot2_ytd_0722.csv with 538852 rows\n",
            "Loaded: dot3_0722.csv with 17404 rows\n",
            "Loaded: dot3_0822.csv with 17657 rows\n",
            "Loaded: dot1_ytd_0822.csv with 225730 rows\n"
          ]
        },
        {
          "name": "stderr",
          "output_type": "stream",
          "text": [
            "/tmp/ipython-input-5-4091811327.py:10: DtypeWarning: Columns (4,11) have mixed types. Specify dtype option on import or set low_memory=False.\n",
            "  df = pd.read_csv(file)\n"
          ]
        },
        {
          "name": "stdout",
          "output_type": "stream",
          "text": [
            "Loaded: dot2_0822.csv with 78282 rows\n",
            "Loaded: dot1_0822.csv with 28492 rows\n",
            "Loaded: dot2_ytd_0822.csv with 617134 rows\n",
            "Loaded: dot3_ytd_0822.csv with 140803 rows\n",
            "Loaded: dot1_0922.csv with 28306 rows\n"
          ]
        },
        {
          "name": "stderr",
          "output_type": "stream",
          "text": [
            "/tmp/ipython-input-5-4091811327.py:10: DtypeWarning: Columns (4,11) have mixed types. Specify dtype option on import or set low_memory=False.\n",
            "  df = pd.read_csv(file)\n"
          ]
        },
        {
          "name": "stdout",
          "output_type": "stream",
          "text": [
            "Loaded: dot2_0922.csv with 77181 rows\n",
            "Loaded: dot3_0922.csv with 17418 rows\n",
            "Loaded: dot2_ytd_0922.csv with 694315 rows\n",
            "Loaded: dot1_ytd_0922.csv with 254036 rows\n",
            "Loaded: dot3_ytd_0922.csv with 158221 rows\n",
            "Loaded: dot1_1022.csv with 28486 rows\n"
          ]
        },
        {
          "name": "stderr",
          "output_type": "stream",
          "text": [
            "/tmp/ipython-input-5-4091811327.py:10: DtypeWarning: Columns (4,11) have mixed types. Specify dtype option on import or set low_memory=False.\n",
            "  df = pd.read_csv(file)\n"
          ]
        },
        {
          "name": "stdout",
          "output_type": "stream",
          "text": [
            "Loaded: dot2_1022.csv with 77872 rows\n",
            "Loaded: dot1_ytd_1022.csv with 282522 rows\n",
            "Loaded: dot3_1022.csv with 17643 rows\n",
            "Loaded: dot3_ytd_1022.csv with 175864 rows\n",
            "Loaded: dot2_ytd_1022.csv with 772187 rows\n",
            "Loaded: dot3_1122.csv with 17327 rows\n"
          ]
        },
        {
          "name": "stderr",
          "output_type": "stream",
          "text": [
            "/tmp/ipython-input-5-4091811327.py:10: DtypeWarning: Columns (4,11) have mixed types. Specify dtype option on import or set low_memory=False.\n",
            "  df = pd.read_csv(file)\n"
          ]
        },
        {
          "name": "stdout",
          "output_type": "stream",
          "text": [
            "Loaded: dot2_1122.csv with 76597 rows\n",
            "Loaded: dot1_ytd_1122.csv with 310560 rows\n",
            "Loaded: dot1_1122.csv with 28038 rows\n",
            "Loaded: dot2_ytd_1122.csv with 848784 rows\n",
            "Loaded: dot3_ytd_1122.csv with 193191 rows\n",
            "Loaded: dot1_1222.csv with 27541 rows\n"
          ]
        },
        {
          "name": "stderr",
          "output_type": "stream",
          "text": [
            "/tmp/ipython-input-5-4091811327.py:10: DtypeWarning: Columns (4,11) have mixed types. Specify dtype option on import or set low_memory=False.\n",
            "  df = pd.read_csv(file)\n"
          ]
        },
        {
          "name": "stdout",
          "output_type": "stream",
          "text": [
            "Loaded: dot2_1222.csv with 74556 rows\n",
            "Loaded: dot3_1222.csv with 17165 rows\n",
            "Loaded: dot1_ytd_1222.csv with 338101 rows\n"
          ]
        },
        {
          "name": "stderr",
          "output_type": "stream",
          "text": [
            "/tmp/ipython-input-5-4091811327.py:10: DtypeWarning: Columns (4,11) have mixed types. Specify dtype option on import or set low_memory=False.\n",
            "  df = pd.read_csv(file)\n"
          ]
        },
        {
          "name": "stdout",
          "output_type": "stream",
          "text": [
            "Loaded: dot2_ytd_1222.csv with 923340 rows\n",
            "Loaded: dot3_ytd_1222.csv with 210356 rows\n",
            "Loaded: dot3_2022.csv with 33948 rows\n",
            "Loaded: dot1_2022.csv with 61719 rows\n"
          ]
        },
        {
          "name": "stderr",
          "output_type": "stream",
          "text": [
            "/tmp/ipython-input-5-4091811327.py:10: DtypeWarning: Columns (4,8) have mixed types. Specify dtype option on import or set low_memory=False.\n",
            "  df = pd.read_csv(file)\n"
          ]
        },
        {
          "name": "stdout",
          "output_type": "stream",
          "text": [
            "Loaded: dot2_2022.csv with 156199 rows\n",
            "Successfully merged 75 files into a single DataFrame with 11275950 rows.\n",
            "Merged file saved to: /content/drive/MyDrive/Azubi_TMP/TransBorder_Analysis_Project/Dataset/merged_data_2022.csv\n"
          ]
        }
      ],
      "source": [
        "# Define the path to your data folder\n",
        "data_folder_2022 = '/content/drive/MyDrive/Azubi_TMP/TransBorder_Analysis_Project/Dataset/All_Months_2022/'\n",
        "data_2022 = glob.glob(os.path.join(data_folder_2022, \"*.csv\"))\n",
        "\n",
        "# Read and combine all CSV files in 2022 folder\n",
        "df_2022 = []\n",
        "\n",
        "for file in data_2022:\n",
        "    try:\n",
        "        df = pd.read_csv(file)\n",
        "        df_2022.append(df)\n",
        "        print(f\"Loaded: {os.path.basename(file)} with {len(df)} rows\")\n",
        "    except Exception as e:\n",
        "        print(f\"Error loading {file}: {e}\")\n",
        "\n",
        "# Concatenate all DataFrames into one\n",
        "combined_df = pd.concat(df_2022, ignore_index=True)\n",
        "print(f\"Successfully merged {len(df_2022)} files into a single DataFrame with {len(combined_df)} rows.\")\n",
        "\n",
        "# Save the combined data\n",
        "output_path = os.path.join('/content/drive/MyDrive/Azubi_TMP/TransBorder_Analysis_Project/Dataset/', \"merged_data_2022.csv\")\n",
        "combined_df.to_csv(output_path, index=False)\n",
        "print(f\"Merged file saved to: {output_path}\")"
      ]
    },
    {
      "cell_type": "markdown",
      "metadata": {
        "id": "lswQ0OrQsus-",
        "jp-MarkdownHeadingCollapsed": true
      },
      "source": [
        "### **Merge and Save all 2023 CSVs**"
      ]
    },
    {
      "cell_type": "code",
      "execution_count": null,
      "metadata": {
        "colab": {
          "base_uri": "https://localhost:8080/"
        },
        "collapsed": true,
        "id": "RFPphBqVqs2r",
        "jupyter": {
          "outputs_hidden": true
        },
        "outputId": "1aceeaa5-60c5-49d9-9529-ea9258e75a66"
      },
      "outputs": [
        {
          "name": "stdout",
          "output_type": "stream",
          "text": [
            "Loaded: dot1_0123.csv with 27837 rows\n",
            "Loaded: dot3_0123.csv with 17179 rows\n",
            "Loaded: dot3_ytd_0123.csv with 17179 rows\n"
          ]
        },
        {
          "name": "stderr",
          "output_type": "stream",
          "text": [
            "/tmp/ipython-input-6-1769527231.py:10: DtypeWarning: Columns (4,11) have mixed types. Specify dtype option on import or set low_memory=False.\n",
            "  df = pd.read_csv(file)\n"
          ]
        },
        {
          "name": "stdout",
          "output_type": "stream",
          "text": [
            "Loaded: dot2_ytd_0123.csv with 75504 rows\n",
            "Loaded: dot1_ytd_0123.csv with 27837 rows\n"
          ]
        },
        {
          "name": "stderr",
          "output_type": "stream",
          "text": [
            "/tmp/ipython-input-6-1769527231.py:10: DtypeWarning: Columns (4,11) have mixed types. Specify dtype option on import or set low_memory=False.\n",
            "  df = pd.read_csv(file)\n"
          ]
        },
        {
          "name": "stdout",
          "output_type": "stream",
          "text": [
            "Loaded: dot2_0123.csv with 75504 rows\n"
          ]
        },
        {
          "name": "stderr",
          "output_type": "stream",
          "text": [
            "/tmp/ipython-input-6-1769527231.py:10: DtypeWarning: Columns (4,11) have mixed types. Specify dtype option on import or set low_memory=False.\n",
            "  df = pd.read_csv(file)\n"
          ]
        },
        {
          "name": "stdout",
          "output_type": "stream",
          "text": [
            "Loaded: dot2_0223.csv with 75564 rows\n",
            "Loaded: dot1_0223.csv with 27646 rows\n",
            "Loaded: dot3_0223.csv with 17000 rows\n"
          ]
        },
        {
          "name": "stderr",
          "output_type": "stream",
          "text": [
            "/tmp/ipython-input-6-1769527231.py:10: DtypeWarning: Columns (4,11) have mixed types. Specify dtype option on import or set low_memory=False.\n",
            "  df = pd.read_csv(file)\n"
          ]
        },
        {
          "name": "stdout",
          "output_type": "stream",
          "text": [
            "Loaded: dot2_ytd_0223.csv with 151068 rows\n",
            "Loaded: dot3_ytd_0223.csv with 34179 rows\n",
            "Loaded: dot1_ytd_0223.csv with 55483 rows\n",
            "Loaded: dot1_0323.csv with 29100 rows\n"
          ]
        },
        {
          "name": "stderr",
          "output_type": "stream",
          "text": [
            "/tmp/ipython-input-6-1769527231.py:10: DtypeWarning: Columns (4,11) have mixed types. Specify dtype option on import or set low_memory=False.\n",
            "  df = pd.read_csv(file)\n"
          ]
        },
        {
          "name": "stdout",
          "output_type": "stream",
          "text": [
            "Loaded: dot2_0323.csv with 80305 rows\n",
            "Loaded: dot3_0323.csv with 17857 rows\n",
            "Loaded: dot3_ytd_0323.csv with 52036 rows\n",
            "Loaded: dot1_ytd_0323.csv with 84583 rows\n",
            "Loaded: dot2_ytd_0323.csv with 231373 rows\n",
            "Loaded: dot1_0423.csv with 28044 rows\n"
          ]
        },
        {
          "name": "stderr",
          "output_type": "stream",
          "text": [
            "/tmp/ipython-input-6-1769527231.py:10: DtypeWarning: Columns (4,11) have mixed types. Specify dtype option on import or set low_memory=False.\n",
            "  df = pd.read_csv(file)\n"
          ]
        },
        {
          "name": "stdout",
          "output_type": "stream",
          "text": [
            "Loaded: dot2_0423.csv with 77386 rows\n",
            "Loaded: dot1_ytd_0423.csv with 112627 rows\n",
            "Loaded: dot3_0423.csv with 17464 rows\n",
            "Loaded: dot2_ytd_0423.csv with 308759 rows\n"
          ]
        },
        {
          "name": "stderr",
          "output_type": "stream",
          "text": [
            "/tmp/ipython-input-6-1769527231.py:10: DtypeWarning: Columns (9) have mixed types. Specify dtype option on import or set low_memory=False.\n",
            "  df = pd.read_csv(file)\n"
          ]
        },
        {
          "name": "stdout",
          "output_type": "stream",
          "text": [
            "Loaded: dot3_ytd_0423.csv with 69500 rows\n",
            "Loaded: dot1_0523.csv with 28977 rows\n",
            "Loaded: dot3_0523.csv with 17863 rows\n"
          ]
        },
        {
          "name": "stderr",
          "output_type": "stream",
          "text": [
            "/tmp/ipython-input-6-1769527231.py:10: DtypeWarning: Columns (4,11) have mixed types. Specify dtype option on import or set low_memory=False.\n",
            "  df = pd.read_csv(file)\n"
          ]
        },
        {
          "name": "stdout",
          "output_type": "stream",
          "text": [
            "Loaded: dot2_0523.csv with 79084 rows\n"
          ]
        },
        {
          "name": "stderr",
          "output_type": "stream",
          "text": [
            "/tmp/ipython-input-6-1769527231.py:10: DtypeWarning: Columns (4,11) have mixed types. Specify dtype option on import or set low_memory=False.\n",
            "  df = pd.read_csv(file)\n"
          ]
        },
        {
          "name": "stdout",
          "output_type": "stream",
          "text": [
            "Loaded: dot1_ytd_0523.csv with 141604 rows\n",
            "Loaded: dot2_ytd_0523.csv with 387843 rows\n",
            "Loaded: dot3_ytd_0523.csv with 87363 rows\n",
            "Loaded: dot1_ytd_0623.csv with 170568 rows\n"
          ]
        },
        {
          "name": "stderr",
          "output_type": "stream",
          "text": [
            "/tmp/ipython-input-6-1769527231.py:10: DtypeWarning: Columns (4,11) have mixed types. Specify dtype option on import or set low_memory=False.\n",
            "  df = pd.read_csv(file)\n"
          ]
        },
        {
          "name": "stdout",
          "output_type": "stream",
          "text": [
            "Loaded: dot2_0623.csv with 79048 rows\n",
            "Loaded: dot1_0623.csv with 28964 rows\n",
            "Loaded: dot3_0623.csv with 17769 rows\n"
          ]
        },
        {
          "name": "stderr",
          "output_type": "stream",
          "text": [
            "/tmp/ipython-input-6-1769527231.py:10: DtypeWarning: Columns (4,11) have mixed types. Specify dtype option on import or set low_memory=False.\n",
            "  df = pd.read_csv(file)\n"
          ]
        },
        {
          "name": "stdout",
          "output_type": "stream",
          "text": [
            "Loaded: dot2_ytd_0623.csv with 466891 rows\n",
            "Loaded: dot3_ytd_0623.csv with 105132 rows\n"
          ]
        },
        {
          "name": "stderr",
          "output_type": "stream",
          "text": [
            "/tmp/ipython-input-6-1769527231.py:10: DtypeWarning: Columns (4,11) have mixed types. Specify dtype option on import or set low_memory=False.\n",
            "  df = pd.read_csv(file)\n"
          ]
        },
        {
          "name": "stdout",
          "output_type": "stream",
          "text": [
            "Loaded: dot1_ytd_0723.csv with 198971 rows\n",
            "Loaded: dot3_0723.csv with 17456 rows\n",
            "Loaded: dot1_0723.csv with 28403 rows\n"
          ]
        },
        {
          "name": "stderr",
          "output_type": "stream",
          "text": [
            "/tmp/ipython-input-6-1769527231.py:10: DtypeWarning: Columns (4,11) have mixed types. Specify dtype option on import or set low_memory=False.\n",
            "  df = pd.read_csv(file)\n"
          ]
        },
        {
          "name": "stdout",
          "output_type": "stream",
          "text": [
            "Loaded: dot2_0723.csv with 77008 rows\n"
          ]
        },
        {
          "name": "stderr",
          "output_type": "stream",
          "text": [
            "/tmp/ipython-input-6-1769527231.py:10: DtypeWarning: Columns (4,11) have mixed types. Specify dtype option on import or set low_memory=False.\n",
            "  df = pd.read_csv(file)\n"
          ]
        },
        {
          "name": "stdout",
          "output_type": "stream",
          "text": [
            "Loaded: dot2_ytd_0723.csv with 543899 rows\n",
            "Loaded: dot3_ytd_0723.csv with 122588 rows\n",
            "Loaded: dot1_ytd_0823.csv with 227784 rows\n",
            "Loaded: dot3_0823.csv with 17531 rows\n"
          ]
        },
        {
          "name": "stderr",
          "output_type": "stream",
          "text": [
            "/tmp/ipython-input-6-1769527231.py:10: DtypeWarning: Columns (4,11) have mixed types. Specify dtype option on import or set low_memory=False.\n",
            "  df = pd.read_csv(file)\n"
          ]
        },
        {
          "name": "stdout",
          "output_type": "stream",
          "text": [
            "Loaded: dot2_0823.csv with 78905 rows\n",
            "Loaded: dot1_0823.csv with 28813 rows\n",
            "Loaded: dot2_ytd_0823.csv with 622804 rows\n",
            "Loaded: dot3_ytd_0823.csv with 140119 rows\n",
            "Loaded: dot1_0923.csv with 28367 rows\n",
            "Loaded: dot2_0923.csv with 77678 rows\n",
            "Loaded: dot3_0923.csv with 17500 rows\n",
            "Loaded: dot3_1023.csv with 17663 rows\n"
          ]
        },
        {
          "name": "stderr",
          "output_type": "stream",
          "text": [
            "/tmp/ipython-input-6-1769527231.py:10: DtypeWarning: Columns (4,11) have mixed types. Specify dtype option on import or set low_memory=False.\n",
            "  df = pd.read_csv(file)\n"
          ]
        },
        {
          "name": "stdout",
          "output_type": "stream",
          "text": [
            "Loaded: dot2_1023.csv with 78772 rows\n",
            "Loaded: dot1_1023.csv with 28848 rows\n",
            "Loaded: dot1_1123.csv with 28675 rows\n",
            "Loaded: dot3_1123.csv with 17339 rows\n"
          ]
        },
        {
          "name": "stderr",
          "output_type": "stream",
          "text": [
            "/tmp/ipython-input-6-1769527231.py:10: DtypeWarning: Columns (4,11) have mixed types. Specify dtype option on import or set low_memory=False.\n",
            "  df = pd.read_csv(file)\n"
          ]
        },
        {
          "name": "stdout",
          "output_type": "stream",
          "text": [
            "Loaded: dot2_1123.csv with 77774 rows\n",
            "Loaded: dot1_1223.csv with 27994 rows\n"
          ]
        },
        {
          "name": "stderr",
          "output_type": "stream",
          "text": [
            "/tmp/ipython-input-6-1769527231.py:10: DtypeWarning: Columns (4,11) have mixed types. Specify dtype option on import or set low_memory=False.\n",
            "  df = pd.read_csv(file)\n"
          ]
        },
        {
          "name": "stdout",
          "output_type": "stream",
          "text": [
            "Loaded: dot2_1223.csv with 75316 rows\n",
            "Loaded: dot3_1223.csv with 16842 rows\n",
            "Successfully merged 60 files into a single DataFrame with 5919169 rows.\n",
            "Merged file saved to: /content/drive/MyDrive/Azubi_TMP/TransBorder_Analysis_Project/Dataset/merged_data_2023.csv\n"
          ]
        }
      ],
      "source": [
        "# Define the path to your data folder\n",
        "data_folder_2023 = '/content/drive/MyDrive/Azubi_TMP/TransBorder_Analysis_Project/Dataset/All_Months_2023/'\n",
        "data_2023 = glob.glob(os.path.join(data_folder_2023, \"*.csv\"))\n",
        "\n",
        "# Read and combine all CSV files in 2023 folder\n",
        "df_2023 = []\n",
        "\n",
        "for file in data_2023:\n",
        "    try:\n",
        "        df = pd.read_csv(file)\n",
        "        df_2023.append(df)\n",
        "        print(f\"Loaded: {os.path.basename(file)} with {len(df)} rows\")\n",
        "    except Exception as e:\n",
        "        print(f\"Error loading {file}: {e}\")\n",
        "\n",
        "# Concatenate all DataFrames into one\n",
        "combined_df = pd.concat(df_2023, ignore_index=True)\n",
        "print(f\"Successfully merged {len(df_2023)} files into a single DataFrame with {len(combined_df)} rows.\")\n",
        "\n",
        "# Save the combined data\n",
        "output_path = os.path.join('/content/drive/MyDrive/Azubi_TMP/TransBorder_Analysis_Project/Dataset/', \"merged_data_2023.csv\")\n",
        "combined_df.to_csv(output_path, index=False)\n",
        "print(f\"Merged file saved to: {output_path}\")"
      ]
    },
    {
      "cell_type": "markdown",
      "metadata": {
        "id": "qes8Eyuksy8y",
        "jp-MarkdownHeadingCollapsed": true
      },
      "source": [
        "### **Merge and Save all 2024 CSVs**"
      ]
    },
    {
      "cell_type": "code",
      "execution_count": null,
      "metadata": {
        "colab": {
          "base_uri": "https://localhost:8080/"
        },
        "collapsed": true,
        "id": "ZEx53C6kr2Rs",
        "jupyter": {
          "outputs_hidden": true
        },
        "outputId": "28de6bd7-8c08-4844-972e-fe816e03d590"
      },
      "outputs": [
        {
          "name": "stdout",
          "output_type": "stream",
          "text": [
            "Loaded: dot3_0124.csv with 16820 rows\n"
          ]
        },
        {
          "name": "stderr",
          "output_type": "stream",
          "text": [
            "/tmp/ipython-input-7-4168835109.py:10: DtypeWarning: Columns (4,11) have mixed types. Specify dtype option on import or set low_memory=False.\n",
            "  df = pd.read_csv(file)\n"
          ]
        },
        {
          "name": "stdout",
          "output_type": "stream",
          "text": [
            "Loaded: dot2_0124.csv with 76041 rows\n",
            "Loaded: dot1_0124.csv with 28060 rows\n",
            "Loaded: dot1_0224.csv with 28739 rows\n",
            "Loaded: dot3_0224.csv with 17334 rows\n"
          ]
        },
        {
          "name": "stderr",
          "output_type": "stream",
          "text": [
            "/tmp/ipython-input-7-4168835109.py:10: DtypeWarning: Columns (4,11) have mixed types. Specify dtype option on import or set low_memory=False.\n",
            "  df = pd.read_csv(file)\n"
          ]
        },
        {
          "name": "stdout",
          "output_type": "stream",
          "text": [
            "Loaded: dot2_0224.csv with 77607 rows\n",
            "Loaded: dot1_0324.csv with 29190 rows\n"
          ]
        },
        {
          "name": "stderr",
          "output_type": "stream",
          "text": [
            "/tmp/ipython-input-7-4168835109.py:10: DtypeWarning: Columns (4,11) have mixed types. Specify dtype option on import or set low_memory=False.\n",
            "  df = pd.read_csv(file)\n"
          ]
        },
        {
          "name": "stdout",
          "output_type": "stream",
          "text": [
            "Loaded: dot2_0324.csv with 79017 rows\n",
            "Loaded: dot3_0424.csv with 17683 rows\n",
            "Loaded: dot1_0424.csv with 29657 rows\n"
          ]
        },
        {
          "name": "stderr",
          "output_type": "stream",
          "text": [
            "/tmp/ipython-input-7-4168835109.py:10: DtypeWarning: Columns (4,11) have mixed types. Specify dtype option on import or set low_memory=False.\n",
            "  df = pd.read_csv(file)\n"
          ]
        },
        {
          "name": "stdout",
          "output_type": "stream",
          "text": [
            "Loaded: dot2_0424.csv with 80604 rows\n"
          ]
        },
        {
          "name": "stderr",
          "output_type": "stream",
          "text": [
            "/tmp/ipython-input-7-4168835109.py:10: DtypeWarning: Columns (4,11) have mixed types. Specify dtype option on import or set low_memory=False.\n",
            "  df = pd.read_csv(file)\n"
          ]
        },
        {
          "name": "stdout",
          "output_type": "stream",
          "text": [
            "Loaded: dot2_0524.csv with 80201 rows\n",
            "Loaded: dot3_0524.csv with 17716 rows\n",
            "Loaded: dot1_0524.csv with 29593 rows\n",
            "Loaded: dot1_0624.csv with 28916 rows\n",
            "Loaded: dot3_0624.csv with 17329 rows\n"
          ]
        },
        {
          "name": "stderr",
          "output_type": "stream",
          "text": [
            "/tmp/ipython-input-7-4168835109.py:10: DtypeWarning: Columns (4,11) have mixed types. Specify dtype option on import or set low_memory=False.\n",
            "  df = pd.read_csv(file)\n"
          ]
        },
        {
          "name": "stdout",
          "output_type": "stream",
          "text": [
            "Loaded: dot2_0624.csv with 78547 rows\n"
          ]
        },
        {
          "name": "stderr",
          "output_type": "stream",
          "text": [
            "/tmp/ipython-input-7-4168835109.py:10: DtypeWarning: Columns (4,11) have mixed types. Specify dtype option on import or set low_memory=False.\n",
            "  df = pd.read_csv(file)\n"
          ]
        },
        {
          "name": "stdout",
          "output_type": "stream",
          "text": [
            "Loaded: dot2_0724.csv with 79183 rows\n",
            "Loaded: dot3_0724.csv with 17438 rows\n",
            "Loaded: dot1_0724.csv with 29214 rows\n"
          ]
        },
        {
          "name": "stderr",
          "output_type": "stream",
          "text": [
            "/tmp/ipython-input-7-4168835109.py:10: DtypeWarning: Columns (4,11) have mixed types. Specify dtype option on import or set low_memory=False.\n",
            "  df = pd.read_csv(file)\n"
          ]
        },
        {
          "name": "stdout",
          "output_type": "stream",
          "text": [
            "Loaded: dot2_0824.csv with 79426 rows\n",
            "Loaded: dot3_0824.csv with 17532 rows\n",
            "Loaded: dot1_0824.csv with 29128 rows\n"
          ]
        },
        {
          "name": "stderr",
          "output_type": "stream",
          "text": [
            "/tmp/ipython-input-7-4168835109.py:10: DtypeWarning: Columns (4,11) have mixed types. Specify dtype option on import or set low_memory=False.\n",
            "  df = pd.read_csv(file)\n"
          ]
        },
        {
          "name": "stdout",
          "output_type": "stream",
          "text": [
            "Loaded: dot2_0924.csv with 77817 rows\n",
            "Loaded: dot1_0924.csv with 28606 rows\n",
            "Loaded: dot3_0924.csv with 17145 rows\n",
            "Successfully merged 26 files into a single DataFrame with 1108543 rows.\n",
            "Merged file saved to: /content/drive/MyDrive/Azubi_TMP/TransBorder_Analysis_Project/Dataset/merged_data_2024.csv\n"
          ]
        }
      ],
      "source": [
        "# Define the path to your data folder\n",
        "data_folder_2024 = '/content/drive/MyDrive/Azubi_TMP/TransBorder_Analysis_Project/Dataset/All_Months_2024/'\n",
        "data_2024 = glob.glob(os.path.join(data_folder_2024, \"*.csv\"))\n",
        "\n",
        "# Read and combine all CSV files in 2024 folder\n",
        "df_2024 = []\n",
        "\n",
        "for file in data_2024:\n",
        "    try:\n",
        "        df = pd.read_csv(file)\n",
        "        df_2024.append(df)\n",
        "        print(f\"Loaded: {os.path.basename(file)} with {len(df)} rows\")\n",
        "    except Exception as e:\n",
        "        print(f\"Error loading {file}: {e}\")\n",
        "\n",
        "# Concatenate all DataFrames into one\n",
        "combined_df = pd.concat(df_2024, ignore_index=True)\n",
        "print(f\"Successfully merged {len(df_2024)} files into a single DataFrame with {len(combined_df)} rows.\")\n",
        "\n",
        "# Save the combined data\n",
        "output_path = os.path.join('/content/drive/MyDrive/Azubi_TMP/TransBorder_Analysis_Project/Dataset/', \"merged_data_2024.csv\")\n",
        "combined_df.to_csv(output_path, index=False)\n",
        "print(f\"Merged file saved to: {output_path}\")"
      ]
    },
    {
      "cell_type": "markdown",
      "metadata": {
        "id": "TIm71-o4s3Sb",
        "jp-MarkdownHeadingCollapsed": true
      },
      "source": [
        "### **Finally, Merge and Save CSVs for all Years**"
      ]
    },
    {
      "cell_type": "code",
      "execution_count": null,
      "metadata": {
        "colab": {
          "base_uri": "https://localhost:8080/"
        },
        "collapsed": true,
        "id": "8Bf8fKRetFav",
        "jupyter": {
          "outputs_hidden": true
        },
        "outputId": "ef2b541d-bacf-4fe0-a67d-bdc667f1d712"
      },
      "outputs": [
        {
          "name": "stderr",
          "output_type": "stream",
          "text": [
            "/tmp/ipython-input-3-4022733008.py:10: DtypeWarning: Columns (1,2,4,5) have mixed types. Specify dtype option on import or set low_memory=False.\n",
            "  df = pd.read_csv(file)\n"
          ]
        },
        {
          "name": "stdout",
          "output_type": "stream",
          "text": [
            "Loaded: merged_data_2020.csv with 6104767 rows\n"
          ]
        },
        {
          "name": "stderr",
          "output_type": "stream",
          "text": [
            "/tmp/ipython-input-3-4022733008.py:10: DtypeWarning: Columns (1,12,13,14) have mixed types. Specify dtype option on import or set low_memory=False.\n",
            "  df = pd.read_csv(file)\n"
          ]
        },
        {
          "name": "stdout",
          "output_type": "stream",
          "text": [
            "Loaded: merged_data_2021.csv with 10982798 rows\n"
          ]
        },
        {
          "name": "stderr",
          "output_type": "stream",
          "text": [
            "/tmp/ipython-input-3-4022733008.py:10: DtypeWarning: Columns (1,9,12,13,14) have mixed types. Specify dtype option on import or set low_memory=False.\n",
            "  df = pd.read_csv(file)\n"
          ]
        },
        {
          "name": "stdout",
          "output_type": "stream",
          "text": [
            "Loaded: merged_data_2022.csv with 11275950 rows\n"
          ]
        },
        {
          "name": "stderr",
          "output_type": "stream",
          "text": [
            "/tmp/ipython-input-3-4022733008.py:10: DtypeWarning: Columns (1,2,4,5) have mixed types. Specify dtype option on import or set low_memory=False.\n",
            "  df = pd.read_csv(file)\n"
          ]
        },
        {
          "name": "stdout",
          "output_type": "stream",
          "text": [
            "Loaded: merged_data_2023.csv with 5919169 rows\n"
          ]
        },
        {
          "name": "stderr",
          "output_type": "stream",
          "text": [
            "/tmp/ipython-input-3-4022733008.py:10: DtypeWarning: Columns (1) have mixed types. Specify dtype option on import or set low_memory=False.\n",
            "  df = pd.read_csv(file)\n"
          ]
        },
        {
          "name": "stdout",
          "output_type": "stream",
          "text": [
            "Loaded: merged_data_2024.csv with 1108543 rows\n",
            "Successfully merged 5 files into a single DataFrame with 35391227 rows.\n",
            "Merged file saved to: /content/drive/MyDrive/Azubi_TMP/TransBorder_Analysis_Project/Dataset/Full_Dataset.csv\n"
          ]
        }
      ],
      "source": [
        "# Define the path to your data folder\n",
        "data_folder = '/content/drive/MyDrive/Azubi_TMP/TransBorder_Analysis_Project/Dataset/'\n",
        "data_all_years = glob.glob(os.path.join(data_folder, \"*.csv\"))\n",
        "\n",
        "# Read and combine all CSV files for all years\n",
        "df_all = []\n",
        "\n",
        "for file in data_all_years:\n",
        "    try:\n",
        "        df = pd.read_csv(file)\n",
        "        df_all.append(df)\n",
        "        print(f\"Loaded: {os.path.basename(file)} with {len(df)} rows\")\n",
        "    except Exception as e:\n",
        "        print(f\"Error loading {file}: {e}\")\n",
        "\n",
        "# Concatenate all DataFrames into one\n",
        "combined_df = pd.concat(df_all, ignore_index=True)\n",
        "print(f\"Successfully merged {len(df_all)} files into a single DataFrame with {len(combined_df)} rows.\")\n",
        "\n",
        "# Save the combined data\n",
        "output_path = os.path.join('/content/drive/MyDrive/Azubi_TMP/TransBorder_Analysis_Project/Dataset/', \"Full_Dataset.csv\")\n",
        "combined_df.to_csv(output_path, index=False)\n",
        "print(f\"Merged file saved to: {output_path}\")"
      ]
    },
    {
      "cell_type": "markdown",
      "metadata": {
        "id": "3oj8BJjUo9PY"
      },
      "source": [
        "## **Uploading Dataset For Analysis**"
      ]
    },
    {
      "cell_type": "code",
      "execution_count": 5,
      "metadata": {
        "colab": {
          "base_uri": "https://localhost:8080/"
        },
        "id": "k6vOMJiXzX-w",
        "outputId": "e912af2a-5979-4058-b708-a86fa8d6cf3c"
      },
      "outputs": [
        {
          "output_type": "stream",
          "name": "stderr",
          "text": [
            "/tmp/ipython-input-5-795458216.py:4: DtypeWarning: Columns (2) have mixed types. Specify dtype option on import or set low_memory=False.\n",
            "  for chunk in pd.read_csv('/content/drive/MyDrive/Azubi_TMP/TransBorder_Analysis_Project/Dataset/Full_Dataset.csv', chunksize=chunksize):\n",
            "/tmp/ipython-input-5-795458216.py:4: DtypeWarning: Columns (2) have mixed types. Specify dtype option on import or set low_memory=False.\n",
            "  for chunk in pd.read_csv('/content/drive/MyDrive/Azubi_TMP/TransBorder_Analysis_Project/Dataset/Full_Dataset.csv', chunksize=chunksize):\n",
            "/tmp/ipython-input-5-795458216.py:4: DtypeWarning: Columns (1,4,5) have mixed types. Specify dtype option on import or set low_memory=False.\n",
            "  for chunk in pd.read_csv('/content/drive/MyDrive/Azubi_TMP/TransBorder_Analysis_Project/Dataset/Full_Dataset.csv', chunksize=chunksize):\n",
            "/tmp/ipython-input-5-795458216.py:4: DtypeWarning: Columns (2) have mixed types. Specify dtype option on import or set low_memory=False.\n",
            "  for chunk in pd.read_csv('/content/drive/MyDrive/Azubi_TMP/TransBorder_Analysis_Project/Dataset/Full_Dataset.csv', chunksize=chunksize):\n",
            "/tmp/ipython-input-5-795458216.py:4: DtypeWarning: Columns (2,4) have mixed types. Specify dtype option on import or set low_memory=False.\n",
            "  for chunk in pd.read_csv('/content/drive/MyDrive/Azubi_TMP/TransBorder_Analysis_Project/Dataset/Full_Dataset.csv', chunksize=chunksize):\n",
            "/tmp/ipython-input-5-795458216.py:4: DtypeWarning: Columns (2) have mixed types. Specify dtype option on import or set low_memory=False.\n",
            "  for chunk in pd.read_csv('/content/drive/MyDrive/Azubi_TMP/TransBorder_Analysis_Project/Dataset/Full_Dataset.csv', chunksize=chunksize):\n",
            "/tmp/ipython-input-5-795458216.py:4: DtypeWarning: Columns (4) have mixed types. Specify dtype option on import or set low_memory=False.\n",
            "  for chunk in pd.read_csv('/content/drive/MyDrive/Azubi_TMP/TransBorder_Analysis_Project/Dataset/Full_Dataset.csv', chunksize=chunksize):\n",
            "/tmp/ipython-input-5-795458216.py:4: DtypeWarning: Columns (2) have mixed types. Specify dtype option on import or set low_memory=False.\n",
            "  for chunk in pd.read_csv('/content/drive/MyDrive/Azubi_TMP/TransBorder_Analysis_Project/Dataset/Full_Dataset.csv', chunksize=chunksize):\n",
            "/tmp/ipython-input-5-795458216.py:4: DtypeWarning: Columns (2,4) have mixed types. Specify dtype option on import or set low_memory=False.\n",
            "  for chunk in pd.read_csv('/content/drive/MyDrive/Azubi_TMP/TransBorder_Analysis_Project/Dataset/Full_Dataset.csv', chunksize=chunksize):\n",
            "/tmp/ipython-input-5-795458216.py:4: DtypeWarning: Columns (1,4,5) have mixed types. Specify dtype option on import or set low_memory=False.\n",
            "  for chunk in pd.read_csv('/content/drive/MyDrive/Azubi_TMP/TransBorder_Analysis_Project/Dataset/Full_Dataset.csv', chunksize=chunksize):\n",
            "/tmp/ipython-input-5-795458216.py:4: DtypeWarning: Columns (2) have mixed types. Specify dtype option on import or set low_memory=False.\n",
            "  for chunk in pd.read_csv('/content/drive/MyDrive/Azubi_TMP/TransBorder_Analysis_Project/Dataset/Full_Dataset.csv', chunksize=chunksize):\n",
            "/tmp/ipython-input-5-795458216.py:4: DtypeWarning: Columns (1,5) have mixed types. Specify dtype option on import or set low_memory=False.\n",
            "  for chunk in pd.read_csv('/content/drive/MyDrive/Azubi_TMP/TransBorder_Analysis_Project/Dataset/Full_Dataset.csv', chunksize=chunksize):\n",
            "/tmp/ipython-input-5-795458216.py:4: DtypeWarning: Columns (2) have mixed types. Specify dtype option on import or set low_memory=False.\n",
            "  for chunk in pd.read_csv('/content/drive/MyDrive/Azubi_TMP/TransBorder_Analysis_Project/Dataset/Full_Dataset.csv', chunksize=chunksize):\n",
            "/tmp/ipython-input-5-795458216.py:4: DtypeWarning: Columns (1,4,5) have mixed types. Specify dtype option on import or set low_memory=False.\n",
            "  for chunk in pd.read_csv('/content/drive/MyDrive/Azubi_TMP/TransBorder_Analysis_Project/Dataset/Full_Dataset.csv', chunksize=chunksize):\n",
            "/tmp/ipython-input-5-795458216.py:4: DtypeWarning: Columns (1,4,5) have mixed types. Specify dtype option on import or set low_memory=False.\n",
            "  for chunk in pd.read_csv('/content/drive/MyDrive/Azubi_TMP/TransBorder_Analysis_Project/Dataset/Full_Dataset.csv', chunksize=chunksize):\n",
            "/tmp/ipython-input-5-795458216.py:4: DtypeWarning: Columns (2) have mixed types. Specify dtype option on import or set low_memory=False.\n",
            "  for chunk in pd.read_csv('/content/drive/MyDrive/Azubi_TMP/TransBorder_Analysis_Project/Dataset/Full_Dataset.csv', chunksize=chunksize):\n",
            "/tmp/ipython-input-5-795458216.py:4: DtypeWarning: Columns (2) have mixed types. Specify dtype option on import or set low_memory=False.\n",
            "  for chunk in pd.read_csv('/content/drive/MyDrive/Azubi_TMP/TransBorder_Analysis_Project/Dataset/Full_Dataset.csv', chunksize=chunksize):\n",
            "/tmp/ipython-input-5-795458216.py:4: DtypeWarning: Columns (1,4,5) have mixed types. Specify dtype option on import or set low_memory=False.\n",
            "  for chunk in pd.read_csv('/content/drive/MyDrive/Azubi_TMP/TransBorder_Analysis_Project/Dataset/Full_Dataset.csv', chunksize=chunksize):\n",
            "/tmp/ipython-input-5-795458216.py:4: DtypeWarning: Columns (2) have mixed types. Specify dtype option on import or set low_memory=False.\n",
            "  for chunk in pd.read_csv('/content/drive/MyDrive/Azubi_TMP/TransBorder_Analysis_Project/Dataset/Full_Dataset.csv', chunksize=chunksize):\n",
            "/tmp/ipython-input-5-795458216.py:4: DtypeWarning: Columns (1,4,5) have mixed types. Specify dtype option on import or set low_memory=False.\n",
            "  for chunk in pd.read_csv('/content/drive/MyDrive/Azubi_TMP/TransBorder_Analysis_Project/Dataset/Full_Dataset.csv', chunksize=chunksize):\n",
            "/tmp/ipython-input-5-795458216.py:4: DtypeWarning: Columns (2) have mixed types. Specify dtype option on import or set low_memory=False.\n",
            "  for chunk in pd.read_csv('/content/drive/MyDrive/Azubi_TMP/TransBorder_Analysis_Project/Dataset/Full_Dataset.csv', chunksize=chunksize):\n",
            "/tmp/ipython-input-5-795458216.py:4: DtypeWarning: Columns (1,4,5) have mixed types. Specify dtype option on import or set low_memory=False.\n",
            "  for chunk in pd.read_csv('/content/drive/MyDrive/Azubi_TMP/TransBorder_Analysis_Project/Dataset/Full_Dataset.csv', chunksize=chunksize):\n",
            "/tmp/ipython-input-5-795458216.py:4: DtypeWarning: Columns (2) have mixed types. Specify dtype option on import or set low_memory=False.\n",
            "  for chunk in pd.read_csv('/content/drive/MyDrive/Azubi_TMP/TransBorder_Analysis_Project/Dataset/Full_Dataset.csv', chunksize=chunksize):\n",
            "/tmp/ipython-input-5-795458216.py:4: DtypeWarning: Columns (1,4,5) have mixed types. Specify dtype option on import or set low_memory=False.\n",
            "  for chunk in pd.read_csv('/content/drive/MyDrive/Azubi_TMP/TransBorder_Analysis_Project/Dataset/Full_Dataset.csv', chunksize=chunksize):\n",
            "/tmp/ipython-input-5-795458216.py:4: DtypeWarning: Columns (2) have mixed types. Specify dtype option on import or set low_memory=False.\n",
            "  for chunk in pd.read_csv('/content/drive/MyDrive/Azubi_TMP/TransBorder_Analysis_Project/Dataset/Full_Dataset.csv', chunksize=chunksize):\n",
            "/tmp/ipython-input-5-795458216.py:4: DtypeWarning: Columns (2,4) have mixed types. Specify dtype option on import or set low_memory=False.\n",
            "  for chunk in pd.read_csv('/content/drive/MyDrive/Azubi_TMP/TransBorder_Analysis_Project/Dataset/Full_Dataset.csv', chunksize=chunksize):\n",
            "/tmp/ipython-input-5-795458216.py:4: DtypeWarning: Columns (1,4,5) have mixed types. Specify dtype option on import or set low_memory=False.\n",
            "  for chunk in pd.read_csv('/content/drive/MyDrive/Azubi_TMP/TransBorder_Analysis_Project/Dataset/Full_Dataset.csv', chunksize=chunksize):\n",
            "/tmp/ipython-input-5-795458216.py:4: DtypeWarning: Columns (2) have mixed types. Specify dtype option on import or set low_memory=False.\n",
            "  for chunk in pd.read_csv('/content/drive/MyDrive/Azubi_TMP/TransBorder_Analysis_Project/Dataset/Full_Dataset.csv', chunksize=chunksize):\n",
            "/tmp/ipython-input-5-795458216.py:4: DtypeWarning: Columns (1,5) have mixed types. Specify dtype option on import or set low_memory=False.\n",
            "  for chunk in pd.read_csv('/content/drive/MyDrive/Azubi_TMP/TransBorder_Analysis_Project/Dataset/Full_Dataset.csv', chunksize=chunksize):\n",
            "/tmp/ipython-input-5-795458216.py:4: DtypeWarning: Columns (2,4) have mixed types. Specify dtype option on import or set low_memory=False.\n",
            "  for chunk in pd.read_csv('/content/drive/MyDrive/Azubi_TMP/TransBorder_Analysis_Project/Dataset/Full_Dataset.csv', chunksize=chunksize):\n",
            "/tmp/ipython-input-5-795458216.py:4: DtypeWarning: Columns (1,4,5) have mixed types. Specify dtype option on import or set low_memory=False.\n",
            "  for chunk in pd.read_csv('/content/drive/MyDrive/Azubi_TMP/TransBorder_Analysis_Project/Dataset/Full_Dataset.csv', chunksize=chunksize):\n",
            "/tmp/ipython-input-5-795458216.py:4: DtypeWarning: Columns (2) have mixed types. Specify dtype option on import or set low_memory=False.\n",
            "  for chunk in pd.read_csv('/content/drive/MyDrive/Azubi_TMP/TransBorder_Analysis_Project/Dataset/Full_Dataset.csv', chunksize=chunksize):\n",
            "/tmp/ipython-input-5-795458216.py:4: DtypeWarning: Columns (2) have mixed types. Specify dtype option on import or set low_memory=False.\n",
            "  for chunk in pd.read_csv('/content/drive/MyDrive/Azubi_TMP/TransBorder_Analysis_Project/Dataset/Full_Dataset.csv', chunksize=chunksize):\n",
            "/tmp/ipython-input-5-795458216.py:4: DtypeWarning: Columns (1,4,5) have mixed types. Specify dtype option on import or set low_memory=False.\n",
            "  for chunk in pd.read_csv('/content/drive/MyDrive/Azubi_TMP/TransBorder_Analysis_Project/Dataset/Full_Dataset.csv', chunksize=chunksize):\n",
            "/tmp/ipython-input-5-795458216.py:4: DtypeWarning: Columns (2) have mixed types. Specify dtype option on import or set low_memory=False.\n",
            "  for chunk in pd.read_csv('/content/drive/MyDrive/Azubi_TMP/TransBorder_Analysis_Project/Dataset/Full_Dataset.csv', chunksize=chunksize):\n",
            "/tmp/ipython-input-5-795458216.py:4: DtypeWarning: Columns (2) have mixed types. Specify dtype option on import or set low_memory=False.\n",
            "  for chunk in pd.read_csv('/content/drive/MyDrive/Azubi_TMP/TransBorder_Analysis_Project/Dataset/Full_Dataset.csv', chunksize=chunksize):\n",
            "/tmp/ipython-input-5-795458216.py:4: DtypeWarning: Columns (1,4,5) have mixed types. Specify dtype option on import or set low_memory=False.\n",
            "  for chunk in pd.read_csv('/content/drive/MyDrive/Azubi_TMP/TransBorder_Analysis_Project/Dataset/Full_Dataset.csv', chunksize=chunksize):\n",
            "/tmp/ipython-input-5-795458216.py:4: DtypeWarning: Columns (2) have mixed types. Specify dtype option on import or set low_memory=False.\n",
            "  for chunk in pd.read_csv('/content/drive/MyDrive/Azubi_TMP/TransBorder_Analysis_Project/Dataset/Full_Dataset.csv', chunksize=chunksize):\n",
            "/tmp/ipython-input-5-795458216.py:4: DtypeWarning: Columns (2) have mixed types. Specify dtype option on import or set low_memory=False.\n",
            "  for chunk in pd.read_csv('/content/drive/MyDrive/Azubi_TMP/TransBorder_Analysis_Project/Dataset/Full_Dataset.csv', chunksize=chunksize):\n",
            "/tmp/ipython-input-5-795458216.py:4: DtypeWarning: Columns (2) have mixed types. Specify dtype option on import or set low_memory=False.\n",
            "  for chunk in pd.read_csv('/content/drive/MyDrive/Azubi_TMP/TransBorder_Analysis_Project/Dataset/Full_Dataset.csv', chunksize=chunksize):\n",
            "/tmp/ipython-input-5-795458216.py:4: DtypeWarning: Columns (2,4) have mixed types. Specify dtype option on import or set low_memory=False.\n",
            "  for chunk in pd.read_csv('/content/drive/MyDrive/Azubi_TMP/TransBorder_Analysis_Project/Dataset/Full_Dataset.csv', chunksize=chunksize):\n",
            "/tmp/ipython-input-5-795458216.py:4: DtypeWarning: Columns (1,4,5) have mixed types. Specify dtype option on import or set low_memory=False.\n",
            "  for chunk in pd.read_csv('/content/drive/MyDrive/Azubi_TMP/TransBorder_Analysis_Project/Dataset/Full_Dataset.csv', chunksize=chunksize):\n",
            "/tmp/ipython-input-5-795458216.py:4: DtypeWarning: Columns (1,4,5) have mixed types. Specify dtype option on import or set low_memory=False.\n",
            "  for chunk in pd.read_csv('/content/drive/MyDrive/Azubi_TMP/TransBorder_Analysis_Project/Dataset/Full_Dataset.csv', chunksize=chunksize):\n",
            "/tmp/ipython-input-5-795458216.py:4: DtypeWarning: Columns (1,4,5) have mixed types. Specify dtype option on import or set low_memory=False.\n",
            "  for chunk in pd.read_csv('/content/drive/MyDrive/Azubi_TMP/TransBorder_Analysis_Project/Dataset/Full_Dataset.csv', chunksize=chunksize):\n",
            "/tmp/ipython-input-5-795458216.py:4: DtypeWarning: Columns (2) have mixed types. Specify dtype option on import or set low_memory=False.\n",
            "  for chunk in pd.read_csv('/content/drive/MyDrive/Azubi_TMP/TransBorder_Analysis_Project/Dataset/Full_Dataset.csv', chunksize=chunksize):\n",
            "/tmp/ipython-input-5-795458216.py:4: DtypeWarning: Columns (2) have mixed types. Specify dtype option on import or set low_memory=False.\n",
            "  for chunk in pd.read_csv('/content/drive/MyDrive/Azubi_TMP/TransBorder_Analysis_Project/Dataset/Full_Dataset.csv', chunksize=chunksize):\n",
            "/tmp/ipython-input-5-795458216.py:4: DtypeWarning: Columns (2) have mixed types. Specify dtype option on import or set low_memory=False.\n",
            "  for chunk in pd.read_csv('/content/drive/MyDrive/Azubi_TMP/TransBorder_Analysis_Project/Dataset/Full_Dataset.csv', chunksize=chunksize):\n",
            "/tmp/ipython-input-5-795458216.py:4: DtypeWarning: Columns (1,4,5) have mixed types. Specify dtype option on import or set low_memory=False.\n",
            "  for chunk in pd.read_csv('/content/drive/MyDrive/Azubi_TMP/TransBorder_Analysis_Project/Dataset/Full_Dataset.csv', chunksize=chunksize):\n",
            "/tmp/ipython-input-5-795458216.py:4: DtypeWarning: Columns (1,4,5) have mixed types. Specify dtype option on import or set low_memory=False.\n",
            "  for chunk in pd.read_csv('/content/drive/MyDrive/Azubi_TMP/TransBorder_Analysis_Project/Dataset/Full_Dataset.csv', chunksize=chunksize):\n",
            "/tmp/ipython-input-5-795458216.py:4: DtypeWarning: Columns (2) have mixed types. Specify dtype option on import or set low_memory=False.\n",
            "  for chunk in pd.read_csv('/content/drive/MyDrive/Azubi_TMP/TransBorder_Analysis_Project/Dataset/Full_Dataset.csv', chunksize=chunksize):\n",
            "/tmp/ipython-input-5-795458216.py:4: DtypeWarning: Columns (2) have mixed types. Specify dtype option on import or set low_memory=False.\n",
            "  for chunk in pd.read_csv('/content/drive/MyDrive/Azubi_TMP/TransBorder_Analysis_Project/Dataset/Full_Dataset.csv', chunksize=chunksize):\n",
            "/tmp/ipython-input-5-795458216.py:4: DtypeWarning: Columns (2) have mixed types. Specify dtype option on import or set low_memory=False.\n",
            "  for chunk in pd.read_csv('/content/drive/MyDrive/Azubi_TMP/TransBorder_Analysis_Project/Dataset/Full_Dataset.csv', chunksize=chunksize):\n",
            "/tmp/ipython-input-5-795458216.py:4: DtypeWarning: Columns (1,5) have mixed types. Specify dtype option on import or set low_memory=False.\n",
            "  for chunk in pd.read_csv('/content/drive/MyDrive/Azubi_TMP/TransBorder_Analysis_Project/Dataset/Full_Dataset.csv', chunksize=chunksize):\n",
            "/tmp/ipython-input-5-795458216.py:4: DtypeWarning: Columns (2) have mixed types. Specify dtype option on import or set low_memory=False.\n",
            "  for chunk in pd.read_csv('/content/drive/MyDrive/Azubi_TMP/TransBorder_Analysis_Project/Dataset/Full_Dataset.csv', chunksize=chunksize):\n",
            "/tmp/ipython-input-5-795458216.py:4: DtypeWarning: Columns (2) have mixed types. Specify dtype option on import or set low_memory=False.\n",
            "  for chunk in pd.read_csv('/content/drive/MyDrive/Azubi_TMP/TransBorder_Analysis_Project/Dataset/Full_Dataset.csv', chunksize=chunksize):\n",
            "/tmp/ipython-input-5-795458216.py:4: DtypeWarning: Columns (1,4,5) have mixed types. Specify dtype option on import or set low_memory=False.\n",
            "  for chunk in pd.read_csv('/content/drive/MyDrive/Azubi_TMP/TransBorder_Analysis_Project/Dataset/Full_Dataset.csv', chunksize=chunksize):\n",
            "/tmp/ipython-input-5-795458216.py:4: DtypeWarning: Columns (1,4,5) have mixed types. Specify dtype option on import or set low_memory=False.\n",
            "  for chunk in pd.read_csv('/content/drive/MyDrive/Azubi_TMP/TransBorder_Analysis_Project/Dataset/Full_Dataset.csv', chunksize=chunksize):\n",
            "/tmp/ipython-input-5-795458216.py:4: DtypeWarning: Columns (1,4,5) have mixed types. Specify dtype option on import or set low_memory=False.\n",
            "  for chunk in pd.read_csv('/content/drive/MyDrive/Azubi_TMP/TransBorder_Analysis_Project/Dataset/Full_Dataset.csv', chunksize=chunksize):\n",
            "/tmp/ipython-input-5-795458216.py:4: DtypeWarning: Columns (2) have mixed types. Specify dtype option on import or set low_memory=False.\n",
            "  for chunk in pd.read_csv('/content/drive/MyDrive/Azubi_TMP/TransBorder_Analysis_Project/Dataset/Full_Dataset.csv', chunksize=chunksize):\n",
            "/tmp/ipython-input-5-795458216.py:4: DtypeWarning: Columns (1,4,5) have mixed types. Specify dtype option on import or set low_memory=False.\n",
            "  for chunk in pd.read_csv('/content/drive/MyDrive/Azubi_TMP/TransBorder_Analysis_Project/Dataset/Full_Dataset.csv', chunksize=chunksize):\n",
            "/tmp/ipython-input-5-795458216.py:4: DtypeWarning: Columns (2) have mixed types. Specify dtype option on import or set low_memory=False.\n",
            "  for chunk in pd.read_csv('/content/drive/MyDrive/Azubi_TMP/TransBorder_Analysis_Project/Dataset/Full_Dataset.csv', chunksize=chunksize):\n",
            "/tmp/ipython-input-5-795458216.py:4: DtypeWarning: Columns (1,5) have mixed types. Specify dtype option on import or set low_memory=False.\n",
            "  for chunk in pd.read_csv('/content/drive/MyDrive/Azubi_TMP/TransBorder_Analysis_Project/Dataset/Full_Dataset.csv', chunksize=chunksize):\n",
            "/tmp/ipython-input-5-795458216.py:4: DtypeWarning: Columns (2) have mixed types. Specify dtype option on import or set low_memory=False.\n",
            "  for chunk in pd.read_csv('/content/drive/MyDrive/Azubi_TMP/TransBorder_Analysis_Project/Dataset/Full_Dataset.csv', chunksize=chunksize):\n",
            "/tmp/ipython-input-5-795458216.py:4: DtypeWarning: Columns (2) have mixed types. Specify dtype option on import or set low_memory=False.\n",
            "  for chunk in pd.read_csv('/content/drive/MyDrive/Azubi_TMP/TransBorder_Analysis_Project/Dataset/Full_Dataset.csv', chunksize=chunksize):\n",
            "/tmp/ipython-input-5-795458216.py:4: DtypeWarning: Columns (2) have mixed types. Specify dtype option on import or set low_memory=False.\n",
            "  for chunk in pd.read_csv('/content/drive/MyDrive/Azubi_TMP/TransBorder_Analysis_Project/Dataset/Full_Dataset.csv', chunksize=chunksize):\n",
            "/tmp/ipython-input-5-795458216.py:4: DtypeWarning: Columns (2) have mixed types. Specify dtype option on import or set low_memory=False.\n",
            "  for chunk in pd.read_csv('/content/drive/MyDrive/Azubi_TMP/TransBorder_Analysis_Project/Dataset/Full_Dataset.csv', chunksize=chunksize):\n",
            "/tmp/ipython-input-5-795458216.py:4: DtypeWarning: Columns (2) have mixed types. Specify dtype option on import or set low_memory=False.\n",
            "  for chunk in pd.read_csv('/content/drive/MyDrive/Azubi_TMP/TransBorder_Analysis_Project/Dataset/Full_Dataset.csv', chunksize=chunksize):\n",
            "/tmp/ipython-input-5-795458216.py:4: DtypeWarning: Columns (2,4) have mixed types. Specify dtype option on import or set low_memory=False.\n",
            "  for chunk in pd.read_csv('/content/drive/MyDrive/Azubi_TMP/TransBorder_Analysis_Project/Dataset/Full_Dataset.csv', chunksize=chunksize):\n",
            "/tmp/ipython-input-5-795458216.py:4: DtypeWarning: Columns (2,4) have mixed types. Specify dtype option on import or set low_memory=False.\n",
            "  for chunk in pd.read_csv('/content/drive/MyDrive/Azubi_TMP/TransBorder_Analysis_Project/Dataset/Full_Dataset.csv', chunksize=chunksize):\n",
            "/tmp/ipython-input-5-795458216.py:4: DtypeWarning: Columns (2) have mixed types. Specify dtype option on import or set low_memory=False.\n",
            "  for chunk in pd.read_csv('/content/drive/MyDrive/Azubi_TMP/TransBorder_Analysis_Project/Dataset/Full_Dataset.csv', chunksize=chunksize):\n",
            "/tmp/ipython-input-5-795458216.py:4: DtypeWarning: Columns (2) have mixed types. Specify dtype option on import or set low_memory=False.\n",
            "  for chunk in pd.read_csv('/content/drive/MyDrive/Azubi_TMP/TransBorder_Analysis_Project/Dataset/Full_Dataset.csv', chunksize=chunksize):\n",
            "/tmp/ipython-input-5-795458216.py:4: DtypeWarning: Columns (4) have mixed types. Specify dtype option on import or set low_memory=False.\n",
            "  for chunk in pd.read_csv('/content/drive/MyDrive/Azubi_TMP/TransBorder_Analysis_Project/Dataset/Full_Dataset.csv', chunksize=chunksize):\n",
            "/tmp/ipython-input-5-795458216.py:4: DtypeWarning: Columns (2) have mixed types. Specify dtype option on import or set low_memory=False.\n",
            "  for chunk in pd.read_csv('/content/drive/MyDrive/Azubi_TMP/TransBorder_Analysis_Project/Dataset/Full_Dataset.csv', chunksize=chunksize):\n",
            "/tmp/ipython-input-5-795458216.py:4: DtypeWarning: Columns (2) have mixed types. Specify dtype option on import or set low_memory=False.\n",
            "  for chunk in pd.read_csv('/content/drive/MyDrive/Azubi_TMP/TransBorder_Analysis_Project/Dataset/Full_Dataset.csv', chunksize=chunksize):\n",
            "/tmp/ipython-input-5-795458216.py:4: DtypeWarning: Columns (1,4,5) have mixed types. Specify dtype option on import or set low_memory=False.\n",
            "  for chunk in pd.read_csv('/content/drive/MyDrive/Azubi_TMP/TransBorder_Analysis_Project/Dataset/Full_Dataset.csv', chunksize=chunksize):\n",
            "/tmp/ipython-input-5-795458216.py:4: DtypeWarning: Columns (2) have mixed types. Specify dtype option on import or set low_memory=False.\n",
            "  for chunk in pd.read_csv('/content/drive/MyDrive/Azubi_TMP/TransBorder_Analysis_Project/Dataset/Full_Dataset.csv', chunksize=chunksize):\n",
            "/tmp/ipython-input-5-795458216.py:4: DtypeWarning: Columns (2) have mixed types. Specify dtype option on import or set low_memory=False.\n",
            "  for chunk in pd.read_csv('/content/drive/MyDrive/Azubi_TMP/TransBorder_Analysis_Project/Dataset/Full_Dataset.csv', chunksize=chunksize):\n",
            "/tmp/ipython-input-5-795458216.py:4: DtypeWarning: Columns (2,4) have mixed types. Specify dtype option on import or set low_memory=False.\n",
            "  for chunk in pd.read_csv('/content/drive/MyDrive/Azubi_TMP/TransBorder_Analysis_Project/Dataset/Full_Dataset.csv', chunksize=chunksize):\n",
            "/tmp/ipython-input-5-795458216.py:4: DtypeWarning: Columns (1,4,5) have mixed types. Specify dtype option on import or set low_memory=False.\n",
            "  for chunk in pd.read_csv('/content/drive/MyDrive/Azubi_TMP/TransBorder_Analysis_Project/Dataset/Full_Dataset.csv', chunksize=chunksize):\n",
            "/tmp/ipython-input-5-795458216.py:4: DtypeWarning: Columns (2) have mixed types. Specify dtype option on import or set low_memory=False.\n",
            "  for chunk in pd.read_csv('/content/drive/MyDrive/Azubi_TMP/TransBorder_Analysis_Project/Dataset/Full_Dataset.csv', chunksize=chunksize):\n",
            "/tmp/ipython-input-5-795458216.py:4: DtypeWarning: Columns (1,4,5) have mixed types. Specify dtype option on import or set low_memory=False.\n",
            "  for chunk in pd.read_csv('/content/drive/MyDrive/Azubi_TMP/TransBorder_Analysis_Project/Dataset/Full_Dataset.csv', chunksize=chunksize):\n",
            "/tmp/ipython-input-5-795458216.py:4: DtypeWarning: Columns (1,4,5) have mixed types. Specify dtype option on import or set low_memory=False.\n",
            "  for chunk in pd.read_csv('/content/drive/MyDrive/Azubi_TMP/TransBorder_Analysis_Project/Dataset/Full_Dataset.csv', chunksize=chunksize):\n",
            "/tmp/ipython-input-5-795458216.py:4: DtypeWarning: Columns (2) have mixed types. Specify dtype option on import or set low_memory=False.\n",
            "  for chunk in pd.read_csv('/content/drive/MyDrive/Azubi_TMP/TransBorder_Analysis_Project/Dataset/Full_Dataset.csv', chunksize=chunksize):\n",
            "/tmp/ipython-input-5-795458216.py:4: DtypeWarning: Columns (1,4,5) have mixed types. Specify dtype option on import or set low_memory=False.\n",
            "  for chunk in pd.read_csv('/content/drive/MyDrive/Azubi_TMP/TransBorder_Analysis_Project/Dataset/Full_Dataset.csv', chunksize=chunksize):\n",
            "/tmp/ipython-input-5-795458216.py:4: DtypeWarning: Columns (1,4,5) have mixed types. Specify dtype option on import or set low_memory=False.\n",
            "  for chunk in pd.read_csv('/content/drive/MyDrive/Azubi_TMP/TransBorder_Analysis_Project/Dataset/Full_Dataset.csv', chunksize=chunksize):\n",
            "/tmp/ipython-input-5-795458216.py:4: DtypeWarning: Columns (2) have mixed types. Specify dtype option on import or set low_memory=False.\n",
            "  for chunk in pd.read_csv('/content/drive/MyDrive/Azubi_TMP/TransBorder_Analysis_Project/Dataset/Full_Dataset.csv', chunksize=chunksize):\n",
            "/tmp/ipython-input-5-795458216.py:4: DtypeWarning: Columns (2) have mixed types. Specify dtype option on import or set low_memory=False.\n",
            "  for chunk in pd.read_csv('/content/drive/MyDrive/Azubi_TMP/TransBorder_Analysis_Project/Dataset/Full_Dataset.csv', chunksize=chunksize):\n",
            "/tmp/ipython-input-5-795458216.py:4: DtypeWarning: Columns (2) have mixed types. Specify dtype option on import or set low_memory=False.\n",
            "  for chunk in pd.read_csv('/content/drive/MyDrive/Azubi_TMP/TransBorder_Analysis_Project/Dataset/Full_Dataset.csv', chunksize=chunksize):\n",
            "/tmp/ipython-input-5-795458216.py:4: DtypeWarning: Columns (2) have mixed types. Specify dtype option on import or set low_memory=False.\n",
            "  for chunk in pd.read_csv('/content/drive/MyDrive/Azubi_TMP/TransBorder_Analysis_Project/Dataset/Full_Dataset.csv', chunksize=chunksize):\n",
            "/tmp/ipython-input-5-795458216.py:4: DtypeWarning: Columns (2) have mixed types. Specify dtype option on import or set low_memory=False.\n",
            "  for chunk in pd.read_csv('/content/drive/MyDrive/Azubi_TMP/TransBorder_Analysis_Project/Dataset/Full_Dataset.csv', chunksize=chunksize):\n",
            "/tmp/ipython-input-5-795458216.py:4: DtypeWarning: Columns (2) have mixed types. Specify dtype option on import or set low_memory=False.\n",
            "  for chunk in pd.read_csv('/content/drive/MyDrive/Azubi_TMP/TransBorder_Analysis_Project/Dataset/Full_Dataset.csv', chunksize=chunksize):\n",
            "/tmp/ipython-input-5-795458216.py:4: DtypeWarning: Columns (2) have mixed types. Specify dtype option on import or set low_memory=False.\n",
            "  for chunk in pd.read_csv('/content/drive/MyDrive/Azubi_TMP/TransBorder_Analysis_Project/Dataset/Full_Dataset.csv', chunksize=chunksize):\n",
            "/tmp/ipython-input-5-795458216.py:4: DtypeWarning: Columns (2) have mixed types. Specify dtype option on import or set low_memory=False.\n",
            "  for chunk in pd.read_csv('/content/drive/MyDrive/Azubi_TMP/TransBorder_Analysis_Project/Dataset/Full_Dataset.csv', chunksize=chunksize):\n",
            "/tmp/ipython-input-5-795458216.py:4: DtypeWarning: Columns (4) have mixed types. Specify dtype option on import or set low_memory=False.\n",
            "  for chunk in pd.read_csv('/content/drive/MyDrive/Azubi_TMP/TransBorder_Analysis_Project/Dataset/Full_Dataset.csv', chunksize=chunksize):\n"
          ]
        },
        {
          "output_type": "stream",
          "name": "stdout",
          "text": [
            "File loaded successfully with shape: (28355597, 15)\n"
          ]
        }
      ],
      "source": [
        "chunksize = 100000\n",
        "chunks = []\n",
        "\n",
        "for chunk in pd.read_csv('/content/drive/MyDrive/Azubi_TMP/TransBorder_Analysis_Project/Dataset/Full_Dataset.csv', chunksize=chunksize):\n",
        "\n",
        "    filtered_chunk = chunk[~(chunk['MEXSTATE'].isnull() & chunk['CANPROV'].isnull())]\n",
        "\n",
        "    chunks.append(filtered_chunk)\n",
        "\n",
        "df = pd.concat(chunks, ignore_index=True)\n",
        "print(\"File loaded successfully with shape:\", df.shape)"
      ]
    },
    {
      "cell_type": "markdown",
      "metadata": {
        "id": "D8rgP2904q3J"
      },
      "source": [
        "## **Dataset Initial View**"
      ]
    },
    {
      "cell_type": "code",
      "execution_count": null,
      "metadata": {
        "id": "q2wbzho45fmZ"
      },
      "outputs": [],
      "source": [
        "df.head()"
      ]
    },
    {
      "cell_type": "code",
      "execution_count": null,
      "metadata": {
        "colab": {
          "base_uri": "https://localhost:8080/"
        },
        "id": "v4yH-UWzn_fB",
        "outputId": "f4ba4d4d-40cc-447c-f4a8-f9495ae7b8e4"
      },
      "outputs": [
        {
          "name": "stdout",
          "output_type": "stream",
          "text": [
            "<class 'pandas.core.frame.DataFrame'>\n",
            "RangeIndex: 28355597 entries, 0 to 28355596\n",
            "Data columns (total 15 columns):\n",
            " #   Column           Dtype  \n",
            "---  ------           -----  \n",
            " 0   TRDTYPE          int64  \n",
            " 1   USASTATE         object \n",
            " 2   DEPE             object \n",
            " 3   DISAGMOT         int64  \n",
            " 4   MEXSTATE         object \n",
            " 5   CANPROV          object \n",
            " 6   COUNTRY          int64  \n",
            " 7   VALUE            int64  \n",
            " 8   SHIPWT           int64  \n",
            " 9   FREIGHT_CHARGES  int64  \n",
            " 10  DF               float64\n",
            " 11  CONTCODE         object \n",
            " 12  MONTH            float64\n",
            " 13  YEAR             float64\n",
            " 14  COMMODITY2       float64\n",
            "dtypes: float64(4), int64(6), object(5)\n",
            "memory usage: 3.2+ GB\n"
          ]
        }
      ],
      "source": [
        "df.info()"
      ]
    },
    {
      "cell_type": "code",
      "execution_count": null,
      "metadata": {
        "colab": {
          "base_uri": "https://localhost:8080/",
          "height": 554
        },
        "id": "-oeqDOnyopqT",
        "outputId": "4f8c6e72-a70e-4676-e524-0113f38dd5fd"
      },
      "outputs": [
        {
          "data": {
            "text/html": [
              "<div>\n",
              "<style scoped>\n",
              "    .dataframe tbody tr th:only-of-type {\n",
              "        vertical-align: middle;\n",
              "    }\n",
              "\n",
              "    .dataframe tbody tr th {\n",
              "        vertical-align: top;\n",
              "    }\n",
              "\n",
              "    .dataframe thead th {\n",
              "        text-align: right;\n",
              "    }\n",
              "</style>\n",
              "<table border=\"1\" class=\"dataframe\">\n",
              "  <thead>\n",
              "    <tr style=\"text-align: right;\">\n",
              "      <th></th>\n",
              "      <th>0</th>\n",
              "    </tr>\n",
              "  </thead>\n",
              "  <tbody>\n",
              "    <tr>\n",
              "      <th>TRDTYPE</th>\n",
              "      <td>0</td>\n",
              "    </tr>\n",
              "    <tr>\n",
              "      <th>USASTATE</th>\n",
              "      <td>0</td>\n",
              "    </tr>\n",
              "    <tr>\n",
              "      <th>DEPE</th>\n",
              "      <td>20854845</td>\n",
              "    </tr>\n",
              "    <tr>\n",
              "      <th>DISAGMOT</th>\n",
              "      <td>0</td>\n",
              "    </tr>\n",
              "    <tr>\n",
              "      <th>MEXSTATE</th>\n",
              "      <td>18476837</td>\n",
              "    </tr>\n",
              "    <tr>\n",
              "      <th>CANPROV</th>\n",
              "      <td>9878760</td>\n",
              "    </tr>\n",
              "    <tr>\n",
              "      <th>COUNTRY</th>\n",
              "      <td>0</td>\n",
              "    </tr>\n",
              "    <tr>\n",
              "      <th>VALUE</th>\n",
              "      <td>0</td>\n",
              "    </tr>\n",
              "    <tr>\n",
              "      <th>SHIPWT</th>\n",
              "      <td>0</td>\n",
              "    </tr>\n",
              "    <tr>\n",
              "      <th>FREIGHT_CHARGES</th>\n",
              "      <td>0</td>\n",
              "    </tr>\n",
              "    <tr>\n",
              "      <th>DF</th>\n",
              "      <td>7894981</td>\n",
              "    </tr>\n",
              "    <tr>\n",
              "      <th>CONTCODE</th>\n",
              "      <td>0</td>\n",
              "    </tr>\n",
              "    <tr>\n",
              "      <th>MONTH</th>\n",
              "      <td>404893</td>\n",
              "    </tr>\n",
              "    <tr>\n",
              "      <th>YEAR</th>\n",
              "      <td>0</td>\n",
              "    </tr>\n",
              "    <tr>\n",
              "      <th>COMMODITY2</th>\n",
              "      <td>7500752</td>\n",
              "    </tr>\n",
              "  </tbody>\n",
              "</table>\n",
              "</div><br><label><b>dtype:</b> int64</label>"
            ],
            "text/plain": [
              "TRDTYPE                   0\n",
              "USASTATE                  0\n",
              "DEPE               20854845\n",
              "DISAGMOT                  0\n",
              "MEXSTATE           18476837\n",
              "CANPROV             9878760\n",
              "COUNTRY                   0\n",
              "VALUE                     0\n",
              "SHIPWT                    0\n",
              "FREIGHT_CHARGES           0\n",
              "DF                  7894981\n",
              "CONTCODE                  0\n",
              "MONTH                404893\n",
              "YEAR                      0\n",
              "COMMODITY2          7500752\n",
              "dtype: int64"
            ]
          },
          "execution_count": 7,
          "metadata": {},
          "output_type": "execute_result"
        }
      ],
      "source": [
        "df.isnull().sum()"
      ]
    },
    {
      "cell_type": "markdown",
      "metadata": {
        "id": "EgplM3KFaZXK"
      },
      "source": [
        "# **DATA PREPARATION**"
      ]
    },
    {
      "cell_type": "markdown",
      "metadata": {
        "id": "NY2PvmZNv2SP"
      },
      "source": [
        "## **Tackling Missing Values**"
      ]
    },
    {
      "cell_type": "markdown",
      "metadata": {
        "id": "IahsyFOlv-6g"
      },
      "source": [
        "### **Year**\n",
        "1 missing value. Replace with the previous value"
      ]
    },
    {
      "cell_type": "code",
      "execution_count": 6,
      "metadata": {
        "colab": {
          "base_uri": "https://localhost:8080/"
        },
        "id": "mdFSYzuDvhQf",
        "outputId": "a5a4e665-c560-4aad-ab7d-65f7105bb0da"
      },
      "outputs": [
        {
          "output_type": "stream",
          "name": "stderr",
          "text": [
            "/tmp/ipython-input-6-4109573208.py:1: FutureWarning: Series.fillna with 'method' is deprecated and will raise in a future version. Use obj.ffill() or obj.bfill() instead.\n",
            "  df['YEAR'] = df['YEAR'].fillna(method='bfill')\n"
          ]
        }
      ],
      "source": [
        "df['YEAR'] = df['YEAR'].fillna(method='bfill')"
      ]
    },
    {
      "cell_type": "markdown",
      "metadata": {
        "id": "ebJvTSHF4ZlD"
      },
      "source": [
        "### **Month**\n",
        "Group by year and fill with modal month for each year. I the modal month for a particular year cannot be determined, replace with month 1 (January)."
      ]
    },
    {
      "cell_type": "code",
      "execution_count": 7,
      "metadata": {
        "id": "o3rV2pFg43rr"
      },
      "outputs": [],
      "source": [
        "df['MONTH'] = df.groupby('YEAR')['MONTH'].transform(lambda x: x.fillna(x.mode()[0] if not x.mode().empty else 1))"
      ]
    },
    {
      "cell_type": "markdown",
      "metadata": {
        "id": "5hG1GqSO-lix"
      },
      "source": [
        "### **Commodity2**\n",
        "Group by country and fill with modal commodity code for each country. If modal commodity code is undetermined, fill with a new code category 00, representing Unknown."
      ]
    },
    {
      "cell_type": "code",
      "execution_count": 8,
      "metadata": {
        "id": "AoC81N8RV7tx"
      },
      "outputs": [],
      "source": [
        "# Precompute the mode per country\n",
        "commodity_mode_map = df.groupby('COUNTRY')['COMMODITY2'].agg(lambda x: x.mode().iloc[0] if not x.mode().empty else 00).to_dict()\n",
        "\n",
        "# Fill missing values using the map\n",
        "df['COMMODITY2'] = df['COMMODITY2'].fillna(df['COUNTRY'].map(commodity_mode_map))"
      ]
    },
    {
      "cell_type": "markdown",
      "metadata": {
        "id": "RCEdP2m0qSGi"
      },
      "source": [
        "### **USASTATE, MEXSTATE & CANPROV**\n",
        "---\n",
        "The USASTATE column should not have any null values, because each record is either an export or import to or from either of MEXSTATE or CANPROV. However, the MEXSTATE and CANPROV columns can have null values. But then again, no row can have both MEXSTATE and CANPROV empty at the same time.\n",
        "\n",
        "**Confirm number of missing values in USASTATE column.**"
      ]
    },
    {
      "cell_type": "code",
      "execution_count": 9,
      "metadata": {
        "colab": {
          "base_uri": "https://localhost:8080/"
        },
        "id": "pLoO9YgypMzw",
        "outputId": "d4339f44-daa1-48d8-ae03-bdabff158f0e"
      },
      "outputs": [
        {
          "output_type": "stream",
          "name": "stdout",
          "text": [
            "Missing USASTATE rows: 0\n"
          ]
        }
      ],
      "source": [
        "missing_usa = df[df['USASTATE'].isnull()]\n",
        "print(\"Missing USASTATE rows:\", len(missing_usa))"
      ]
    },
    {
      "cell_type": "markdown",
      "metadata": {
        "id": "40AKU-xHsLM4"
      },
      "source": [
        "**Check number of rows where both MEXSTATE and CANPROV fields are null.**"
      ]
    },
    {
      "cell_type": "code",
      "execution_count": 10,
      "metadata": {
        "colab": {
          "base_uri": "https://localhost:8080/"
        },
        "id": "YLDOTz4VpTap",
        "outputId": "2286f249-d314-47d0-f710-367e39665230"
      },
      "outputs": [
        {
          "output_type": "stream",
          "name": "stdout",
          "text": [
            "Rows where both MEXSTATE and CANPROV are null: 0\n"
          ]
        }
      ],
      "source": [
        "both_missing = df[df['MEXSTATE'].isnull() & df['CANPROV'].isnull()]\n",
        "print(\"Rows where both MEXSTATE and CANPROV are null:\", len(both_missing))"
      ]
    },
    {
      "cell_type": "markdown",
      "metadata": {
        "id": "aYyXyoT6sVJv"
      },
      "source": [
        "**Now check if there are rows where both MEXSTATE and CANPROV have values. This should not exist.**"
      ]
    },
    {
      "cell_type": "code",
      "execution_count": 11,
      "metadata": {
        "colab": {
          "base_uri": "https://localhost:8080/"
        },
        "id": "sEVw-84Sppbx",
        "outputId": "0a99a232-102c-40e2-faff-3f43166e9dfb"
      },
      "outputs": [
        {
          "output_type": "stream",
          "name": "stdout",
          "text": [
            "Rows where both MEXSTATE and CANPROV are filled: 0\n"
          ]
        }
      ],
      "source": [
        "both_filled = df[df['MEXSTATE'].notnull() & df['CANPROV'].notnull()]\n",
        "print(\"Rows where both MEXSTATE and CANPROV are filled:\", len(both_filled))"
      ]
    },
    {
      "cell_type": "markdown",
      "metadata": {
        "id": "fLNw_kNZ-qPo"
      },
      "source": [
        "**Fill in empty values in USASTATE column with modal USASTATE per District/Port  (DEPE)**"
      ]
    },
    {
      "cell_type": "code",
      "execution_count": 12,
      "metadata": {
        "id": "R7pA-yaDs8wv"
      },
      "outputs": [],
      "source": [
        "# Get most common USASTATE per DEPE\n",
        "usastate_map = df.groupby('DEPE')['USASTATE'].agg(lambda x: x.mode().iloc[0] if not x.mode().empty else None).to_dict()\n",
        "\n",
        "# Fill missing values using the map\n",
        "df['USASTATE'] = df['USASTATE'].fillna(df['DEPE'].map(usastate_map))"
      ]
    },
    {
      "cell_type": "code",
      "execution_count": 13,
      "metadata": {
        "colab": {
          "base_uri": "https://localhost:8080/",
          "height": 0
        },
        "id": "IY_3W5xzvf4v",
        "outputId": "49ef5b0b-c9a7-43e6-f0ec-07a2031e1af3"
      },
      "outputs": [
        {
          "output_type": "execute_result",
          "data": {
            "text/plain": [
              "TRDTYPE                   0\n",
              "USASTATE                  0\n",
              "DEPE               20854845\n",
              "DISAGMOT                  0\n",
              "MEXSTATE           18476837\n",
              "CANPROV             9878760\n",
              "COUNTRY                   0\n",
              "VALUE                     0\n",
              "SHIPWT                    0\n",
              "FREIGHT_CHARGES           0\n",
              "DF                  7894981\n",
              "CONTCODE                  0\n",
              "MONTH                     0\n",
              "YEAR                      0\n",
              "COMMODITY2                0\n",
              "dtype: int64"
            ],
            "text/html": [
              "<div>\n",
              "<style scoped>\n",
              "    .dataframe tbody tr th:only-of-type {\n",
              "        vertical-align: middle;\n",
              "    }\n",
              "\n",
              "    .dataframe tbody tr th {\n",
              "        vertical-align: top;\n",
              "    }\n",
              "\n",
              "    .dataframe thead th {\n",
              "        text-align: right;\n",
              "    }\n",
              "</style>\n",
              "<table border=\"1\" class=\"dataframe\">\n",
              "  <thead>\n",
              "    <tr style=\"text-align: right;\">\n",
              "      <th></th>\n",
              "      <th>0</th>\n",
              "    </tr>\n",
              "  </thead>\n",
              "  <tbody>\n",
              "    <tr>\n",
              "      <th>TRDTYPE</th>\n",
              "      <td>0</td>\n",
              "    </tr>\n",
              "    <tr>\n",
              "      <th>USASTATE</th>\n",
              "      <td>0</td>\n",
              "    </tr>\n",
              "    <tr>\n",
              "      <th>DEPE</th>\n",
              "      <td>20854845</td>\n",
              "    </tr>\n",
              "    <tr>\n",
              "      <th>DISAGMOT</th>\n",
              "      <td>0</td>\n",
              "    </tr>\n",
              "    <tr>\n",
              "      <th>MEXSTATE</th>\n",
              "      <td>18476837</td>\n",
              "    </tr>\n",
              "    <tr>\n",
              "      <th>CANPROV</th>\n",
              "      <td>9878760</td>\n",
              "    </tr>\n",
              "    <tr>\n",
              "      <th>COUNTRY</th>\n",
              "      <td>0</td>\n",
              "    </tr>\n",
              "    <tr>\n",
              "      <th>VALUE</th>\n",
              "      <td>0</td>\n",
              "    </tr>\n",
              "    <tr>\n",
              "      <th>SHIPWT</th>\n",
              "      <td>0</td>\n",
              "    </tr>\n",
              "    <tr>\n",
              "      <th>FREIGHT_CHARGES</th>\n",
              "      <td>0</td>\n",
              "    </tr>\n",
              "    <tr>\n",
              "      <th>DF</th>\n",
              "      <td>7894981</td>\n",
              "    </tr>\n",
              "    <tr>\n",
              "      <th>CONTCODE</th>\n",
              "      <td>0</td>\n",
              "    </tr>\n",
              "    <tr>\n",
              "      <th>MONTH</th>\n",
              "      <td>0</td>\n",
              "    </tr>\n",
              "    <tr>\n",
              "      <th>YEAR</th>\n",
              "      <td>0</td>\n",
              "    </tr>\n",
              "    <tr>\n",
              "      <th>COMMODITY2</th>\n",
              "      <td>0</td>\n",
              "    </tr>\n",
              "  </tbody>\n",
              "</table>\n",
              "</div><br><label><b>dtype:</b> int64</label>"
            ]
          },
          "metadata": {},
          "execution_count": 13
        }
      ],
      "source": [
        "df.isnull().sum()"
      ]
    },
    {
      "cell_type": "markdown",
      "metadata": {
        "id": "IKvKV1u03Xhc"
      },
      "source": [
        "**Save rows where both MEXSTATE and CANPROV are null as a CSV (backup), and then drop them from the dataset**"
      ]
    },
    {
      "cell_type": "code",
      "execution_count": 14,
      "metadata": {
        "id": "oed65DdhwKuy"
      },
      "outputs": [],
      "source": [
        "# Save rows where both MEXSTATE and CANPROV are null as a CSV\n",
        "both_missing.to_csv(\"/content/drive/MyDrive/Azubi_TMP/TransBorder_Analysis_Project/Dataset/rows_with_both_mexstate_canprov_null.csv\", index=False)"
      ]
    },
    {
      "cell_type": "markdown",
      "metadata": {
        "id": "-8wLQPjoF_sa"
      },
      "source": [
        "### **District/Port (DEPE)**\n",
        "\n",
        "It is incomplete to have a freight without an associated porto of entry or exit, thus the DEPE column should not be empty."
      ]
    },
    {
      "cell_type": "code",
      "execution_count": 15,
      "metadata": {
        "colab": {
          "base_uri": "https://localhost:8080/"
        },
        "id": "0nbxQ7osGdHJ",
        "outputId": "8626059d-7707-47fe-f9c6-21170837136a"
      },
      "outputs": [
        {
          "output_type": "stream",
          "name": "stdout",
          "text": [
            "Rows with missing DEPE (port): 20854845\n"
          ]
        }
      ],
      "source": [
        "# Check number of missing values in DEPE column\n",
        "missing_depe = df[df['DEPE'].isnull()]\n",
        "print(\"Rows with missing DEPE (port):\", missing_depe.shape[0])"
      ]
    },
    {
      "cell_type": "code",
      "execution_count": 16,
      "metadata": {
        "id": "3a1nreisQXwL"
      },
      "outputs": [],
      "source": [
        "# compute common DEPE per usastate\n",
        "depe_map = df.groupby('USASTATE')['DEPE'].agg(lambda x: x.mode().iloc[0] if not x.mode().empty else None).to_dict()\n",
        "\n",
        "# Fill missing DEPE based on usastate\n",
        "df['DEPE'] = df['DEPE'].fillna(df['USASTATE'].map(depe_map))"
      ]
    },
    {
      "cell_type": "code",
      "execution_count": 17,
      "metadata": {
        "colab": {
          "base_uri": "https://localhost:8080/",
          "height": 0
        },
        "id": "7sU5N-hKRkub",
        "outputId": "9473bf4d-67e7-4d6b-84b1-1e93ccecc1df"
      },
      "outputs": [
        {
          "output_type": "execute_result",
          "data": {
            "text/plain": [
              "TRDTYPE                   0\n",
              "USASTATE                  0\n",
              "DEPE                      0\n",
              "DISAGMOT                  0\n",
              "MEXSTATE           18476837\n",
              "CANPROV             9878760\n",
              "COUNTRY                   0\n",
              "VALUE                     0\n",
              "SHIPWT                    0\n",
              "FREIGHT_CHARGES           0\n",
              "DF                  7894981\n",
              "CONTCODE                  0\n",
              "MONTH                     0\n",
              "YEAR                      0\n",
              "COMMODITY2                0\n",
              "dtype: int64"
            ],
            "text/html": [
              "<div>\n",
              "<style scoped>\n",
              "    .dataframe tbody tr th:only-of-type {\n",
              "        vertical-align: middle;\n",
              "    }\n",
              "\n",
              "    .dataframe tbody tr th {\n",
              "        vertical-align: top;\n",
              "    }\n",
              "\n",
              "    .dataframe thead th {\n",
              "        text-align: right;\n",
              "    }\n",
              "</style>\n",
              "<table border=\"1\" class=\"dataframe\">\n",
              "  <thead>\n",
              "    <tr style=\"text-align: right;\">\n",
              "      <th></th>\n",
              "      <th>0</th>\n",
              "    </tr>\n",
              "  </thead>\n",
              "  <tbody>\n",
              "    <tr>\n",
              "      <th>TRDTYPE</th>\n",
              "      <td>0</td>\n",
              "    </tr>\n",
              "    <tr>\n",
              "      <th>USASTATE</th>\n",
              "      <td>0</td>\n",
              "    </tr>\n",
              "    <tr>\n",
              "      <th>DEPE</th>\n",
              "      <td>0</td>\n",
              "    </tr>\n",
              "    <tr>\n",
              "      <th>DISAGMOT</th>\n",
              "      <td>0</td>\n",
              "    </tr>\n",
              "    <tr>\n",
              "      <th>MEXSTATE</th>\n",
              "      <td>18476837</td>\n",
              "    </tr>\n",
              "    <tr>\n",
              "      <th>CANPROV</th>\n",
              "      <td>9878760</td>\n",
              "    </tr>\n",
              "    <tr>\n",
              "      <th>COUNTRY</th>\n",
              "      <td>0</td>\n",
              "    </tr>\n",
              "    <tr>\n",
              "      <th>VALUE</th>\n",
              "      <td>0</td>\n",
              "    </tr>\n",
              "    <tr>\n",
              "      <th>SHIPWT</th>\n",
              "      <td>0</td>\n",
              "    </tr>\n",
              "    <tr>\n",
              "      <th>FREIGHT_CHARGES</th>\n",
              "      <td>0</td>\n",
              "    </tr>\n",
              "    <tr>\n",
              "      <th>DF</th>\n",
              "      <td>7894981</td>\n",
              "    </tr>\n",
              "    <tr>\n",
              "      <th>CONTCODE</th>\n",
              "      <td>0</td>\n",
              "    </tr>\n",
              "    <tr>\n",
              "      <th>MONTH</th>\n",
              "      <td>0</td>\n",
              "    </tr>\n",
              "    <tr>\n",
              "      <th>YEAR</th>\n",
              "      <td>0</td>\n",
              "    </tr>\n",
              "    <tr>\n",
              "      <th>COMMODITY2</th>\n",
              "      <td>0</td>\n",
              "    </tr>\n",
              "  </tbody>\n",
              "</table>\n",
              "</div><br><label><b>dtype:</b> int64</label>"
            ]
          },
          "metadata": {},
          "execution_count": 17
        }
      ],
      "source": [
        "df.isnull().sum()"
      ]
    },
    {
      "cell_type": "markdown",
      "metadata": {
        "id": "Q_DIJRXcUpwa"
      },
      "source": [
        "### **Domestic/Foreign (DF)**\n",
        "\n",
        "Since the Transaction Type tells whether it's an import or export, we can infer from that column to fill null values in the DF column. Export means Domestic and Import means Foreign."
      ]
    },
    {
      "cell_type": "code",
      "execution_count": 18,
      "metadata": {
        "id": "g0cPKdbBUt3x"
      },
      "outputs": [],
      "source": [
        "# Fill DF = 1 for exports (TRDTYPE == 1), only where DF is missing\n",
        "df.loc[(df['DF'].isnull()) & (df['TRDTYPE'] == 1), 'DF'] = 1\n",
        "\n",
        "# Fill DF = 2 for imports (TRDTYPE == 2), only where DF is missing\n",
        "df.loc[(df['DF'].isnull()) & (df['TRDTYPE'] == 2), 'DF'] = 2"
      ]
    },
    {
      "cell_type": "code",
      "execution_count": 19,
      "metadata": {
        "colab": {
          "base_uri": "https://localhost:8080/",
          "height": 0
        },
        "id": "MSQE91jGVPm1",
        "outputId": "b7ce55d7-16cb-4b23-a645-d85776c1ab1a"
      },
      "outputs": [
        {
          "output_type": "execute_result",
          "data": {
            "text/plain": [
              "TRDTYPE                   0\n",
              "USASTATE                  0\n",
              "DEPE                      0\n",
              "DISAGMOT                  0\n",
              "MEXSTATE           18476837\n",
              "CANPROV             9878760\n",
              "COUNTRY                   0\n",
              "VALUE                     0\n",
              "SHIPWT                    0\n",
              "FREIGHT_CHARGES           0\n",
              "DF                        0\n",
              "CONTCODE                  0\n",
              "MONTH                     0\n",
              "YEAR                      0\n",
              "COMMODITY2                0\n",
              "dtype: int64"
            ],
            "text/html": [
              "<div>\n",
              "<style scoped>\n",
              "    .dataframe tbody tr th:only-of-type {\n",
              "        vertical-align: middle;\n",
              "    }\n",
              "\n",
              "    .dataframe tbody tr th {\n",
              "        vertical-align: top;\n",
              "    }\n",
              "\n",
              "    .dataframe thead th {\n",
              "        text-align: right;\n",
              "    }\n",
              "</style>\n",
              "<table border=\"1\" class=\"dataframe\">\n",
              "  <thead>\n",
              "    <tr style=\"text-align: right;\">\n",
              "      <th></th>\n",
              "      <th>0</th>\n",
              "    </tr>\n",
              "  </thead>\n",
              "  <tbody>\n",
              "    <tr>\n",
              "      <th>TRDTYPE</th>\n",
              "      <td>0</td>\n",
              "    </tr>\n",
              "    <tr>\n",
              "      <th>USASTATE</th>\n",
              "      <td>0</td>\n",
              "    </tr>\n",
              "    <tr>\n",
              "      <th>DEPE</th>\n",
              "      <td>0</td>\n",
              "    </tr>\n",
              "    <tr>\n",
              "      <th>DISAGMOT</th>\n",
              "      <td>0</td>\n",
              "    </tr>\n",
              "    <tr>\n",
              "      <th>MEXSTATE</th>\n",
              "      <td>18476837</td>\n",
              "    </tr>\n",
              "    <tr>\n",
              "      <th>CANPROV</th>\n",
              "      <td>9878760</td>\n",
              "    </tr>\n",
              "    <tr>\n",
              "      <th>COUNTRY</th>\n",
              "      <td>0</td>\n",
              "    </tr>\n",
              "    <tr>\n",
              "      <th>VALUE</th>\n",
              "      <td>0</td>\n",
              "    </tr>\n",
              "    <tr>\n",
              "      <th>SHIPWT</th>\n",
              "      <td>0</td>\n",
              "    </tr>\n",
              "    <tr>\n",
              "      <th>FREIGHT_CHARGES</th>\n",
              "      <td>0</td>\n",
              "    </tr>\n",
              "    <tr>\n",
              "      <th>DF</th>\n",
              "      <td>0</td>\n",
              "    </tr>\n",
              "    <tr>\n",
              "      <th>CONTCODE</th>\n",
              "      <td>0</td>\n",
              "    </tr>\n",
              "    <tr>\n",
              "      <th>MONTH</th>\n",
              "      <td>0</td>\n",
              "    </tr>\n",
              "    <tr>\n",
              "      <th>YEAR</th>\n",
              "      <td>0</td>\n",
              "    </tr>\n",
              "    <tr>\n",
              "      <th>COMMODITY2</th>\n",
              "      <td>0</td>\n",
              "    </tr>\n",
              "  </tbody>\n",
              "</table>\n",
              "</div><br><label><b>dtype:</b> int64</label>"
            ]
          },
          "metadata": {},
          "execution_count": 19
        }
      ],
      "source": [
        "df.isnull().sum()"
      ]
    },
    {
      "cell_type": "markdown",
      "metadata": {
        "id": "E3Ya90GeZn4c"
      },
      "source": [
        "## **Checking and Converting Datatypes**"
      ]
    },
    {
      "cell_type": "code",
      "execution_count": 20,
      "metadata": {
        "id": "gTAJ4x46WDS6"
      },
      "outputs": [],
      "source": [
        "# Convert some columns to String\n",
        "df['TRDTYPE'] = df['TRDTYPE'].astype('category')\n",
        "df['DISAGMOT'] = df['DISAGMOT'].astype('category')\n",
        "df['COUNTRY'] = df['COUNTRY'].astype('category')\n",
        "df['COMMODITY2'] = df['COMMODITY2'].astype('category')"
      ]
    },
    {
      "cell_type": "code",
      "execution_count": 21,
      "metadata": {
        "colab": {
          "base_uri": "https://localhost:8080/"
        },
        "id": "Q9a10XYAcxG6",
        "outputId": "d4c0eebd-bded-4b0a-aa53-c1a4552c5d53"
      },
      "outputs": [
        {
          "output_type": "stream",
          "name": "stdout",
          "text": [
            "<class 'pandas.core.frame.DataFrame'>\n",
            "RangeIndex: 28355597 entries, 0 to 28355596\n",
            "Data columns (total 15 columns):\n",
            " #   Column           Dtype   \n",
            "---  ------           -----   \n",
            " 0   TRDTYPE          category\n",
            " 1   USASTATE         object  \n",
            " 2   DEPE             object  \n",
            " 3   DISAGMOT         category\n",
            " 4   MEXSTATE         object  \n",
            " 5   CANPROV          object  \n",
            " 6   COUNTRY          category\n",
            " 7   VALUE            int64   \n",
            " 8   SHIPWT           int64   \n",
            " 9   FREIGHT_CHARGES  int64   \n",
            " 10  DF               float64 \n",
            " 11  CONTCODE         object  \n",
            " 12  MONTH            float64 \n",
            " 13  YEAR             float64 \n",
            " 14  COMMODITY2       category\n",
            "dtypes: category(4), float64(3), int64(3), object(5)\n",
            "memory usage: 2.4+ GB\n"
          ]
        }
      ],
      "source": [
        "df.info()"
      ]
    },
    {
      "cell_type": "code",
      "source": [
        "# Convert MONTH and YEAR to integers\n",
        "df['MONTH'] = df['MONTH'].astype('Int64')\n",
        "df['YEAR'] = df['YEAR'].astype('Int64')"
      ],
      "metadata": {
        "id": "zBcc8kE9TBDT"
      },
      "execution_count": 24,
      "outputs": []
    },
    {
      "cell_type": "code",
      "execution_count": 25,
      "metadata": {
        "id": "gpW5qzrudVnx",
        "colab": {
          "base_uri": "https://localhost:8080/"
        },
        "outputId": "d16206c9-1234-4d23-c731-7a0bc5d34bc2"
      },
      "outputs": [
        {
          "output_type": "stream",
          "name": "stdout",
          "text": [
            "Merged file saved to: /content/drive/MyDrive/Azubi_TMP/TransBorder_Analysis_Project/Dataset/Cleaned/cleaned_1.csv\n"
          ]
        }
      ],
      "source": [
        "# Save the cleaned data\n",
        "output_path = os.path.join('/content/drive/MyDrive/Azubi_TMP/TransBorder_Analysis_Project/Dataset/Cleaned/', \"cleaned_1.csv\")\n",
        "df.to_csv(output_path, index=False)\n",
        "print(f\"Merged file saved to: {output_path}\")"
      ]
    },
    {
      "cell_type": "markdown",
      "source": [
        "CHECKPOINT - Because of Memory Issues, Dataset has been cleaned to this point and saved. It will be uploaded and cleaning will continue"
      ],
      "metadata": {
        "id": "BqETXm2iZ6PO"
      }
    },
    {
      "cell_type": "code",
      "source": [
        "chunksize = 100000\n",
        "chunks = []\n",
        "\n",
        "for chunk in pd.read_csv('/content/drive/MyDrive/Azubi_TMP/TransBorder_Analysis_Project/Dataset/Cleaned/cleaned_1.csv', chunksize=chunksize):\n",
        "\n",
        "    chunks.append(chunk)\n",
        "\n",
        "df = pd.concat(chunks, ignore_index=True)\n",
        "print(\"File loaded successfully with shape:\", df.shape)"
      ],
      "metadata": {
        "colab": {
          "base_uri": "https://localhost:8080/"
        },
        "id": "lWHHgv99zlA9",
        "outputId": "be529188-7e0d-4dd0-913d-37874e381c9b"
      },
      "execution_count": 3,
      "outputs": [
        {
          "output_type": "stream",
          "name": "stderr",
          "text": [
            "/tmp/ipython-input-3-618174959.py:4: DtypeWarning: Columns (2) have mixed types. Specify dtype option on import or set low_memory=False.\n",
            "  for chunk in pd.read_csv('/content/drive/MyDrive/Azubi_TMP/TransBorder_Analysis_Project/Dataset/Cleaned/cleaned_1.csv', chunksize=chunksize):\n",
            "/tmp/ipython-input-3-618174959.py:4: DtypeWarning: Columns (2) have mixed types. Specify dtype option on import or set low_memory=False.\n",
            "  for chunk in pd.read_csv('/content/drive/MyDrive/Azubi_TMP/TransBorder_Analysis_Project/Dataset/Cleaned/cleaned_1.csv', chunksize=chunksize):\n",
            "/tmp/ipython-input-3-618174959.py:4: DtypeWarning: Columns (2) have mixed types. Specify dtype option on import or set low_memory=False.\n",
            "  for chunk in pd.read_csv('/content/drive/MyDrive/Azubi_TMP/TransBorder_Analysis_Project/Dataset/Cleaned/cleaned_1.csv', chunksize=chunksize):\n",
            "/tmp/ipython-input-3-618174959.py:4: DtypeWarning: Columns (2) have mixed types. Specify dtype option on import or set low_memory=False.\n",
            "  for chunk in pd.read_csv('/content/drive/MyDrive/Azubi_TMP/TransBorder_Analysis_Project/Dataset/Cleaned/cleaned_1.csv', chunksize=chunksize):\n",
            "/tmp/ipython-input-3-618174959.py:4: DtypeWarning: Columns (2) have mixed types. Specify dtype option on import or set low_memory=False.\n",
            "  for chunk in pd.read_csv('/content/drive/MyDrive/Azubi_TMP/TransBorder_Analysis_Project/Dataset/Cleaned/cleaned_1.csv', chunksize=chunksize):\n",
            "/tmp/ipython-input-3-618174959.py:4: DtypeWarning: Columns (2) have mixed types. Specify dtype option on import or set low_memory=False.\n",
            "  for chunk in pd.read_csv('/content/drive/MyDrive/Azubi_TMP/TransBorder_Analysis_Project/Dataset/Cleaned/cleaned_1.csv', chunksize=chunksize):\n",
            "/tmp/ipython-input-3-618174959.py:4: DtypeWarning: Columns (2) have mixed types. Specify dtype option on import or set low_memory=False.\n",
            "  for chunk in pd.read_csv('/content/drive/MyDrive/Azubi_TMP/TransBorder_Analysis_Project/Dataset/Cleaned/cleaned_1.csv', chunksize=chunksize):\n",
            "/tmp/ipython-input-3-618174959.py:4: DtypeWarning: Columns (2) have mixed types. Specify dtype option on import or set low_memory=False.\n",
            "  for chunk in pd.read_csv('/content/drive/MyDrive/Azubi_TMP/TransBorder_Analysis_Project/Dataset/Cleaned/cleaned_1.csv', chunksize=chunksize):\n",
            "/tmp/ipython-input-3-618174959.py:4: DtypeWarning: Columns (2) have mixed types. Specify dtype option on import or set low_memory=False.\n",
            "  for chunk in pd.read_csv('/content/drive/MyDrive/Azubi_TMP/TransBorder_Analysis_Project/Dataset/Cleaned/cleaned_1.csv', chunksize=chunksize):\n",
            "/tmp/ipython-input-3-618174959.py:4: DtypeWarning: Columns (2) have mixed types. Specify dtype option on import or set low_memory=False.\n",
            "  for chunk in pd.read_csv('/content/drive/MyDrive/Azubi_TMP/TransBorder_Analysis_Project/Dataset/Cleaned/cleaned_1.csv', chunksize=chunksize):\n",
            "/tmp/ipython-input-3-618174959.py:4: DtypeWarning: Columns (2) have mixed types. Specify dtype option on import or set low_memory=False.\n",
            "  for chunk in pd.read_csv('/content/drive/MyDrive/Azubi_TMP/TransBorder_Analysis_Project/Dataset/Cleaned/cleaned_1.csv', chunksize=chunksize):\n",
            "/tmp/ipython-input-3-618174959.py:4: DtypeWarning: Columns (2) have mixed types. Specify dtype option on import or set low_memory=False.\n",
            "  for chunk in pd.read_csv('/content/drive/MyDrive/Azubi_TMP/TransBorder_Analysis_Project/Dataset/Cleaned/cleaned_1.csv', chunksize=chunksize):\n",
            "/tmp/ipython-input-3-618174959.py:4: DtypeWarning: Columns (2) have mixed types. Specify dtype option on import or set low_memory=False.\n",
            "  for chunk in pd.read_csv('/content/drive/MyDrive/Azubi_TMP/TransBorder_Analysis_Project/Dataset/Cleaned/cleaned_1.csv', chunksize=chunksize):\n",
            "/tmp/ipython-input-3-618174959.py:4: DtypeWarning: Columns (2) have mixed types. Specify dtype option on import or set low_memory=False.\n",
            "  for chunk in pd.read_csv('/content/drive/MyDrive/Azubi_TMP/TransBorder_Analysis_Project/Dataset/Cleaned/cleaned_1.csv', chunksize=chunksize):\n",
            "/tmp/ipython-input-3-618174959.py:4: DtypeWarning: Columns (2) have mixed types. Specify dtype option on import or set low_memory=False.\n",
            "  for chunk in pd.read_csv('/content/drive/MyDrive/Azubi_TMP/TransBorder_Analysis_Project/Dataset/Cleaned/cleaned_1.csv', chunksize=chunksize):\n",
            "/tmp/ipython-input-3-618174959.py:4: DtypeWarning: Columns (2) have mixed types. Specify dtype option on import or set low_memory=False.\n",
            "  for chunk in pd.read_csv('/content/drive/MyDrive/Azubi_TMP/TransBorder_Analysis_Project/Dataset/Cleaned/cleaned_1.csv', chunksize=chunksize):\n"
          ]
        },
        {
          "output_type": "stream",
          "name": "stdout",
          "text": [
            "File loaded successfully with shape: (28355597, 15)\n"
          ]
        }
      ]
    },
    {
      "cell_type": "code",
      "execution_count": 4,
      "metadata": {
        "id": "zFUJGl9kguir"
      },
      "outputs": [],
      "source": [
        "# Combine month and year into a proper datetime object\n",
        "df['DATE'] = pd.to_datetime(dict(year=df['YEAR'], month=df['MONTH'], day=1))"
      ]
    },
    {
      "cell_type": "markdown",
      "source": [
        "### **Continued Cleaning Process**\n",
        "\n",
        "Checking for negative values in the numeric columns (Value, Weight and Freight Charges."
      ],
      "metadata": {
        "id": "fugpqb-09-YT"
      }
    },
    {
      "cell_type": "code",
      "source": [
        "numeric_cols = ['VALUE', 'SHIPWT', 'FREIGHT_CHARGES']\n",
        "for col in numeric_cols:\n",
        "    print(f\"{col} — Min: {df[col].min()}, Max: {df[col].max()}, Nulls: {df[col].isnull().sum()}\")"
      ],
      "metadata": {
        "colab": {
          "base_uri": "https://localhost:8080/"
        },
        "id": "_HmZPmcL0gCc",
        "outputId": "92f62327-b27f-45ca-871e-199aec9894d6"
      },
      "execution_count": 5,
      "outputs": [
        {
          "output_type": "stream",
          "name": "stdout",
          "text": [
            "VALUE — Min: 0, Max: 50342121941, Nulls: 0\n",
            "SHIPWT — Min: 0, Max: 83993589100, Nulls: 0\n",
            "FREIGHT_CHARGES — Min: 0, Max: 2354837927, Nulls: 0\n"
          ]
        }
      ]
    },
    {
      "cell_type": "markdown",
      "source": [
        "### **Save the Final Cleaned Data**"
      ],
      "metadata": {
        "id": "WvUURBjd-sRm"
      }
    },
    {
      "cell_type": "code",
      "source": [
        "# Save the Final Cleaned Data\n",
        "output_path = os.path.join('/content/drive/MyDrive/Azubi_TMP/TransBorder_Analysis_Project/Dataset/Cleaned/', \"Final_Cleaned_Data.csv\")\n",
        "df.to_csv(output_path, index=False)\n",
        "print(f\"Merged file saved to: {output_path}\")"
      ],
      "metadata": {
        "colab": {
          "base_uri": "https://localhost:8080/"
        },
        "id": "sGfkBjc0-utz",
        "outputId": "ee7b43fa-9116-478e-8649-df7f052d0af6"
      },
      "execution_count": 6,
      "outputs": [
        {
          "output_type": "stream",
          "name": "stdout",
          "text": [
            "Merged file saved to: /content/drive/MyDrive/Azubi_TMP/TransBorder_Analysis_Project/Dataset/Cleaned/Final_Cleaned_Data.csv\n"
          ]
        }
      ]
    },
    {
      "cell_type": "markdown",
      "metadata": {
        "id": "E_IpVhCQam_Z"
      },
      "source": [
        "# **ANALYSIS & VISUALIZATION**"
      ]
    },
    {
      "cell_type": "code",
      "execution_count": null,
      "metadata": {
        "id": "5eGGlRoNamEh"
      },
      "outputs": [],
      "source": []
    }
  ],
  "metadata": {
    "accelerator": "GPU",
    "colab": {
      "collapsed_sections": [
        "olHliRgr6t82",
        "9hCNnuh2sbqr",
        "pS1HvQ9nskg7",
        "yzdPbFjksmbK",
        "lswQ0OrQsus-",
        "qes8Eyuksy8y",
        "TIm71-o4s3Sb",
        "3oj8BJjUo9PY",
        "NY2PvmZNv2SP"
      ],
      "gpuType": "T4",
      "provenance": [],
      "include_colab_link": true
    },
    "kernelspec": {
      "display_name": "Python 3 (ipykernel)",
      "language": "python",
      "name": "python3"
    },
    "language_info": {
      "codemirror_mode": {
        "name": "ipython",
        "version": 3
      },
      "file_extension": ".py",
      "mimetype": "text/x-python",
      "name": "python",
      "nbconvert_exporter": "python",
      "pygments_lexer": "ipython3",
      "version": "3.13.5"
    }
  },
  "nbformat": 4,
  "nbformat_minor": 0
}