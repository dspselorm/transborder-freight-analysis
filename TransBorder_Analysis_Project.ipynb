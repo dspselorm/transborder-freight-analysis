{
  "cells": [
    {
      "cell_type": "markdown",
      "metadata": {
        "id": "view-in-github",
        "colab_type": "text"
      },
      "source": [
        "<a href=\"https://colab.research.google.com/github/dspselorm/transborder-freight-analysis/blob/main/TransBorder_Analysis_Project.ipynb\" target=\"_parent\"><img src=\"https://colab.research.google.com/assets/colab-badge.svg\" alt=\"Open In Colab\"/></a>"
      ]
    },
    {
      "cell_type": "markdown",
      "metadata": {
        "id": "olHliRgr6t82"
      },
      "source": [
        "### **LIBRARIES**"
      ]
    },
    {
      "cell_type": "code",
      "execution_count": 1,
      "metadata": {
        "id": "khhLJYmw6p4B"
      },
      "outputs": [],
      "source": [
        "import pandas as pd\n",
        "import numpy as np\n",
        "import glob\n",
        "import os\n",
        "\n",
        "import seaborn as sns\n",
        "import matplotlib.pyplot as plt\n",
        "import matplotlib.ticker as ticker\n",
        "import plotly.express as px"
      ]
    },
    {
      "cell_type": "code",
      "execution_count": 2,
      "metadata": {
        "colab": {
          "base_uri": "https://localhost:8080/"
        },
        "id": "z6NRaHQs4q1E",
        "outputId": "f7d209e7-5557-4e89-a509-0c8411870de0"
      },
      "outputs": [
        {
          "output_type": "stream",
          "name": "stdout",
          "text": [
            "Mounted at /content/drive\n"
          ]
        }
      ],
      "source": [
        "from google.colab import drive\n",
        "drive.mount('/content/drive')"
      ]
    },
    {
      "cell_type": "markdown",
      "metadata": {
        "id": "9hCNnuh2sbqr",
        "jp-MarkdownHeadingCollapsed": true
      },
      "source": [
        "### **Merge and Save all 2020 CSVs**"
      ]
    },
    {
      "cell_type": "code",
      "execution_count": null,
      "metadata": {
        "colab": {
          "base_uri": "https://localhost:8080/"
        },
        "collapsed": true,
        "id": "FJIeL_Xm6ZeV",
        "jupyter": {
          "outputs_hidden": true
        },
        "outputId": "67d2f52d-92da-4f0a-a04d-bc3240fd434c"
      },
      "outputs": [
        {
          "name": "stdout",
          "output_type": "stream",
          "text": [
            "Drive already mounted at /content/drive; to attempt to forcibly remount, call drive.mount(\"/content/drive\", force_remount=True).\n",
            "Loaded: dot1_0120.csv with 26169 rows\n",
            "Loaded: dot1_ytd_0120.csv with 26169 rows\n"
          ]
        },
        {
          "name": "stderr",
          "output_type": "stream",
          "text": [
            "/tmp/ipython-input-2-2249145376.py:11: DtypeWarning: Columns (4,11) have mixed types. Specify dtype option on import or set low_memory=False.\n",
            "  df = pd.read_csv(file)\n"
          ]
        },
        {
          "name": "stdout",
          "output_type": "stream",
          "text": [
            "Loaded: dot2_0120.csv with 73211 rows\n"
          ]
        },
        {
          "name": "stderr",
          "output_type": "stream",
          "text": [
            "/tmp/ipython-input-2-2249145376.py:11: DtypeWarning: Columns (4,11) have mixed types. Specify dtype option on import or set low_memory=False.\n",
            "  df = pd.read_csv(file)\n"
          ]
        },
        {
          "name": "stdout",
          "output_type": "stream",
          "text": [
            "Loaded: dot2_ytd_0120.csv with 73211 rows\n",
            "Loaded: dot3_0120.csv with 16870 rows\n",
            "Loaded: dot3_ytd_0120.csv with 16870 rows\n",
            "Loaded: dot3_ytd_0220.csv with 33672 rows\n"
          ]
        },
        {
          "name": "stderr",
          "output_type": "stream",
          "text": [
            "/tmp/ipython-input-2-2249145376.py:11: DtypeWarning: Columns (4,11) have mixed types. Specify dtype option on import or set low_memory=False.\n",
            "  df = pd.read_csv(file)\n"
          ]
        },
        {
          "name": "stdout",
          "output_type": "stream",
          "text": [
            "Loaded: dot2_ytd_0220.csv with 146243 rows\n",
            "Loaded: dot1_ytd_0220.csv with 52480 rows\n"
          ]
        },
        {
          "name": "stderr",
          "output_type": "stream",
          "text": [
            "/tmp/ipython-input-2-2249145376.py:11: DtypeWarning: Columns (4,11) have mixed types. Specify dtype option on import or set low_memory=False.\n",
            "  df = pd.read_csv(file)\n"
          ]
        },
        {
          "name": "stdout",
          "output_type": "stream",
          "text": [
            "Loaded: dot2_0220.csv with 73032 rows\n",
            "Loaded: dot1_0220.csv with 26311 rows\n",
            "Loaded: dot3_0220.csv with 16802 rows\n",
            "Loaded: dot1_0320.csv with 27231 rows\n",
            "Loaded: dot1_ytd_0320.csv with 79711 rows\n"
          ]
        },
        {
          "name": "stderr",
          "output_type": "stream",
          "text": [
            "/tmp/ipython-input-2-2249145376.py:11: DtypeWarning: Columns (4,11) have mixed types. Specify dtype option on import or set low_memory=False.\n",
            "  df = pd.read_csv(file)\n"
          ]
        },
        {
          "name": "stdout",
          "output_type": "stream",
          "text": [
            "Loaded: dot2_0320.csv with 74667 rows\n",
            "Loaded: dot2_ytd_0320.csv with 220910 rows\n",
            "Loaded: dot3_0320.csv with 17384 rows\n",
            "Loaded: dot3_ytd_0320.csv with 51056 rows\n",
            "Loaded: dot2_0420.csv with 64884 rows\n",
            "Loaded: dot2_ytd_0420.csv with 285794 rows\n",
            "Loaded: dot3_0420.csv with 15416 rows\n"
          ]
        },
        {
          "name": "stderr",
          "output_type": "stream",
          "text": [
            "/tmp/ipython-input-2-2249145376.py:11: DtypeWarning: Columns (9) have mixed types. Specify dtype option on import or set low_memory=False.\n",
            "  df = pd.read_csv(file)\n"
          ]
        },
        {
          "name": "stdout",
          "output_type": "stream",
          "text": [
            "Loaded: dot3_ytd_0420.csv with 66472 rows\n",
            "Loaded: dot1_0420.csv with 24384 rows\n",
            "Loaded: dot1_ytd_0420.csv with 104095 rows\n",
            "Loaded: dot1_0520.csv with 24155 rows\n",
            "Loaded: dot1_ytd_0520.csv with 128250 rows\n",
            "Loaded: dot2_0520.csv with 64715 rows\n",
            "Loaded: dot2_ytd_0520.csv with 350509 rows\n",
            "Loaded: dot3_0520.csv with 15582 rows\n",
            "Loaded: dot3_ytd_0520.csv with 82054 rows\n",
            "Loaded: dot1_ytd_0620.csv with 153674 rows\n"
          ]
        },
        {
          "name": "stderr",
          "output_type": "stream",
          "text": [
            "/tmp/ipython-input-2-2249145376.py:11: DtypeWarning: Columns (4,11) have mixed types. Specify dtype option on import or set low_memory=False.\n",
            "  df = pd.read_csv(file)\n"
          ]
        },
        {
          "name": "stdout",
          "output_type": "stream",
          "text": [
            "Loaded: dot2_0620.csv with 69259 rows\n",
            "Loaded: dot2_ytd_0620.csv with 419768 rows\n",
            "Loaded: dot3_0620.csv with 16246 rows\n",
            "Loaded: dot3_ytd_0620.csv with 98300 rows\n",
            "Loaded: dot1_0620.csv with 25424 rows\n",
            "Loaded: dot2_ytd_0720.csv with 490595 rows\n"
          ]
        },
        {
          "name": "stderr",
          "output_type": "stream",
          "text": [
            "/tmp/ipython-input-2-2249145376.py:11: DtypeWarning: Columns (4,11) have mixed types. Specify dtype option on import or set low_memory=False.\n",
            "  df = pd.read_csv(file)\n"
          ]
        },
        {
          "name": "stdout",
          "output_type": "stream",
          "text": [
            "Loaded: dot2_0720.csv with 70827 rows\n",
            "Loaded: dot1_0720.csv with 26017 rows\n",
            "Loaded: dot1_ytd_0720.csv with 179691 rows\n",
            "Loaded: dot3_0720.csv with 16672 rows\n",
            "Loaded: dot3_ytd_0720.csv with 114972 rows\n"
          ]
        },
        {
          "name": "stderr",
          "output_type": "stream",
          "text": [
            "/tmp/ipython-input-2-2249145376.py:11: DtypeWarning: Columns (9) have mixed types. Specify dtype option on import or set low_memory=False.\n",
            "  df = pd.read_csv(file)\n"
          ]
        },
        {
          "name": "stdout",
          "output_type": "stream",
          "text": [
            "Loaded: dot3_ytd_0820.csv with 131620 rows\n",
            "Loaded: dot1_0820.csv with 25950 rows\n"
          ]
        },
        {
          "name": "stderr",
          "output_type": "stream",
          "text": [
            "/tmp/ipython-input-2-2249145376.py:11: DtypeWarning: Columns (4,11) have mixed types. Specify dtype option on import or set low_memory=False.\n",
            "  df = pd.read_csv(file)\n"
          ]
        },
        {
          "name": "stdout",
          "output_type": "stream",
          "text": [
            "Loaded: dot1_ytd_0820.csv with 205641 rows\n"
          ]
        },
        {
          "name": "stderr",
          "output_type": "stream",
          "text": [
            "/tmp/ipython-input-2-2249145376.py:11: DtypeWarning: Columns (4,11) have mixed types. Specify dtype option on import or set low_memory=False.\n",
            "  df = pd.read_csv(file)\n"
          ]
        },
        {
          "name": "stdout",
          "output_type": "stream",
          "text": [
            "Loaded: dot2_0820.csv with 71551 rows\n",
            "Loaded: dot2_ytd_0820.csv with 562146 rows\n",
            "Loaded: dot3_0820.csv with 16648 rows\n",
            "Loaded: dot1_0920.csv with 26388 rows\n",
            "Loaded: dot1_ytd_0920.csv with 232029 rows\n"
          ]
        },
        {
          "name": "stderr",
          "output_type": "stream",
          "text": [
            "/tmp/ipython-input-2-2249145376.py:11: DtypeWarning: Columns (4,11) have mixed types. Specify dtype option on import or set low_memory=False.\n",
            "  df = pd.read_csv(file)\n"
          ]
        },
        {
          "name": "stdout",
          "output_type": "stream",
          "text": [
            "Loaded: dot2_0920.csv with 72735 rows\n",
            "Loaded: dot2_ytd_0920.csv with 634881 rows\n",
            "Loaded: dot3_0920.csv with 16902 rows\n",
            "Loaded: dot3_ytd_0920.csv with 148522 rows\n",
            "Successfully merged 54 files into a single DataFrame with 6104767 rows.\n",
            "Merged file saved to: /content/drive/MyDrive/Azubi_TMP/TransBorder_Analysis_Project/Dataset/All_Months_2020/merged_data_2020.csv\n"
          ]
        }
      ],
      "source": [
        "# Define the path to your data folder\n",
        "data_folder_2020 = '/content/drive/MyDrive/Azubi_TMP/TransBorder_Analysis_Project/Dataset/All_Months_2020/'\n",
        "data_2020 = glob.glob(os.path.join(data_folder_2020, \"*.csv\"))\n",
        "\n",
        "# Read and combine all CSV files in 2020 folder\n",
        "df_2020 = []\n",
        "\n",
        "for file in data_2020:\n",
        "    try:\n",
        "        df = pd.read_csv(file)\n",
        "        df_2020.append(df)\n",
        "        print(f\"Loaded: {os.path.basename(file)} with {len(df)} rows\")\n",
        "    except Exception as e:\n",
        "        print(f\"Error loading {file}: {e}\")\n",
        "\n",
        "# Concatenate all DataFrames into one\n",
        "combined_df = pd.concat(df_2020, ignore_index=True)\n",
        "print(f\"Successfully merged {len(df_2020)} files into a single DataFrame with {len(combined_df)} rows.\")\n",
        "\n",
        "# Save the combined data\n",
        "output_path = os.path.join('/content/drive/MyDrive/Azubi_TMP/TransBorder_Analysis_Project/Dataset/', \"merged_data_2020.csv\")\n",
        "combined_df.to_csv(output_path, index=False)\n",
        "print(f\"Merged file saved to: {output_path}\")\n"
      ]
    },
    {
      "cell_type": "markdown",
      "metadata": {
        "id": "pS1HvQ9nskg7",
        "jp-MarkdownHeadingCollapsed": true
      },
      "source": [
        "### **Merge and Save all 2021 CSVs**"
      ]
    },
    {
      "cell_type": "code",
      "execution_count": null,
      "metadata": {
        "colab": {
          "base_uri": "https://localhost:8080/"
        },
        "collapsed": true,
        "id": "o2dLoZdFmpJb",
        "jupyter": {
          "outputs_hidden": true
        },
        "outputId": "032a2187-953b-44bc-9b06-e1c80828eff5"
      },
      "outputs": [
        {
          "name": "stdout",
          "output_type": "stream",
          "text": [
            "Loaded: dot3_ytd_0121.csv with 16597 rows\n",
            "Loaded: dot1_0121.csv with 25968 rows\n",
            "Loaded: dot1_ytd_0121.csv with 25968 rows\n"
          ]
        },
        {
          "name": "stderr",
          "output_type": "stream",
          "text": [
            "/tmp/ipython-input-4-2477998144.py:10: DtypeWarning: Columns (4,11) have mixed types. Specify dtype option on import or set low_memory=False.\n",
            "  df = pd.read_csv(file)\n"
          ]
        },
        {
          "name": "stdout",
          "output_type": "stream",
          "text": [
            "Loaded: dot2_0121.csv with 72051 rows\n"
          ]
        },
        {
          "name": "stderr",
          "output_type": "stream",
          "text": [
            "/tmp/ipython-input-4-2477998144.py:10: DtypeWarning: Columns (4,11) have mixed types. Specify dtype option on import or set low_memory=False.\n",
            "  df = pd.read_csv(file)\n"
          ]
        },
        {
          "name": "stdout",
          "output_type": "stream",
          "text": [
            "Loaded: dot2_ytd_0121.csv with 72051 rows\n",
            "Loaded: dot3_0121.csv with 16597 rows\n",
            "Loaded: dot1_0221.csv with 25895 rows\n",
            "Loaded: dot1_ytd_0221.csv with 51863 rows\n"
          ]
        },
        {
          "name": "stderr",
          "output_type": "stream",
          "text": [
            "/tmp/ipython-input-4-2477998144.py:10: DtypeWarning: Columns (4,11) have mixed types. Specify dtype option on import or set low_memory=False.\n",
            "  df = pd.read_csv(file)\n"
          ]
        },
        {
          "name": "stdout",
          "output_type": "stream",
          "text": [
            "Loaded: dot2_0221.csv with 71396 rows\n"
          ]
        },
        {
          "name": "stderr",
          "output_type": "stream",
          "text": [
            "/tmp/ipython-input-4-2477998144.py:10: DtypeWarning: Columns (4,11) have mixed types. Specify dtype option on import or set low_memory=False.\n",
            "  df = pd.read_csv(file)\n"
          ]
        },
        {
          "name": "stdout",
          "output_type": "stream",
          "text": [
            "Loaded: dot2_ytd_0221.csv with 143447 rows\n",
            "Loaded: dot3_0221.csv with 16628 rows\n",
            "Loaded: dot3_ytd_0221.csv with 33225 rows\n",
            "Loaded: dot3_ytd_0321.csv with 50900 rows\n",
            "Loaded: dot1_0321.csv with 28003 rows\n",
            "Loaded: dot1_ytd_0321.csv with 79866 rows\n"
          ]
        },
        {
          "name": "stderr",
          "output_type": "stream",
          "text": [
            "/tmp/ipython-input-4-2477998144.py:10: DtypeWarning: Columns (4,11) have mixed types. Specify dtype option on import or set low_memory=False.\n",
            "  df = pd.read_csv(file)\n"
          ]
        },
        {
          "name": "stdout",
          "output_type": "stream",
          "text": [
            "Loaded: dot2_0321.csv with 77747 rows\n",
            "Loaded: dot2_ytd_0321.csv with 221194 rows\n",
            "Loaded: dot3_0321.csv with 17675 rows\n",
            "Loaded: dot1_0421.csv with 27475 rows\n",
            "Loaded: dot1_ytd_0421.csv with 107341 rows\n"
          ]
        },
        {
          "name": "stderr",
          "output_type": "stream",
          "text": [
            "/tmp/ipython-input-4-2477998144.py:10: DtypeWarning: Columns (4,11) have mixed types. Specify dtype option on import or set low_memory=False.\n",
            "  df = pd.read_csv(file)\n"
          ]
        },
        {
          "name": "stdout",
          "output_type": "stream",
          "text": [
            "Loaded: dot2_0421.csv with 76057 rows\n",
            "Loaded: dot2_ytd_0421.csv with 297251 rows\n",
            "Loaded: dot3_0421.csv with 17472 rows\n"
          ]
        },
        {
          "name": "stderr",
          "output_type": "stream",
          "text": [
            "/tmp/ipython-input-4-2477998144.py:10: DtypeWarning: Columns (9) have mixed types. Specify dtype option on import or set low_memory=False.\n",
            "  df = pd.read_csv(file)\n"
          ]
        },
        {
          "name": "stdout",
          "output_type": "stream",
          "text": [
            "Loaded: dot3_ytd_0421.csv with 68372 rows\n",
            "Loaded: dot1_0521.csv with 27492 rows\n",
            "Loaded: dot1_ytd_0521.csv with 134833 rows\n",
            "Loaded: dot2_0521.csv with 75501 rows\n",
            "Loaded: dot2_ytd_0521.csv with 372752 rows\n",
            "Loaded: dot3_0521.csv with 17439 rows\n",
            "Loaded: dot3_ytd_0521.csv with 85811 rows\n",
            "Loaded: dot1_ytd_0621.csv with 162567 rows\n",
            "Loaded: dot2_ytd_0621.csv with 449125 rows\n",
            "Loaded: dot3_ytd_0621.csv with 103315 rows\n",
            "Loaded: dot3_0621.csv with 17504 rows\n",
            "Loaded: dot1_0621.csv with 27734 rows\n"
          ]
        },
        {
          "name": "stderr",
          "output_type": "stream",
          "text": [
            "/tmp/ipython-input-4-2477998144.py:10: DtypeWarning: Columns (4,11) have mixed types. Specify dtype option on import or set low_memory=False.\n",
            "  df = pd.read_csv(file)\n"
          ]
        },
        {
          "name": "stdout",
          "output_type": "stream",
          "text": [
            "Loaded: dot2_0621.csv with 76373 rows\n",
            "Loaded: dot1_0721.csv with 27550 rows\n",
            "Loaded: dot1_ytd_0721.csv with 190117 rows\n"
          ]
        },
        {
          "name": "stderr",
          "output_type": "stream",
          "text": [
            "/tmp/ipython-input-4-2477998144.py:10: DtypeWarning: Columns (4,11) have mixed types. Specify dtype option on import or set low_memory=False.\n",
            "  df = pd.read_csv(file)\n"
          ]
        },
        {
          "name": "stdout",
          "output_type": "stream",
          "text": [
            "Loaded: dot2_0721.csv with 75458 rows\n"
          ]
        },
        {
          "name": "stderr",
          "output_type": "stream",
          "text": [
            "/tmp/ipython-input-4-2477998144.py:10: DtypeWarning: Columns (4,11) have mixed types. Specify dtype option on import or set low_memory=False.\n",
            "  df = pd.read_csv(file)\n"
          ]
        },
        {
          "name": "stdout",
          "output_type": "stream",
          "text": [
            "Loaded: dot2_ytd_0721.csv with 524583 rows\n",
            "Loaded: dot3_0721.csv with 17466 rows\n",
            "Loaded: dot3_ytd_0721.csv with 120781 rows\n",
            "Loaded: dot1_0821.csv with 27606 rows\n",
            "Loaded: dot1_ytd_0821.csv with 217723 rows\n"
          ]
        },
        {
          "name": "stderr",
          "output_type": "stream",
          "text": [
            "/tmp/ipython-input-4-2477998144.py:10: DtypeWarning: Columns (4,11) have mixed types. Specify dtype option on import or set low_memory=False.\n",
            "  df = pd.read_csv(file)\n"
          ]
        },
        {
          "name": "stdout",
          "output_type": "stream",
          "text": [
            "Loaded: dot2_0821.csv with 75698 rows\n"
          ]
        },
        {
          "name": "stderr",
          "output_type": "stream",
          "text": [
            "/tmp/ipython-input-4-2477998144.py:10: DtypeWarning: Columns (4,11) have mixed types. Specify dtype option on import or set low_memory=False.\n",
            "  df = pd.read_csv(file)\n"
          ]
        },
        {
          "name": "stdout",
          "output_type": "stream",
          "text": [
            "Loaded: dot2_ytd_0821.csv with 600281 rows\n",
            "Loaded: dot3_0821.csv with 17461 rows\n",
            "Loaded: dot3_ytd_0821.csv with 138242 rows\n",
            "Loaded: dot3_ytd_0921.csv with 155673 rows\n",
            "Loaded: dot1_0921.csv with 27343 rows\n",
            "Loaded: dot1_ytd_0921.csv with 245066 rows\n"
          ]
        },
        {
          "name": "stderr",
          "output_type": "stream",
          "text": [
            "/tmp/ipython-input-4-2477998144.py:10: DtypeWarning: Columns (4,11) have mixed types. Specify dtype option on import or set low_memory=False.\n",
            "  df = pd.read_csv(file)\n"
          ]
        },
        {
          "name": "stdout",
          "output_type": "stream",
          "text": [
            "Loaded: dot2_0921.csv with 75358 rows\n"
          ]
        },
        {
          "name": "stderr",
          "output_type": "stream",
          "text": [
            "/tmp/ipython-input-4-2477998144.py:10: DtypeWarning: Columns (4,11) have mixed types. Specify dtype option on import or set low_memory=False.\n",
            "  df = pd.read_csv(file)\n"
          ]
        },
        {
          "name": "stdout",
          "output_type": "stream",
          "text": [
            "Loaded: dot2_ytd_0921.csv with 675639 rows\n",
            "Loaded: dot3_0921.csv with 17431 rows\n",
            "Loaded: dot1_1021.csv with 27876 rows\n",
            "Loaded: dot1_ytd_1021.csv with 272942 rows\n"
          ]
        },
        {
          "name": "stderr",
          "output_type": "stream",
          "text": [
            "/tmp/ipython-input-4-2477998144.py:10: DtypeWarning: Columns (4,11) have mixed types. Specify dtype option on import or set low_memory=False.\n",
            "  df = pd.read_csv(file)\n"
          ]
        },
        {
          "name": "stdout",
          "output_type": "stream",
          "text": [
            "Loaded: dot2_1021.csv with 76652 rows\n",
            "Loaded: dot2_ytd_1021.csv with 752291 rows\n",
            "Loaded: dot3_1021.csv with 17487 rows\n",
            "Loaded: dot3_ytd_1021.csv with 173160 rows\n",
            "Loaded: dot3_ytd_1121.csv with 190604 rows\n",
            "Loaded: dot1_1121.csv with 27544 rows\n",
            "Loaded: dot1_ytd_1121.csv with 300486 rows\n"
          ]
        },
        {
          "name": "stderr",
          "output_type": "stream",
          "text": [
            "/tmp/ipython-input-4-2477998144.py:10: DtypeWarning: Columns (4,11) have mixed types. Specify dtype option on import or set low_memory=False.\n",
            "  df = pd.read_csv(file)\n"
          ]
        },
        {
          "name": "stdout",
          "output_type": "stream",
          "text": [
            "Loaded: dot2_1121.csv with 75689 rows\n",
            "Loaded: dot2_ytd_1121.csv with 827980 rows\n",
            "Loaded: dot3_1121.csv with 17444 rows\n",
            "Loaded: dot1_1221.csv with 27098 rows\n",
            "Loaded: dot1_2021.csv with 59407 rows\n",
            "Loaded: dot1_ytd_1221.csv with 327584 rows\n"
          ]
        },
        {
          "name": "stderr",
          "output_type": "stream",
          "text": [
            "/tmp/ipython-input-4-2477998144.py:10: DtypeWarning: Columns (4,11) have mixed types. Specify dtype option on import or set low_memory=False.\n",
            "  df = pd.read_csv(file)\n"
          ]
        },
        {
          "name": "stdout",
          "output_type": "stream",
          "text": [
            "Loaded: dot2_1221.csv with 74636 rows\n"
          ]
        },
        {
          "name": "stderr",
          "output_type": "stream",
          "text": [
            "/tmp/ipython-input-4-2477998144.py:10: DtypeWarning: Columns (4,8) have mixed types. Specify dtype option on import or set low_memory=False.\n",
            "  df = pd.read_csv(file)\n"
          ]
        },
        {
          "name": "stdout",
          "output_type": "stream",
          "text": [
            "Loaded: dot2_2021.csv with 152131 rows\n",
            "Loaded: dot2_ytd_1221.csv with 902616 rows\n",
            "Loaded: dot3_1221.csv with 17174 rows\n",
            "Loaded: dot3_2021.csv with 33258 rows\n",
            "Loaded: dot3_ytd_1221.csv with 207778 rows\n",
            "Successfully merged 75 files into a single DataFrame with 10982798 rows.\n",
            "Merged file saved to: /content/drive/MyDrive/Azubi_TMP/TransBorder_Analysis_Project/Dataset/merged_data_2021.csv\n"
          ]
        }
      ],
      "source": [
        "# Define the path to your data folder\n",
        "data_folder_2021 = '/content/drive/MyDrive/Azubi_TMP/TransBorder_Analysis_Project/Dataset/All_Months_2021/'\n",
        "data_2021 = glob.glob(os.path.join(data_folder_2021, \"*.csv\"))\n",
        "\n",
        "# Read and combine all CSV files in 2021 folder\n",
        "df_2021 = []\n",
        "\n",
        "for file in data_2021:\n",
        "    try:\n",
        "        df = pd.read_csv(file)\n",
        "        df_2021.append(df)\n",
        "        print(f\"Loaded: {os.path.basename(file)} with {len(df)} rows\")\n",
        "    except Exception as e:\n",
        "        print(f\"Error loading {file}: {e}\")\n",
        "\n",
        "# Concatenate all DataFrames into one\n",
        "combined_df = pd.concat(df_2021, ignore_index=True)\n",
        "print(f\"Successfully merged {len(df_2021)} files into a single DataFrame with {len(combined_df)} rows.\")\n",
        "\n",
        "# Save the combined data\n",
        "output_path = os.path.join('/content/drive/MyDrive/Azubi_TMP/TransBorder_Analysis_Project/Dataset/', \"merged_data_2021.csv\")\n",
        "combined_df.to_csv(output_path, index=False)\n",
        "print(f\"Merged file saved to: {output_path}\")"
      ]
    },
    {
      "cell_type": "markdown",
      "metadata": {
        "id": "yzdPbFjksmbK",
        "jp-MarkdownHeadingCollapsed": true
      },
      "source": [
        "### **Merge and Save all 2022 CSVs**"
      ]
    },
    {
      "cell_type": "code",
      "execution_count": null,
      "metadata": {
        "colab": {
          "base_uri": "https://localhost:8080/"
        },
        "collapsed": true,
        "id": "Vz7HRMNypgFD",
        "jupyter": {
          "outputs_hidden": true
        },
        "outputId": "6e85f8a8-1d20-4a76-94cd-85614b938bf3"
      },
      "outputs": [
        {
          "name": "stdout",
          "output_type": "stream",
          "text": [
            "Loaded: dot3_ytd_0122.csv with 16673 rows\n",
            "Loaded: dot1_0122.csv with 26614 rows\n",
            "Loaded: dot1_ytd_0122.csv with 26614 rows\n"
          ]
        },
        {
          "name": "stderr",
          "output_type": "stream",
          "text": [
            "/tmp/ipython-input-5-4091811327.py:10: DtypeWarning: Columns (4,11) have mixed types. Specify dtype option on import or set low_memory=False.\n",
            "  df = pd.read_csv(file)\n"
          ]
        },
        {
          "name": "stdout",
          "output_type": "stream",
          "text": [
            "Loaded: dot2_0122.csv with 72636 rows\n"
          ]
        },
        {
          "name": "stderr",
          "output_type": "stream",
          "text": [
            "/tmp/ipython-input-5-4091811327.py:10: DtypeWarning: Columns (4,11) have mixed types. Specify dtype option on import or set low_memory=False.\n",
            "  df = pd.read_csv(file)\n"
          ]
        },
        {
          "name": "stdout",
          "output_type": "stream",
          "text": [
            "Loaded: dot2_ytd_0122.csv with 72636 rows\n",
            "Loaded: dot3_0122.csv with 16673 rows\n",
            "Loaded: dot3_ytd_0222.csv with 34187 rows\n",
            "Loaded: dot1_0222.csv with 28122 rows\n",
            "Loaded: dot1_ytd_0222.csv with 54736 rows\n",
            "Loaded: dot2_0222.csv with 74397 rows\n"
          ]
        },
        {
          "name": "stderr",
          "output_type": "stream",
          "text": [
            "/tmp/ipython-input-5-4091811327.py:10: DtypeWarning: Columns (4,11) have mixed types. Specify dtype option on import or set low_memory=False.\n",
            "  df = pd.read_csv(file)\n"
          ]
        },
        {
          "name": "stdout",
          "output_type": "stream",
          "text": [
            "Loaded: dot2_ytd_0222.csv with 147033 rows\n",
            "Loaded: dot3_0222.csv with 17514 rows\n",
            "Loaded: dot1_ytd_0322.csv with 83859 rows\n"
          ]
        },
        {
          "name": "stderr",
          "output_type": "stream",
          "text": [
            "/tmp/ipython-input-5-4091811327.py:10: DtypeWarning: Columns (4,11) have mixed types. Specify dtype option on import or set low_memory=False.\n",
            "  df = pd.read_csv(file)\n"
          ]
        },
        {
          "name": "stdout",
          "output_type": "stream",
          "text": [
            "Loaded: dot2_0322.csv with 79877 rows\n",
            "Loaded: dot2_ytd_0322.csv with 226910 rows\n",
            "Loaded: dot3_0322.csv with 18060 rows\n",
            "Loaded: dot3_ytd_0322.csv with 52247 rows\n",
            "Loaded: dot1_0322.csv with 29123 rows\n"
          ]
        },
        {
          "name": "stderr",
          "output_type": "stream",
          "text": [
            "/tmp/ipython-input-5-4091811327.py:10: DtypeWarning: Columns (9) have mixed types. Specify dtype option on import or set low_memory=False.\n",
            "  df = pd.read_csv(file)\n"
          ]
        },
        {
          "name": "stdout",
          "output_type": "stream",
          "text": [
            "Loaded: dot3_ytd_0422.csv with 70280 rows\n",
            "Loaded: dot1_0422.csv with 28377 rows\n",
            "Loaded: dot1_ytd_0422.csv with 112236 rows\n"
          ]
        },
        {
          "name": "stderr",
          "output_type": "stream",
          "text": [
            "/tmp/ipython-input-5-4091811327.py:10: DtypeWarning: Columns (4,11) have mixed types. Specify dtype option on import or set low_memory=False.\n",
            "  df = pd.read_csv(file)\n"
          ]
        },
        {
          "name": "stdout",
          "output_type": "stream",
          "text": [
            "Loaded: dot2_0422.csv with 78427 rows\n",
            "Loaded: dot2_ytd_0422.csv with 305337 rows\n",
            "Loaded: dot3_0422.csv with 18033 rows\n",
            "Loaded: dot3_ytd_0522.csv with 88013 rows\n",
            "Loaded: dot1_0522.csv with 28568 rows\n"
          ]
        },
        {
          "name": "stderr",
          "output_type": "stream",
          "text": [
            "/tmp/ipython-input-5-4091811327.py:10: DtypeWarning: Columns (4,11) have mixed types. Specify dtype option on import or set low_memory=False.\n",
            "  df = pd.read_csv(file)\n"
          ]
        },
        {
          "name": "stdout",
          "output_type": "stream",
          "text": [
            "Loaded: dot1_ytd_0522.csv with 140804 rows\n"
          ]
        },
        {
          "name": "stderr",
          "output_type": "stream",
          "text": [
            "/tmp/ipython-input-5-4091811327.py:10: DtypeWarning: Columns (4,11) have mixed types. Specify dtype option on import or set low_memory=False.\n",
            "  df = pd.read_csv(file)\n"
          ]
        },
        {
          "name": "stdout",
          "output_type": "stream",
          "text": [
            "Loaded: dot2_0522.csv with 78464 rows\n",
            "Loaded: dot2_ytd_0522.csv with 383801 rows\n",
            "Loaded: dot3_0522.csv with 17733 rows\n",
            "Loaded: dot3_ytd_0622.csv with 105742 rows\n",
            "Loaded: dot1_0622.csv with 28547 rows\n",
            "Loaded: dot1_ytd_0622.csv with 169351 rows\n"
          ]
        },
        {
          "name": "stderr",
          "output_type": "stream",
          "text": [
            "/tmp/ipython-input-5-4091811327.py:10: DtypeWarning: Columns (4,11) have mixed types. Specify dtype option on import or set low_memory=False.\n",
            "  df = pd.read_csv(file)\n"
          ]
        },
        {
          "name": "stdout",
          "output_type": "stream",
          "text": [
            "Loaded: dot2_0622.csv with 78532 rows\n"
          ]
        },
        {
          "name": "stderr",
          "output_type": "stream",
          "text": [
            "/tmp/ipython-input-5-4091811327.py:10: DtypeWarning: Columns (4,11) have mixed types. Specify dtype option on import or set low_memory=False.\n",
            "  df = pd.read_csv(file)\n"
          ]
        },
        {
          "name": "stdout",
          "output_type": "stream",
          "text": [
            "Loaded: dot2_ytd_0622.csv with 462333 rows\n",
            "Loaded: dot3_0622.csv with 17729 rows\n",
            "Loaded: dot3_ytd_0722.csv with 118261 rows\n",
            "Loaded: dot1_0722.csv with 27887 rows\n"
          ]
        },
        {
          "name": "stderr",
          "output_type": "stream",
          "text": [
            "/tmp/ipython-input-5-4091811327.py:10: DtypeWarning: Columns (4,11) have mixed types. Specify dtype option on import or set low_memory=False.\n",
            "  df = pd.read_csv(file)\n"
          ]
        },
        {
          "name": "stdout",
          "output_type": "stream",
          "text": [
            "Loaded: dot1_ytd_0722.csv with 197238 rows\n"
          ]
        },
        {
          "name": "stderr",
          "output_type": "stream",
          "text": [
            "/tmp/ipython-input-5-4091811327.py:10: DtypeWarning: Columns (4,11) have mixed types. Specify dtype option on import or set low_memory=False.\n",
            "  df = pd.read_csv(file)\n"
          ]
        },
        {
          "name": "stdout",
          "output_type": "stream",
          "text": [
            "Loaded: dot2_0722.csv with 76519 rows\n"
          ]
        },
        {
          "name": "stderr",
          "output_type": "stream",
          "text": [
            "/tmp/ipython-input-5-4091811327.py:10: DtypeWarning: Columns (4,11) have mixed types. Specify dtype option on import or set low_memory=False.\n",
            "  df = pd.read_csv(file)\n"
          ]
        },
        {
          "name": "stdout",
          "output_type": "stream",
          "text": [
            "Loaded: dot2_ytd_0722.csv with 538852 rows\n",
            "Loaded: dot3_0722.csv with 17404 rows\n",
            "Loaded: dot3_0822.csv with 17657 rows\n",
            "Loaded: dot1_ytd_0822.csv with 225730 rows\n"
          ]
        },
        {
          "name": "stderr",
          "output_type": "stream",
          "text": [
            "/tmp/ipython-input-5-4091811327.py:10: DtypeWarning: Columns (4,11) have mixed types. Specify dtype option on import or set low_memory=False.\n",
            "  df = pd.read_csv(file)\n"
          ]
        },
        {
          "name": "stdout",
          "output_type": "stream",
          "text": [
            "Loaded: dot2_0822.csv with 78282 rows\n",
            "Loaded: dot1_0822.csv with 28492 rows\n",
            "Loaded: dot2_ytd_0822.csv with 617134 rows\n",
            "Loaded: dot3_ytd_0822.csv with 140803 rows\n",
            "Loaded: dot1_0922.csv with 28306 rows\n"
          ]
        },
        {
          "name": "stderr",
          "output_type": "stream",
          "text": [
            "/tmp/ipython-input-5-4091811327.py:10: DtypeWarning: Columns (4,11) have mixed types. Specify dtype option on import or set low_memory=False.\n",
            "  df = pd.read_csv(file)\n"
          ]
        },
        {
          "name": "stdout",
          "output_type": "stream",
          "text": [
            "Loaded: dot2_0922.csv with 77181 rows\n",
            "Loaded: dot3_0922.csv with 17418 rows\n",
            "Loaded: dot2_ytd_0922.csv with 694315 rows\n",
            "Loaded: dot1_ytd_0922.csv with 254036 rows\n",
            "Loaded: dot3_ytd_0922.csv with 158221 rows\n",
            "Loaded: dot1_1022.csv with 28486 rows\n"
          ]
        },
        {
          "name": "stderr",
          "output_type": "stream",
          "text": [
            "/tmp/ipython-input-5-4091811327.py:10: DtypeWarning: Columns (4,11) have mixed types. Specify dtype option on import or set low_memory=False.\n",
            "  df = pd.read_csv(file)\n"
          ]
        },
        {
          "name": "stdout",
          "output_type": "stream",
          "text": [
            "Loaded: dot2_1022.csv with 77872 rows\n",
            "Loaded: dot1_ytd_1022.csv with 282522 rows\n",
            "Loaded: dot3_1022.csv with 17643 rows\n",
            "Loaded: dot3_ytd_1022.csv with 175864 rows\n",
            "Loaded: dot2_ytd_1022.csv with 772187 rows\n",
            "Loaded: dot3_1122.csv with 17327 rows\n"
          ]
        },
        {
          "name": "stderr",
          "output_type": "stream",
          "text": [
            "/tmp/ipython-input-5-4091811327.py:10: DtypeWarning: Columns (4,11) have mixed types. Specify dtype option on import or set low_memory=False.\n",
            "  df = pd.read_csv(file)\n"
          ]
        },
        {
          "name": "stdout",
          "output_type": "stream",
          "text": [
            "Loaded: dot2_1122.csv with 76597 rows\n",
            "Loaded: dot1_ytd_1122.csv with 310560 rows\n",
            "Loaded: dot1_1122.csv with 28038 rows\n",
            "Loaded: dot2_ytd_1122.csv with 848784 rows\n",
            "Loaded: dot3_ytd_1122.csv with 193191 rows\n",
            "Loaded: dot1_1222.csv with 27541 rows\n"
          ]
        },
        {
          "name": "stderr",
          "output_type": "stream",
          "text": [
            "/tmp/ipython-input-5-4091811327.py:10: DtypeWarning: Columns (4,11) have mixed types. Specify dtype option on import or set low_memory=False.\n",
            "  df = pd.read_csv(file)\n"
          ]
        },
        {
          "name": "stdout",
          "output_type": "stream",
          "text": [
            "Loaded: dot2_1222.csv with 74556 rows\n",
            "Loaded: dot3_1222.csv with 17165 rows\n",
            "Loaded: dot1_ytd_1222.csv with 338101 rows\n"
          ]
        },
        {
          "name": "stderr",
          "output_type": "stream",
          "text": [
            "/tmp/ipython-input-5-4091811327.py:10: DtypeWarning: Columns (4,11) have mixed types. Specify dtype option on import or set low_memory=False.\n",
            "  df = pd.read_csv(file)\n"
          ]
        },
        {
          "name": "stdout",
          "output_type": "stream",
          "text": [
            "Loaded: dot2_ytd_1222.csv with 923340 rows\n",
            "Loaded: dot3_ytd_1222.csv with 210356 rows\n",
            "Loaded: dot3_2022.csv with 33948 rows\n",
            "Loaded: dot1_2022.csv with 61719 rows\n"
          ]
        },
        {
          "name": "stderr",
          "output_type": "stream",
          "text": [
            "/tmp/ipython-input-5-4091811327.py:10: DtypeWarning: Columns (4,8) have mixed types. Specify dtype option on import or set low_memory=False.\n",
            "  df = pd.read_csv(file)\n"
          ]
        },
        {
          "name": "stdout",
          "output_type": "stream",
          "text": [
            "Loaded: dot2_2022.csv with 156199 rows\n",
            "Successfully merged 75 files into a single DataFrame with 11275950 rows.\n",
            "Merged file saved to: /content/drive/MyDrive/Azubi_TMP/TransBorder_Analysis_Project/Dataset/merged_data_2022.csv\n"
          ]
        }
      ],
      "source": [
        "# Define the path to your data folder\n",
        "data_folder_2022 = '/content/drive/MyDrive/Azubi_TMP/TransBorder_Analysis_Project/Dataset/All_Months_2022/'\n",
        "data_2022 = glob.glob(os.path.join(data_folder_2022, \"*.csv\"))\n",
        "\n",
        "# Read and combine all CSV files in 2022 folder\n",
        "df_2022 = []\n",
        "\n",
        "for file in data_2022:\n",
        "    try:\n",
        "        df = pd.read_csv(file)\n",
        "        df_2022.append(df)\n",
        "        print(f\"Loaded: {os.path.basename(file)} with {len(df)} rows\")\n",
        "    except Exception as e:\n",
        "        print(f\"Error loading {file}: {e}\")\n",
        "\n",
        "# Concatenate all DataFrames into one\n",
        "combined_df = pd.concat(df_2022, ignore_index=True)\n",
        "print(f\"Successfully merged {len(df_2022)} files into a single DataFrame with {len(combined_df)} rows.\")\n",
        "\n",
        "# Save the combined data\n",
        "output_path = os.path.join('/content/drive/MyDrive/Azubi_TMP/TransBorder_Analysis_Project/Dataset/', \"merged_data_2022.csv\")\n",
        "combined_df.to_csv(output_path, index=False)\n",
        "print(f\"Merged file saved to: {output_path}\")"
      ]
    },
    {
      "cell_type": "markdown",
      "metadata": {
        "id": "lswQ0OrQsus-",
        "jp-MarkdownHeadingCollapsed": true
      },
      "source": [
        "### **Merge and Save all 2023 CSVs**"
      ]
    },
    {
      "cell_type": "code",
      "execution_count": null,
      "metadata": {
        "colab": {
          "base_uri": "https://localhost:8080/"
        },
        "collapsed": true,
        "id": "RFPphBqVqs2r",
        "jupyter": {
          "outputs_hidden": true
        },
        "outputId": "1aceeaa5-60c5-49d9-9529-ea9258e75a66"
      },
      "outputs": [
        {
          "name": "stdout",
          "output_type": "stream",
          "text": [
            "Loaded: dot1_0123.csv with 27837 rows\n",
            "Loaded: dot3_0123.csv with 17179 rows\n",
            "Loaded: dot3_ytd_0123.csv with 17179 rows\n"
          ]
        },
        {
          "name": "stderr",
          "output_type": "stream",
          "text": [
            "/tmp/ipython-input-6-1769527231.py:10: DtypeWarning: Columns (4,11) have mixed types. Specify dtype option on import or set low_memory=False.\n",
            "  df = pd.read_csv(file)\n"
          ]
        },
        {
          "name": "stdout",
          "output_type": "stream",
          "text": [
            "Loaded: dot2_ytd_0123.csv with 75504 rows\n",
            "Loaded: dot1_ytd_0123.csv with 27837 rows\n"
          ]
        },
        {
          "name": "stderr",
          "output_type": "stream",
          "text": [
            "/tmp/ipython-input-6-1769527231.py:10: DtypeWarning: Columns (4,11) have mixed types. Specify dtype option on import or set low_memory=False.\n",
            "  df = pd.read_csv(file)\n"
          ]
        },
        {
          "name": "stdout",
          "output_type": "stream",
          "text": [
            "Loaded: dot2_0123.csv with 75504 rows\n"
          ]
        },
        {
          "name": "stderr",
          "output_type": "stream",
          "text": [
            "/tmp/ipython-input-6-1769527231.py:10: DtypeWarning: Columns (4,11) have mixed types. Specify dtype option on import or set low_memory=False.\n",
            "  df = pd.read_csv(file)\n"
          ]
        },
        {
          "name": "stdout",
          "output_type": "stream",
          "text": [
            "Loaded: dot2_0223.csv with 75564 rows\n",
            "Loaded: dot1_0223.csv with 27646 rows\n",
            "Loaded: dot3_0223.csv with 17000 rows\n"
          ]
        },
        {
          "name": "stderr",
          "output_type": "stream",
          "text": [
            "/tmp/ipython-input-6-1769527231.py:10: DtypeWarning: Columns (4,11) have mixed types. Specify dtype option on import or set low_memory=False.\n",
            "  df = pd.read_csv(file)\n"
          ]
        },
        {
          "name": "stdout",
          "output_type": "stream",
          "text": [
            "Loaded: dot2_ytd_0223.csv with 151068 rows\n",
            "Loaded: dot3_ytd_0223.csv with 34179 rows\n",
            "Loaded: dot1_ytd_0223.csv with 55483 rows\n",
            "Loaded: dot1_0323.csv with 29100 rows\n"
          ]
        },
        {
          "name": "stderr",
          "output_type": "stream",
          "text": [
            "/tmp/ipython-input-6-1769527231.py:10: DtypeWarning: Columns (4,11) have mixed types. Specify dtype option on import or set low_memory=False.\n",
            "  df = pd.read_csv(file)\n"
          ]
        },
        {
          "name": "stdout",
          "output_type": "stream",
          "text": [
            "Loaded: dot2_0323.csv with 80305 rows\n",
            "Loaded: dot3_0323.csv with 17857 rows\n",
            "Loaded: dot3_ytd_0323.csv with 52036 rows\n",
            "Loaded: dot1_ytd_0323.csv with 84583 rows\n",
            "Loaded: dot2_ytd_0323.csv with 231373 rows\n",
            "Loaded: dot1_0423.csv with 28044 rows\n"
          ]
        },
        {
          "name": "stderr",
          "output_type": "stream",
          "text": [
            "/tmp/ipython-input-6-1769527231.py:10: DtypeWarning: Columns (4,11) have mixed types. Specify dtype option on import or set low_memory=False.\n",
            "  df = pd.read_csv(file)\n"
          ]
        },
        {
          "name": "stdout",
          "output_type": "stream",
          "text": [
            "Loaded: dot2_0423.csv with 77386 rows\n",
            "Loaded: dot1_ytd_0423.csv with 112627 rows\n",
            "Loaded: dot3_0423.csv with 17464 rows\n",
            "Loaded: dot2_ytd_0423.csv with 308759 rows\n"
          ]
        },
        {
          "name": "stderr",
          "output_type": "stream",
          "text": [
            "/tmp/ipython-input-6-1769527231.py:10: DtypeWarning: Columns (9) have mixed types. Specify dtype option on import or set low_memory=False.\n",
            "  df = pd.read_csv(file)\n"
          ]
        },
        {
          "name": "stdout",
          "output_type": "stream",
          "text": [
            "Loaded: dot3_ytd_0423.csv with 69500 rows\n",
            "Loaded: dot1_0523.csv with 28977 rows\n",
            "Loaded: dot3_0523.csv with 17863 rows\n"
          ]
        },
        {
          "name": "stderr",
          "output_type": "stream",
          "text": [
            "/tmp/ipython-input-6-1769527231.py:10: DtypeWarning: Columns (4,11) have mixed types. Specify dtype option on import or set low_memory=False.\n",
            "  df = pd.read_csv(file)\n"
          ]
        },
        {
          "name": "stdout",
          "output_type": "stream",
          "text": [
            "Loaded: dot2_0523.csv with 79084 rows\n"
          ]
        },
        {
          "name": "stderr",
          "output_type": "stream",
          "text": [
            "/tmp/ipython-input-6-1769527231.py:10: DtypeWarning: Columns (4,11) have mixed types. Specify dtype option on import or set low_memory=False.\n",
            "  df = pd.read_csv(file)\n"
          ]
        },
        {
          "name": "stdout",
          "output_type": "stream",
          "text": [
            "Loaded: dot1_ytd_0523.csv with 141604 rows\n",
            "Loaded: dot2_ytd_0523.csv with 387843 rows\n",
            "Loaded: dot3_ytd_0523.csv with 87363 rows\n",
            "Loaded: dot1_ytd_0623.csv with 170568 rows\n"
          ]
        },
        {
          "name": "stderr",
          "output_type": "stream",
          "text": [
            "/tmp/ipython-input-6-1769527231.py:10: DtypeWarning: Columns (4,11) have mixed types. Specify dtype option on import or set low_memory=False.\n",
            "  df = pd.read_csv(file)\n"
          ]
        },
        {
          "name": "stdout",
          "output_type": "stream",
          "text": [
            "Loaded: dot2_0623.csv with 79048 rows\n",
            "Loaded: dot1_0623.csv with 28964 rows\n",
            "Loaded: dot3_0623.csv with 17769 rows\n"
          ]
        },
        {
          "name": "stderr",
          "output_type": "stream",
          "text": [
            "/tmp/ipython-input-6-1769527231.py:10: DtypeWarning: Columns (4,11) have mixed types. Specify dtype option on import or set low_memory=False.\n",
            "  df = pd.read_csv(file)\n"
          ]
        },
        {
          "name": "stdout",
          "output_type": "stream",
          "text": [
            "Loaded: dot2_ytd_0623.csv with 466891 rows\n",
            "Loaded: dot3_ytd_0623.csv with 105132 rows\n"
          ]
        },
        {
          "name": "stderr",
          "output_type": "stream",
          "text": [
            "/tmp/ipython-input-6-1769527231.py:10: DtypeWarning: Columns (4,11) have mixed types. Specify dtype option on import or set low_memory=False.\n",
            "  df = pd.read_csv(file)\n"
          ]
        },
        {
          "name": "stdout",
          "output_type": "stream",
          "text": [
            "Loaded: dot1_ytd_0723.csv with 198971 rows\n",
            "Loaded: dot3_0723.csv with 17456 rows\n",
            "Loaded: dot1_0723.csv with 28403 rows\n"
          ]
        },
        {
          "name": "stderr",
          "output_type": "stream",
          "text": [
            "/tmp/ipython-input-6-1769527231.py:10: DtypeWarning: Columns (4,11) have mixed types. Specify dtype option on import or set low_memory=False.\n",
            "  df = pd.read_csv(file)\n"
          ]
        },
        {
          "name": "stdout",
          "output_type": "stream",
          "text": [
            "Loaded: dot2_0723.csv with 77008 rows\n"
          ]
        },
        {
          "name": "stderr",
          "output_type": "stream",
          "text": [
            "/tmp/ipython-input-6-1769527231.py:10: DtypeWarning: Columns (4,11) have mixed types. Specify dtype option on import or set low_memory=False.\n",
            "  df = pd.read_csv(file)\n"
          ]
        },
        {
          "name": "stdout",
          "output_type": "stream",
          "text": [
            "Loaded: dot2_ytd_0723.csv with 543899 rows\n",
            "Loaded: dot3_ytd_0723.csv with 122588 rows\n",
            "Loaded: dot1_ytd_0823.csv with 227784 rows\n",
            "Loaded: dot3_0823.csv with 17531 rows\n"
          ]
        },
        {
          "name": "stderr",
          "output_type": "stream",
          "text": [
            "/tmp/ipython-input-6-1769527231.py:10: DtypeWarning: Columns (4,11) have mixed types. Specify dtype option on import or set low_memory=False.\n",
            "  df = pd.read_csv(file)\n"
          ]
        },
        {
          "name": "stdout",
          "output_type": "stream",
          "text": [
            "Loaded: dot2_0823.csv with 78905 rows\n",
            "Loaded: dot1_0823.csv with 28813 rows\n",
            "Loaded: dot2_ytd_0823.csv with 622804 rows\n",
            "Loaded: dot3_ytd_0823.csv with 140119 rows\n",
            "Loaded: dot1_0923.csv with 28367 rows\n",
            "Loaded: dot2_0923.csv with 77678 rows\n",
            "Loaded: dot3_0923.csv with 17500 rows\n",
            "Loaded: dot3_1023.csv with 17663 rows\n"
          ]
        },
        {
          "name": "stderr",
          "output_type": "stream",
          "text": [
            "/tmp/ipython-input-6-1769527231.py:10: DtypeWarning: Columns (4,11) have mixed types. Specify dtype option on import or set low_memory=False.\n",
            "  df = pd.read_csv(file)\n"
          ]
        },
        {
          "name": "stdout",
          "output_type": "stream",
          "text": [
            "Loaded: dot2_1023.csv with 78772 rows\n",
            "Loaded: dot1_1023.csv with 28848 rows\n",
            "Loaded: dot1_1123.csv with 28675 rows\n",
            "Loaded: dot3_1123.csv with 17339 rows\n"
          ]
        },
        {
          "name": "stderr",
          "output_type": "stream",
          "text": [
            "/tmp/ipython-input-6-1769527231.py:10: DtypeWarning: Columns (4,11) have mixed types. Specify dtype option on import or set low_memory=False.\n",
            "  df = pd.read_csv(file)\n"
          ]
        },
        {
          "name": "stdout",
          "output_type": "stream",
          "text": [
            "Loaded: dot2_1123.csv with 77774 rows\n",
            "Loaded: dot1_1223.csv with 27994 rows\n"
          ]
        },
        {
          "name": "stderr",
          "output_type": "stream",
          "text": [
            "/tmp/ipython-input-6-1769527231.py:10: DtypeWarning: Columns (4,11) have mixed types. Specify dtype option on import or set low_memory=False.\n",
            "  df = pd.read_csv(file)\n"
          ]
        },
        {
          "name": "stdout",
          "output_type": "stream",
          "text": [
            "Loaded: dot2_1223.csv with 75316 rows\n",
            "Loaded: dot3_1223.csv with 16842 rows\n",
            "Successfully merged 60 files into a single DataFrame with 5919169 rows.\n",
            "Merged file saved to: /content/drive/MyDrive/Azubi_TMP/TransBorder_Analysis_Project/Dataset/merged_data_2023.csv\n"
          ]
        }
      ],
      "source": [
        "# Define the path to your data folder\n",
        "data_folder_2023 = '/content/drive/MyDrive/Azubi_TMP/TransBorder_Analysis_Project/Dataset/All_Months_2023/'\n",
        "data_2023 = glob.glob(os.path.join(data_folder_2023, \"*.csv\"))\n",
        "\n",
        "# Read and combine all CSV files in 2023 folder\n",
        "df_2023 = []\n",
        "\n",
        "for file in data_2023:\n",
        "    try:\n",
        "        df = pd.read_csv(file)\n",
        "        df_2023.append(df)\n",
        "        print(f\"Loaded: {os.path.basename(file)} with {len(df)} rows\")\n",
        "    except Exception as e:\n",
        "        print(f\"Error loading {file}: {e}\")\n",
        "\n",
        "# Concatenate all DataFrames into one\n",
        "combined_df = pd.concat(df_2023, ignore_index=True)\n",
        "print(f\"Successfully merged {len(df_2023)} files into a single DataFrame with {len(combined_df)} rows.\")\n",
        "\n",
        "# Save the combined data\n",
        "output_path = os.path.join('/content/drive/MyDrive/Azubi_TMP/TransBorder_Analysis_Project/Dataset/', \"merged_data_2023.csv\")\n",
        "combined_df.to_csv(output_path, index=False)\n",
        "print(f\"Merged file saved to: {output_path}\")"
      ]
    },
    {
      "cell_type": "markdown",
      "metadata": {
        "id": "qes8Eyuksy8y",
        "jp-MarkdownHeadingCollapsed": true
      },
      "source": [
        "### **Merge and Save all 2024 CSVs**"
      ]
    },
    {
      "cell_type": "code",
      "execution_count": null,
      "metadata": {
        "colab": {
          "base_uri": "https://localhost:8080/"
        },
        "collapsed": true,
        "id": "ZEx53C6kr2Rs",
        "jupyter": {
          "outputs_hidden": true
        },
        "outputId": "28de6bd7-8c08-4844-972e-fe816e03d590"
      },
      "outputs": [
        {
          "name": "stdout",
          "output_type": "stream",
          "text": [
            "Loaded: dot3_0124.csv with 16820 rows\n"
          ]
        },
        {
          "name": "stderr",
          "output_type": "stream",
          "text": [
            "/tmp/ipython-input-7-4168835109.py:10: DtypeWarning: Columns (4,11) have mixed types. Specify dtype option on import or set low_memory=False.\n",
            "  df = pd.read_csv(file)\n"
          ]
        },
        {
          "name": "stdout",
          "output_type": "stream",
          "text": [
            "Loaded: dot2_0124.csv with 76041 rows\n",
            "Loaded: dot1_0124.csv with 28060 rows\n",
            "Loaded: dot1_0224.csv with 28739 rows\n",
            "Loaded: dot3_0224.csv with 17334 rows\n"
          ]
        },
        {
          "name": "stderr",
          "output_type": "stream",
          "text": [
            "/tmp/ipython-input-7-4168835109.py:10: DtypeWarning: Columns (4,11) have mixed types. Specify dtype option on import or set low_memory=False.\n",
            "  df = pd.read_csv(file)\n"
          ]
        },
        {
          "name": "stdout",
          "output_type": "stream",
          "text": [
            "Loaded: dot2_0224.csv with 77607 rows\n",
            "Loaded: dot1_0324.csv with 29190 rows\n"
          ]
        },
        {
          "name": "stderr",
          "output_type": "stream",
          "text": [
            "/tmp/ipython-input-7-4168835109.py:10: DtypeWarning: Columns (4,11) have mixed types. Specify dtype option on import or set low_memory=False.\n",
            "  df = pd.read_csv(file)\n"
          ]
        },
        {
          "name": "stdout",
          "output_type": "stream",
          "text": [
            "Loaded: dot2_0324.csv with 79017 rows\n",
            "Loaded: dot3_0424.csv with 17683 rows\n",
            "Loaded: dot1_0424.csv with 29657 rows\n"
          ]
        },
        {
          "name": "stderr",
          "output_type": "stream",
          "text": [
            "/tmp/ipython-input-7-4168835109.py:10: DtypeWarning: Columns (4,11) have mixed types. Specify dtype option on import or set low_memory=False.\n",
            "  df = pd.read_csv(file)\n"
          ]
        },
        {
          "name": "stdout",
          "output_type": "stream",
          "text": [
            "Loaded: dot2_0424.csv with 80604 rows\n"
          ]
        },
        {
          "name": "stderr",
          "output_type": "stream",
          "text": [
            "/tmp/ipython-input-7-4168835109.py:10: DtypeWarning: Columns (4,11) have mixed types. Specify dtype option on import or set low_memory=False.\n",
            "  df = pd.read_csv(file)\n"
          ]
        },
        {
          "name": "stdout",
          "output_type": "stream",
          "text": [
            "Loaded: dot2_0524.csv with 80201 rows\n",
            "Loaded: dot3_0524.csv with 17716 rows\n",
            "Loaded: dot1_0524.csv with 29593 rows\n",
            "Loaded: dot1_0624.csv with 28916 rows\n",
            "Loaded: dot3_0624.csv with 17329 rows\n"
          ]
        },
        {
          "name": "stderr",
          "output_type": "stream",
          "text": [
            "/tmp/ipython-input-7-4168835109.py:10: DtypeWarning: Columns (4,11) have mixed types. Specify dtype option on import or set low_memory=False.\n",
            "  df = pd.read_csv(file)\n"
          ]
        },
        {
          "name": "stdout",
          "output_type": "stream",
          "text": [
            "Loaded: dot2_0624.csv with 78547 rows\n"
          ]
        },
        {
          "name": "stderr",
          "output_type": "stream",
          "text": [
            "/tmp/ipython-input-7-4168835109.py:10: DtypeWarning: Columns (4,11) have mixed types. Specify dtype option on import or set low_memory=False.\n",
            "  df = pd.read_csv(file)\n"
          ]
        },
        {
          "name": "stdout",
          "output_type": "stream",
          "text": [
            "Loaded: dot2_0724.csv with 79183 rows\n",
            "Loaded: dot3_0724.csv with 17438 rows\n",
            "Loaded: dot1_0724.csv with 29214 rows\n"
          ]
        },
        {
          "name": "stderr",
          "output_type": "stream",
          "text": [
            "/tmp/ipython-input-7-4168835109.py:10: DtypeWarning: Columns (4,11) have mixed types. Specify dtype option on import or set low_memory=False.\n",
            "  df = pd.read_csv(file)\n"
          ]
        },
        {
          "name": "stdout",
          "output_type": "stream",
          "text": [
            "Loaded: dot2_0824.csv with 79426 rows\n",
            "Loaded: dot3_0824.csv with 17532 rows\n",
            "Loaded: dot1_0824.csv with 29128 rows\n"
          ]
        },
        {
          "name": "stderr",
          "output_type": "stream",
          "text": [
            "/tmp/ipython-input-7-4168835109.py:10: DtypeWarning: Columns (4,11) have mixed types. Specify dtype option on import or set low_memory=False.\n",
            "  df = pd.read_csv(file)\n"
          ]
        },
        {
          "name": "stdout",
          "output_type": "stream",
          "text": [
            "Loaded: dot2_0924.csv with 77817 rows\n",
            "Loaded: dot1_0924.csv with 28606 rows\n",
            "Loaded: dot3_0924.csv with 17145 rows\n",
            "Successfully merged 26 files into a single DataFrame with 1108543 rows.\n",
            "Merged file saved to: /content/drive/MyDrive/Azubi_TMP/TransBorder_Analysis_Project/Dataset/merged_data_2024.csv\n"
          ]
        }
      ],
      "source": [
        "# Define the path to your data folder\n",
        "data_folder_2024 = '/content/drive/MyDrive/Azubi_TMP/TransBorder_Analysis_Project/Dataset/All_Months_2024/'\n",
        "data_2024 = glob.glob(os.path.join(data_folder_2024, \"*.csv\"))\n",
        "\n",
        "# Read and combine all CSV files in 2024 folder\n",
        "df_2024 = []\n",
        "\n",
        "for file in data_2024:\n",
        "    try:\n",
        "        df = pd.read_csv(file)\n",
        "        df_2024.append(df)\n",
        "        print(f\"Loaded: {os.path.basename(file)} with {len(df)} rows\")\n",
        "    except Exception as e:\n",
        "        print(f\"Error loading {file}: {e}\")\n",
        "\n",
        "# Concatenate all DataFrames into one\n",
        "combined_df = pd.concat(df_2024, ignore_index=True)\n",
        "print(f\"Successfully merged {len(df_2024)} files into a single DataFrame with {len(combined_df)} rows.\")\n",
        "\n",
        "# Save the combined data\n",
        "output_path = os.path.join('/content/drive/MyDrive/Azubi_TMP/TransBorder_Analysis_Project/Dataset/', \"merged_data_2024.csv\")\n",
        "combined_df.to_csv(output_path, index=False)\n",
        "print(f\"Merged file saved to: {output_path}\")"
      ]
    },
    {
      "cell_type": "markdown",
      "metadata": {
        "id": "TIm71-o4s3Sb",
        "jp-MarkdownHeadingCollapsed": true
      },
      "source": [
        "### **Finally, Merge and Save CSVs for all Years**"
      ]
    },
    {
      "cell_type": "code",
      "execution_count": null,
      "metadata": {
        "colab": {
          "base_uri": "https://localhost:8080/"
        },
        "collapsed": true,
        "id": "8Bf8fKRetFav",
        "jupyter": {
          "outputs_hidden": true
        },
        "outputId": "ef2b541d-bacf-4fe0-a67d-bdc667f1d712"
      },
      "outputs": [
        {
          "name": "stderr",
          "output_type": "stream",
          "text": [
            "/tmp/ipython-input-3-4022733008.py:10: DtypeWarning: Columns (1,2,4,5) have mixed types. Specify dtype option on import or set low_memory=False.\n",
            "  df = pd.read_csv(file)\n"
          ]
        },
        {
          "name": "stdout",
          "output_type": "stream",
          "text": [
            "Loaded: merged_data_2020.csv with 6104767 rows\n"
          ]
        },
        {
          "name": "stderr",
          "output_type": "stream",
          "text": [
            "/tmp/ipython-input-3-4022733008.py:10: DtypeWarning: Columns (1,12,13,14) have mixed types. Specify dtype option on import or set low_memory=False.\n",
            "  df = pd.read_csv(file)\n"
          ]
        },
        {
          "name": "stdout",
          "output_type": "stream",
          "text": [
            "Loaded: merged_data_2021.csv with 10982798 rows\n"
          ]
        },
        {
          "name": "stderr",
          "output_type": "stream",
          "text": [
            "/tmp/ipython-input-3-4022733008.py:10: DtypeWarning: Columns (1,9,12,13,14) have mixed types. Specify dtype option on import or set low_memory=False.\n",
            "  df = pd.read_csv(file)\n"
          ]
        },
        {
          "name": "stdout",
          "output_type": "stream",
          "text": [
            "Loaded: merged_data_2022.csv with 11275950 rows\n"
          ]
        },
        {
          "name": "stderr",
          "output_type": "stream",
          "text": [
            "/tmp/ipython-input-3-4022733008.py:10: DtypeWarning: Columns (1,2,4,5) have mixed types. Specify dtype option on import or set low_memory=False.\n",
            "  df = pd.read_csv(file)\n"
          ]
        },
        {
          "name": "stdout",
          "output_type": "stream",
          "text": [
            "Loaded: merged_data_2023.csv with 5919169 rows\n"
          ]
        },
        {
          "name": "stderr",
          "output_type": "stream",
          "text": [
            "/tmp/ipython-input-3-4022733008.py:10: DtypeWarning: Columns (1) have mixed types. Specify dtype option on import or set low_memory=False.\n",
            "  df = pd.read_csv(file)\n"
          ]
        },
        {
          "name": "stdout",
          "output_type": "stream",
          "text": [
            "Loaded: merged_data_2024.csv with 1108543 rows\n",
            "Successfully merged 5 files into a single DataFrame with 35391227 rows.\n",
            "Merged file saved to: /content/drive/MyDrive/Azubi_TMP/TransBorder_Analysis_Project/Dataset/Full_Dataset.csv\n"
          ]
        }
      ],
      "source": [
        "# Define the path to your data folder\n",
        "data_folder = '/content/drive/MyDrive/Azubi_TMP/TransBorder_Analysis_Project/Dataset/'\n",
        "data_all_years = glob.glob(os.path.join(data_folder, \"*.csv\"))\n",
        "\n",
        "# Read and combine all CSV files for all years\n",
        "df_all = []\n",
        "\n",
        "for file in data_all_years:\n",
        "    try:\n",
        "        df = pd.read_csv(file)\n",
        "        df_all.append(df)\n",
        "        print(f\"Loaded: {os.path.basename(file)} with {len(df)} rows\")\n",
        "    except Exception as e:\n",
        "        print(f\"Error loading {file}: {e}\")\n",
        "\n",
        "# Concatenate all DataFrames into one\n",
        "combined_df = pd.concat(df_all, ignore_index=True)\n",
        "print(f\"Successfully merged {len(df_all)} files into a single DataFrame with {len(combined_df)} rows.\")\n",
        "\n",
        "# Save the combined data\n",
        "output_path = os.path.join('/content/drive/MyDrive/Azubi_TMP/TransBorder_Analysis_Project/Dataset/', \"Full_Dataset.csv\")\n",
        "combined_df.to_csv(output_path, index=False)\n",
        "print(f\"Merged file saved to: {output_path}\")"
      ]
    },
    {
      "cell_type": "markdown",
      "metadata": {
        "id": "3oj8BJjUo9PY"
      },
      "source": [
        "## **Uploading Dataset For Analysis**"
      ]
    },
    {
      "cell_type": "code",
      "execution_count": null,
      "metadata": {
        "colab": {
          "base_uri": "https://localhost:8080/"
        },
        "id": "k6vOMJiXzX-w",
        "outputId": "e912af2a-5979-4058-b708-a86fa8d6cf3c"
      },
      "outputs": [
        {
          "output_type": "stream",
          "name": "stderr",
          "text": [
            "/tmp/ipython-input-5-795458216.py:4: DtypeWarning: Columns (2) have mixed types. Specify dtype option on import or set low_memory=False.\n",
            "  for chunk in pd.read_csv('/content/drive/MyDrive/Azubi_TMP/TransBorder_Analysis_Project/Dataset/Full_Dataset.csv', chunksize=chunksize):\n",
            "/tmp/ipython-input-5-795458216.py:4: DtypeWarning: Columns (2) have mixed types. Specify dtype option on import or set low_memory=False.\n",
            "  for chunk in pd.read_csv('/content/drive/MyDrive/Azubi_TMP/TransBorder_Analysis_Project/Dataset/Full_Dataset.csv', chunksize=chunksize):\n",
            "/tmp/ipython-input-5-795458216.py:4: DtypeWarning: Columns (1,4,5) have mixed types. Specify dtype option on import or set low_memory=False.\n",
            "  for chunk in pd.read_csv('/content/drive/MyDrive/Azubi_TMP/TransBorder_Analysis_Project/Dataset/Full_Dataset.csv', chunksize=chunksize):\n",
            "/tmp/ipython-input-5-795458216.py:4: DtypeWarning: Columns (2) have mixed types. Specify dtype option on import or set low_memory=False.\n",
            "  for chunk in pd.read_csv('/content/drive/MyDrive/Azubi_TMP/TransBorder_Analysis_Project/Dataset/Full_Dataset.csv', chunksize=chunksize):\n",
            "/tmp/ipython-input-5-795458216.py:4: DtypeWarning: Columns (2,4) have mixed types. Specify dtype option on import or set low_memory=False.\n",
            "  for chunk in pd.read_csv('/content/drive/MyDrive/Azubi_TMP/TransBorder_Analysis_Project/Dataset/Full_Dataset.csv', chunksize=chunksize):\n",
            "/tmp/ipython-input-5-795458216.py:4: DtypeWarning: Columns (2) have mixed types. Specify dtype option on import or set low_memory=False.\n",
            "  for chunk in pd.read_csv('/content/drive/MyDrive/Azubi_TMP/TransBorder_Analysis_Project/Dataset/Full_Dataset.csv', chunksize=chunksize):\n",
            "/tmp/ipython-input-5-795458216.py:4: DtypeWarning: Columns (4) have mixed types. Specify dtype option on import or set low_memory=False.\n",
            "  for chunk in pd.read_csv('/content/drive/MyDrive/Azubi_TMP/TransBorder_Analysis_Project/Dataset/Full_Dataset.csv', chunksize=chunksize):\n",
            "/tmp/ipython-input-5-795458216.py:4: DtypeWarning: Columns (2) have mixed types. Specify dtype option on import or set low_memory=False.\n",
            "  for chunk in pd.read_csv('/content/drive/MyDrive/Azubi_TMP/TransBorder_Analysis_Project/Dataset/Full_Dataset.csv', chunksize=chunksize):\n",
            "/tmp/ipython-input-5-795458216.py:4: DtypeWarning: Columns (2,4) have mixed types. Specify dtype option on import or set low_memory=False.\n",
            "  for chunk in pd.read_csv('/content/drive/MyDrive/Azubi_TMP/TransBorder_Analysis_Project/Dataset/Full_Dataset.csv', chunksize=chunksize):\n",
            "/tmp/ipython-input-5-795458216.py:4: DtypeWarning: Columns (1,4,5) have mixed types. Specify dtype option on import or set low_memory=False.\n",
            "  for chunk in pd.read_csv('/content/drive/MyDrive/Azubi_TMP/TransBorder_Analysis_Project/Dataset/Full_Dataset.csv', chunksize=chunksize):\n",
            "/tmp/ipython-input-5-795458216.py:4: DtypeWarning: Columns (2) have mixed types. Specify dtype option on import or set low_memory=False.\n",
            "  for chunk in pd.read_csv('/content/drive/MyDrive/Azubi_TMP/TransBorder_Analysis_Project/Dataset/Full_Dataset.csv', chunksize=chunksize):\n",
            "/tmp/ipython-input-5-795458216.py:4: DtypeWarning: Columns (1,5) have mixed types. Specify dtype option on import or set low_memory=False.\n",
            "  for chunk in pd.read_csv('/content/drive/MyDrive/Azubi_TMP/TransBorder_Analysis_Project/Dataset/Full_Dataset.csv', chunksize=chunksize):\n",
            "/tmp/ipython-input-5-795458216.py:4: DtypeWarning: Columns (2) have mixed types. Specify dtype option on import or set low_memory=False.\n",
            "  for chunk in pd.read_csv('/content/drive/MyDrive/Azubi_TMP/TransBorder_Analysis_Project/Dataset/Full_Dataset.csv', chunksize=chunksize):\n",
            "/tmp/ipython-input-5-795458216.py:4: DtypeWarning: Columns (1,4,5) have mixed types. Specify dtype option on import or set low_memory=False.\n",
            "  for chunk in pd.read_csv('/content/drive/MyDrive/Azubi_TMP/TransBorder_Analysis_Project/Dataset/Full_Dataset.csv', chunksize=chunksize):\n",
            "/tmp/ipython-input-5-795458216.py:4: DtypeWarning: Columns (1,4,5) have mixed types. Specify dtype option on import or set low_memory=False.\n",
            "  for chunk in pd.read_csv('/content/drive/MyDrive/Azubi_TMP/TransBorder_Analysis_Project/Dataset/Full_Dataset.csv', chunksize=chunksize):\n",
            "/tmp/ipython-input-5-795458216.py:4: DtypeWarning: Columns (2) have mixed types. Specify dtype option on import or set low_memory=False.\n",
            "  for chunk in pd.read_csv('/content/drive/MyDrive/Azubi_TMP/TransBorder_Analysis_Project/Dataset/Full_Dataset.csv', chunksize=chunksize):\n",
            "/tmp/ipython-input-5-795458216.py:4: DtypeWarning: Columns (2) have mixed types. Specify dtype option on import or set low_memory=False.\n",
            "  for chunk in pd.read_csv('/content/drive/MyDrive/Azubi_TMP/TransBorder_Analysis_Project/Dataset/Full_Dataset.csv', chunksize=chunksize):\n",
            "/tmp/ipython-input-5-795458216.py:4: DtypeWarning: Columns (1,4,5) have mixed types. Specify dtype option on import or set low_memory=False.\n",
            "  for chunk in pd.read_csv('/content/drive/MyDrive/Azubi_TMP/TransBorder_Analysis_Project/Dataset/Full_Dataset.csv', chunksize=chunksize):\n",
            "/tmp/ipython-input-5-795458216.py:4: DtypeWarning: Columns (2) have mixed types. Specify dtype option on import or set low_memory=False.\n",
            "  for chunk in pd.read_csv('/content/drive/MyDrive/Azubi_TMP/TransBorder_Analysis_Project/Dataset/Full_Dataset.csv', chunksize=chunksize):\n",
            "/tmp/ipython-input-5-795458216.py:4: DtypeWarning: Columns (1,4,5) have mixed types. Specify dtype option on import or set low_memory=False.\n",
            "  for chunk in pd.read_csv('/content/drive/MyDrive/Azubi_TMP/TransBorder_Analysis_Project/Dataset/Full_Dataset.csv', chunksize=chunksize):\n",
            "/tmp/ipython-input-5-795458216.py:4: DtypeWarning: Columns (2) have mixed types. Specify dtype option on import or set low_memory=False.\n",
            "  for chunk in pd.read_csv('/content/drive/MyDrive/Azubi_TMP/TransBorder_Analysis_Project/Dataset/Full_Dataset.csv', chunksize=chunksize):\n",
            "/tmp/ipython-input-5-795458216.py:4: DtypeWarning: Columns (1,4,5) have mixed types. Specify dtype option on import or set low_memory=False.\n",
            "  for chunk in pd.read_csv('/content/drive/MyDrive/Azubi_TMP/TransBorder_Analysis_Project/Dataset/Full_Dataset.csv', chunksize=chunksize):\n",
            "/tmp/ipython-input-5-795458216.py:4: DtypeWarning: Columns (2) have mixed types. Specify dtype option on import or set low_memory=False.\n",
            "  for chunk in pd.read_csv('/content/drive/MyDrive/Azubi_TMP/TransBorder_Analysis_Project/Dataset/Full_Dataset.csv', chunksize=chunksize):\n",
            "/tmp/ipython-input-5-795458216.py:4: DtypeWarning: Columns (1,4,5) have mixed types. Specify dtype option on import or set low_memory=False.\n",
            "  for chunk in pd.read_csv('/content/drive/MyDrive/Azubi_TMP/TransBorder_Analysis_Project/Dataset/Full_Dataset.csv', chunksize=chunksize):\n",
            "/tmp/ipython-input-5-795458216.py:4: DtypeWarning: Columns (2) have mixed types. Specify dtype option on import or set low_memory=False.\n",
            "  for chunk in pd.read_csv('/content/drive/MyDrive/Azubi_TMP/TransBorder_Analysis_Project/Dataset/Full_Dataset.csv', chunksize=chunksize):\n",
            "/tmp/ipython-input-5-795458216.py:4: DtypeWarning: Columns (2,4) have mixed types. Specify dtype option on import or set low_memory=False.\n",
            "  for chunk in pd.read_csv('/content/drive/MyDrive/Azubi_TMP/TransBorder_Analysis_Project/Dataset/Full_Dataset.csv', chunksize=chunksize):\n",
            "/tmp/ipython-input-5-795458216.py:4: DtypeWarning: Columns (1,4,5) have mixed types. Specify dtype option on import or set low_memory=False.\n",
            "  for chunk in pd.read_csv('/content/drive/MyDrive/Azubi_TMP/TransBorder_Analysis_Project/Dataset/Full_Dataset.csv', chunksize=chunksize):\n",
            "/tmp/ipython-input-5-795458216.py:4: DtypeWarning: Columns (2) have mixed types. Specify dtype option on import or set low_memory=False.\n",
            "  for chunk in pd.read_csv('/content/drive/MyDrive/Azubi_TMP/TransBorder_Analysis_Project/Dataset/Full_Dataset.csv', chunksize=chunksize):\n",
            "/tmp/ipython-input-5-795458216.py:4: DtypeWarning: Columns (1,5) have mixed types. Specify dtype option on import or set low_memory=False.\n",
            "  for chunk in pd.read_csv('/content/drive/MyDrive/Azubi_TMP/TransBorder_Analysis_Project/Dataset/Full_Dataset.csv', chunksize=chunksize):\n",
            "/tmp/ipython-input-5-795458216.py:4: DtypeWarning: Columns (2,4) have mixed types. Specify dtype option on import or set low_memory=False.\n",
            "  for chunk in pd.read_csv('/content/drive/MyDrive/Azubi_TMP/TransBorder_Analysis_Project/Dataset/Full_Dataset.csv', chunksize=chunksize):\n",
            "/tmp/ipython-input-5-795458216.py:4: DtypeWarning: Columns (1,4,5) have mixed types. Specify dtype option on import or set low_memory=False.\n",
            "  for chunk in pd.read_csv('/content/drive/MyDrive/Azubi_TMP/TransBorder_Analysis_Project/Dataset/Full_Dataset.csv', chunksize=chunksize):\n",
            "/tmp/ipython-input-5-795458216.py:4: DtypeWarning: Columns (2) have mixed types. Specify dtype option on import or set low_memory=False.\n",
            "  for chunk in pd.read_csv('/content/drive/MyDrive/Azubi_TMP/TransBorder_Analysis_Project/Dataset/Full_Dataset.csv', chunksize=chunksize):\n",
            "/tmp/ipython-input-5-795458216.py:4: DtypeWarning: Columns (2) have mixed types. Specify dtype option on import or set low_memory=False.\n",
            "  for chunk in pd.read_csv('/content/drive/MyDrive/Azubi_TMP/TransBorder_Analysis_Project/Dataset/Full_Dataset.csv', chunksize=chunksize):\n",
            "/tmp/ipython-input-5-795458216.py:4: DtypeWarning: Columns (1,4,5) have mixed types. Specify dtype option on import or set low_memory=False.\n",
            "  for chunk in pd.read_csv('/content/drive/MyDrive/Azubi_TMP/TransBorder_Analysis_Project/Dataset/Full_Dataset.csv', chunksize=chunksize):\n",
            "/tmp/ipython-input-5-795458216.py:4: DtypeWarning: Columns (2) have mixed types. Specify dtype option on import or set low_memory=False.\n",
            "  for chunk in pd.read_csv('/content/drive/MyDrive/Azubi_TMP/TransBorder_Analysis_Project/Dataset/Full_Dataset.csv', chunksize=chunksize):\n",
            "/tmp/ipython-input-5-795458216.py:4: DtypeWarning: Columns (2) have mixed types. Specify dtype option on import or set low_memory=False.\n",
            "  for chunk in pd.read_csv('/content/drive/MyDrive/Azubi_TMP/TransBorder_Analysis_Project/Dataset/Full_Dataset.csv', chunksize=chunksize):\n",
            "/tmp/ipython-input-5-795458216.py:4: DtypeWarning: Columns (1,4,5) have mixed types. Specify dtype option on import or set low_memory=False.\n",
            "  for chunk in pd.read_csv('/content/drive/MyDrive/Azubi_TMP/TransBorder_Analysis_Project/Dataset/Full_Dataset.csv', chunksize=chunksize):\n",
            "/tmp/ipython-input-5-795458216.py:4: DtypeWarning: Columns (2) have mixed types. Specify dtype option on import or set low_memory=False.\n",
            "  for chunk in pd.read_csv('/content/drive/MyDrive/Azubi_TMP/TransBorder_Analysis_Project/Dataset/Full_Dataset.csv', chunksize=chunksize):\n",
            "/tmp/ipython-input-5-795458216.py:4: DtypeWarning: Columns (2) have mixed types. Specify dtype option on import or set low_memory=False.\n",
            "  for chunk in pd.read_csv('/content/drive/MyDrive/Azubi_TMP/TransBorder_Analysis_Project/Dataset/Full_Dataset.csv', chunksize=chunksize):\n",
            "/tmp/ipython-input-5-795458216.py:4: DtypeWarning: Columns (2) have mixed types. Specify dtype option on import or set low_memory=False.\n",
            "  for chunk in pd.read_csv('/content/drive/MyDrive/Azubi_TMP/TransBorder_Analysis_Project/Dataset/Full_Dataset.csv', chunksize=chunksize):\n",
            "/tmp/ipython-input-5-795458216.py:4: DtypeWarning: Columns (2,4) have mixed types. Specify dtype option on import or set low_memory=False.\n",
            "  for chunk in pd.read_csv('/content/drive/MyDrive/Azubi_TMP/TransBorder_Analysis_Project/Dataset/Full_Dataset.csv', chunksize=chunksize):\n",
            "/tmp/ipython-input-5-795458216.py:4: DtypeWarning: Columns (1,4,5) have mixed types. Specify dtype option on import or set low_memory=False.\n",
            "  for chunk in pd.read_csv('/content/drive/MyDrive/Azubi_TMP/TransBorder_Analysis_Project/Dataset/Full_Dataset.csv', chunksize=chunksize):\n",
            "/tmp/ipython-input-5-795458216.py:4: DtypeWarning: Columns (1,4,5) have mixed types. Specify dtype option on import or set low_memory=False.\n",
            "  for chunk in pd.read_csv('/content/drive/MyDrive/Azubi_TMP/TransBorder_Analysis_Project/Dataset/Full_Dataset.csv', chunksize=chunksize):\n",
            "/tmp/ipython-input-5-795458216.py:4: DtypeWarning: Columns (1,4,5) have mixed types. Specify dtype option on import or set low_memory=False.\n",
            "  for chunk in pd.read_csv('/content/drive/MyDrive/Azubi_TMP/TransBorder_Analysis_Project/Dataset/Full_Dataset.csv', chunksize=chunksize):\n",
            "/tmp/ipython-input-5-795458216.py:4: DtypeWarning: Columns (2) have mixed types. Specify dtype option on import or set low_memory=False.\n",
            "  for chunk in pd.read_csv('/content/drive/MyDrive/Azubi_TMP/TransBorder_Analysis_Project/Dataset/Full_Dataset.csv', chunksize=chunksize):\n",
            "/tmp/ipython-input-5-795458216.py:4: DtypeWarning: Columns (2) have mixed types. Specify dtype option on import or set low_memory=False.\n",
            "  for chunk in pd.read_csv('/content/drive/MyDrive/Azubi_TMP/TransBorder_Analysis_Project/Dataset/Full_Dataset.csv', chunksize=chunksize):\n",
            "/tmp/ipython-input-5-795458216.py:4: DtypeWarning: Columns (2) have mixed types. Specify dtype option on import or set low_memory=False.\n",
            "  for chunk in pd.read_csv('/content/drive/MyDrive/Azubi_TMP/TransBorder_Analysis_Project/Dataset/Full_Dataset.csv', chunksize=chunksize):\n",
            "/tmp/ipython-input-5-795458216.py:4: DtypeWarning: Columns (1,4,5) have mixed types. Specify dtype option on import or set low_memory=False.\n",
            "  for chunk in pd.read_csv('/content/drive/MyDrive/Azubi_TMP/TransBorder_Analysis_Project/Dataset/Full_Dataset.csv', chunksize=chunksize):\n",
            "/tmp/ipython-input-5-795458216.py:4: DtypeWarning: Columns (1,4,5) have mixed types. Specify dtype option on import or set low_memory=False.\n",
            "  for chunk in pd.read_csv('/content/drive/MyDrive/Azubi_TMP/TransBorder_Analysis_Project/Dataset/Full_Dataset.csv', chunksize=chunksize):\n",
            "/tmp/ipython-input-5-795458216.py:4: DtypeWarning: Columns (2) have mixed types. Specify dtype option on import or set low_memory=False.\n",
            "  for chunk in pd.read_csv('/content/drive/MyDrive/Azubi_TMP/TransBorder_Analysis_Project/Dataset/Full_Dataset.csv', chunksize=chunksize):\n",
            "/tmp/ipython-input-5-795458216.py:4: DtypeWarning: Columns (2) have mixed types. Specify dtype option on import or set low_memory=False.\n",
            "  for chunk in pd.read_csv('/content/drive/MyDrive/Azubi_TMP/TransBorder_Analysis_Project/Dataset/Full_Dataset.csv', chunksize=chunksize):\n",
            "/tmp/ipython-input-5-795458216.py:4: DtypeWarning: Columns (2) have mixed types. Specify dtype option on import or set low_memory=False.\n",
            "  for chunk in pd.read_csv('/content/drive/MyDrive/Azubi_TMP/TransBorder_Analysis_Project/Dataset/Full_Dataset.csv', chunksize=chunksize):\n",
            "/tmp/ipython-input-5-795458216.py:4: DtypeWarning: Columns (1,5) have mixed types. Specify dtype option on import or set low_memory=False.\n",
            "  for chunk in pd.read_csv('/content/drive/MyDrive/Azubi_TMP/TransBorder_Analysis_Project/Dataset/Full_Dataset.csv', chunksize=chunksize):\n",
            "/tmp/ipython-input-5-795458216.py:4: DtypeWarning: Columns (2) have mixed types. Specify dtype option on import or set low_memory=False.\n",
            "  for chunk in pd.read_csv('/content/drive/MyDrive/Azubi_TMP/TransBorder_Analysis_Project/Dataset/Full_Dataset.csv', chunksize=chunksize):\n",
            "/tmp/ipython-input-5-795458216.py:4: DtypeWarning: Columns (2) have mixed types. Specify dtype option on import or set low_memory=False.\n",
            "  for chunk in pd.read_csv('/content/drive/MyDrive/Azubi_TMP/TransBorder_Analysis_Project/Dataset/Full_Dataset.csv', chunksize=chunksize):\n",
            "/tmp/ipython-input-5-795458216.py:4: DtypeWarning: Columns (1,4,5) have mixed types. Specify dtype option on import or set low_memory=False.\n",
            "  for chunk in pd.read_csv('/content/drive/MyDrive/Azubi_TMP/TransBorder_Analysis_Project/Dataset/Full_Dataset.csv', chunksize=chunksize):\n",
            "/tmp/ipython-input-5-795458216.py:4: DtypeWarning: Columns (1,4,5) have mixed types. Specify dtype option on import or set low_memory=False.\n",
            "  for chunk in pd.read_csv('/content/drive/MyDrive/Azubi_TMP/TransBorder_Analysis_Project/Dataset/Full_Dataset.csv', chunksize=chunksize):\n",
            "/tmp/ipython-input-5-795458216.py:4: DtypeWarning: Columns (1,4,5) have mixed types. Specify dtype option on import or set low_memory=False.\n",
            "  for chunk in pd.read_csv('/content/drive/MyDrive/Azubi_TMP/TransBorder_Analysis_Project/Dataset/Full_Dataset.csv', chunksize=chunksize):\n",
            "/tmp/ipython-input-5-795458216.py:4: DtypeWarning: Columns (2) have mixed types. Specify dtype option on import or set low_memory=False.\n",
            "  for chunk in pd.read_csv('/content/drive/MyDrive/Azubi_TMP/TransBorder_Analysis_Project/Dataset/Full_Dataset.csv', chunksize=chunksize):\n",
            "/tmp/ipython-input-5-795458216.py:4: DtypeWarning: Columns (1,4,5) have mixed types. Specify dtype option on import or set low_memory=False.\n",
            "  for chunk in pd.read_csv('/content/drive/MyDrive/Azubi_TMP/TransBorder_Analysis_Project/Dataset/Full_Dataset.csv', chunksize=chunksize):\n",
            "/tmp/ipython-input-5-795458216.py:4: DtypeWarning: Columns (2) have mixed types. Specify dtype option on import or set low_memory=False.\n",
            "  for chunk in pd.read_csv('/content/drive/MyDrive/Azubi_TMP/TransBorder_Analysis_Project/Dataset/Full_Dataset.csv', chunksize=chunksize):\n",
            "/tmp/ipython-input-5-795458216.py:4: DtypeWarning: Columns (1,5) have mixed types. Specify dtype option on import or set low_memory=False.\n",
            "  for chunk in pd.read_csv('/content/drive/MyDrive/Azubi_TMP/TransBorder_Analysis_Project/Dataset/Full_Dataset.csv', chunksize=chunksize):\n",
            "/tmp/ipython-input-5-795458216.py:4: DtypeWarning: Columns (2) have mixed types. Specify dtype option on import or set low_memory=False.\n",
            "  for chunk in pd.read_csv('/content/drive/MyDrive/Azubi_TMP/TransBorder_Analysis_Project/Dataset/Full_Dataset.csv', chunksize=chunksize):\n",
            "/tmp/ipython-input-5-795458216.py:4: DtypeWarning: Columns (2) have mixed types. Specify dtype option on import or set low_memory=False.\n",
            "  for chunk in pd.read_csv('/content/drive/MyDrive/Azubi_TMP/TransBorder_Analysis_Project/Dataset/Full_Dataset.csv', chunksize=chunksize):\n",
            "/tmp/ipython-input-5-795458216.py:4: DtypeWarning: Columns (2) have mixed types. Specify dtype option on import or set low_memory=False.\n",
            "  for chunk in pd.read_csv('/content/drive/MyDrive/Azubi_TMP/TransBorder_Analysis_Project/Dataset/Full_Dataset.csv', chunksize=chunksize):\n",
            "/tmp/ipython-input-5-795458216.py:4: DtypeWarning: Columns (2) have mixed types. Specify dtype option on import or set low_memory=False.\n",
            "  for chunk in pd.read_csv('/content/drive/MyDrive/Azubi_TMP/TransBorder_Analysis_Project/Dataset/Full_Dataset.csv', chunksize=chunksize):\n",
            "/tmp/ipython-input-5-795458216.py:4: DtypeWarning: Columns (2) have mixed types. Specify dtype option on import or set low_memory=False.\n",
            "  for chunk in pd.read_csv('/content/drive/MyDrive/Azubi_TMP/TransBorder_Analysis_Project/Dataset/Full_Dataset.csv', chunksize=chunksize):\n",
            "/tmp/ipython-input-5-795458216.py:4: DtypeWarning: Columns (2,4) have mixed types. Specify dtype option on import or set low_memory=False.\n",
            "  for chunk in pd.read_csv('/content/drive/MyDrive/Azubi_TMP/TransBorder_Analysis_Project/Dataset/Full_Dataset.csv', chunksize=chunksize):\n",
            "/tmp/ipython-input-5-795458216.py:4: DtypeWarning: Columns (2,4) have mixed types. Specify dtype option on import or set low_memory=False.\n",
            "  for chunk in pd.read_csv('/content/drive/MyDrive/Azubi_TMP/TransBorder_Analysis_Project/Dataset/Full_Dataset.csv', chunksize=chunksize):\n",
            "/tmp/ipython-input-5-795458216.py:4: DtypeWarning: Columns (2) have mixed types. Specify dtype option on import or set low_memory=False.\n",
            "  for chunk in pd.read_csv('/content/drive/MyDrive/Azubi_TMP/TransBorder_Analysis_Project/Dataset/Full_Dataset.csv', chunksize=chunksize):\n",
            "/tmp/ipython-input-5-795458216.py:4: DtypeWarning: Columns (2) have mixed types. Specify dtype option on import or set low_memory=False.\n",
            "  for chunk in pd.read_csv('/content/drive/MyDrive/Azubi_TMP/TransBorder_Analysis_Project/Dataset/Full_Dataset.csv', chunksize=chunksize):\n",
            "/tmp/ipython-input-5-795458216.py:4: DtypeWarning: Columns (4) have mixed types. Specify dtype option on import or set low_memory=False.\n",
            "  for chunk in pd.read_csv('/content/drive/MyDrive/Azubi_TMP/TransBorder_Analysis_Project/Dataset/Full_Dataset.csv', chunksize=chunksize):\n",
            "/tmp/ipython-input-5-795458216.py:4: DtypeWarning: Columns (2) have mixed types. Specify dtype option on import or set low_memory=False.\n",
            "  for chunk in pd.read_csv('/content/drive/MyDrive/Azubi_TMP/TransBorder_Analysis_Project/Dataset/Full_Dataset.csv', chunksize=chunksize):\n",
            "/tmp/ipython-input-5-795458216.py:4: DtypeWarning: Columns (2) have mixed types. Specify dtype option on import or set low_memory=False.\n",
            "  for chunk in pd.read_csv('/content/drive/MyDrive/Azubi_TMP/TransBorder_Analysis_Project/Dataset/Full_Dataset.csv', chunksize=chunksize):\n",
            "/tmp/ipython-input-5-795458216.py:4: DtypeWarning: Columns (1,4,5) have mixed types. Specify dtype option on import or set low_memory=False.\n",
            "  for chunk in pd.read_csv('/content/drive/MyDrive/Azubi_TMP/TransBorder_Analysis_Project/Dataset/Full_Dataset.csv', chunksize=chunksize):\n",
            "/tmp/ipython-input-5-795458216.py:4: DtypeWarning: Columns (2) have mixed types. Specify dtype option on import or set low_memory=False.\n",
            "  for chunk in pd.read_csv('/content/drive/MyDrive/Azubi_TMP/TransBorder_Analysis_Project/Dataset/Full_Dataset.csv', chunksize=chunksize):\n",
            "/tmp/ipython-input-5-795458216.py:4: DtypeWarning: Columns (2) have mixed types. Specify dtype option on import or set low_memory=False.\n",
            "  for chunk in pd.read_csv('/content/drive/MyDrive/Azubi_TMP/TransBorder_Analysis_Project/Dataset/Full_Dataset.csv', chunksize=chunksize):\n",
            "/tmp/ipython-input-5-795458216.py:4: DtypeWarning: Columns (2,4) have mixed types. Specify dtype option on import or set low_memory=False.\n",
            "  for chunk in pd.read_csv('/content/drive/MyDrive/Azubi_TMP/TransBorder_Analysis_Project/Dataset/Full_Dataset.csv', chunksize=chunksize):\n",
            "/tmp/ipython-input-5-795458216.py:4: DtypeWarning: Columns (1,4,5) have mixed types. Specify dtype option on import or set low_memory=False.\n",
            "  for chunk in pd.read_csv('/content/drive/MyDrive/Azubi_TMP/TransBorder_Analysis_Project/Dataset/Full_Dataset.csv', chunksize=chunksize):\n",
            "/tmp/ipython-input-5-795458216.py:4: DtypeWarning: Columns (2) have mixed types. Specify dtype option on import or set low_memory=False.\n",
            "  for chunk in pd.read_csv('/content/drive/MyDrive/Azubi_TMP/TransBorder_Analysis_Project/Dataset/Full_Dataset.csv', chunksize=chunksize):\n",
            "/tmp/ipython-input-5-795458216.py:4: DtypeWarning: Columns (1,4,5) have mixed types. Specify dtype option on import or set low_memory=False.\n",
            "  for chunk in pd.read_csv('/content/drive/MyDrive/Azubi_TMP/TransBorder_Analysis_Project/Dataset/Full_Dataset.csv', chunksize=chunksize):\n",
            "/tmp/ipython-input-5-795458216.py:4: DtypeWarning: Columns (1,4,5) have mixed types. Specify dtype option on import or set low_memory=False.\n",
            "  for chunk in pd.read_csv('/content/drive/MyDrive/Azubi_TMP/TransBorder_Analysis_Project/Dataset/Full_Dataset.csv', chunksize=chunksize):\n",
            "/tmp/ipython-input-5-795458216.py:4: DtypeWarning: Columns (2) have mixed types. Specify dtype option on import or set low_memory=False.\n",
            "  for chunk in pd.read_csv('/content/drive/MyDrive/Azubi_TMP/TransBorder_Analysis_Project/Dataset/Full_Dataset.csv', chunksize=chunksize):\n",
            "/tmp/ipython-input-5-795458216.py:4: DtypeWarning: Columns (1,4,5) have mixed types. Specify dtype option on import or set low_memory=False.\n",
            "  for chunk in pd.read_csv('/content/drive/MyDrive/Azubi_TMP/TransBorder_Analysis_Project/Dataset/Full_Dataset.csv', chunksize=chunksize):\n",
            "/tmp/ipython-input-5-795458216.py:4: DtypeWarning: Columns (1,4,5) have mixed types. Specify dtype option on import or set low_memory=False.\n",
            "  for chunk in pd.read_csv('/content/drive/MyDrive/Azubi_TMP/TransBorder_Analysis_Project/Dataset/Full_Dataset.csv', chunksize=chunksize):\n",
            "/tmp/ipython-input-5-795458216.py:4: DtypeWarning: Columns (2) have mixed types. Specify dtype option on import or set low_memory=False.\n",
            "  for chunk in pd.read_csv('/content/drive/MyDrive/Azubi_TMP/TransBorder_Analysis_Project/Dataset/Full_Dataset.csv', chunksize=chunksize):\n",
            "/tmp/ipython-input-5-795458216.py:4: DtypeWarning: Columns (2) have mixed types. Specify dtype option on import or set low_memory=False.\n",
            "  for chunk in pd.read_csv('/content/drive/MyDrive/Azubi_TMP/TransBorder_Analysis_Project/Dataset/Full_Dataset.csv', chunksize=chunksize):\n",
            "/tmp/ipython-input-5-795458216.py:4: DtypeWarning: Columns (2) have mixed types. Specify dtype option on import or set low_memory=False.\n",
            "  for chunk in pd.read_csv('/content/drive/MyDrive/Azubi_TMP/TransBorder_Analysis_Project/Dataset/Full_Dataset.csv', chunksize=chunksize):\n",
            "/tmp/ipython-input-5-795458216.py:4: DtypeWarning: Columns (2) have mixed types. Specify dtype option on import or set low_memory=False.\n",
            "  for chunk in pd.read_csv('/content/drive/MyDrive/Azubi_TMP/TransBorder_Analysis_Project/Dataset/Full_Dataset.csv', chunksize=chunksize):\n",
            "/tmp/ipython-input-5-795458216.py:4: DtypeWarning: Columns (2) have mixed types. Specify dtype option on import or set low_memory=False.\n",
            "  for chunk in pd.read_csv('/content/drive/MyDrive/Azubi_TMP/TransBorder_Analysis_Project/Dataset/Full_Dataset.csv', chunksize=chunksize):\n",
            "/tmp/ipython-input-5-795458216.py:4: DtypeWarning: Columns (2) have mixed types. Specify dtype option on import or set low_memory=False.\n",
            "  for chunk in pd.read_csv('/content/drive/MyDrive/Azubi_TMP/TransBorder_Analysis_Project/Dataset/Full_Dataset.csv', chunksize=chunksize):\n",
            "/tmp/ipython-input-5-795458216.py:4: DtypeWarning: Columns (2) have mixed types. Specify dtype option on import or set low_memory=False.\n",
            "  for chunk in pd.read_csv('/content/drive/MyDrive/Azubi_TMP/TransBorder_Analysis_Project/Dataset/Full_Dataset.csv', chunksize=chunksize):\n",
            "/tmp/ipython-input-5-795458216.py:4: DtypeWarning: Columns (2) have mixed types. Specify dtype option on import or set low_memory=False.\n",
            "  for chunk in pd.read_csv('/content/drive/MyDrive/Azubi_TMP/TransBorder_Analysis_Project/Dataset/Full_Dataset.csv', chunksize=chunksize):\n",
            "/tmp/ipython-input-5-795458216.py:4: DtypeWarning: Columns (4) have mixed types. Specify dtype option on import or set low_memory=False.\n",
            "  for chunk in pd.read_csv('/content/drive/MyDrive/Azubi_TMP/TransBorder_Analysis_Project/Dataset/Full_Dataset.csv', chunksize=chunksize):\n"
          ]
        },
        {
          "output_type": "stream",
          "name": "stdout",
          "text": [
            "File loaded successfully with shape: (28355597, 15)\n"
          ]
        }
      ],
      "source": [
        "chunksize = 100000\n",
        "chunks = []\n",
        "\n",
        "for chunk in pd.read_csv('/content/drive/MyDrive/Azubi_TMP/TransBorder_Analysis_Project/Dataset/Full_Dataset.csv', chunksize=chunksize):\n",
        "\n",
        "    filtered_chunk = chunk[~(chunk['MEXSTATE'].isnull() & chunk['CANPROV'].isnull())]\n",
        "\n",
        "    chunks.append(filtered_chunk)\n",
        "\n",
        "df = pd.concat(chunks, ignore_index=True)\n",
        "print(\"File loaded successfully with shape:\", df.shape)"
      ]
    },
    {
      "cell_type": "markdown",
      "metadata": {
        "id": "D8rgP2904q3J"
      },
      "source": [
        "## **Dataset Initial View**"
      ]
    },
    {
      "cell_type": "code",
      "execution_count": null,
      "metadata": {
        "id": "q2wbzho45fmZ"
      },
      "outputs": [],
      "source": [
        "df.head()"
      ]
    },
    {
      "cell_type": "code",
      "execution_count": null,
      "metadata": {
        "colab": {
          "base_uri": "https://localhost:8080/"
        },
        "id": "v4yH-UWzn_fB",
        "outputId": "f4ba4d4d-40cc-447c-f4a8-f9495ae7b8e4"
      },
      "outputs": [
        {
          "name": "stdout",
          "output_type": "stream",
          "text": [
            "<class 'pandas.core.frame.DataFrame'>\n",
            "RangeIndex: 28355597 entries, 0 to 28355596\n",
            "Data columns (total 15 columns):\n",
            " #   Column           Dtype  \n",
            "---  ------           -----  \n",
            " 0   TRDTYPE          int64  \n",
            " 1   USASTATE         object \n",
            " 2   DEPE             object \n",
            " 3   DISAGMOT         int64  \n",
            " 4   MEXSTATE         object \n",
            " 5   CANPROV          object \n",
            " 6   COUNTRY          int64  \n",
            " 7   VALUE            int64  \n",
            " 8   SHIPWT           int64  \n",
            " 9   FREIGHT_CHARGES  int64  \n",
            " 10  DF               float64\n",
            " 11  CONTCODE         object \n",
            " 12  MONTH            float64\n",
            " 13  YEAR             float64\n",
            " 14  COMMODITY2       float64\n",
            "dtypes: float64(4), int64(6), object(5)\n",
            "memory usage: 3.2+ GB\n"
          ]
        }
      ],
      "source": [
        "df.info()"
      ]
    },
    {
      "cell_type": "code",
      "execution_count": null,
      "metadata": {
        "colab": {
          "base_uri": "https://localhost:8080/",
          "height": 554
        },
        "id": "-oeqDOnyopqT",
        "outputId": "4f8c6e72-a70e-4676-e524-0113f38dd5fd"
      },
      "outputs": [
        {
          "data": {
            "text/html": [
              "<div>\n",
              "<style scoped>\n",
              "    .dataframe tbody tr th:only-of-type {\n",
              "        vertical-align: middle;\n",
              "    }\n",
              "\n",
              "    .dataframe tbody tr th {\n",
              "        vertical-align: top;\n",
              "    }\n",
              "\n",
              "    .dataframe thead th {\n",
              "        text-align: right;\n",
              "    }\n",
              "</style>\n",
              "<table border=\"1\" class=\"dataframe\">\n",
              "  <thead>\n",
              "    <tr style=\"text-align: right;\">\n",
              "      <th></th>\n",
              "      <th>0</th>\n",
              "    </tr>\n",
              "  </thead>\n",
              "  <tbody>\n",
              "    <tr>\n",
              "      <th>TRDTYPE</th>\n",
              "      <td>0</td>\n",
              "    </tr>\n",
              "    <tr>\n",
              "      <th>USASTATE</th>\n",
              "      <td>0</td>\n",
              "    </tr>\n",
              "    <tr>\n",
              "      <th>DEPE</th>\n",
              "      <td>20854845</td>\n",
              "    </tr>\n",
              "    <tr>\n",
              "      <th>DISAGMOT</th>\n",
              "      <td>0</td>\n",
              "    </tr>\n",
              "    <tr>\n",
              "      <th>MEXSTATE</th>\n",
              "      <td>18476837</td>\n",
              "    </tr>\n",
              "    <tr>\n",
              "      <th>CANPROV</th>\n",
              "      <td>9878760</td>\n",
              "    </tr>\n",
              "    <tr>\n",
              "      <th>COUNTRY</th>\n",
              "      <td>0</td>\n",
              "    </tr>\n",
              "    <tr>\n",
              "      <th>VALUE</th>\n",
              "      <td>0</td>\n",
              "    </tr>\n",
              "    <tr>\n",
              "      <th>SHIPWT</th>\n",
              "      <td>0</td>\n",
              "    </tr>\n",
              "    <tr>\n",
              "      <th>FREIGHT_CHARGES</th>\n",
              "      <td>0</td>\n",
              "    </tr>\n",
              "    <tr>\n",
              "      <th>DF</th>\n",
              "      <td>7894981</td>\n",
              "    </tr>\n",
              "    <tr>\n",
              "      <th>CONTCODE</th>\n",
              "      <td>0</td>\n",
              "    </tr>\n",
              "    <tr>\n",
              "      <th>MONTH</th>\n",
              "      <td>404893</td>\n",
              "    </tr>\n",
              "    <tr>\n",
              "      <th>YEAR</th>\n",
              "      <td>0</td>\n",
              "    </tr>\n",
              "    <tr>\n",
              "      <th>COMMODITY2</th>\n",
              "      <td>7500752</td>\n",
              "    </tr>\n",
              "  </tbody>\n",
              "</table>\n",
              "</div><br><label><b>dtype:</b> int64</label>"
            ],
            "text/plain": [
              "TRDTYPE                   0\n",
              "USASTATE                  0\n",
              "DEPE               20854845\n",
              "DISAGMOT                  0\n",
              "MEXSTATE           18476837\n",
              "CANPROV             9878760\n",
              "COUNTRY                   0\n",
              "VALUE                     0\n",
              "SHIPWT                    0\n",
              "FREIGHT_CHARGES           0\n",
              "DF                  7894981\n",
              "CONTCODE                  0\n",
              "MONTH                404893\n",
              "YEAR                      0\n",
              "COMMODITY2          7500752\n",
              "dtype: int64"
            ]
          },
          "execution_count": 7,
          "metadata": {},
          "output_type": "execute_result"
        }
      ],
      "source": [
        "df.isnull().sum()"
      ]
    },
    {
      "cell_type": "markdown",
      "metadata": {
        "id": "EgplM3KFaZXK"
      },
      "source": [
        "# **DATA PREPARATION**"
      ]
    },
    {
      "cell_type": "markdown",
      "metadata": {
        "id": "NY2PvmZNv2SP"
      },
      "source": [
        "## **Tackling Missing Values**"
      ]
    },
    {
      "cell_type": "markdown",
      "metadata": {
        "id": "IahsyFOlv-6g"
      },
      "source": [
        "### **Year**\n",
        "1 missing value. Replace with the previous value"
      ]
    },
    {
      "cell_type": "code",
      "execution_count": null,
      "metadata": {
        "colab": {
          "base_uri": "https://localhost:8080/"
        },
        "id": "mdFSYzuDvhQf",
        "outputId": "a5a4e665-c560-4aad-ab7d-65f7105bb0da"
      },
      "outputs": [
        {
          "output_type": "stream",
          "name": "stderr",
          "text": [
            "/tmp/ipython-input-6-4109573208.py:1: FutureWarning: Series.fillna with 'method' is deprecated and will raise in a future version. Use obj.ffill() or obj.bfill() instead.\n",
            "  df['YEAR'] = df['YEAR'].fillna(method='bfill')\n"
          ]
        }
      ],
      "source": [
        "df['YEAR'] = df['YEAR'].fillna(method='bfill')"
      ]
    },
    {
      "cell_type": "markdown",
      "metadata": {
        "id": "ebJvTSHF4ZlD"
      },
      "source": [
        "### **Month**\n",
        "Group by year and fill with modal month for each year. I the modal month for a particular year cannot be determined, replace with month 1 (January)."
      ]
    },
    {
      "cell_type": "code",
      "execution_count": null,
      "metadata": {
        "id": "o3rV2pFg43rr"
      },
      "outputs": [],
      "source": [
        "df['MONTH'] = df.groupby('YEAR')['MONTH'].transform(lambda x: x.fillna(x.mode()[0] if not x.mode().empty else 1))"
      ]
    },
    {
      "cell_type": "markdown",
      "metadata": {
        "id": "5hG1GqSO-lix"
      },
      "source": [
        "### **Commodity2**\n",
        "Group by country and fill with modal commodity code for each country. If modal commodity code is undetermined, fill with a new code category 00, representing Unknown."
      ]
    },
    {
      "cell_type": "code",
      "execution_count": null,
      "metadata": {
        "id": "AoC81N8RV7tx"
      },
      "outputs": [],
      "source": [
        "# Precompute the mode per country\n",
        "commodity_mode_map = df.groupby('COUNTRY')['COMMODITY2'].agg(lambda x: x.mode().iloc[0] if not x.mode().empty else 00).to_dict()\n",
        "\n",
        "# Fill missing values using the map\n",
        "df['COMMODITY2'] = df['COMMODITY2'].fillna(df['COUNTRY'].map(commodity_mode_map))"
      ]
    },
    {
      "cell_type": "markdown",
      "metadata": {
        "id": "RCEdP2m0qSGi"
      },
      "source": [
        "### **USASTATE, MEXSTATE & CANPROV**\n",
        "---\n",
        "The USASTATE column should not have any null values, because each record is either an export or import to or from either of MEXSTATE or CANPROV. However, the MEXSTATE and CANPROV columns can have null values. But then again, no row can have both MEXSTATE and CANPROV empty at the same time.\n",
        "\n",
        "**Confirm number of missing values in USASTATE column.**"
      ]
    },
    {
      "cell_type": "code",
      "execution_count": null,
      "metadata": {
        "colab": {
          "base_uri": "https://localhost:8080/"
        },
        "id": "pLoO9YgypMzw",
        "outputId": "d4339f44-daa1-48d8-ae03-bdabff158f0e"
      },
      "outputs": [
        {
          "output_type": "stream",
          "name": "stdout",
          "text": [
            "Missing USASTATE rows: 0\n"
          ]
        }
      ],
      "source": [
        "missing_usa = df[df['USASTATE'].isnull()]\n",
        "print(\"Missing USASTATE rows:\", len(missing_usa))"
      ]
    },
    {
      "cell_type": "markdown",
      "metadata": {
        "id": "40AKU-xHsLM4"
      },
      "source": [
        "**Check number of rows where both MEXSTATE and CANPROV fields are null.**"
      ]
    },
    {
      "cell_type": "code",
      "execution_count": null,
      "metadata": {
        "colab": {
          "base_uri": "https://localhost:8080/"
        },
        "id": "YLDOTz4VpTap",
        "outputId": "2286f249-d314-47d0-f710-367e39665230"
      },
      "outputs": [
        {
          "output_type": "stream",
          "name": "stdout",
          "text": [
            "Rows where both MEXSTATE and CANPROV are null: 0\n"
          ]
        }
      ],
      "source": [
        "both_missing = df[df['MEXSTATE'].isnull() & df['CANPROV'].isnull()]\n",
        "print(\"Rows where both MEXSTATE and CANPROV are null:\", len(both_missing))"
      ]
    },
    {
      "cell_type": "markdown",
      "metadata": {
        "id": "aYyXyoT6sVJv"
      },
      "source": [
        "**Now check if there are rows where both MEXSTATE and CANPROV have values. This should not exist.**"
      ]
    },
    {
      "cell_type": "code",
      "execution_count": null,
      "metadata": {
        "colab": {
          "base_uri": "https://localhost:8080/"
        },
        "id": "sEVw-84Sppbx",
        "outputId": "0a99a232-102c-40e2-faff-3f43166e9dfb"
      },
      "outputs": [
        {
          "output_type": "stream",
          "name": "stdout",
          "text": [
            "Rows where both MEXSTATE and CANPROV are filled: 0\n"
          ]
        }
      ],
      "source": [
        "both_filled = df[df['MEXSTATE'].notnull() & df['CANPROV'].notnull()]\n",
        "print(\"Rows where both MEXSTATE and CANPROV are filled:\", len(both_filled))"
      ]
    },
    {
      "cell_type": "markdown",
      "metadata": {
        "id": "fLNw_kNZ-qPo"
      },
      "source": [
        "**Fill in empty values in USASTATE column with modal USASTATE per District/Port  (DEPE)**"
      ]
    },
    {
      "cell_type": "code",
      "execution_count": null,
      "metadata": {
        "id": "R7pA-yaDs8wv"
      },
      "outputs": [],
      "source": [
        "# Get most common USASTATE per DEPE\n",
        "usastate_map = df.groupby('DEPE')['USASTATE'].agg(lambda x: x.mode().iloc[0] if not x.mode().empty else None).to_dict()\n",
        "\n",
        "# Fill missing values using the map\n",
        "df['USASTATE'] = df['USASTATE'].fillna(df['DEPE'].map(usastate_map))"
      ]
    },
    {
      "cell_type": "code",
      "execution_count": null,
      "metadata": {
        "colab": {
          "base_uri": "https://localhost:8080/"
        },
        "id": "IY_3W5xzvf4v",
        "outputId": "49ef5b0b-c9a7-43e6-f0ec-07a2031e1af3"
      },
      "outputs": [
        {
          "output_type": "execute_result",
          "data": {
            "text/plain": [
              "TRDTYPE                   0\n",
              "USASTATE                  0\n",
              "DEPE               20854845\n",
              "DISAGMOT                  0\n",
              "MEXSTATE           18476837\n",
              "CANPROV             9878760\n",
              "COUNTRY                   0\n",
              "VALUE                     0\n",
              "SHIPWT                    0\n",
              "FREIGHT_CHARGES           0\n",
              "DF                  7894981\n",
              "CONTCODE                  0\n",
              "MONTH                     0\n",
              "YEAR                      0\n",
              "COMMODITY2                0\n",
              "dtype: int64"
            ],
            "text/html": [
              "<div>\n",
              "<style scoped>\n",
              "    .dataframe tbody tr th:only-of-type {\n",
              "        vertical-align: middle;\n",
              "    }\n",
              "\n",
              "    .dataframe tbody tr th {\n",
              "        vertical-align: top;\n",
              "    }\n",
              "\n",
              "    .dataframe thead th {\n",
              "        text-align: right;\n",
              "    }\n",
              "</style>\n",
              "<table border=\"1\" class=\"dataframe\">\n",
              "  <thead>\n",
              "    <tr style=\"text-align: right;\">\n",
              "      <th></th>\n",
              "      <th>0</th>\n",
              "    </tr>\n",
              "  </thead>\n",
              "  <tbody>\n",
              "    <tr>\n",
              "      <th>TRDTYPE</th>\n",
              "      <td>0</td>\n",
              "    </tr>\n",
              "    <tr>\n",
              "      <th>USASTATE</th>\n",
              "      <td>0</td>\n",
              "    </tr>\n",
              "    <tr>\n",
              "      <th>DEPE</th>\n",
              "      <td>20854845</td>\n",
              "    </tr>\n",
              "    <tr>\n",
              "      <th>DISAGMOT</th>\n",
              "      <td>0</td>\n",
              "    </tr>\n",
              "    <tr>\n",
              "      <th>MEXSTATE</th>\n",
              "      <td>18476837</td>\n",
              "    </tr>\n",
              "    <tr>\n",
              "      <th>CANPROV</th>\n",
              "      <td>9878760</td>\n",
              "    </tr>\n",
              "    <tr>\n",
              "      <th>COUNTRY</th>\n",
              "      <td>0</td>\n",
              "    </tr>\n",
              "    <tr>\n",
              "      <th>VALUE</th>\n",
              "      <td>0</td>\n",
              "    </tr>\n",
              "    <tr>\n",
              "      <th>SHIPWT</th>\n",
              "      <td>0</td>\n",
              "    </tr>\n",
              "    <tr>\n",
              "      <th>FREIGHT_CHARGES</th>\n",
              "      <td>0</td>\n",
              "    </tr>\n",
              "    <tr>\n",
              "      <th>DF</th>\n",
              "      <td>7894981</td>\n",
              "    </tr>\n",
              "    <tr>\n",
              "      <th>CONTCODE</th>\n",
              "      <td>0</td>\n",
              "    </tr>\n",
              "    <tr>\n",
              "      <th>MONTH</th>\n",
              "      <td>0</td>\n",
              "    </tr>\n",
              "    <tr>\n",
              "      <th>YEAR</th>\n",
              "      <td>0</td>\n",
              "    </tr>\n",
              "    <tr>\n",
              "      <th>COMMODITY2</th>\n",
              "      <td>0</td>\n",
              "    </tr>\n",
              "  </tbody>\n",
              "</table>\n",
              "</div><br><label><b>dtype:</b> int64</label>"
            ]
          },
          "metadata": {},
          "execution_count": 13
        }
      ],
      "source": [
        "df.isnull().sum()"
      ]
    },
    {
      "cell_type": "markdown",
      "metadata": {
        "id": "IKvKV1u03Xhc"
      },
      "source": [
        "**Save rows where both MEXSTATE and CANPROV are null as a CSV (backup), and then drop them from the dataset**"
      ]
    },
    {
      "cell_type": "code",
      "execution_count": null,
      "metadata": {
        "id": "oed65DdhwKuy"
      },
      "outputs": [],
      "source": [
        "# Save rows where both MEXSTATE and CANPROV are null as a CSV\n",
        "both_missing.to_csv(\"/content/drive/MyDrive/Azubi_TMP/TransBorder_Analysis_Project/Dataset/rows_with_both_mexstate_canprov_null.csv\", index=False)"
      ]
    },
    {
      "cell_type": "markdown",
      "metadata": {
        "id": "-8wLQPjoF_sa"
      },
      "source": [
        "### **District/Port (DEPE)**\n",
        "\n",
        "It is incomplete to have a freight without an associated porto of entry or exit, thus the DEPE column should not be empty."
      ]
    },
    {
      "cell_type": "code",
      "execution_count": null,
      "metadata": {
        "colab": {
          "base_uri": "https://localhost:8080/"
        },
        "id": "0nbxQ7osGdHJ",
        "outputId": "8626059d-7707-47fe-f9c6-21170837136a"
      },
      "outputs": [
        {
          "output_type": "stream",
          "name": "stdout",
          "text": [
            "Rows with missing DEPE (port): 20854845\n"
          ]
        }
      ],
      "source": [
        "# Check number of missing values in DEPE column\n",
        "missing_depe = df[df['DEPE'].isnull()]\n",
        "print(\"Rows with missing DEPE (port):\", missing_depe.shape[0])"
      ]
    },
    {
      "cell_type": "code",
      "execution_count": null,
      "metadata": {
        "id": "3a1nreisQXwL"
      },
      "outputs": [],
      "source": [
        "# compute common DEPE per usastate\n",
        "depe_map = df.groupby('USASTATE')['DEPE'].agg(lambda x: x.mode().iloc[0] if not x.mode().empty else None).to_dict()\n",
        "\n",
        "# Fill missing DEPE based on usastate\n",
        "df['DEPE'] = df['DEPE'].fillna(df['USASTATE'].map(depe_map))"
      ]
    },
    {
      "cell_type": "code",
      "execution_count": null,
      "metadata": {
        "colab": {
          "base_uri": "https://localhost:8080/"
        },
        "id": "7sU5N-hKRkub",
        "outputId": "9473bf4d-67e7-4d6b-84b1-1e93ccecc1df"
      },
      "outputs": [
        {
          "output_type": "execute_result",
          "data": {
            "text/plain": [
              "TRDTYPE                   0\n",
              "USASTATE                  0\n",
              "DEPE                      0\n",
              "DISAGMOT                  0\n",
              "MEXSTATE           18476837\n",
              "CANPROV             9878760\n",
              "COUNTRY                   0\n",
              "VALUE                     0\n",
              "SHIPWT                    0\n",
              "FREIGHT_CHARGES           0\n",
              "DF                  7894981\n",
              "CONTCODE                  0\n",
              "MONTH                     0\n",
              "YEAR                      0\n",
              "COMMODITY2                0\n",
              "dtype: int64"
            ],
            "text/html": [
              "<div>\n",
              "<style scoped>\n",
              "    .dataframe tbody tr th:only-of-type {\n",
              "        vertical-align: middle;\n",
              "    }\n",
              "\n",
              "    .dataframe tbody tr th {\n",
              "        vertical-align: top;\n",
              "    }\n",
              "\n",
              "    .dataframe thead th {\n",
              "        text-align: right;\n",
              "    }\n",
              "</style>\n",
              "<table border=\"1\" class=\"dataframe\">\n",
              "  <thead>\n",
              "    <tr style=\"text-align: right;\">\n",
              "      <th></th>\n",
              "      <th>0</th>\n",
              "    </tr>\n",
              "  </thead>\n",
              "  <tbody>\n",
              "    <tr>\n",
              "      <th>TRDTYPE</th>\n",
              "      <td>0</td>\n",
              "    </tr>\n",
              "    <tr>\n",
              "      <th>USASTATE</th>\n",
              "      <td>0</td>\n",
              "    </tr>\n",
              "    <tr>\n",
              "      <th>DEPE</th>\n",
              "      <td>0</td>\n",
              "    </tr>\n",
              "    <tr>\n",
              "      <th>DISAGMOT</th>\n",
              "      <td>0</td>\n",
              "    </tr>\n",
              "    <tr>\n",
              "      <th>MEXSTATE</th>\n",
              "      <td>18476837</td>\n",
              "    </tr>\n",
              "    <tr>\n",
              "      <th>CANPROV</th>\n",
              "      <td>9878760</td>\n",
              "    </tr>\n",
              "    <tr>\n",
              "      <th>COUNTRY</th>\n",
              "      <td>0</td>\n",
              "    </tr>\n",
              "    <tr>\n",
              "      <th>VALUE</th>\n",
              "      <td>0</td>\n",
              "    </tr>\n",
              "    <tr>\n",
              "      <th>SHIPWT</th>\n",
              "      <td>0</td>\n",
              "    </tr>\n",
              "    <tr>\n",
              "      <th>FREIGHT_CHARGES</th>\n",
              "      <td>0</td>\n",
              "    </tr>\n",
              "    <tr>\n",
              "      <th>DF</th>\n",
              "      <td>7894981</td>\n",
              "    </tr>\n",
              "    <tr>\n",
              "      <th>CONTCODE</th>\n",
              "      <td>0</td>\n",
              "    </tr>\n",
              "    <tr>\n",
              "      <th>MONTH</th>\n",
              "      <td>0</td>\n",
              "    </tr>\n",
              "    <tr>\n",
              "      <th>YEAR</th>\n",
              "      <td>0</td>\n",
              "    </tr>\n",
              "    <tr>\n",
              "      <th>COMMODITY2</th>\n",
              "      <td>0</td>\n",
              "    </tr>\n",
              "  </tbody>\n",
              "</table>\n",
              "</div><br><label><b>dtype:</b> int64</label>"
            ]
          },
          "metadata": {},
          "execution_count": 17
        }
      ],
      "source": [
        "df.isnull().sum()"
      ]
    },
    {
      "cell_type": "markdown",
      "metadata": {
        "id": "Q_DIJRXcUpwa"
      },
      "source": [
        "### **Domestic/Foreign (DF)**\n",
        "\n",
        "Since the Transaction Type tells whether it's an import or export, we can infer from that column to fill null values in the DF column. Export means Domestic and Import means Foreign."
      ]
    },
    {
      "cell_type": "code",
      "execution_count": null,
      "metadata": {
        "id": "g0cPKdbBUt3x"
      },
      "outputs": [],
      "source": [
        "# Fill DF = 1 for exports (TRDTYPE == 1), only where DF is missing\n",
        "df.loc[(df['DF'].isnull()) & (df['TRDTYPE'] == 1), 'DF'] = 1\n",
        "\n",
        "# Fill DF = 2 for imports (TRDTYPE == 2), only where DF is missing\n",
        "df.loc[(df['DF'].isnull()) & (df['TRDTYPE'] == 2), 'DF'] = 2"
      ]
    },
    {
      "cell_type": "code",
      "execution_count": null,
      "metadata": {
        "colab": {
          "base_uri": "https://localhost:8080/"
        },
        "id": "MSQE91jGVPm1",
        "outputId": "b7ce55d7-16cb-4b23-a645-d85776c1ab1a"
      },
      "outputs": [
        {
          "output_type": "execute_result",
          "data": {
            "text/plain": [
              "TRDTYPE                   0\n",
              "USASTATE                  0\n",
              "DEPE                      0\n",
              "DISAGMOT                  0\n",
              "MEXSTATE           18476837\n",
              "CANPROV             9878760\n",
              "COUNTRY                   0\n",
              "VALUE                     0\n",
              "SHIPWT                    0\n",
              "FREIGHT_CHARGES           0\n",
              "DF                        0\n",
              "CONTCODE                  0\n",
              "MONTH                     0\n",
              "YEAR                      0\n",
              "COMMODITY2                0\n",
              "dtype: int64"
            ],
            "text/html": [
              "<div>\n",
              "<style scoped>\n",
              "    .dataframe tbody tr th:only-of-type {\n",
              "        vertical-align: middle;\n",
              "    }\n",
              "\n",
              "    .dataframe tbody tr th {\n",
              "        vertical-align: top;\n",
              "    }\n",
              "\n",
              "    .dataframe thead th {\n",
              "        text-align: right;\n",
              "    }\n",
              "</style>\n",
              "<table border=\"1\" class=\"dataframe\">\n",
              "  <thead>\n",
              "    <tr style=\"text-align: right;\">\n",
              "      <th></th>\n",
              "      <th>0</th>\n",
              "    </tr>\n",
              "  </thead>\n",
              "  <tbody>\n",
              "    <tr>\n",
              "      <th>TRDTYPE</th>\n",
              "      <td>0</td>\n",
              "    </tr>\n",
              "    <tr>\n",
              "      <th>USASTATE</th>\n",
              "      <td>0</td>\n",
              "    </tr>\n",
              "    <tr>\n",
              "      <th>DEPE</th>\n",
              "      <td>0</td>\n",
              "    </tr>\n",
              "    <tr>\n",
              "      <th>DISAGMOT</th>\n",
              "      <td>0</td>\n",
              "    </tr>\n",
              "    <tr>\n",
              "      <th>MEXSTATE</th>\n",
              "      <td>18476837</td>\n",
              "    </tr>\n",
              "    <tr>\n",
              "      <th>CANPROV</th>\n",
              "      <td>9878760</td>\n",
              "    </tr>\n",
              "    <tr>\n",
              "      <th>COUNTRY</th>\n",
              "      <td>0</td>\n",
              "    </tr>\n",
              "    <tr>\n",
              "      <th>VALUE</th>\n",
              "      <td>0</td>\n",
              "    </tr>\n",
              "    <tr>\n",
              "      <th>SHIPWT</th>\n",
              "      <td>0</td>\n",
              "    </tr>\n",
              "    <tr>\n",
              "      <th>FREIGHT_CHARGES</th>\n",
              "      <td>0</td>\n",
              "    </tr>\n",
              "    <tr>\n",
              "      <th>DF</th>\n",
              "      <td>0</td>\n",
              "    </tr>\n",
              "    <tr>\n",
              "      <th>CONTCODE</th>\n",
              "      <td>0</td>\n",
              "    </tr>\n",
              "    <tr>\n",
              "      <th>MONTH</th>\n",
              "      <td>0</td>\n",
              "    </tr>\n",
              "    <tr>\n",
              "      <th>YEAR</th>\n",
              "      <td>0</td>\n",
              "    </tr>\n",
              "    <tr>\n",
              "      <th>COMMODITY2</th>\n",
              "      <td>0</td>\n",
              "    </tr>\n",
              "  </tbody>\n",
              "</table>\n",
              "</div><br><label><b>dtype:</b> int64</label>"
            ]
          },
          "metadata": {},
          "execution_count": 19
        }
      ],
      "source": [
        "df.isnull().sum()"
      ]
    },
    {
      "cell_type": "markdown",
      "metadata": {
        "id": "E3Ya90GeZn4c"
      },
      "source": [
        "## **Checking and Converting Datatypes**"
      ]
    },
    {
      "cell_type": "code",
      "execution_count": null,
      "metadata": {
        "id": "gTAJ4x46WDS6"
      },
      "outputs": [],
      "source": [
        "# Convert some columns to String\n",
        "df['TRDTYPE'] = df['TRDTYPE'].astype('category')\n",
        "df['DISAGMOT'] = df['DISAGMOT'].astype('category')\n",
        "df['COUNTRY'] = df['COUNTRY'].astype('category')\n",
        "df['COMMODITY2'] = df['COMMODITY2'].astype('category')"
      ]
    },
    {
      "cell_type": "code",
      "execution_count": null,
      "metadata": {
        "colab": {
          "base_uri": "https://localhost:8080/"
        },
        "id": "Q9a10XYAcxG6",
        "outputId": "d4c0eebd-bded-4b0a-aa53-c1a4552c5d53"
      },
      "outputs": [
        {
          "output_type": "stream",
          "name": "stdout",
          "text": [
            "<class 'pandas.core.frame.DataFrame'>\n",
            "RangeIndex: 28355597 entries, 0 to 28355596\n",
            "Data columns (total 15 columns):\n",
            " #   Column           Dtype   \n",
            "---  ------           -----   \n",
            " 0   TRDTYPE          category\n",
            " 1   USASTATE         object  \n",
            " 2   DEPE             object  \n",
            " 3   DISAGMOT         category\n",
            " 4   MEXSTATE         object  \n",
            " 5   CANPROV          object  \n",
            " 6   COUNTRY          category\n",
            " 7   VALUE            int64   \n",
            " 8   SHIPWT           int64   \n",
            " 9   FREIGHT_CHARGES  int64   \n",
            " 10  DF               float64 \n",
            " 11  CONTCODE         object  \n",
            " 12  MONTH            float64 \n",
            " 13  YEAR             float64 \n",
            " 14  COMMODITY2       category\n",
            "dtypes: category(4), float64(3), int64(3), object(5)\n",
            "memory usage: 2.4+ GB\n"
          ]
        }
      ],
      "source": [
        "df.info()"
      ]
    },
    {
      "cell_type": "code",
      "source": [
        "# Convert MONTH and YEAR to integers\n",
        "df['MONTH'] = df['MONTH'].astype('Int64')\n",
        "df['YEAR'] = df['YEAR'].astype('Int64')"
      ],
      "metadata": {
        "id": "zBcc8kE9TBDT"
      },
      "execution_count": null,
      "outputs": []
    },
    {
      "cell_type": "markdown",
      "source": [
        "## **Save Dataset**"
      ],
      "metadata": {
        "id": "JE4NjrxKs8I4"
      }
    },
    {
      "cell_type": "code",
      "execution_count": null,
      "metadata": {
        "id": "gpW5qzrudVnx",
        "colab": {
          "base_uri": "https://localhost:8080/"
        },
        "outputId": "d16206c9-1234-4d23-c731-7a0bc5d34bc2"
      },
      "outputs": [
        {
          "output_type": "stream",
          "name": "stdout",
          "text": [
            "Merged file saved to: /content/drive/MyDrive/Azubi_TMP/TransBorder_Analysis_Project/Dataset/Cleaned/cleaned_1.csv\n"
          ]
        }
      ],
      "source": [
        "# Save the cleaned data\n",
        "output_path = os.path.join('/content/drive/MyDrive/Azubi_TMP/TransBorder_Analysis_Project/Dataset/Cleaned/', \"cleaned_1.csv\")\n",
        "df.to_csv(output_path, index=False)\n",
        "print(f\"Merged file saved to: {output_path}\")"
      ]
    },
    {
      "cell_type": "markdown",
      "source": [
        "CHECKPOINT - Because of Memory Issues, Dataset has been cleaned to this point and saved. It will be uploaded and cleaning will continue"
      ],
      "metadata": {
        "id": "BqETXm2iZ6PO"
      }
    },
    {
      "cell_type": "code",
      "source": [
        "chunksize = 100000\n",
        "chunks = []\n",
        "\n",
        "for chunk in pd.read_csv('/content/drive/MyDrive/Azubi_TMP/TransBorder_Analysis_Project/Dataset/Cleaned/cleaned_1.csv', chunksize=chunksize):\n",
        "\n",
        "    chunks.append(chunk)\n",
        "\n",
        "df = pd.concat(chunks, ignore_index=True)\n",
        "print(\"File loaded successfully with shape:\", df.shape)"
      ],
      "metadata": {
        "colab": {
          "base_uri": "https://localhost:8080/"
        },
        "id": "lWHHgv99zlA9",
        "outputId": "be529188-7e0d-4dd0-913d-37874e381c9b",
        "collapsed": true
      },
      "execution_count": null,
      "outputs": [
        {
          "output_type": "stream",
          "name": "stderr",
          "text": [
            "/tmp/ipython-input-3-618174959.py:4: DtypeWarning: Columns (2) have mixed types. Specify dtype option on import or set low_memory=False.\n",
            "  for chunk in pd.read_csv('/content/drive/MyDrive/Azubi_TMP/TransBorder_Analysis_Project/Dataset/Cleaned/cleaned_1.csv', chunksize=chunksize):\n",
            "/tmp/ipython-input-3-618174959.py:4: DtypeWarning: Columns (2) have mixed types. Specify dtype option on import or set low_memory=False.\n",
            "  for chunk in pd.read_csv('/content/drive/MyDrive/Azubi_TMP/TransBorder_Analysis_Project/Dataset/Cleaned/cleaned_1.csv', chunksize=chunksize):\n",
            "/tmp/ipython-input-3-618174959.py:4: DtypeWarning: Columns (2) have mixed types. Specify dtype option on import or set low_memory=False.\n",
            "  for chunk in pd.read_csv('/content/drive/MyDrive/Azubi_TMP/TransBorder_Analysis_Project/Dataset/Cleaned/cleaned_1.csv', chunksize=chunksize):\n",
            "/tmp/ipython-input-3-618174959.py:4: DtypeWarning: Columns (2) have mixed types. Specify dtype option on import or set low_memory=False.\n",
            "  for chunk in pd.read_csv('/content/drive/MyDrive/Azubi_TMP/TransBorder_Analysis_Project/Dataset/Cleaned/cleaned_1.csv', chunksize=chunksize):\n",
            "/tmp/ipython-input-3-618174959.py:4: DtypeWarning: Columns (2) have mixed types. Specify dtype option on import or set low_memory=False.\n",
            "  for chunk in pd.read_csv('/content/drive/MyDrive/Azubi_TMP/TransBorder_Analysis_Project/Dataset/Cleaned/cleaned_1.csv', chunksize=chunksize):\n",
            "/tmp/ipython-input-3-618174959.py:4: DtypeWarning: Columns (2) have mixed types. Specify dtype option on import or set low_memory=False.\n",
            "  for chunk in pd.read_csv('/content/drive/MyDrive/Azubi_TMP/TransBorder_Analysis_Project/Dataset/Cleaned/cleaned_1.csv', chunksize=chunksize):\n",
            "/tmp/ipython-input-3-618174959.py:4: DtypeWarning: Columns (2) have mixed types. Specify dtype option on import or set low_memory=False.\n",
            "  for chunk in pd.read_csv('/content/drive/MyDrive/Azubi_TMP/TransBorder_Analysis_Project/Dataset/Cleaned/cleaned_1.csv', chunksize=chunksize):\n",
            "/tmp/ipython-input-3-618174959.py:4: DtypeWarning: Columns (2) have mixed types. Specify dtype option on import or set low_memory=False.\n",
            "  for chunk in pd.read_csv('/content/drive/MyDrive/Azubi_TMP/TransBorder_Analysis_Project/Dataset/Cleaned/cleaned_1.csv', chunksize=chunksize):\n",
            "/tmp/ipython-input-3-618174959.py:4: DtypeWarning: Columns (2) have mixed types. Specify dtype option on import or set low_memory=False.\n",
            "  for chunk in pd.read_csv('/content/drive/MyDrive/Azubi_TMP/TransBorder_Analysis_Project/Dataset/Cleaned/cleaned_1.csv', chunksize=chunksize):\n",
            "/tmp/ipython-input-3-618174959.py:4: DtypeWarning: Columns (2) have mixed types. Specify dtype option on import or set low_memory=False.\n",
            "  for chunk in pd.read_csv('/content/drive/MyDrive/Azubi_TMP/TransBorder_Analysis_Project/Dataset/Cleaned/cleaned_1.csv', chunksize=chunksize):\n",
            "/tmp/ipython-input-3-618174959.py:4: DtypeWarning: Columns (2) have mixed types. Specify dtype option on import or set low_memory=False.\n",
            "  for chunk in pd.read_csv('/content/drive/MyDrive/Azubi_TMP/TransBorder_Analysis_Project/Dataset/Cleaned/cleaned_1.csv', chunksize=chunksize):\n",
            "/tmp/ipython-input-3-618174959.py:4: DtypeWarning: Columns (2) have mixed types. Specify dtype option on import or set low_memory=False.\n",
            "  for chunk in pd.read_csv('/content/drive/MyDrive/Azubi_TMP/TransBorder_Analysis_Project/Dataset/Cleaned/cleaned_1.csv', chunksize=chunksize):\n",
            "/tmp/ipython-input-3-618174959.py:4: DtypeWarning: Columns (2) have mixed types. Specify dtype option on import or set low_memory=False.\n",
            "  for chunk in pd.read_csv('/content/drive/MyDrive/Azubi_TMP/TransBorder_Analysis_Project/Dataset/Cleaned/cleaned_1.csv', chunksize=chunksize):\n",
            "/tmp/ipython-input-3-618174959.py:4: DtypeWarning: Columns (2) have mixed types. Specify dtype option on import or set low_memory=False.\n",
            "  for chunk in pd.read_csv('/content/drive/MyDrive/Azubi_TMP/TransBorder_Analysis_Project/Dataset/Cleaned/cleaned_1.csv', chunksize=chunksize):\n",
            "/tmp/ipython-input-3-618174959.py:4: DtypeWarning: Columns (2) have mixed types. Specify dtype option on import or set low_memory=False.\n",
            "  for chunk in pd.read_csv('/content/drive/MyDrive/Azubi_TMP/TransBorder_Analysis_Project/Dataset/Cleaned/cleaned_1.csv', chunksize=chunksize):\n",
            "/tmp/ipython-input-3-618174959.py:4: DtypeWarning: Columns (2) have mixed types. Specify dtype option on import or set low_memory=False.\n",
            "  for chunk in pd.read_csv('/content/drive/MyDrive/Azubi_TMP/TransBorder_Analysis_Project/Dataset/Cleaned/cleaned_1.csv', chunksize=chunksize):\n"
          ]
        },
        {
          "output_type": "stream",
          "name": "stdout",
          "text": [
            "File loaded successfully with shape: (28355597, 15)\n"
          ]
        }
      ]
    },
    {
      "cell_type": "code",
      "execution_count": null,
      "metadata": {
        "id": "zFUJGl9kguir"
      },
      "outputs": [],
      "source": [
        "# Combine month and year into a proper datetime object\n",
        "df['DATE'] = pd.to_datetime(dict(year=df['YEAR'], month=df['MONTH'], day=1))"
      ]
    },
    {
      "cell_type": "markdown",
      "source": [
        "## **Continued Cleaning Process**\n",
        "\n",
        "Checking for negative values in the numeric columns (Value, Weight and Freight Charges."
      ],
      "metadata": {
        "id": "fugpqb-09-YT"
      }
    },
    {
      "cell_type": "code",
      "source": [
        "numeric_cols = ['VALUE', 'SHIPWT', 'FREIGHT_CHARGES']\n",
        "for col in numeric_cols:\n",
        "    print(f\"{col} — Min: {df[col].min()}, Max: {df[col].max()}, Nulls: {df[col].isnull().sum()}\")"
      ],
      "metadata": {
        "colab": {
          "base_uri": "https://localhost:8080/"
        },
        "id": "_HmZPmcL0gCc",
        "outputId": "92f62327-b27f-45ca-871e-199aec9894d6"
      },
      "execution_count": null,
      "outputs": [
        {
          "output_type": "stream",
          "name": "stdout",
          "text": [
            "VALUE — Min: 0, Max: 50342121941, Nulls: 0\n",
            "SHIPWT — Min: 0, Max: 83993589100, Nulls: 0\n",
            "FREIGHT_CHARGES — Min: 0, Max: 2354837927, Nulls: 0\n"
          ]
        }
      ]
    },
    {
      "cell_type": "markdown",
      "source": [
        "## **Save the Final Cleaned Data**"
      ],
      "metadata": {
        "id": "WvUURBjd-sRm"
      }
    },
    {
      "cell_type": "code",
      "source": [
        "# Save the Final Cleaned Data\n",
        "output_path = os.path.join('/content/drive/MyDrive/Azubi_TMP/TransBorder_Analysis_Project/Dataset/Cleaned/', \"Final_Cleaned_Data.csv\")\n",
        "df.to_csv(output_path, index=False)\n",
        "print(f\"Merged file saved to: {output_path}\")"
      ],
      "metadata": {
        "colab": {
          "base_uri": "https://localhost:8080/"
        },
        "id": "sGfkBjc0-utz",
        "outputId": "ee7b43fa-9116-478e-8649-df7f052d0af6"
      },
      "execution_count": null,
      "outputs": [
        {
          "output_type": "stream",
          "name": "stdout",
          "text": [
            "Merged file saved to: /content/drive/MyDrive/Azubi_TMP/TransBorder_Analysis_Project/Dataset/Cleaned/Final_Cleaned_Data.csv\n"
          ]
        }
      ]
    },
    {
      "cell_type": "markdown",
      "source": [
        "## **Upload Final Cleaned Dataset to begin Analysis**"
      ],
      "metadata": {
        "id": "nTm6B3mr_zHy"
      }
    },
    {
      "cell_type": "code",
      "source": [
        "chunksize = 100000\n",
        "chunks = []\n",
        "\n",
        "for chunk in pd.read_csv('/content/drive/MyDrive/Azubi_TMP/TransBorder_Analysis_Project/Dataset/Cleaned/Final_Cleaned_Data.csv', chunksize=chunksize):\n",
        "\n",
        "    chunks.append(chunk)\n",
        "\n",
        "df = pd.concat(chunks, ignore_index=True)\n",
        "print(\"File loaded successfully with shape:\", df.shape)"
      ],
      "metadata": {
        "colab": {
          "base_uri": "https://localhost:8080/"
        },
        "id": "Fr63X7SC_qV7",
        "outputId": "9449c803-2fd2-4645-904c-b9446b8b50c1",
        "collapsed": true
      },
      "execution_count": 3,
      "outputs": [
        {
          "output_type": "stream",
          "name": "stderr",
          "text": [
            "/tmp/ipython-input-3-1603353380.py:4: DtypeWarning: Columns (2) have mixed types. Specify dtype option on import or set low_memory=False.\n",
            "  for chunk in pd.read_csv('/content/drive/MyDrive/Azubi_TMP/TransBorder_Analysis_Project/Dataset/Cleaned/Final_Cleaned_Data.csv', chunksize=chunksize):\n",
            "/tmp/ipython-input-3-1603353380.py:4: DtypeWarning: Columns (2) have mixed types. Specify dtype option on import or set low_memory=False.\n",
            "  for chunk in pd.read_csv('/content/drive/MyDrive/Azubi_TMP/TransBorder_Analysis_Project/Dataset/Cleaned/Final_Cleaned_Data.csv', chunksize=chunksize):\n",
            "/tmp/ipython-input-3-1603353380.py:4: DtypeWarning: Columns (2) have mixed types. Specify dtype option on import or set low_memory=False.\n",
            "  for chunk in pd.read_csv('/content/drive/MyDrive/Azubi_TMP/TransBorder_Analysis_Project/Dataset/Cleaned/Final_Cleaned_Data.csv', chunksize=chunksize):\n",
            "/tmp/ipython-input-3-1603353380.py:4: DtypeWarning: Columns (2) have mixed types. Specify dtype option on import or set low_memory=False.\n",
            "  for chunk in pd.read_csv('/content/drive/MyDrive/Azubi_TMP/TransBorder_Analysis_Project/Dataset/Cleaned/Final_Cleaned_Data.csv', chunksize=chunksize):\n",
            "/tmp/ipython-input-3-1603353380.py:4: DtypeWarning: Columns (2) have mixed types. Specify dtype option on import or set low_memory=False.\n",
            "  for chunk in pd.read_csv('/content/drive/MyDrive/Azubi_TMP/TransBorder_Analysis_Project/Dataset/Cleaned/Final_Cleaned_Data.csv', chunksize=chunksize):\n",
            "/tmp/ipython-input-3-1603353380.py:4: DtypeWarning: Columns (2,4,11) have mixed types. Specify dtype option on import or set low_memory=False.\n",
            "  for chunk in pd.read_csv('/content/drive/MyDrive/Azubi_TMP/TransBorder_Analysis_Project/Dataset/Cleaned/Final_Cleaned_Data.csv', chunksize=chunksize):\n",
            "/tmp/ipython-input-3-1603353380.py:4: DtypeWarning: Columns (2) have mixed types. Specify dtype option on import or set low_memory=False.\n",
            "  for chunk in pd.read_csv('/content/drive/MyDrive/Azubi_TMP/TransBorder_Analysis_Project/Dataset/Cleaned/Final_Cleaned_Data.csv', chunksize=chunksize):\n",
            "/tmp/ipython-input-3-1603353380.py:4: DtypeWarning: Columns (2,4,11) have mixed types. Specify dtype option on import or set low_memory=False.\n",
            "  for chunk in pd.read_csv('/content/drive/MyDrive/Azubi_TMP/TransBorder_Analysis_Project/Dataset/Cleaned/Final_Cleaned_Data.csv', chunksize=chunksize):\n",
            "/tmp/ipython-input-3-1603353380.py:4: DtypeWarning: Columns (2) have mixed types. Specify dtype option on import or set low_memory=False.\n",
            "  for chunk in pd.read_csv('/content/drive/MyDrive/Azubi_TMP/TransBorder_Analysis_Project/Dataset/Cleaned/Final_Cleaned_Data.csv', chunksize=chunksize):\n",
            "/tmp/ipython-input-3-1603353380.py:4: DtypeWarning: Columns (2,4,11) have mixed types. Specify dtype option on import or set low_memory=False.\n",
            "  for chunk in pd.read_csv('/content/drive/MyDrive/Azubi_TMP/TransBorder_Analysis_Project/Dataset/Cleaned/Final_Cleaned_Data.csv', chunksize=chunksize):\n",
            "/tmp/ipython-input-3-1603353380.py:4: DtypeWarning: Columns (2) have mixed types. Specify dtype option on import or set low_memory=False.\n",
            "  for chunk in pd.read_csv('/content/drive/MyDrive/Azubi_TMP/TransBorder_Analysis_Project/Dataset/Cleaned/Final_Cleaned_Data.csv', chunksize=chunksize):\n",
            "/tmp/ipython-input-3-1603353380.py:4: DtypeWarning: Columns (2) have mixed types. Specify dtype option on import or set low_memory=False.\n",
            "  for chunk in pd.read_csv('/content/drive/MyDrive/Azubi_TMP/TransBorder_Analysis_Project/Dataset/Cleaned/Final_Cleaned_Data.csv', chunksize=chunksize):\n",
            "/tmp/ipython-input-3-1603353380.py:4: DtypeWarning: Columns (2) have mixed types. Specify dtype option on import or set low_memory=False.\n",
            "  for chunk in pd.read_csv('/content/drive/MyDrive/Azubi_TMP/TransBorder_Analysis_Project/Dataset/Cleaned/Final_Cleaned_Data.csv', chunksize=chunksize):\n",
            "/tmp/ipython-input-3-1603353380.py:4: DtypeWarning: Columns (2) have mixed types. Specify dtype option on import or set low_memory=False.\n",
            "  for chunk in pd.read_csv('/content/drive/MyDrive/Azubi_TMP/TransBorder_Analysis_Project/Dataset/Cleaned/Final_Cleaned_Data.csv', chunksize=chunksize):\n",
            "/tmp/ipython-input-3-1603353380.py:4: DtypeWarning: Columns (2) have mixed types. Specify dtype option on import or set low_memory=False.\n",
            "  for chunk in pd.read_csv('/content/drive/MyDrive/Azubi_TMP/TransBorder_Analysis_Project/Dataset/Cleaned/Final_Cleaned_Data.csv', chunksize=chunksize):\n",
            "/tmp/ipython-input-3-1603353380.py:4: DtypeWarning: Columns (2) have mixed types. Specify dtype option on import or set low_memory=False.\n",
            "  for chunk in pd.read_csv('/content/drive/MyDrive/Azubi_TMP/TransBorder_Analysis_Project/Dataset/Cleaned/Final_Cleaned_Data.csv', chunksize=chunksize):\n",
            "/tmp/ipython-input-3-1603353380.py:4: DtypeWarning: Columns (2) have mixed types. Specify dtype option on import or set low_memory=False.\n",
            "  for chunk in pd.read_csv('/content/drive/MyDrive/Azubi_TMP/TransBorder_Analysis_Project/Dataset/Cleaned/Final_Cleaned_Data.csv', chunksize=chunksize):\n",
            "/tmp/ipython-input-3-1603353380.py:4: DtypeWarning: Columns (4,11) have mixed types. Specify dtype option on import or set low_memory=False.\n",
            "  for chunk in pd.read_csv('/content/drive/MyDrive/Azubi_TMP/TransBorder_Analysis_Project/Dataset/Cleaned/Final_Cleaned_Data.csv', chunksize=chunksize):\n",
            "/tmp/ipython-input-3-1603353380.py:4: DtypeWarning: Columns (2) have mixed types. Specify dtype option on import or set low_memory=False.\n",
            "  for chunk in pd.read_csv('/content/drive/MyDrive/Azubi_TMP/TransBorder_Analysis_Project/Dataset/Cleaned/Final_Cleaned_Data.csv', chunksize=chunksize):\n",
            "/tmp/ipython-input-3-1603353380.py:4: DtypeWarning: Columns (2,4,11) have mixed types. Specify dtype option on import or set low_memory=False.\n",
            "  for chunk in pd.read_csv('/content/drive/MyDrive/Azubi_TMP/TransBorder_Analysis_Project/Dataset/Cleaned/Final_Cleaned_Data.csv', chunksize=chunksize):\n",
            "/tmp/ipython-input-3-1603353380.py:4: DtypeWarning: Columns (2) have mixed types. Specify dtype option on import or set low_memory=False.\n",
            "  for chunk in pd.read_csv('/content/drive/MyDrive/Azubi_TMP/TransBorder_Analysis_Project/Dataset/Cleaned/Final_Cleaned_Data.csv', chunksize=chunksize):\n",
            "/tmp/ipython-input-3-1603353380.py:4: DtypeWarning: Columns (2,4,11) have mixed types. Specify dtype option on import or set low_memory=False.\n",
            "  for chunk in pd.read_csv('/content/drive/MyDrive/Azubi_TMP/TransBorder_Analysis_Project/Dataset/Cleaned/Final_Cleaned_Data.csv', chunksize=chunksize):\n",
            "/tmp/ipython-input-3-1603353380.py:4: DtypeWarning: Columns (4,11) have mixed types. Specify dtype option on import or set low_memory=False.\n",
            "  for chunk in pd.read_csv('/content/drive/MyDrive/Azubi_TMP/TransBorder_Analysis_Project/Dataset/Cleaned/Final_Cleaned_Data.csv', chunksize=chunksize):\n",
            "/tmp/ipython-input-3-1603353380.py:4: DtypeWarning: Columns (2) have mixed types. Specify dtype option on import or set low_memory=False.\n",
            "  for chunk in pd.read_csv('/content/drive/MyDrive/Azubi_TMP/TransBorder_Analysis_Project/Dataset/Cleaned/Final_Cleaned_Data.csv', chunksize=chunksize):\n",
            "/tmp/ipython-input-3-1603353380.py:4: DtypeWarning: Columns (2,4,11) have mixed types. Specify dtype option on import or set low_memory=False.\n",
            "  for chunk in pd.read_csv('/content/drive/MyDrive/Azubi_TMP/TransBorder_Analysis_Project/Dataset/Cleaned/Final_Cleaned_Data.csv', chunksize=chunksize):\n",
            "/tmp/ipython-input-3-1603353380.py:4: DtypeWarning: Columns (2) have mixed types. Specify dtype option on import or set low_memory=False.\n",
            "  for chunk in pd.read_csv('/content/drive/MyDrive/Azubi_TMP/TransBorder_Analysis_Project/Dataset/Cleaned/Final_Cleaned_Data.csv', chunksize=chunksize):\n",
            "/tmp/ipython-input-3-1603353380.py:4: DtypeWarning: Columns (2,4,11) have mixed types. Specify dtype option on import or set low_memory=False.\n",
            "  for chunk in pd.read_csv('/content/drive/MyDrive/Azubi_TMP/TransBorder_Analysis_Project/Dataset/Cleaned/Final_Cleaned_Data.csv', chunksize=chunksize):\n",
            "/tmp/ipython-input-3-1603353380.py:4: DtypeWarning: Columns (2) have mixed types. Specify dtype option on import or set low_memory=False.\n",
            "  for chunk in pd.read_csv('/content/drive/MyDrive/Azubi_TMP/TransBorder_Analysis_Project/Dataset/Cleaned/Final_Cleaned_Data.csv', chunksize=chunksize):\n",
            "/tmp/ipython-input-3-1603353380.py:4: DtypeWarning: Columns (2,4,11) have mixed types. Specify dtype option on import or set low_memory=False.\n",
            "  for chunk in pd.read_csv('/content/drive/MyDrive/Azubi_TMP/TransBorder_Analysis_Project/Dataset/Cleaned/Final_Cleaned_Data.csv', chunksize=chunksize):\n",
            "/tmp/ipython-input-3-1603353380.py:4: DtypeWarning: Columns (2) have mixed types. Specify dtype option on import or set low_memory=False.\n",
            "  for chunk in pd.read_csv('/content/drive/MyDrive/Azubi_TMP/TransBorder_Analysis_Project/Dataset/Cleaned/Final_Cleaned_Data.csv', chunksize=chunksize):\n",
            "/tmp/ipython-input-3-1603353380.py:4: DtypeWarning: Columns (4,11) have mixed types. Specify dtype option on import or set low_memory=False.\n",
            "  for chunk in pd.read_csv('/content/drive/MyDrive/Azubi_TMP/TransBorder_Analysis_Project/Dataset/Cleaned/Final_Cleaned_Data.csv', chunksize=chunksize):\n",
            "/tmp/ipython-input-3-1603353380.py:4: DtypeWarning: Columns (2) have mixed types. Specify dtype option on import or set low_memory=False.\n",
            "  for chunk in pd.read_csv('/content/drive/MyDrive/Azubi_TMP/TransBorder_Analysis_Project/Dataset/Cleaned/Final_Cleaned_Data.csv', chunksize=chunksize):\n",
            "/tmp/ipython-input-3-1603353380.py:4: DtypeWarning: Columns (2,4,11) have mixed types. Specify dtype option on import or set low_memory=False.\n",
            "  for chunk in pd.read_csv('/content/drive/MyDrive/Azubi_TMP/TransBorder_Analysis_Project/Dataset/Cleaned/Final_Cleaned_Data.csv', chunksize=chunksize):\n",
            "/tmp/ipython-input-3-1603353380.py:4: DtypeWarning: Columns (2) have mixed types. Specify dtype option on import or set low_memory=False.\n",
            "  for chunk in pd.read_csv('/content/drive/MyDrive/Azubi_TMP/TransBorder_Analysis_Project/Dataset/Cleaned/Final_Cleaned_Data.csv', chunksize=chunksize):\n",
            "/tmp/ipython-input-3-1603353380.py:4: DtypeWarning: Columns (2,4,11) have mixed types. Specify dtype option on import or set low_memory=False.\n",
            "  for chunk in pd.read_csv('/content/drive/MyDrive/Azubi_TMP/TransBorder_Analysis_Project/Dataset/Cleaned/Final_Cleaned_Data.csv', chunksize=chunksize):\n",
            "/tmp/ipython-input-3-1603353380.py:4: DtypeWarning: Columns (2) have mixed types. Specify dtype option on import or set low_memory=False.\n",
            "  for chunk in pd.read_csv('/content/drive/MyDrive/Azubi_TMP/TransBorder_Analysis_Project/Dataset/Cleaned/Final_Cleaned_Data.csv', chunksize=chunksize):\n",
            "/tmp/ipython-input-3-1603353380.py:4: DtypeWarning: Columns (2,4,11) have mixed types. Specify dtype option on import or set low_memory=False.\n",
            "  for chunk in pd.read_csv('/content/drive/MyDrive/Azubi_TMP/TransBorder_Analysis_Project/Dataset/Cleaned/Final_Cleaned_Data.csv', chunksize=chunksize):\n",
            "/tmp/ipython-input-3-1603353380.py:4: DtypeWarning: Columns (2) have mixed types. Specify dtype option on import or set low_memory=False.\n",
            "  for chunk in pd.read_csv('/content/drive/MyDrive/Azubi_TMP/TransBorder_Analysis_Project/Dataset/Cleaned/Final_Cleaned_Data.csv', chunksize=chunksize):\n",
            "/tmp/ipython-input-3-1603353380.py:4: DtypeWarning: Columns (2) have mixed types. Specify dtype option on import or set low_memory=False.\n",
            "  for chunk in pd.read_csv('/content/drive/MyDrive/Azubi_TMP/TransBorder_Analysis_Project/Dataset/Cleaned/Final_Cleaned_Data.csv', chunksize=chunksize):\n",
            "/tmp/ipython-input-3-1603353380.py:4: DtypeWarning: Columns (4,11) have mixed types. Specify dtype option on import or set low_memory=False.\n",
            "  for chunk in pd.read_csv('/content/drive/MyDrive/Azubi_TMP/TransBorder_Analysis_Project/Dataset/Cleaned/Final_Cleaned_Data.csv', chunksize=chunksize):\n",
            "/tmp/ipython-input-3-1603353380.py:4: DtypeWarning: Columns (2,4,11) have mixed types. Specify dtype option on import or set low_memory=False.\n",
            "  for chunk in pd.read_csv('/content/drive/MyDrive/Azubi_TMP/TransBorder_Analysis_Project/Dataset/Cleaned/Final_Cleaned_Data.csv', chunksize=chunksize):\n",
            "/tmp/ipython-input-3-1603353380.py:4: DtypeWarning: Columns (2) have mixed types. Specify dtype option on import or set low_memory=False.\n",
            "  for chunk in pd.read_csv('/content/drive/MyDrive/Azubi_TMP/TransBorder_Analysis_Project/Dataset/Cleaned/Final_Cleaned_Data.csv', chunksize=chunksize):\n",
            "/tmp/ipython-input-3-1603353380.py:4: DtypeWarning: Columns (2,4,11) have mixed types. Specify dtype option on import or set low_memory=False.\n",
            "  for chunk in pd.read_csv('/content/drive/MyDrive/Azubi_TMP/TransBorder_Analysis_Project/Dataset/Cleaned/Final_Cleaned_Data.csv', chunksize=chunksize):\n",
            "/tmp/ipython-input-3-1603353380.py:4: DtypeWarning: Columns (2,4,11) have mixed types. Specify dtype option on import or set low_memory=False.\n",
            "  for chunk in pd.read_csv('/content/drive/MyDrive/Azubi_TMP/TransBorder_Analysis_Project/Dataset/Cleaned/Final_Cleaned_Data.csv', chunksize=chunksize):\n",
            "/tmp/ipython-input-3-1603353380.py:4: DtypeWarning: Columns (2) have mixed types. Specify dtype option on import or set low_memory=False.\n",
            "  for chunk in pd.read_csv('/content/drive/MyDrive/Azubi_TMP/TransBorder_Analysis_Project/Dataset/Cleaned/Final_Cleaned_Data.csv', chunksize=chunksize):\n",
            "/tmp/ipython-input-3-1603353380.py:4: DtypeWarning: Columns (4,11) have mixed types. Specify dtype option on import or set low_memory=False.\n",
            "  for chunk in pd.read_csv('/content/drive/MyDrive/Azubi_TMP/TransBorder_Analysis_Project/Dataset/Cleaned/Final_Cleaned_Data.csv', chunksize=chunksize):\n",
            "/tmp/ipython-input-3-1603353380.py:4: DtypeWarning: Columns (2) have mixed types. Specify dtype option on import or set low_memory=False.\n",
            "  for chunk in pd.read_csv('/content/drive/MyDrive/Azubi_TMP/TransBorder_Analysis_Project/Dataset/Cleaned/Final_Cleaned_Data.csv', chunksize=chunksize):\n",
            "/tmp/ipython-input-3-1603353380.py:4: DtypeWarning: Columns (2,4,11) have mixed types. Specify dtype option on import or set low_memory=False.\n",
            "  for chunk in pd.read_csv('/content/drive/MyDrive/Azubi_TMP/TransBorder_Analysis_Project/Dataset/Cleaned/Final_Cleaned_Data.csv', chunksize=chunksize):\n",
            "/tmp/ipython-input-3-1603353380.py:4: DtypeWarning: Columns (2) have mixed types. Specify dtype option on import or set low_memory=False.\n",
            "  for chunk in pd.read_csv('/content/drive/MyDrive/Azubi_TMP/TransBorder_Analysis_Project/Dataset/Cleaned/Final_Cleaned_Data.csv', chunksize=chunksize):\n",
            "/tmp/ipython-input-3-1603353380.py:4: DtypeWarning: Columns (4,11) have mixed types. Specify dtype option on import or set low_memory=False.\n",
            "  for chunk in pd.read_csv('/content/drive/MyDrive/Azubi_TMP/TransBorder_Analysis_Project/Dataset/Cleaned/Final_Cleaned_Data.csv', chunksize=chunksize):\n",
            "/tmp/ipython-input-3-1603353380.py:4: DtypeWarning: Columns (2) have mixed types. Specify dtype option on import or set low_memory=False.\n",
            "  for chunk in pd.read_csv('/content/drive/MyDrive/Azubi_TMP/TransBorder_Analysis_Project/Dataset/Cleaned/Final_Cleaned_Data.csv', chunksize=chunksize):\n",
            "/tmp/ipython-input-3-1603353380.py:4: DtypeWarning: Columns (2,4,11) have mixed types. Specify dtype option on import or set low_memory=False.\n",
            "  for chunk in pd.read_csv('/content/drive/MyDrive/Azubi_TMP/TransBorder_Analysis_Project/Dataset/Cleaned/Final_Cleaned_Data.csv', chunksize=chunksize):\n",
            "/tmp/ipython-input-3-1603353380.py:4: DtypeWarning: Columns (4,11) have mixed types. Specify dtype option on import or set low_memory=False.\n",
            "  for chunk in pd.read_csv('/content/drive/MyDrive/Azubi_TMP/TransBorder_Analysis_Project/Dataset/Cleaned/Final_Cleaned_Data.csv', chunksize=chunksize):\n",
            "/tmp/ipython-input-3-1603353380.py:4: DtypeWarning: Columns (2) have mixed types. Specify dtype option on import or set low_memory=False.\n",
            "  for chunk in pd.read_csv('/content/drive/MyDrive/Azubi_TMP/TransBorder_Analysis_Project/Dataset/Cleaned/Final_Cleaned_Data.csv', chunksize=chunksize):\n",
            "/tmp/ipython-input-3-1603353380.py:4: DtypeWarning: Columns (4,11) have mixed types. Specify dtype option on import or set low_memory=False.\n",
            "  for chunk in pd.read_csv('/content/drive/MyDrive/Azubi_TMP/TransBorder_Analysis_Project/Dataset/Cleaned/Final_Cleaned_Data.csv', chunksize=chunksize):\n",
            "/tmp/ipython-input-3-1603353380.py:4: DtypeWarning: Columns (2) have mixed types. Specify dtype option on import or set low_memory=False.\n",
            "  for chunk in pd.read_csv('/content/drive/MyDrive/Azubi_TMP/TransBorder_Analysis_Project/Dataset/Cleaned/Final_Cleaned_Data.csv', chunksize=chunksize):\n",
            "/tmp/ipython-input-3-1603353380.py:4: DtypeWarning: Columns (2) have mixed types. Specify dtype option on import or set low_memory=False.\n",
            "  for chunk in pd.read_csv('/content/drive/MyDrive/Azubi_TMP/TransBorder_Analysis_Project/Dataset/Cleaned/Final_Cleaned_Data.csv', chunksize=chunksize):\n",
            "/tmp/ipython-input-3-1603353380.py:4: DtypeWarning: Columns (2) have mixed types. Specify dtype option on import or set low_memory=False.\n",
            "  for chunk in pd.read_csv('/content/drive/MyDrive/Azubi_TMP/TransBorder_Analysis_Project/Dataset/Cleaned/Final_Cleaned_Data.csv', chunksize=chunksize):\n",
            "/tmp/ipython-input-3-1603353380.py:4: DtypeWarning: Columns (4,11) have mixed types. Specify dtype option on import or set low_memory=False.\n",
            "  for chunk in pd.read_csv('/content/drive/MyDrive/Azubi_TMP/TransBorder_Analysis_Project/Dataset/Cleaned/Final_Cleaned_Data.csv', chunksize=chunksize):\n",
            "/tmp/ipython-input-3-1603353380.py:4: DtypeWarning: Columns (2) have mixed types. Specify dtype option on import or set low_memory=False.\n",
            "  for chunk in pd.read_csv('/content/drive/MyDrive/Azubi_TMP/TransBorder_Analysis_Project/Dataset/Cleaned/Final_Cleaned_Data.csv', chunksize=chunksize):\n",
            "/tmp/ipython-input-3-1603353380.py:4: DtypeWarning: Columns (2) have mixed types. Specify dtype option on import or set low_memory=False.\n",
            "  for chunk in pd.read_csv('/content/drive/MyDrive/Azubi_TMP/TransBorder_Analysis_Project/Dataset/Cleaned/Final_Cleaned_Data.csv', chunksize=chunksize):\n",
            "/tmp/ipython-input-3-1603353380.py:4: DtypeWarning: Columns (2,4,11) have mixed types. Specify dtype option on import or set low_memory=False.\n",
            "  for chunk in pd.read_csv('/content/drive/MyDrive/Azubi_TMP/TransBorder_Analysis_Project/Dataset/Cleaned/Final_Cleaned_Data.csv', chunksize=chunksize):\n",
            "/tmp/ipython-input-3-1603353380.py:4: DtypeWarning: Columns (2) have mixed types. Specify dtype option on import or set low_memory=False.\n",
            "  for chunk in pd.read_csv('/content/drive/MyDrive/Azubi_TMP/TransBorder_Analysis_Project/Dataset/Cleaned/Final_Cleaned_Data.csv', chunksize=chunksize):\n",
            "/tmp/ipython-input-3-1603353380.py:4: DtypeWarning: Columns (2) have mixed types. Specify dtype option on import or set low_memory=False.\n",
            "  for chunk in pd.read_csv('/content/drive/MyDrive/Azubi_TMP/TransBorder_Analysis_Project/Dataset/Cleaned/Final_Cleaned_Data.csv', chunksize=chunksize):\n",
            "/tmp/ipython-input-3-1603353380.py:4: DtypeWarning: Columns (2) have mixed types. Specify dtype option on import or set low_memory=False.\n",
            "  for chunk in pd.read_csv('/content/drive/MyDrive/Azubi_TMP/TransBorder_Analysis_Project/Dataset/Cleaned/Final_Cleaned_Data.csv', chunksize=chunksize):\n",
            "/tmp/ipython-input-3-1603353380.py:4: DtypeWarning: Columns (2) have mixed types. Specify dtype option on import or set low_memory=False.\n",
            "  for chunk in pd.read_csv('/content/drive/MyDrive/Azubi_TMP/TransBorder_Analysis_Project/Dataset/Cleaned/Final_Cleaned_Data.csv', chunksize=chunksize):\n",
            "/tmp/ipython-input-3-1603353380.py:4: DtypeWarning: Columns (2) have mixed types. Specify dtype option on import or set low_memory=False.\n",
            "  for chunk in pd.read_csv('/content/drive/MyDrive/Azubi_TMP/TransBorder_Analysis_Project/Dataset/Cleaned/Final_Cleaned_Data.csv', chunksize=chunksize):\n",
            "/tmp/ipython-input-3-1603353380.py:4: DtypeWarning: Columns (2) have mixed types. Specify dtype option on import or set low_memory=False.\n",
            "  for chunk in pd.read_csv('/content/drive/MyDrive/Azubi_TMP/TransBorder_Analysis_Project/Dataset/Cleaned/Final_Cleaned_Data.csv', chunksize=chunksize):\n",
            "/tmp/ipython-input-3-1603353380.py:4: DtypeWarning: Columns (2) have mixed types. Specify dtype option on import or set low_memory=False.\n",
            "  for chunk in pd.read_csv('/content/drive/MyDrive/Azubi_TMP/TransBorder_Analysis_Project/Dataset/Cleaned/Final_Cleaned_Data.csv', chunksize=chunksize):\n",
            "/tmp/ipython-input-3-1603353380.py:4: DtypeWarning: Columns (2,4,11) have mixed types. Specify dtype option on import or set low_memory=False.\n",
            "  for chunk in pd.read_csv('/content/drive/MyDrive/Azubi_TMP/TransBorder_Analysis_Project/Dataset/Cleaned/Final_Cleaned_Data.csv', chunksize=chunksize):\n",
            "/tmp/ipython-input-3-1603353380.py:4: DtypeWarning: Columns (2) have mixed types. Specify dtype option on import or set low_memory=False.\n",
            "  for chunk in pd.read_csv('/content/drive/MyDrive/Azubi_TMP/TransBorder_Analysis_Project/Dataset/Cleaned/Final_Cleaned_Data.csv', chunksize=chunksize):\n",
            "/tmp/ipython-input-3-1603353380.py:4: DtypeWarning: Columns (4,11) have mixed types. Specify dtype option on import or set low_memory=False.\n",
            "  for chunk in pd.read_csv('/content/drive/MyDrive/Azubi_TMP/TransBorder_Analysis_Project/Dataset/Cleaned/Final_Cleaned_Data.csv', chunksize=chunksize):\n",
            "/tmp/ipython-input-3-1603353380.py:4: DtypeWarning: Columns (2) have mixed types. Specify dtype option on import or set low_memory=False.\n",
            "  for chunk in pd.read_csv('/content/drive/MyDrive/Azubi_TMP/TransBorder_Analysis_Project/Dataset/Cleaned/Final_Cleaned_Data.csv', chunksize=chunksize):\n",
            "/tmp/ipython-input-3-1603353380.py:4: DtypeWarning: Columns (2,4,11) have mixed types. Specify dtype option on import or set low_memory=False.\n",
            "  for chunk in pd.read_csv('/content/drive/MyDrive/Azubi_TMP/TransBorder_Analysis_Project/Dataset/Cleaned/Final_Cleaned_Data.csv', chunksize=chunksize):\n",
            "/tmp/ipython-input-3-1603353380.py:4: DtypeWarning: Columns (2) have mixed types. Specify dtype option on import or set low_memory=False.\n",
            "  for chunk in pd.read_csv('/content/drive/MyDrive/Azubi_TMP/TransBorder_Analysis_Project/Dataset/Cleaned/Final_Cleaned_Data.csv', chunksize=chunksize):\n",
            "/tmp/ipython-input-3-1603353380.py:4: DtypeWarning: Columns (2) have mixed types. Specify dtype option on import or set low_memory=False.\n",
            "  for chunk in pd.read_csv('/content/drive/MyDrive/Azubi_TMP/TransBorder_Analysis_Project/Dataset/Cleaned/Final_Cleaned_Data.csv', chunksize=chunksize):\n",
            "/tmp/ipython-input-3-1603353380.py:4: DtypeWarning: Columns (2) have mixed types. Specify dtype option on import or set low_memory=False.\n",
            "  for chunk in pd.read_csv('/content/drive/MyDrive/Azubi_TMP/TransBorder_Analysis_Project/Dataset/Cleaned/Final_Cleaned_Data.csv', chunksize=chunksize):\n",
            "/tmp/ipython-input-3-1603353380.py:4: DtypeWarning: Columns (2) have mixed types. Specify dtype option on import or set low_memory=False.\n",
            "  for chunk in pd.read_csv('/content/drive/MyDrive/Azubi_TMP/TransBorder_Analysis_Project/Dataset/Cleaned/Final_Cleaned_Data.csv', chunksize=chunksize):\n",
            "/tmp/ipython-input-3-1603353380.py:4: DtypeWarning: Columns (2,4,11) have mixed types. Specify dtype option on import or set low_memory=False.\n",
            "  for chunk in pd.read_csv('/content/drive/MyDrive/Azubi_TMP/TransBorder_Analysis_Project/Dataset/Cleaned/Final_Cleaned_Data.csv', chunksize=chunksize):\n",
            "/tmp/ipython-input-3-1603353380.py:4: DtypeWarning: Columns (4,11) have mixed types. Specify dtype option on import or set low_memory=False.\n",
            "  for chunk in pd.read_csv('/content/drive/MyDrive/Azubi_TMP/TransBorder_Analysis_Project/Dataset/Cleaned/Final_Cleaned_Data.csv', chunksize=chunksize):\n",
            "/tmp/ipython-input-3-1603353380.py:4: DtypeWarning: Columns (2) have mixed types. Specify dtype option on import or set low_memory=False.\n",
            "  for chunk in pd.read_csv('/content/drive/MyDrive/Azubi_TMP/TransBorder_Analysis_Project/Dataset/Cleaned/Final_Cleaned_Data.csv', chunksize=chunksize):\n",
            "/tmp/ipython-input-3-1603353380.py:4: DtypeWarning: Columns (2) have mixed types. Specify dtype option on import or set low_memory=False.\n",
            "  for chunk in pd.read_csv('/content/drive/MyDrive/Azubi_TMP/TransBorder_Analysis_Project/Dataset/Cleaned/Final_Cleaned_Data.csv', chunksize=chunksize):\n",
            "/tmp/ipython-input-3-1603353380.py:4: DtypeWarning: Columns (2) have mixed types. Specify dtype option on import or set low_memory=False.\n",
            "  for chunk in pd.read_csv('/content/drive/MyDrive/Azubi_TMP/TransBorder_Analysis_Project/Dataset/Cleaned/Final_Cleaned_Data.csv', chunksize=chunksize):\n",
            "/tmp/ipython-input-3-1603353380.py:4: DtypeWarning: Columns (2,4,11) have mixed types. Specify dtype option on import or set low_memory=False.\n",
            "  for chunk in pd.read_csv('/content/drive/MyDrive/Azubi_TMP/TransBorder_Analysis_Project/Dataset/Cleaned/Final_Cleaned_Data.csv', chunksize=chunksize):\n",
            "/tmp/ipython-input-3-1603353380.py:4: DtypeWarning: Columns (2) have mixed types. Specify dtype option on import or set low_memory=False.\n",
            "  for chunk in pd.read_csv('/content/drive/MyDrive/Azubi_TMP/TransBorder_Analysis_Project/Dataset/Cleaned/Final_Cleaned_Data.csv', chunksize=chunksize):\n",
            "/tmp/ipython-input-3-1603353380.py:4: DtypeWarning: Columns (2) have mixed types. Specify dtype option on import or set low_memory=False.\n",
            "  for chunk in pd.read_csv('/content/drive/MyDrive/Azubi_TMP/TransBorder_Analysis_Project/Dataset/Cleaned/Final_Cleaned_Data.csv', chunksize=chunksize):\n",
            "/tmp/ipython-input-3-1603353380.py:4: DtypeWarning: Columns (2) have mixed types. Specify dtype option on import or set low_memory=False.\n",
            "  for chunk in pd.read_csv('/content/drive/MyDrive/Azubi_TMP/TransBorder_Analysis_Project/Dataset/Cleaned/Final_Cleaned_Data.csv', chunksize=chunksize):\n",
            "/tmp/ipython-input-3-1603353380.py:4: DtypeWarning: Columns (2) have mixed types. Specify dtype option on import or set low_memory=False.\n",
            "  for chunk in pd.read_csv('/content/drive/MyDrive/Azubi_TMP/TransBorder_Analysis_Project/Dataset/Cleaned/Final_Cleaned_Data.csv', chunksize=chunksize):\n",
            "/tmp/ipython-input-3-1603353380.py:4: DtypeWarning: Columns (2,4,11) have mixed types. Specify dtype option on import or set low_memory=False.\n",
            "  for chunk in pd.read_csv('/content/drive/MyDrive/Azubi_TMP/TransBorder_Analysis_Project/Dataset/Cleaned/Final_Cleaned_Data.csv', chunksize=chunksize):\n",
            "/tmp/ipython-input-3-1603353380.py:4: DtypeWarning: Columns (2) have mixed types. Specify dtype option on import or set low_memory=False.\n",
            "  for chunk in pd.read_csv('/content/drive/MyDrive/Azubi_TMP/TransBorder_Analysis_Project/Dataset/Cleaned/Final_Cleaned_Data.csv', chunksize=chunksize):\n",
            "/tmp/ipython-input-3-1603353380.py:4: DtypeWarning: Columns (4,11) have mixed types. Specify dtype option on import or set low_memory=False.\n",
            "  for chunk in pd.read_csv('/content/drive/MyDrive/Azubi_TMP/TransBorder_Analysis_Project/Dataset/Cleaned/Final_Cleaned_Data.csv', chunksize=chunksize):\n",
            "/tmp/ipython-input-3-1603353380.py:4: DtypeWarning: Columns (2) have mixed types. Specify dtype option on import or set low_memory=False.\n",
            "  for chunk in pd.read_csv('/content/drive/MyDrive/Azubi_TMP/TransBorder_Analysis_Project/Dataset/Cleaned/Final_Cleaned_Data.csv', chunksize=chunksize):\n",
            "/tmp/ipython-input-3-1603353380.py:4: DtypeWarning: Columns (2) have mixed types. Specify dtype option on import or set low_memory=False.\n",
            "  for chunk in pd.read_csv('/content/drive/MyDrive/Azubi_TMP/TransBorder_Analysis_Project/Dataset/Cleaned/Final_Cleaned_Data.csv', chunksize=chunksize):\n",
            "/tmp/ipython-input-3-1603353380.py:4: DtypeWarning: Columns (2) have mixed types. Specify dtype option on import or set low_memory=False.\n",
            "  for chunk in pd.read_csv('/content/drive/MyDrive/Azubi_TMP/TransBorder_Analysis_Project/Dataset/Cleaned/Final_Cleaned_Data.csv', chunksize=chunksize):\n",
            "/tmp/ipython-input-3-1603353380.py:4: DtypeWarning: Columns (4,11) have mixed types. Specify dtype option on import or set low_memory=False.\n",
            "  for chunk in pd.read_csv('/content/drive/MyDrive/Azubi_TMP/TransBorder_Analysis_Project/Dataset/Cleaned/Final_Cleaned_Data.csv', chunksize=chunksize):\n",
            "/tmp/ipython-input-3-1603353380.py:4: DtypeWarning: Columns (2) have mixed types. Specify dtype option on import or set low_memory=False.\n",
            "  for chunk in pd.read_csv('/content/drive/MyDrive/Azubi_TMP/TransBorder_Analysis_Project/Dataset/Cleaned/Final_Cleaned_Data.csv', chunksize=chunksize):\n",
            "/tmp/ipython-input-3-1603353380.py:4: DtypeWarning: Columns (2) have mixed types. Specify dtype option on import or set low_memory=False.\n",
            "  for chunk in pd.read_csv('/content/drive/MyDrive/Azubi_TMP/TransBorder_Analysis_Project/Dataset/Cleaned/Final_Cleaned_Data.csv', chunksize=chunksize):\n",
            "/tmp/ipython-input-3-1603353380.py:4: DtypeWarning: Columns (2,4,11) have mixed types. Specify dtype option on import or set low_memory=False.\n",
            "  for chunk in pd.read_csv('/content/drive/MyDrive/Azubi_TMP/TransBorder_Analysis_Project/Dataset/Cleaned/Final_Cleaned_Data.csv', chunksize=chunksize):\n",
            "/tmp/ipython-input-3-1603353380.py:4: DtypeWarning: Columns (2) have mixed types. Specify dtype option on import or set low_memory=False.\n",
            "  for chunk in pd.read_csv('/content/drive/MyDrive/Azubi_TMP/TransBorder_Analysis_Project/Dataset/Cleaned/Final_Cleaned_Data.csv', chunksize=chunksize):\n",
            "/tmp/ipython-input-3-1603353380.py:4: DtypeWarning: Columns (2) have mixed types. Specify dtype option on import or set low_memory=False.\n",
            "  for chunk in pd.read_csv('/content/drive/MyDrive/Azubi_TMP/TransBorder_Analysis_Project/Dataset/Cleaned/Final_Cleaned_Data.csv', chunksize=chunksize):\n",
            "/tmp/ipython-input-3-1603353380.py:4: DtypeWarning: Columns (2) have mixed types. Specify dtype option on import or set low_memory=False.\n",
            "  for chunk in pd.read_csv('/content/drive/MyDrive/Azubi_TMP/TransBorder_Analysis_Project/Dataset/Cleaned/Final_Cleaned_Data.csv', chunksize=chunksize):\n",
            "/tmp/ipython-input-3-1603353380.py:4: DtypeWarning: Columns (2) have mixed types. Specify dtype option on import or set low_memory=False.\n",
            "  for chunk in pd.read_csv('/content/drive/MyDrive/Azubi_TMP/TransBorder_Analysis_Project/Dataset/Cleaned/Final_Cleaned_Data.csv', chunksize=chunksize):\n",
            "/tmp/ipython-input-3-1603353380.py:4: DtypeWarning: Columns (2,4,11) have mixed types. Specify dtype option on import or set low_memory=False.\n",
            "  for chunk in pd.read_csv('/content/drive/MyDrive/Azubi_TMP/TransBorder_Analysis_Project/Dataset/Cleaned/Final_Cleaned_Data.csv', chunksize=chunksize):\n",
            "/tmp/ipython-input-3-1603353380.py:4: DtypeWarning: Columns (2) have mixed types. Specify dtype option on import or set low_memory=False.\n",
            "  for chunk in pd.read_csv('/content/drive/MyDrive/Azubi_TMP/TransBorder_Analysis_Project/Dataset/Cleaned/Final_Cleaned_Data.csv', chunksize=chunksize):\n",
            "/tmp/ipython-input-3-1603353380.py:4: DtypeWarning: Columns (2,4,11) have mixed types. Specify dtype option on import or set low_memory=False.\n",
            "  for chunk in pd.read_csv('/content/drive/MyDrive/Azubi_TMP/TransBorder_Analysis_Project/Dataset/Cleaned/Final_Cleaned_Data.csv', chunksize=chunksize):\n",
            "/tmp/ipython-input-3-1603353380.py:4: DtypeWarning: Columns (2) have mixed types. Specify dtype option on import or set low_memory=False.\n",
            "  for chunk in pd.read_csv('/content/drive/MyDrive/Azubi_TMP/TransBorder_Analysis_Project/Dataset/Cleaned/Final_Cleaned_Data.csv', chunksize=chunksize):\n",
            "/tmp/ipython-input-3-1603353380.py:4: DtypeWarning: Columns (2) have mixed types. Specify dtype option on import or set low_memory=False.\n",
            "  for chunk in pd.read_csv('/content/drive/MyDrive/Azubi_TMP/TransBorder_Analysis_Project/Dataset/Cleaned/Final_Cleaned_Data.csv', chunksize=chunksize):\n",
            "/tmp/ipython-input-3-1603353380.py:4: DtypeWarning: Columns (2) have mixed types. Specify dtype option on import or set low_memory=False.\n",
            "  for chunk in pd.read_csv('/content/drive/MyDrive/Azubi_TMP/TransBorder_Analysis_Project/Dataset/Cleaned/Final_Cleaned_Data.csv', chunksize=chunksize):\n",
            "/tmp/ipython-input-3-1603353380.py:4: DtypeWarning: Columns (2) have mixed types. Specify dtype option on import or set low_memory=False.\n",
            "  for chunk in pd.read_csv('/content/drive/MyDrive/Azubi_TMP/TransBorder_Analysis_Project/Dataset/Cleaned/Final_Cleaned_Data.csv', chunksize=chunksize):\n",
            "/tmp/ipython-input-3-1603353380.py:4: DtypeWarning: Columns (2) have mixed types. Specify dtype option on import or set low_memory=False.\n",
            "  for chunk in pd.read_csv('/content/drive/MyDrive/Azubi_TMP/TransBorder_Analysis_Project/Dataset/Cleaned/Final_Cleaned_Data.csv', chunksize=chunksize):\n",
            "/tmp/ipython-input-3-1603353380.py:4: DtypeWarning: Columns (4,11) have mixed types. Specify dtype option on import or set low_memory=False.\n",
            "  for chunk in pd.read_csv('/content/drive/MyDrive/Azubi_TMP/TransBorder_Analysis_Project/Dataset/Cleaned/Final_Cleaned_Data.csv', chunksize=chunksize):\n",
            "/tmp/ipython-input-3-1603353380.py:4: DtypeWarning: Columns (2) have mixed types. Specify dtype option on import or set low_memory=False.\n",
            "  for chunk in pd.read_csv('/content/drive/MyDrive/Azubi_TMP/TransBorder_Analysis_Project/Dataset/Cleaned/Final_Cleaned_Data.csv', chunksize=chunksize):\n",
            "/tmp/ipython-input-3-1603353380.py:4: DtypeWarning: Columns (2) have mixed types. Specify dtype option on import or set low_memory=False.\n",
            "  for chunk in pd.read_csv('/content/drive/MyDrive/Azubi_TMP/TransBorder_Analysis_Project/Dataset/Cleaned/Final_Cleaned_Data.csv', chunksize=chunksize):\n",
            "/tmp/ipython-input-3-1603353380.py:4: DtypeWarning: Columns (2) have mixed types. Specify dtype option on import or set low_memory=False.\n",
            "  for chunk in pd.read_csv('/content/drive/MyDrive/Azubi_TMP/TransBorder_Analysis_Project/Dataset/Cleaned/Final_Cleaned_Data.csv', chunksize=chunksize):\n",
            "/tmp/ipython-input-3-1603353380.py:4: DtypeWarning: Columns (2) have mixed types. Specify dtype option on import or set low_memory=False.\n",
            "  for chunk in pd.read_csv('/content/drive/MyDrive/Azubi_TMP/TransBorder_Analysis_Project/Dataset/Cleaned/Final_Cleaned_Data.csv', chunksize=chunksize):\n",
            "/tmp/ipython-input-3-1603353380.py:4: DtypeWarning: Columns (2) have mixed types. Specify dtype option on import or set low_memory=False.\n",
            "  for chunk in pd.read_csv('/content/drive/MyDrive/Azubi_TMP/TransBorder_Analysis_Project/Dataset/Cleaned/Final_Cleaned_Data.csv', chunksize=chunksize):\n",
            "/tmp/ipython-input-3-1603353380.py:4: DtypeWarning: Columns (2,4,11) have mixed types. Specify dtype option on import or set low_memory=False.\n",
            "  for chunk in pd.read_csv('/content/drive/MyDrive/Azubi_TMP/TransBorder_Analysis_Project/Dataset/Cleaned/Final_Cleaned_Data.csv', chunksize=chunksize):\n",
            "/tmp/ipython-input-3-1603353380.py:4: DtypeWarning: Columns (2) have mixed types. Specify dtype option on import or set low_memory=False.\n",
            "  for chunk in pd.read_csv('/content/drive/MyDrive/Azubi_TMP/TransBorder_Analysis_Project/Dataset/Cleaned/Final_Cleaned_Data.csv', chunksize=chunksize):\n",
            "/tmp/ipython-input-3-1603353380.py:4: DtypeWarning: Columns (2,4,11) have mixed types. Specify dtype option on import or set low_memory=False.\n",
            "  for chunk in pd.read_csv('/content/drive/MyDrive/Azubi_TMP/TransBorder_Analysis_Project/Dataset/Cleaned/Final_Cleaned_Data.csv', chunksize=chunksize):\n",
            "/tmp/ipython-input-3-1603353380.py:4: DtypeWarning: Columns (2) have mixed types. Specify dtype option on import or set low_memory=False.\n",
            "  for chunk in pd.read_csv('/content/drive/MyDrive/Azubi_TMP/TransBorder_Analysis_Project/Dataset/Cleaned/Final_Cleaned_Data.csv', chunksize=chunksize):\n",
            "/tmp/ipython-input-3-1603353380.py:4: DtypeWarning: Columns (2) have mixed types. Specify dtype option on import or set low_memory=False.\n",
            "  for chunk in pd.read_csv('/content/drive/MyDrive/Azubi_TMP/TransBorder_Analysis_Project/Dataset/Cleaned/Final_Cleaned_Data.csv', chunksize=chunksize):\n",
            "/tmp/ipython-input-3-1603353380.py:4: DtypeWarning: Columns (2,4,11) have mixed types. Specify dtype option on import or set low_memory=False.\n",
            "  for chunk in pd.read_csv('/content/drive/MyDrive/Azubi_TMP/TransBorder_Analysis_Project/Dataset/Cleaned/Final_Cleaned_Data.csv', chunksize=chunksize):\n",
            "/tmp/ipython-input-3-1603353380.py:4: DtypeWarning: Columns (4,11) have mixed types. Specify dtype option on import or set low_memory=False.\n",
            "  for chunk in pd.read_csv('/content/drive/MyDrive/Azubi_TMP/TransBorder_Analysis_Project/Dataset/Cleaned/Final_Cleaned_Data.csv', chunksize=chunksize):\n",
            "/tmp/ipython-input-3-1603353380.py:4: DtypeWarning: Columns (2) have mixed types. Specify dtype option on import or set low_memory=False.\n",
            "  for chunk in pd.read_csv('/content/drive/MyDrive/Azubi_TMP/TransBorder_Analysis_Project/Dataset/Cleaned/Final_Cleaned_Data.csv', chunksize=chunksize):\n",
            "/tmp/ipython-input-3-1603353380.py:4: DtypeWarning: Columns (2) have mixed types. Specify dtype option on import or set low_memory=False.\n",
            "  for chunk in pd.read_csv('/content/drive/MyDrive/Azubi_TMP/TransBorder_Analysis_Project/Dataset/Cleaned/Final_Cleaned_Data.csv', chunksize=chunksize):\n",
            "/tmp/ipython-input-3-1603353380.py:4: DtypeWarning: Columns (2) have mixed types. Specify dtype option on import or set low_memory=False.\n",
            "  for chunk in pd.read_csv('/content/drive/MyDrive/Azubi_TMP/TransBorder_Analysis_Project/Dataset/Cleaned/Final_Cleaned_Data.csv', chunksize=chunksize):\n",
            "/tmp/ipython-input-3-1603353380.py:4: DtypeWarning: Columns (2) have mixed types. Specify dtype option on import or set low_memory=False.\n",
            "  for chunk in pd.read_csv('/content/drive/MyDrive/Azubi_TMP/TransBorder_Analysis_Project/Dataset/Cleaned/Final_Cleaned_Data.csv', chunksize=chunksize):\n",
            "/tmp/ipython-input-3-1603353380.py:4: DtypeWarning: Columns (2,4,11) have mixed types. Specify dtype option on import or set low_memory=False.\n",
            "  for chunk in pd.read_csv('/content/drive/MyDrive/Azubi_TMP/TransBorder_Analysis_Project/Dataset/Cleaned/Final_Cleaned_Data.csv', chunksize=chunksize):\n",
            "/tmp/ipython-input-3-1603353380.py:4: DtypeWarning: Columns (2) have mixed types. Specify dtype option on import or set low_memory=False.\n",
            "  for chunk in pd.read_csv('/content/drive/MyDrive/Azubi_TMP/TransBorder_Analysis_Project/Dataset/Cleaned/Final_Cleaned_Data.csv', chunksize=chunksize):\n",
            "/tmp/ipython-input-3-1603353380.py:4: DtypeWarning: Columns (2) have mixed types. Specify dtype option on import or set low_memory=False.\n",
            "  for chunk in pd.read_csv('/content/drive/MyDrive/Azubi_TMP/TransBorder_Analysis_Project/Dataset/Cleaned/Final_Cleaned_Data.csv', chunksize=chunksize):\n",
            "/tmp/ipython-input-3-1603353380.py:4: DtypeWarning: Columns (2,4,11) have mixed types. Specify dtype option on import or set low_memory=False.\n",
            "  for chunk in pd.read_csv('/content/drive/MyDrive/Azubi_TMP/TransBorder_Analysis_Project/Dataset/Cleaned/Final_Cleaned_Data.csv', chunksize=chunksize):\n",
            "/tmp/ipython-input-3-1603353380.py:4: DtypeWarning: Columns (2) have mixed types. Specify dtype option on import or set low_memory=False.\n",
            "  for chunk in pd.read_csv('/content/drive/MyDrive/Azubi_TMP/TransBorder_Analysis_Project/Dataset/Cleaned/Final_Cleaned_Data.csv', chunksize=chunksize):\n",
            "/tmp/ipython-input-3-1603353380.py:4: DtypeWarning: Columns (2) have mixed types. Specify dtype option on import or set low_memory=False.\n",
            "  for chunk in pd.read_csv('/content/drive/MyDrive/Azubi_TMP/TransBorder_Analysis_Project/Dataset/Cleaned/Final_Cleaned_Data.csv', chunksize=chunksize):\n",
            "/tmp/ipython-input-3-1603353380.py:4: DtypeWarning: Columns (2,4,11) have mixed types. Specify dtype option on import or set low_memory=False.\n",
            "  for chunk in pd.read_csv('/content/drive/MyDrive/Azubi_TMP/TransBorder_Analysis_Project/Dataset/Cleaned/Final_Cleaned_Data.csv', chunksize=chunksize):\n",
            "/tmp/ipython-input-3-1603353380.py:4: DtypeWarning: Columns (4,11) have mixed types. Specify dtype option on import or set low_memory=False.\n",
            "  for chunk in pd.read_csv('/content/drive/MyDrive/Azubi_TMP/TransBorder_Analysis_Project/Dataset/Cleaned/Final_Cleaned_Data.csv', chunksize=chunksize):\n",
            "/tmp/ipython-input-3-1603353380.py:4: DtypeWarning: Columns (4,11) have mixed types. Specify dtype option on import or set low_memory=False.\n",
            "  for chunk in pd.read_csv('/content/drive/MyDrive/Azubi_TMP/TransBorder_Analysis_Project/Dataset/Cleaned/Final_Cleaned_Data.csv', chunksize=chunksize):\n",
            "/tmp/ipython-input-3-1603353380.py:4: DtypeWarning: Columns (2) have mixed types. Specify dtype option on import or set low_memory=False.\n",
            "  for chunk in pd.read_csv('/content/drive/MyDrive/Azubi_TMP/TransBorder_Analysis_Project/Dataset/Cleaned/Final_Cleaned_Data.csv', chunksize=chunksize):\n",
            "/tmp/ipython-input-3-1603353380.py:4: DtypeWarning: Columns (2) have mixed types. Specify dtype option on import or set low_memory=False.\n",
            "  for chunk in pd.read_csv('/content/drive/MyDrive/Azubi_TMP/TransBorder_Analysis_Project/Dataset/Cleaned/Final_Cleaned_Data.csv', chunksize=chunksize):\n",
            "/tmp/ipython-input-3-1603353380.py:4: DtypeWarning: Columns (2) have mixed types. Specify dtype option on import or set low_memory=False.\n",
            "  for chunk in pd.read_csv('/content/drive/MyDrive/Azubi_TMP/TransBorder_Analysis_Project/Dataset/Cleaned/Final_Cleaned_Data.csv', chunksize=chunksize):\n",
            "/tmp/ipython-input-3-1603353380.py:4: DtypeWarning: Columns (2) have mixed types. Specify dtype option on import or set low_memory=False.\n",
            "  for chunk in pd.read_csv('/content/drive/MyDrive/Azubi_TMP/TransBorder_Analysis_Project/Dataset/Cleaned/Final_Cleaned_Data.csv', chunksize=chunksize):\n",
            "/tmp/ipython-input-3-1603353380.py:4: DtypeWarning: Columns (2) have mixed types. Specify dtype option on import or set low_memory=False.\n",
            "  for chunk in pd.read_csv('/content/drive/MyDrive/Azubi_TMP/TransBorder_Analysis_Project/Dataset/Cleaned/Final_Cleaned_Data.csv', chunksize=chunksize):\n",
            "/tmp/ipython-input-3-1603353380.py:4: DtypeWarning: Columns (2) have mixed types. Specify dtype option on import or set low_memory=False.\n",
            "  for chunk in pd.read_csv('/content/drive/MyDrive/Azubi_TMP/TransBorder_Analysis_Project/Dataset/Cleaned/Final_Cleaned_Data.csv', chunksize=chunksize):\n",
            "/tmp/ipython-input-3-1603353380.py:4: DtypeWarning: Columns (2) have mixed types. Specify dtype option on import or set low_memory=False.\n",
            "  for chunk in pd.read_csv('/content/drive/MyDrive/Azubi_TMP/TransBorder_Analysis_Project/Dataset/Cleaned/Final_Cleaned_Data.csv', chunksize=chunksize):\n",
            "/tmp/ipython-input-3-1603353380.py:4: DtypeWarning: Columns (2) have mixed types. Specify dtype option on import or set low_memory=False.\n",
            "  for chunk in pd.read_csv('/content/drive/MyDrive/Azubi_TMP/TransBorder_Analysis_Project/Dataset/Cleaned/Final_Cleaned_Data.csv', chunksize=chunksize):\n",
            "/tmp/ipython-input-3-1603353380.py:4: DtypeWarning: Columns (2,4,11) have mixed types. Specify dtype option on import or set low_memory=False.\n",
            "  for chunk in pd.read_csv('/content/drive/MyDrive/Azubi_TMP/TransBorder_Analysis_Project/Dataset/Cleaned/Final_Cleaned_Data.csv', chunksize=chunksize):\n",
            "/tmp/ipython-input-3-1603353380.py:4: DtypeWarning: Columns (2) have mixed types. Specify dtype option on import or set low_memory=False.\n",
            "  for chunk in pd.read_csv('/content/drive/MyDrive/Azubi_TMP/TransBorder_Analysis_Project/Dataset/Cleaned/Final_Cleaned_Data.csv', chunksize=chunksize):\n",
            "/tmp/ipython-input-3-1603353380.py:4: DtypeWarning: Columns (2) have mixed types. Specify dtype option on import or set low_memory=False.\n",
            "  for chunk in pd.read_csv('/content/drive/MyDrive/Azubi_TMP/TransBorder_Analysis_Project/Dataset/Cleaned/Final_Cleaned_Data.csv', chunksize=chunksize):\n",
            "/tmp/ipython-input-3-1603353380.py:4: DtypeWarning: Columns (2) have mixed types. Specify dtype option on import or set low_memory=False.\n",
            "  for chunk in pd.read_csv('/content/drive/MyDrive/Azubi_TMP/TransBorder_Analysis_Project/Dataset/Cleaned/Final_Cleaned_Data.csv', chunksize=chunksize):\n",
            "/tmp/ipython-input-3-1603353380.py:4: DtypeWarning: Columns (2) have mixed types. Specify dtype option on import or set low_memory=False.\n",
            "  for chunk in pd.read_csv('/content/drive/MyDrive/Azubi_TMP/TransBorder_Analysis_Project/Dataset/Cleaned/Final_Cleaned_Data.csv', chunksize=chunksize):\n",
            "/tmp/ipython-input-3-1603353380.py:4: DtypeWarning: Columns (4,11) have mixed types. Specify dtype option on import or set low_memory=False.\n",
            "  for chunk in pd.read_csv('/content/drive/MyDrive/Azubi_TMP/TransBorder_Analysis_Project/Dataset/Cleaned/Final_Cleaned_Data.csv', chunksize=chunksize):\n",
            "/tmp/ipython-input-3-1603353380.py:4: DtypeWarning: Columns (2) have mixed types. Specify dtype option on import or set low_memory=False.\n",
            "  for chunk in pd.read_csv('/content/drive/MyDrive/Azubi_TMP/TransBorder_Analysis_Project/Dataset/Cleaned/Final_Cleaned_Data.csv', chunksize=chunksize):\n",
            "/tmp/ipython-input-3-1603353380.py:4: DtypeWarning: Columns (4,11) have mixed types. Specify dtype option on import or set low_memory=False.\n",
            "  for chunk in pd.read_csv('/content/drive/MyDrive/Azubi_TMP/TransBorder_Analysis_Project/Dataset/Cleaned/Final_Cleaned_Data.csv', chunksize=chunksize):\n",
            "/tmp/ipython-input-3-1603353380.py:4: DtypeWarning: Columns (2) have mixed types. Specify dtype option on import or set low_memory=False.\n",
            "  for chunk in pd.read_csv('/content/drive/MyDrive/Azubi_TMP/TransBorder_Analysis_Project/Dataset/Cleaned/Final_Cleaned_Data.csv', chunksize=chunksize):\n",
            "/tmp/ipython-input-3-1603353380.py:4: DtypeWarning: Columns (2) have mixed types. Specify dtype option on import or set low_memory=False.\n",
            "  for chunk in pd.read_csv('/content/drive/MyDrive/Azubi_TMP/TransBorder_Analysis_Project/Dataset/Cleaned/Final_Cleaned_Data.csv', chunksize=chunksize):\n",
            "/tmp/ipython-input-3-1603353380.py:4: DtypeWarning: Columns (2) have mixed types. Specify dtype option on import or set low_memory=False.\n",
            "  for chunk in pd.read_csv('/content/drive/MyDrive/Azubi_TMP/TransBorder_Analysis_Project/Dataset/Cleaned/Final_Cleaned_Data.csv', chunksize=chunksize):\n",
            "/tmp/ipython-input-3-1603353380.py:4: DtypeWarning: Columns (2) have mixed types. Specify dtype option on import or set low_memory=False.\n",
            "  for chunk in pd.read_csv('/content/drive/MyDrive/Azubi_TMP/TransBorder_Analysis_Project/Dataset/Cleaned/Final_Cleaned_Data.csv', chunksize=chunksize):\n",
            "/tmp/ipython-input-3-1603353380.py:4: DtypeWarning: Columns (4,11) have mixed types. Specify dtype option on import or set low_memory=False.\n",
            "  for chunk in pd.read_csv('/content/drive/MyDrive/Azubi_TMP/TransBorder_Analysis_Project/Dataset/Cleaned/Final_Cleaned_Data.csv', chunksize=chunksize):\n",
            "/tmp/ipython-input-3-1603353380.py:4: DtypeWarning: Columns (2) have mixed types. Specify dtype option on import or set low_memory=False.\n",
            "  for chunk in pd.read_csv('/content/drive/MyDrive/Azubi_TMP/TransBorder_Analysis_Project/Dataset/Cleaned/Final_Cleaned_Data.csv', chunksize=chunksize):\n",
            "/tmp/ipython-input-3-1603353380.py:4: DtypeWarning: Columns (2) have mixed types. Specify dtype option on import or set low_memory=False.\n",
            "  for chunk in pd.read_csv('/content/drive/MyDrive/Azubi_TMP/TransBorder_Analysis_Project/Dataset/Cleaned/Final_Cleaned_Data.csv', chunksize=chunksize):\n",
            "/tmp/ipython-input-3-1603353380.py:4: DtypeWarning: Columns (2,4,11) have mixed types. Specify dtype option on import or set low_memory=False.\n",
            "  for chunk in pd.read_csv('/content/drive/MyDrive/Azubi_TMP/TransBorder_Analysis_Project/Dataset/Cleaned/Final_Cleaned_Data.csv', chunksize=chunksize):\n",
            "/tmp/ipython-input-3-1603353380.py:4: DtypeWarning: Columns (2) have mixed types. Specify dtype option on import or set low_memory=False.\n",
            "  for chunk in pd.read_csv('/content/drive/MyDrive/Azubi_TMP/TransBorder_Analysis_Project/Dataset/Cleaned/Final_Cleaned_Data.csv', chunksize=chunksize):\n",
            "/tmp/ipython-input-3-1603353380.py:4: DtypeWarning: Columns (2) have mixed types. Specify dtype option on import or set low_memory=False.\n",
            "  for chunk in pd.read_csv('/content/drive/MyDrive/Azubi_TMP/TransBorder_Analysis_Project/Dataset/Cleaned/Final_Cleaned_Data.csv', chunksize=chunksize):\n",
            "/tmp/ipython-input-3-1603353380.py:4: DtypeWarning: Columns (2,4,11) have mixed types. Specify dtype option on import or set low_memory=False.\n",
            "  for chunk in pd.read_csv('/content/drive/MyDrive/Azubi_TMP/TransBorder_Analysis_Project/Dataset/Cleaned/Final_Cleaned_Data.csv', chunksize=chunksize):\n",
            "/tmp/ipython-input-3-1603353380.py:4: DtypeWarning: Columns (2) have mixed types. Specify dtype option on import or set low_memory=False.\n",
            "  for chunk in pd.read_csv('/content/drive/MyDrive/Azubi_TMP/TransBorder_Analysis_Project/Dataset/Cleaned/Final_Cleaned_Data.csv', chunksize=chunksize):\n",
            "/tmp/ipython-input-3-1603353380.py:4: DtypeWarning: Columns (2) have mixed types. Specify dtype option on import or set low_memory=False.\n",
            "  for chunk in pd.read_csv('/content/drive/MyDrive/Azubi_TMP/TransBorder_Analysis_Project/Dataset/Cleaned/Final_Cleaned_Data.csv', chunksize=chunksize):\n",
            "/tmp/ipython-input-3-1603353380.py:4: DtypeWarning: Columns (2) have mixed types. Specify dtype option on import or set low_memory=False.\n",
            "  for chunk in pd.read_csv('/content/drive/MyDrive/Azubi_TMP/TransBorder_Analysis_Project/Dataset/Cleaned/Final_Cleaned_Data.csv', chunksize=chunksize):\n",
            "/tmp/ipython-input-3-1603353380.py:4: DtypeWarning: Columns (2) have mixed types. Specify dtype option on import or set low_memory=False.\n",
            "  for chunk in pd.read_csv('/content/drive/MyDrive/Azubi_TMP/TransBorder_Analysis_Project/Dataset/Cleaned/Final_Cleaned_Data.csv', chunksize=chunksize):\n",
            "/tmp/ipython-input-3-1603353380.py:4: DtypeWarning: Columns (4,11) have mixed types. Specify dtype option on import or set low_memory=False.\n",
            "  for chunk in pd.read_csv('/content/drive/MyDrive/Azubi_TMP/TransBorder_Analysis_Project/Dataset/Cleaned/Final_Cleaned_Data.csv', chunksize=chunksize):\n",
            "/tmp/ipython-input-3-1603353380.py:4: DtypeWarning: Columns (2,4,11) have mixed types. Specify dtype option on import or set low_memory=False.\n",
            "  for chunk in pd.read_csv('/content/drive/MyDrive/Azubi_TMP/TransBorder_Analysis_Project/Dataset/Cleaned/Final_Cleaned_Data.csv', chunksize=chunksize):\n",
            "/tmp/ipython-input-3-1603353380.py:4: DtypeWarning: Columns (2) have mixed types. Specify dtype option on import or set low_memory=False.\n",
            "  for chunk in pd.read_csv('/content/drive/MyDrive/Azubi_TMP/TransBorder_Analysis_Project/Dataset/Cleaned/Final_Cleaned_Data.csv', chunksize=chunksize):\n",
            "/tmp/ipython-input-3-1603353380.py:4: DtypeWarning: Columns (2,4,11) have mixed types. Specify dtype option on import or set low_memory=False.\n",
            "  for chunk in pd.read_csv('/content/drive/MyDrive/Azubi_TMP/TransBorder_Analysis_Project/Dataset/Cleaned/Final_Cleaned_Data.csv', chunksize=chunksize):\n",
            "/tmp/ipython-input-3-1603353380.py:4: DtypeWarning: Columns (2) have mixed types. Specify dtype option on import or set low_memory=False.\n",
            "  for chunk in pd.read_csv('/content/drive/MyDrive/Azubi_TMP/TransBorder_Analysis_Project/Dataset/Cleaned/Final_Cleaned_Data.csv', chunksize=chunksize):\n",
            "/tmp/ipython-input-3-1603353380.py:4: DtypeWarning: Columns (2) have mixed types. Specify dtype option on import or set low_memory=False.\n",
            "  for chunk in pd.read_csv('/content/drive/MyDrive/Azubi_TMP/TransBorder_Analysis_Project/Dataset/Cleaned/Final_Cleaned_Data.csv', chunksize=chunksize):\n",
            "/tmp/ipython-input-3-1603353380.py:4: DtypeWarning: Columns (2,4,11) have mixed types. Specify dtype option on import or set low_memory=False.\n",
            "  for chunk in pd.read_csv('/content/drive/MyDrive/Azubi_TMP/TransBorder_Analysis_Project/Dataset/Cleaned/Final_Cleaned_Data.csv', chunksize=chunksize):\n",
            "/tmp/ipython-input-3-1603353380.py:4: DtypeWarning: Columns (2) have mixed types. Specify dtype option on import or set low_memory=False.\n",
            "  for chunk in pd.read_csv('/content/drive/MyDrive/Azubi_TMP/TransBorder_Analysis_Project/Dataset/Cleaned/Final_Cleaned_Data.csv', chunksize=chunksize):\n",
            "/tmp/ipython-input-3-1603353380.py:4: DtypeWarning: Columns (2) have mixed types. Specify dtype option on import or set low_memory=False.\n",
            "  for chunk in pd.read_csv('/content/drive/MyDrive/Azubi_TMP/TransBorder_Analysis_Project/Dataset/Cleaned/Final_Cleaned_Data.csv', chunksize=chunksize):\n",
            "/tmp/ipython-input-3-1603353380.py:4: DtypeWarning: Columns (2) have mixed types. Specify dtype option on import or set low_memory=False.\n",
            "  for chunk in pd.read_csv('/content/drive/MyDrive/Azubi_TMP/TransBorder_Analysis_Project/Dataset/Cleaned/Final_Cleaned_Data.csv', chunksize=chunksize):\n",
            "/tmp/ipython-input-3-1603353380.py:4: DtypeWarning: Columns (2) have mixed types. Specify dtype option on import or set low_memory=False.\n",
            "  for chunk in pd.read_csv('/content/drive/MyDrive/Azubi_TMP/TransBorder_Analysis_Project/Dataset/Cleaned/Final_Cleaned_Data.csv', chunksize=chunksize):\n",
            "/tmp/ipython-input-3-1603353380.py:4: DtypeWarning: Columns (2) have mixed types. Specify dtype option on import or set low_memory=False.\n",
            "  for chunk in pd.read_csv('/content/drive/MyDrive/Azubi_TMP/TransBorder_Analysis_Project/Dataset/Cleaned/Final_Cleaned_Data.csv', chunksize=chunksize):\n",
            "/tmp/ipython-input-3-1603353380.py:4: DtypeWarning: Columns (2) have mixed types. Specify dtype option on import or set low_memory=False.\n",
            "  for chunk in pd.read_csv('/content/drive/MyDrive/Azubi_TMP/TransBorder_Analysis_Project/Dataset/Cleaned/Final_Cleaned_Data.csv', chunksize=chunksize):\n",
            "/tmp/ipython-input-3-1603353380.py:4: DtypeWarning: Columns (2) have mixed types. Specify dtype option on import or set low_memory=False.\n",
            "  for chunk in pd.read_csv('/content/drive/MyDrive/Azubi_TMP/TransBorder_Analysis_Project/Dataset/Cleaned/Final_Cleaned_Data.csv', chunksize=chunksize):\n",
            "/tmp/ipython-input-3-1603353380.py:4: DtypeWarning: Columns (2) have mixed types. Specify dtype option on import or set low_memory=False.\n",
            "  for chunk in pd.read_csv('/content/drive/MyDrive/Azubi_TMP/TransBorder_Analysis_Project/Dataset/Cleaned/Final_Cleaned_Data.csv', chunksize=chunksize):\n",
            "/tmp/ipython-input-3-1603353380.py:4: DtypeWarning: Columns (2) have mixed types. Specify dtype option on import or set low_memory=False.\n",
            "  for chunk in pd.read_csv('/content/drive/MyDrive/Azubi_TMP/TransBorder_Analysis_Project/Dataset/Cleaned/Final_Cleaned_Data.csv', chunksize=chunksize):\n",
            "/tmp/ipython-input-3-1603353380.py:4: DtypeWarning: Columns (4,11) have mixed types. Specify dtype option on import or set low_memory=False.\n",
            "  for chunk in pd.read_csv('/content/drive/MyDrive/Azubi_TMP/TransBorder_Analysis_Project/Dataset/Cleaned/Final_Cleaned_Data.csv', chunksize=chunksize):\n",
            "/tmp/ipython-input-3-1603353380.py:4: DtypeWarning: Columns (4,11) have mixed types. Specify dtype option on import or set low_memory=False.\n",
            "  for chunk in pd.read_csv('/content/drive/MyDrive/Azubi_TMP/TransBorder_Analysis_Project/Dataset/Cleaned/Final_Cleaned_Data.csv', chunksize=chunksize):\n",
            "/tmp/ipython-input-3-1603353380.py:4: DtypeWarning: Columns (2) have mixed types. Specify dtype option on import or set low_memory=False.\n",
            "  for chunk in pd.read_csv('/content/drive/MyDrive/Azubi_TMP/TransBorder_Analysis_Project/Dataset/Cleaned/Final_Cleaned_Data.csv', chunksize=chunksize):\n",
            "/tmp/ipython-input-3-1603353380.py:4: DtypeWarning: Columns (2,4,11) have mixed types. Specify dtype option on import or set low_memory=False.\n",
            "  for chunk in pd.read_csv('/content/drive/MyDrive/Azubi_TMP/TransBorder_Analysis_Project/Dataset/Cleaned/Final_Cleaned_Data.csv', chunksize=chunksize):\n",
            "/tmp/ipython-input-3-1603353380.py:4: DtypeWarning: Columns (4,11) have mixed types. Specify dtype option on import or set low_memory=False.\n",
            "  for chunk in pd.read_csv('/content/drive/MyDrive/Azubi_TMP/TransBorder_Analysis_Project/Dataset/Cleaned/Final_Cleaned_Data.csv', chunksize=chunksize):\n",
            "/tmp/ipython-input-3-1603353380.py:4: DtypeWarning: Columns (2) have mixed types. Specify dtype option on import or set low_memory=False.\n",
            "  for chunk in pd.read_csv('/content/drive/MyDrive/Azubi_TMP/TransBorder_Analysis_Project/Dataset/Cleaned/Final_Cleaned_Data.csv', chunksize=chunksize):\n",
            "/tmp/ipython-input-3-1603353380.py:4: DtypeWarning: Columns (2) have mixed types. Specify dtype option on import or set low_memory=False.\n",
            "  for chunk in pd.read_csv('/content/drive/MyDrive/Azubi_TMP/TransBorder_Analysis_Project/Dataset/Cleaned/Final_Cleaned_Data.csv', chunksize=chunksize):\n",
            "/tmp/ipython-input-3-1603353380.py:4: DtypeWarning: Columns (2) have mixed types. Specify dtype option on import or set low_memory=False.\n",
            "  for chunk in pd.read_csv('/content/drive/MyDrive/Azubi_TMP/TransBorder_Analysis_Project/Dataset/Cleaned/Final_Cleaned_Data.csv', chunksize=chunksize):\n",
            "/tmp/ipython-input-3-1603353380.py:4: DtypeWarning: Columns (2) have mixed types. Specify dtype option on import or set low_memory=False.\n",
            "  for chunk in pd.read_csv('/content/drive/MyDrive/Azubi_TMP/TransBorder_Analysis_Project/Dataset/Cleaned/Final_Cleaned_Data.csv', chunksize=chunksize):\n",
            "/tmp/ipython-input-3-1603353380.py:4: DtypeWarning: Columns (4,11) have mixed types. Specify dtype option on import or set low_memory=False.\n",
            "  for chunk in pd.read_csv('/content/drive/MyDrive/Azubi_TMP/TransBorder_Analysis_Project/Dataset/Cleaned/Final_Cleaned_Data.csv', chunksize=chunksize):\n",
            "/tmp/ipython-input-3-1603353380.py:4: DtypeWarning: Columns (2) have mixed types. Specify dtype option on import or set low_memory=False.\n",
            "  for chunk in pd.read_csv('/content/drive/MyDrive/Azubi_TMP/TransBorder_Analysis_Project/Dataset/Cleaned/Final_Cleaned_Data.csv', chunksize=chunksize):\n",
            "/tmp/ipython-input-3-1603353380.py:4: DtypeWarning: Columns (2) have mixed types. Specify dtype option on import or set low_memory=False.\n",
            "  for chunk in pd.read_csv('/content/drive/MyDrive/Azubi_TMP/TransBorder_Analysis_Project/Dataset/Cleaned/Final_Cleaned_Data.csv', chunksize=chunksize):\n",
            "/tmp/ipython-input-3-1603353380.py:4: DtypeWarning: Columns (2) have mixed types. Specify dtype option on import or set low_memory=False.\n",
            "  for chunk in pd.read_csv('/content/drive/MyDrive/Azubi_TMP/TransBorder_Analysis_Project/Dataset/Cleaned/Final_Cleaned_Data.csv', chunksize=chunksize):\n",
            "/tmp/ipython-input-3-1603353380.py:4: DtypeWarning: Columns (2) have mixed types. Specify dtype option on import or set low_memory=False.\n",
            "  for chunk in pd.read_csv('/content/drive/MyDrive/Azubi_TMP/TransBorder_Analysis_Project/Dataset/Cleaned/Final_Cleaned_Data.csv', chunksize=chunksize):\n",
            "/tmp/ipython-input-3-1603353380.py:4: DtypeWarning: Columns (2) have mixed types. Specify dtype option on import or set low_memory=False.\n",
            "  for chunk in pd.read_csv('/content/drive/MyDrive/Azubi_TMP/TransBorder_Analysis_Project/Dataset/Cleaned/Final_Cleaned_Data.csv', chunksize=chunksize):\n",
            "/tmp/ipython-input-3-1603353380.py:4: DtypeWarning: Columns (4,11) have mixed types. Specify dtype option on import or set low_memory=False.\n",
            "  for chunk in pd.read_csv('/content/drive/MyDrive/Azubi_TMP/TransBorder_Analysis_Project/Dataset/Cleaned/Final_Cleaned_Data.csv', chunksize=chunksize):\n",
            "/tmp/ipython-input-3-1603353380.py:4: DtypeWarning: Columns (2) have mixed types. Specify dtype option on import or set low_memory=False.\n",
            "  for chunk in pd.read_csv('/content/drive/MyDrive/Azubi_TMP/TransBorder_Analysis_Project/Dataset/Cleaned/Final_Cleaned_Data.csv', chunksize=chunksize):\n",
            "/tmp/ipython-input-3-1603353380.py:4: DtypeWarning: Columns (2) have mixed types. Specify dtype option on import or set low_memory=False.\n",
            "  for chunk in pd.read_csv('/content/drive/MyDrive/Azubi_TMP/TransBorder_Analysis_Project/Dataset/Cleaned/Final_Cleaned_Data.csv', chunksize=chunksize):\n",
            "/tmp/ipython-input-3-1603353380.py:4: DtypeWarning: Columns (4,11) have mixed types. Specify dtype option on import or set low_memory=False.\n",
            "  for chunk in pd.read_csv('/content/drive/MyDrive/Azubi_TMP/TransBorder_Analysis_Project/Dataset/Cleaned/Final_Cleaned_Data.csv', chunksize=chunksize):\n",
            "/tmp/ipython-input-3-1603353380.py:4: DtypeWarning: Columns (2) have mixed types. Specify dtype option on import or set low_memory=False.\n",
            "  for chunk in pd.read_csv('/content/drive/MyDrive/Azubi_TMP/TransBorder_Analysis_Project/Dataset/Cleaned/Final_Cleaned_Data.csv', chunksize=chunksize):\n",
            "/tmp/ipython-input-3-1603353380.py:4: DtypeWarning: Columns (2) have mixed types. Specify dtype option on import or set low_memory=False.\n",
            "  for chunk in pd.read_csv('/content/drive/MyDrive/Azubi_TMP/TransBorder_Analysis_Project/Dataset/Cleaned/Final_Cleaned_Data.csv', chunksize=chunksize):\n",
            "/tmp/ipython-input-3-1603353380.py:4: DtypeWarning: Columns (2,4,11) have mixed types. Specify dtype option on import or set low_memory=False.\n",
            "  for chunk in pd.read_csv('/content/drive/MyDrive/Azubi_TMP/TransBorder_Analysis_Project/Dataset/Cleaned/Final_Cleaned_Data.csv', chunksize=chunksize):\n",
            "/tmp/ipython-input-3-1603353380.py:4: DtypeWarning: Columns (2) have mixed types. Specify dtype option on import or set low_memory=False.\n",
            "  for chunk in pd.read_csv('/content/drive/MyDrive/Azubi_TMP/TransBorder_Analysis_Project/Dataset/Cleaned/Final_Cleaned_Data.csv', chunksize=chunksize):\n",
            "/tmp/ipython-input-3-1603353380.py:4: DtypeWarning: Columns (2) have mixed types. Specify dtype option on import or set low_memory=False.\n",
            "  for chunk in pd.read_csv('/content/drive/MyDrive/Azubi_TMP/TransBorder_Analysis_Project/Dataset/Cleaned/Final_Cleaned_Data.csv', chunksize=chunksize):\n",
            "/tmp/ipython-input-3-1603353380.py:4: DtypeWarning: Columns (2) have mixed types. Specify dtype option on import or set low_memory=False.\n",
            "  for chunk in pd.read_csv('/content/drive/MyDrive/Azubi_TMP/TransBorder_Analysis_Project/Dataset/Cleaned/Final_Cleaned_Data.csv', chunksize=chunksize):\n",
            "/tmp/ipython-input-3-1603353380.py:4: DtypeWarning: Columns (2) have mixed types. Specify dtype option on import or set low_memory=False.\n",
            "  for chunk in pd.read_csv('/content/drive/MyDrive/Azubi_TMP/TransBorder_Analysis_Project/Dataset/Cleaned/Final_Cleaned_Data.csv', chunksize=chunksize):\n",
            "/tmp/ipython-input-3-1603353380.py:4: DtypeWarning: Columns (2,4,11) have mixed types. Specify dtype option on import or set low_memory=False.\n",
            "  for chunk in pd.read_csv('/content/drive/MyDrive/Azubi_TMP/TransBorder_Analysis_Project/Dataset/Cleaned/Final_Cleaned_Data.csv', chunksize=chunksize):\n",
            "/tmp/ipython-input-3-1603353380.py:4: DtypeWarning: Columns (2) have mixed types. Specify dtype option on import or set low_memory=False.\n",
            "  for chunk in pd.read_csv('/content/drive/MyDrive/Azubi_TMP/TransBorder_Analysis_Project/Dataset/Cleaned/Final_Cleaned_Data.csv', chunksize=chunksize):\n",
            "/tmp/ipython-input-3-1603353380.py:4: DtypeWarning: Columns (2) have mixed types. Specify dtype option on import or set low_memory=False.\n",
            "  for chunk in pd.read_csv('/content/drive/MyDrive/Azubi_TMP/TransBorder_Analysis_Project/Dataset/Cleaned/Final_Cleaned_Data.csv', chunksize=chunksize):\n",
            "/tmp/ipython-input-3-1603353380.py:4: DtypeWarning: Columns (2,4,11) have mixed types. Specify dtype option on import or set low_memory=False.\n",
            "  for chunk in pd.read_csv('/content/drive/MyDrive/Azubi_TMP/TransBorder_Analysis_Project/Dataset/Cleaned/Final_Cleaned_Data.csv', chunksize=chunksize):\n",
            "/tmp/ipython-input-3-1603353380.py:4: DtypeWarning: Columns (2) have mixed types. Specify dtype option on import or set low_memory=False.\n",
            "  for chunk in pd.read_csv('/content/drive/MyDrive/Azubi_TMP/TransBorder_Analysis_Project/Dataset/Cleaned/Final_Cleaned_Data.csv', chunksize=chunksize):\n",
            "/tmp/ipython-input-3-1603353380.py:4: DtypeWarning: Columns (2) have mixed types. Specify dtype option on import or set low_memory=False.\n",
            "  for chunk in pd.read_csv('/content/drive/MyDrive/Azubi_TMP/TransBorder_Analysis_Project/Dataset/Cleaned/Final_Cleaned_Data.csv', chunksize=chunksize):\n",
            "/tmp/ipython-input-3-1603353380.py:4: DtypeWarning: Columns (2) have mixed types. Specify dtype option on import or set low_memory=False.\n",
            "  for chunk in pd.read_csv('/content/drive/MyDrive/Azubi_TMP/TransBorder_Analysis_Project/Dataset/Cleaned/Final_Cleaned_Data.csv', chunksize=chunksize):\n",
            "/tmp/ipython-input-3-1603353380.py:4: DtypeWarning: Columns (2) have mixed types. Specify dtype option on import or set low_memory=False.\n",
            "  for chunk in pd.read_csv('/content/drive/MyDrive/Azubi_TMP/TransBorder_Analysis_Project/Dataset/Cleaned/Final_Cleaned_Data.csv', chunksize=chunksize):\n",
            "/tmp/ipython-input-3-1603353380.py:4: DtypeWarning: Columns (2) have mixed types. Specify dtype option on import or set low_memory=False.\n",
            "  for chunk in pd.read_csv('/content/drive/MyDrive/Azubi_TMP/TransBorder_Analysis_Project/Dataset/Cleaned/Final_Cleaned_Data.csv', chunksize=chunksize):\n",
            "/tmp/ipython-input-3-1603353380.py:4: DtypeWarning: Columns (2) have mixed types. Specify dtype option on import or set low_memory=False.\n",
            "  for chunk in pd.read_csv('/content/drive/MyDrive/Azubi_TMP/TransBorder_Analysis_Project/Dataset/Cleaned/Final_Cleaned_Data.csv', chunksize=chunksize):\n",
            "/tmp/ipython-input-3-1603353380.py:4: DtypeWarning: Columns (2) have mixed types. Specify dtype option on import or set low_memory=False.\n",
            "  for chunk in pd.read_csv('/content/drive/MyDrive/Azubi_TMP/TransBorder_Analysis_Project/Dataset/Cleaned/Final_Cleaned_Data.csv', chunksize=chunksize):\n",
            "/tmp/ipython-input-3-1603353380.py:4: DtypeWarning: Columns (2) have mixed types. Specify dtype option on import or set low_memory=False.\n",
            "  for chunk in pd.read_csv('/content/drive/MyDrive/Azubi_TMP/TransBorder_Analysis_Project/Dataset/Cleaned/Final_Cleaned_Data.csv', chunksize=chunksize):\n",
            "/tmp/ipython-input-3-1603353380.py:4: DtypeWarning: Columns (2) have mixed types. Specify dtype option on import or set low_memory=False.\n",
            "  for chunk in pd.read_csv('/content/drive/MyDrive/Azubi_TMP/TransBorder_Analysis_Project/Dataset/Cleaned/Final_Cleaned_Data.csv', chunksize=chunksize):\n",
            "/tmp/ipython-input-3-1603353380.py:4: DtypeWarning: Columns (2) have mixed types. Specify dtype option on import or set low_memory=False.\n",
            "  for chunk in pd.read_csv('/content/drive/MyDrive/Azubi_TMP/TransBorder_Analysis_Project/Dataset/Cleaned/Final_Cleaned_Data.csv', chunksize=chunksize):\n",
            "/tmp/ipython-input-3-1603353380.py:4: DtypeWarning: Columns (2) have mixed types. Specify dtype option on import or set low_memory=False.\n",
            "  for chunk in pd.read_csv('/content/drive/MyDrive/Azubi_TMP/TransBorder_Analysis_Project/Dataset/Cleaned/Final_Cleaned_Data.csv', chunksize=chunksize):\n",
            "/tmp/ipython-input-3-1603353380.py:4: DtypeWarning: Columns (2) have mixed types. Specify dtype option on import or set low_memory=False.\n",
            "  for chunk in pd.read_csv('/content/drive/MyDrive/Azubi_TMP/TransBorder_Analysis_Project/Dataset/Cleaned/Final_Cleaned_Data.csv', chunksize=chunksize):\n",
            "/tmp/ipython-input-3-1603353380.py:4: DtypeWarning: Columns (2) have mixed types. Specify dtype option on import or set low_memory=False.\n",
            "  for chunk in pd.read_csv('/content/drive/MyDrive/Azubi_TMP/TransBorder_Analysis_Project/Dataset/Cleaned/Final_Cleaned_Data.csv', chunksize=chunksize):\n",
            "/tmp/ipython-input-3-1603353380.py:4: DtypeWarning: Columns (2) have mixed types. Specify dtype option on import or set low_memory=False.\n",
            "  for chunk in pd.read_csv('/content/drive/MyDrive/Azubi_TMP/TransBorder_Analysis_Project/Dataset/Cleaned/Final_Cleaned_Data.csv', chunksize=chunksize):\n"
          ]
        },
        {
          "output_type": "stream",
          "name": "stdout",
          "text": [
            "File loaded successfully with shape: (28355597, 16)\n"
          ]
        }
      ]
    },
    {
      "cell_type": "markdown",
      "metadata": {
        "id": "E_IpVhCQam_Z"
      },
      "source": [
        "# **ANALYSIS & VISUALIZATION**"
      ]
    },
    {
      "cell_type": "markdown",
      "source": [
        "### **1. Most Common Transport Modes Over Time**"
      ],
      "metadata": {
        "id": "sMaSWG0MoM6w"
      }
    },
    {
      "cell_type": "code",
      "execution_count": 15,
      "metadata": {
        "id": "5eGGlRoNamEh",
        "colab": {
          "base_uri": "https://localhost:8080/",
          "height": 517
        },
        "outputId": "5c510588-332c-4868-8cad-d86dce556cbb"
      },
      "outputs": [
        {
          "output_type": "display_data",
          "data": {
            "text/html": [
              "<html>\n",
              "<head><meta charset=\"utf-8\" /></head>\n",
              "<body>\n",
              "    <div>            <script src=\"https://cdnjs.cloudflare.com/ajax/libs/mathjax/2.7.5/MathJax.js?config=TeX-AMS-MML_SVG\"></script><script type=\"text/javascript\">if (window.MathJax && window.MathJax.Hub && window.MathJax.Hub.Config) {window.MathJax.Hub.Config({SVG: {font: \"STIX-Web\"}});}</script>                <script type=\"text/javascript\">window.PlotlyConfig = {MathJaxConfig: 'local'};</script>\n",
              "        <script charset=\"utf-8\" src=\"https://cdn.plot.ly/plotly-2.35.2.min.js\"></script>                <div id=\"05a27f8a-cb06-445c-83b4-91dd6ebe88e3\" class=\"plotly-graph-div\" style=\"height:500px; width:1000px;\"></div>            <script type=\"text/javascript\">                                    window.PLOTLYENV=window.PLOTLYENV || {};                                    if (document.getElementById(\"05a27f8a-cb06-445c-83b4-91dd6ebe88e3\")) {                    Plotly.newPlot(                        \"05a27f8a-cb06-445c-83b4-91dd6ebe88e3\",                        [{\"hovertemplate\":\"DISAGMOT=1\\u003cbr\\u003eDate=%{x}\\u003cbr\\u003eTrade Value (USD)=%{y}\\u003cextra\\u003e\\u003c\\u002fextra\\u003e\",\"legendgroup\":\"1\",\"line\":{\"color\":\"#636efa\",\"dash\":\"solid\"},\"marker\":{\"symbol\":\"circle\"},\"mode\":\"lines\",\"name\":\"1\",\"orientation\":\"v\",\"showlegend\":true,\"x\":[\"2020-01-01\",\"2020-02-01\",\"2020-03-01\",\"2020-04-01\",\"2020-05-01\",\"2020-06-01\",\"2020-07-01\",\"2020-08-01\",\"2020-09-01\",\"2021-01-01\",\"2021-02-01\",\"2021-03-01\",\"2021-04-01\",\"2021-05-01\",\"2021-06-01\",\"2021-07-01\",\"2021-08-01\",\"2021-09-01\",\"2021-10-01\",\"2021-11-01\",\"2021-12-01\",\"2022-01-01\",\"2022-02-01\",\"2022-03-01\",\"2022-04-01\",\"2022-05-01\",\"2022-06-01\",\"2022-07-01\",\"2022-08-01\",\"2022-09-01\",\"2022-10-01\",\"2022-11-01\",\"2022-12-01\",\"2023-01-01\",\"2023-02-01\",\"2023-03-01\",\"2023-04-01\",\"2023-05-01\",\"2023-06-01\",\"2023-07-01\",\"2023-08-01\",\"2023-09-01\",\"2023-10-01\",\"2023-11-01\",\"2023-12-01\",\"2024-01-01\",\"2024-02-01\",\"2024-03-01\",\"2024-04-01\",\"2024-05-01\",\"2024-06-01\",\"2024-07-01\",\"2024-08-01\",\"2024-09-01\"],\"xaxis\":\"x\",\"y\":[106653609860,76057553286,66122397936,36745886758,23042154456,23024357050,23762830848,18141449154,13371565016,209461416764,83712926376,90159186062,93903423600,91854429174,81827055200,73973856334,66649169652,47450004960,45921987744,37765029126,24796773992,317784287180,135243830904,166968333422,170758158780,163039154958,137817128352,122603804582,106443953988,68191832100,52347424776,34700437788,26297205436,114830429022,83222115392,91356177108,66810200580,54718540600,47410430984,40778575128,29539298908,13362117996,12827882172,11627764016,11824829288,11850800798,11922288332,12317483978,11541187652,11419498924,12690602332,13507835236,12724864904,11814156948],\"yaxis\":\"y\",\"type\":\"scatter\"},{\"hovertemplate\":\"DISAGMOT=3\\u003cbr\\u003eDate=%{x}\\u003cbr\\u003eTrade Value (USD)=%{y}\\u003cextra\\u003e\\u003c\\u002fextra\\u003e\",\"legendgroup\":\"3\",\"line\":{\"color\":\"#EF553B\",\"dash\":\"solid\"},\"marker\":{\"symbol\":\"circle\"},\"mode\":\"lines\",\"name\":\"3\",\"orientation\":\"v\",\"showlegend\":true,\"x\":[\"2020-01-01\",\"2020-02-01\",\"2020-03-01\",\"2020-04-01\",\"2020-05-01\",\"2020-06-01\",\"2020-07-01\",\"2020-08-01\",\"2020-09-01\",\"2021-01-01\",\"2021-02-01\",\"2021-03-01\",\"2021-04-01\",\"2021-05-01\",\"2021-06-01\",\"2021-07-01\",\"2021-08-01\",\"2021-09-01\",\"2021-10-01\",\"2021-11-01\",\"2021-12-01\",\"2022-01-01\",\"2022-02-01\",\"2022-03-01\",\"2022-04-01\",\"2022-05-01\",\"2022-06-01\",\"2022-07-01\",\"2022-08-01\",\"2022-09-01\",\"2022-10-01\",\"2022-11-01\",\"2022-12-01\",\"2023-01-01\",\"2023-02-01\",\"2023-03-01\",\"2023-04-01\",\"2023-05-01\",\"2023-06-01\",\"2023-07-01\",\"2023-08-01\",\"2023-09-01\",\"2023-10-01\",\"2023-11-01\",\"2023-12-01\",\"2024-01-01\",\"2024-02-01\",\"2024-03-01\",\"2024-04-01\",\"2024-05-01\",\"2024-06-01\",\"2024-07-01\",\"2024-08-01\",\"2024-09-01\"],\"xaxis\":\"x\",\"y\":[64583965940,61391534328,61437657664,36215629226,33911720388,29040980290,24761110176,20438696988,13627652776,168893098292,75307698072,85902544178,70475196480,70571399886,66692615360,56019905144,47081738028,35508491150,31778117656,23447929092,17870378704,191799659628,87666474624,102571224536,83081478620,71406926604,66481882336,53618546618,48580427016,42036401850,34737837888,24994150254,17459438648,73728447876,53682987952,60939456816,48757620084,40031481420,32595399320,22953669756,17396576088,8221635344,8478314184,8368829354,7852581402,7047288638,7974582098,7731670872,7957510426,7509019596,7740787584,8505439346,7905635088,7773746888],\"yaxis\":\"y\",\"type\":\"scatter\"},{\"hovertemplate\":\"DISAGMOT=4\\u003cbr\\u003eDate=%{x}\\u003cbr\\u003eTrade Value (USD)=%{y}\\u003cextra\\u003e\\u003c\\u002fextra\\u003e\",\"legendgroup\":\"4\",\"line\":{\"color\":\"#00cc96\",\"dash\":\"solid\"},\"marker\":{\"symbol\":\"circle\"},\"mode\":\"lines\",\"name\":\"4\",\"orientation\":\"v\",\"showlegend\":true,\"x\":[\"2020-01-01\",\"2020-02-01\",\"2020-03-01\",\"2020-04-01\",\"2020-05-01\",\"2020-06-01\",\"2020-07-01\",\"2020-08-01\",\"2020-09-01\",\"2021-01-01\",\"2021-02-01\",\"2021-03-01\",\"2021-04-01\",\"2021-05-01\",\"2021-06-01\",\"2021-07-01\",\"2021-08-01\",\"2021-09-01\",\"2021-10-01\",\"2021-11-01\",\"2021-12-01\",\"2022-01-01\",\"2022-02-01\",\"2022-03-01\",\"2022-04-01\",\"2022-05-01\",\"2022-06-01\",\"2022-07-01\",\"2022-08-01\",\"2022-09-01\",\"2022-10-01\",\"2022-11-01\",\"2022-12-01\",\"2023-01-01\",\"2023-02-01\",\"2023-03-01\",\"2023-04-01\",\"2023-05-01\",\"2023-06-01\",\"2023-07-01\",\"2023-08-01\",\"2023-09-01\",\"2023-10-01\",\"2023-11-01\",\"2023-12-01\",\"2024-01-01\",\"2024-02-01\",\"2024-03-01\",\"2024-04-01\",\"2024-05-01\",\"2024-06-01\",\"2024-07-01\",\"2024-08-01\",\"2024-09-01\"],\"xaxis\":\"x\",\"y\":[60309560,58397814,45434160,17486854,18491772,13925770,13451000,9175194,7522696,94971616,47785296,51210918,42673760,39380292,35294848,24990084,22667172,19097400,20570880,16338702,9012780,107553134,54067440,58351392,48245580,44779608,38543456,31784242,30128400,16731660,15136280,14476224,8472344,37964484,30465392,60833234,26522760,24848750,16802280,12820962,10600064,6839416,5133362,4602486,4815290,5032334,4285904,4935058,4687534,4193784,3757574,3714470,3676514,4081466],\"yaxis\":\"y\",\"type\":\"scatter\"},{\"hovertemplate\":\"DISAGMOT=5\\u003cbr\\u003eDate=%{x}\\u003cbr\\u003eTrade Value (USD)=%{y}\\u003cextra\\u003e\\u003c\\u002fextra\\u003e\",\"legendgroup\":\"5\",\"line\":{\"color\":\"#ab63fa\",\"dash\":\"solid\"},\"marker\":{\"symbol\":\"circle\"},\"mode\":\"lines\",\"name\":\"5\",\"orientation\":\"v\",\"showlegend\":true,\"x\":[\"2020-01-01\",\"2020-02-01\",\"2020-03-01\",\"2020-04-01\",\"2020-05-01\",\"2020-06-01\",\"2020-07-01\",\"2020-08-01\",\"2020-09-01\",\"2021-01-01\",\"2021-02-01\",\"2021-03-01\",\"2021-04-01\",\"2021-05-01\",\"2021-06-01\",\"2021-07-01\",\"2021-08-01\",\"2021-09-01\",\"2021-10-01\",\"2021-11-01\",\"2021-12-01\",\"2022-01-01\",\"2022-02-01\",\"2022-03-01\",\"2022-04-01\",\"2022-05-01\",\"2022-06-01\",\"2022-07-01\",\"2022-08-01\",\"2022-09-01\",\"2022-10-01\",\"2022-11-01\",\"2022-12-01\",\"2023-01-01\",\"2023-02-01\",\"2023-03-01\",\"2023-04-01\",\"2023-05-01\",\"2023-06-01\",\"2023-07-01\",\"2023-08-01\",\"2023-09-01\",\"2023-10-01\",\"2023-11-01\",\"2023-12-01\",\"2024-01-01\",\"2024-02-01\",\"2024-03-01\",\"2024-04-01\",\"2024-05-01\",\"2024-06-01\",\"2024-07-01\",\"2024-08-01\",\"2024-09-01\"],\"xaxis\":\"x\",\"y\":[807190438680,721581160032,664131242624,368946817288,322288682184,370741037410,320008307680,238715543760,167242623444,2140779652378,946352733240,1081832240632,902258947160,817359094998,771982898720,637173839596,563643855012,451520987550,389561718144,290921702088,183873888332,2414748974060,1091222951976,1247725926392,1042998261820,971710587594,877234267136,709270255834,654692778984,531542068330,431823296856,308423141148,190888343928,915010396722,795641857664,823708862424,644057099604,587918215080,468493912840,316805792478,230010838208,108975510784,114586508950,107381248788,95988133318,103705888076,108180911030,111263544956,116992750212,116775883520,111198302572,110555489004,114512850696,110987895782],\"yaxis\":\"y\",\"type\":\"scatter\"},{\"hovertemplate\":\"DISAGMOT=6\\u003cbr\\u003eDate=%{x}\\u003cbr\\u003eTrade Value (USD)=%{y}\\u003cextra\\u003e\\u003c\\u002fextra\\u003e\",\"legendgroup\":\"6\",\"line\":{\"color\":\"#FFA15A\",\"dash\":\"solid\"},\"marker\":{\"symbol\":\"circle\"},\"mode\":\"lines\",\"name\":\"6\",\"orientation\":\"v\",\"showlegend\":true,\"x\":[\"2020-01-01\",\"2020-02-01\",\"2020-03-01\",\"2020-04-01\",\"2020-05-01\",\"2020-06-01\",\"2020-07-01\",\"2020-08-01\",\"2020-09-01\",\"2021-01-01\",\"2021-02-01\",\"2021-03-01\",\"2021-04-01\",\"2021-05-01\",\"2021-06-01\",\"2021-07-01\",\"2021-08-01\",\"2021-09-01\",\"2021-10-01\",\"2021-11-01\",\"2021-12-01\",\"2022-01-01\",\"2022-02-01\",\"2022-03-01\",\"2022-04-01\",\"2022-05-01\",\"2022-06-01\",\"2022-07-01\",\"2022-08-01\",\"2022-09-01\",\"2022-10-01\",\"2022-11-01\",\"2022-12-01\",\"2023-01-01\",\"2023-02-01\",\"2023-03-01\",\"2023-04-01\",\"2023-05-01\",\"2023-06-01\",\"2023-07-01\",\"2023-08-01\",\"2023-09-01\",\"2023-10-01\",\"2023-11-01\",\"2023-12-01\",\"2024-01-01\",\"2024-02-01\",\"2024-03-01\",\"2024-04-01\",\"2024-05-01\",\"2024-06-01\",\"2024-07-01\",\"2024-08-01\",\"2024-09-01\"],\"xaxis\":\"x\",\"y\":[194433197840,175430744604,161827975600,68990090456,56190977544,73695434920,65994074008,55500128982,38083724256,525549034680,225443379648,272548395064,226479757080,208528412040,192976411120,163082061156,136126645092,105235901150,93652609304,69739504392,46076874616,587405958078,267174090672,322210458240,284169328280,260084456226,228104968992,177327088106,155777808456,118213494600,95204253984,71294996154,45140441176,217449411822,191370554496,182638412334,147683022588,123192058500,95053659368,69694280592,49764349184,25641595222,25254952966,24409785578,23179774128,21500923554,23373543902,25667265722,25432884236,25757937032,24353056534,21858089232,23567787246,23330535852],\"yaxis\":\"y\",\"type\":\"scatter\"},{\"hovertemplate\":\"DISAGMOT=7\\u003cbr\\u003eDate=%{x}\\u003cbr\\u003eTrade Value (USD)=%{y}\\u003cextra\\u003e\\u003c\\u002fextra\\u003e\",\"legendgroup\":\"7\",\"line\":{\"color\":\"#19d3f3\",\"dash\":\"solid\"},\"marker\":{\"symbol\":\"circle\"},\"mode\":\"lines\",\"name\":\"7\",\"orientation\":\"v\",\"showlegend\":true,\"x\":[\"2020-01-01\",\"2020-02-01\",\"2020-03-01\",\"2020-04-01\",\"2020-05-01\",\"2020-06-01\",\"2020-07-01\",\"2020-08-01\",\"2020-09-01\",\"2021-01-01\",\"2021-02-01\",\"2021-03-01\",\"2021-04-01\",\"2021-05-01\",\"2021-06-01\",\"2021-07-01\",\"2021-08-01\",\"2021-09-01\",\"2021-10-01\",\"2021-11-01\",\"2021-12-01\",\"2022-01-01\",\"2022-02-01\",\"2022-03-01\",\"2022-04-01\",\"2022-05-01\",\"2022-06-01\",\"2022-07-01\",\"2022-08-01\",\"2022-09-01\",\"2022-10-01\",\"2022-11-01\",\"2022-12-01\",\"2023-01-01\",\"2023-02-01\",\"2023-03-01\",\"2023-04-01\",\"2023-05-01\",\"2023-06-01\",\"2023-07-01\",\"2023-08-01\",\"2023-09-01\",\"2023-10-01\",\"2023-11-01\",\"2023-12-01\",\"2024-01-01\",\"2024-02-01\",\"2024-03-01\",\"2024-04-01\",\"2024-05-01\",\"2024-06-01\",\"2024-07-01\",\"2024-08-01\",\"2024-09-01\"],\"xaxis\":\"x\",\"y\":[129514777360,100881715518,79957522592,47733996786,27868726560,27372566620,31996597904,27596679804,18223397064,332409959534,221739183936,162009353748,129990230980,124154268390,132793879680,114203959674,105145776048,84520609740,66508355088,61673943210,42506439884,594769682166,237576536856,270532945782,251746143040,246737484234,238055897664,196757495620,175595372508,129252521960,91308267112,66250273266,40760303884,188320236354,152554773104,141801887962,98966189796,91937091260,64965365360,48970500258,38997153512,18356234070,20091248414,21064360142,18286442494,19415097884,16170221606,17161216148,18793648242,19049066300,17884682990,20425055180,17751556432,16946960912],\"yaxis\":\"y\",\"type\":\"scatter\"},{\"hovertemplate\":\"DISAGMOT=8\\u003cbr\\u003eDate=%{x}\\u003cbr\\u003eTrade Value (USD)=%{y}\\u003cextra\\u003e\\u003c\\u002fextra\\u003e\",\"legendgroup\":\"8\",\"line\":{\"color\":\"#FF6692\",\"dash\":\"solid\"},\"marker\":{\"symbol\":\"circle\"},\"mode\":\"lines\",\"name\":\"8\",\"orientation\":\"v\",\"showlegend\":true,\"x\":[\"2020-01-01\",\"2020-02-01\",\"2020-03-01\",\"2020-04-01\",\"2020-05-01\",\"2020-06-01\",\"2020-07-01\",\"2020-08-01\",\"2020-09-01\",\"2021-01-01\",\"2021-02-01\",\"2021-03-01\",\"2021-04-01\",\"2021-05-01\",\"2021-06-01\",\"2021-07-01\",\"2021-08-01\",\"2021-09-01\",\"2021-10-01\",\"2021-11-01\",\"2021-12-01\",\"2022-01-01\",\"2022-02-01\",\"2022-03-01\",\"2022-04-01\",\"2022-05-01\",\"2022-06-01\",\"2022-07-01\",\"2022-08-01\",\"2022-09-01\",\"2022-10-01\",\"2022-11-01\",\"2022-12-01\",\"2023-01-01\",\"2023-02-01\",\"2023-03-01\",\"2023-04-01\",\"2023-05-01\",\"2023-06-01\",\"2023-07-01\",\"2023-08-01\",\"2023-09-01\",\"2023-10-01\",\"2023-11-01\",\"2023-12-01\",\"2024-01-01\",\"2024-02-01\",\"2024-03-01\",\"2024-04-01\",\"2024-05-01\",\"2024-06-01\",\"2024-07-01\",\"2024-08-01\",\"2024-09-01\"],\"xaxis\":\"x\",\"y\":[70382291880,66742046118,64229012656,32490223738,29701101840,37647989560,27626430128,20918721342,15508043600,196543458148,88336067136,91489050730,78448703680,76032777492,78661792224,65133987492,51655070016,46218849830,36208845456,29141779458,22023380412,215638889350,98682761520,119730570564,94088039680,85255426494,80817913584,66444186760,58812977016,52271335090,37813577536,26510584752,20659929040,83029161420,66575309040,76167775390,51826887384,47373351210,39061629136,27372245658,18090796132,9308018046,9223489354,8798033546,12098301088,7776807372,8934638204,9250613354,8314113606,8869263194,9478318362,8800754014,8703565088,12474666198],\"yaxis\":\"y\",\"type\":\"scatter\"},{\"hovertemplate\":\"DISAGMOT=9\\u003cbr\\u003eDate=%{x}\\u003cbr\\u003eTrade Value (USD)=%{y}\\u003cextra\\u003e\\u003c\\u002fextra\\u003e\",\"legendgroup\":\"9\",\"line\":{\"color\":\"#B6E880\",\"dash\":\"solid\"},\"marker\":{\"symbol\":\"circle\"},\"mode\":\"lines\",\"name\":\"9\",\"orientation\":\"v\",\"showlegend\":true,\"x\":[\"2020-01-01\",\"2020-02-01\",\"2020-03-01\",\"2020-04-01\",\"2020-05-01\",\"2020-06-01\",\"2020-07-01\",\"2020-08-01\",\"2020-09-01\",\"2021-01-01\",\"2021-02-01\",\"2021-03-01\",\"2021-04-01\",\"2021-05-01\",\"2021-06-01\",\"2021-07-01\",\"2021-08-01\",\"2021-09-01\",\"2021-10-01\",\"2021-11-01\",\"2021-12-01\",\"2022-01-01\",\"2022-02-01\",\"2022-03-01\",\"2022-04-01\",\"2022-05-01\",\"2022-06-01\",\"2022-07-01\",\"2022-08-01\",\"2022-09-01\",\"2022-10-01\",\"2022-11-01\",\"2022-12-01\",\"2023-01-01\",\"2023-02-01\",\"2023-03-01\",\"2023-04-01\",\"2023-05-01\",\"2023-06-01\",\"2023-07-01\",\"2023-08-01\",\"2023-09-01\",\"2023-10-01\",\"2023-11-01\",\"2023-12-01\",\"2024-01-01\",\"2024-02-01\",\"2024-03-01\",\"2024-04-01\",\"2024-05-01\",\"2024-06-01\",\"2024-07-01\",\"2024-08-01\",\"2024-09-01\"],\"xaxis\":\"x\",\"y\":[2383199940,1878820884,1491214816,964052446,680538240,934633310,803133048,493426458,282915520,3777610914,1411092768,2077581198,2205994580,2399381100,1909346896,1442293958,1507297332,1240292030,816930216,120672876,66711368,3579294738,493886280,967208484,678716920,465083856,327099536,367441060,355839192,2734425720,3774171240,1915894554,1233481780,5901414300,4697821520,4382132356,3822447888,3435645880,1958811656,2293683438,1208863660,668697316,682430130,762464694,694570652,965141534,779677346,555651364,820203702,698645052,617069622,772603128,781563792,897229820],\"yaxis\":\"y\",\"type\":\"scatter\"}],                        {\"template\":{\"data\":{\"barpolar\":[{\"marker\":{\"line\":{\"color\":\"white\",\"width\":0.5},\"pattern\":{\"fillmode\":\"overlay\",\"size\":10,\"solidity\":0.2}},\"type\":\"barpolar\"}],\"bar\":[{\"error_x\":{\"color\":\"#2a3f5f\"},\"error_y\":{\"color\":\"#2a3f5f\"},\"marker\":{\"line\":{\"color\":\"white\",\"width\":0.5},\"pattern\":{\"fillmode\":\"overlay\",\"size\":10,\"solidity\":0.2}},\"type\":\"bar\"}],\"carpet\":[{\"aaxis\":{\"endlinecolor\":\"#2a3f5f\",\"gridcolor\":\"#C8D4E3\",\"linecolor\":\"#C8D4E3\",\"minorgridcolor\":\"#C8D4E3\",\"startlinecolor\":\"#2a3f5f\"},\"baxis\":{\"endlinecolor\":\"#2a3f5f\",\"gridcolor\":\"#C8D4E3\",\"linecolor\":\"#C8D4E3\",\"minorgridcolor\":\"#C8D4E3\",\"startlinecolor\":\"#2a3f5f\"},\"type\":\"carpet\"}],\"choropleth\":[{\"colorbar\":{\"outlinewidth\":0,\"ticks\":\"\"},\"type\":\"choropleth\"}],\"contourcarpet\":[{\"colorbar\":{\"outlinewidth\":0,\"ticks\":\"\"},\"type\":\"contourcarpet\"}],\"contour\":[{\"colorbar\":{\"outlinewidth\":0,\"ticks\":\"\"},\"colorscale\":[[0.0,\"#0d0887\"],[0.1111111111111111,\"#46039f\"],[0.2222222222222222,\"#7201a8\"],[0.3333333333333333,\"#9c179e\"],[0.4444444444444444,\"#bd3786\"],[0.5555555555555556,\"#d8576b\"],[0.6666666666666666,\"#ed7953\"],[0.7777777777777778,\"#fb9f3a\"],[0.8888888888888888,\"#fdca26\"],[1.0,\"#f0f921\"]],\"type\":\"contour\"}],\"heatmapgl\":[{\"colorbar\":{\"outlinewidth\":0,\"ticks\":\"\"},\"colorscale\":[[0.0,\"#0d0887\"],[0.1111111111111111,\"#46039f\"],[0.2222222222222222,\"#7201a8\"],[0.3333333333333333,\"#9c179e\"],[0.4444444444444444,\"#bd3786\"],[0.5555555555555556,\"#d8576b\"],[0.6666666666666666,\"#ed7953\"],[0.7777777777777778,\"#fb9f3a\"],[0.8888888888888888,\"#fdca26\"],[1.0,\"#f0f921\"]],\"type\":\"heatmapgl\"}],\"heatmap\":[{\"colorbar\":{\"outlinewidth\":0,\"ticks\":\"\"},\"colorscale\":[[0.0,\"#0d0887\"],[0.1111111111111111,\"#46039f\"],[0.2222222222222222,\"#7201a8\"],[0.3333333333333333,\"#9c179e\"],[0.4444444444444444,\"#bd3786\"],[0.5555555555555556,\"#d8576b\"],[0.6666666666666666,\"#ed7953\"],[0.7777777777777778,\"#fb9f3a\"],[0.8888888888888888,\"#fdca26\"],[1.0,\"#f0f921\"]],\"type\":\"heatmap\"}],\"histogram2dcontour\":[{\"colorbar\":{\"outlinewidth\":0,\"ticks\":\"\"},\"colorscale\":[[0.0,\"#0d0887\"],[0.1111111111111111,\"#46039f\"],[0.2222222222222222,\"#7201a8\"],[0.3333333333333333,\"#9c179e\"],[0.4444444444444444,\"#bd3786\"],[0.5555555555555556,\"#d8576b\"],[0.6666666666666666,\"#ed7953\"],[0.7777777777777778,\"#fb9f3a\"],[0.8888888888888888,\"#fdca26\"],[1.0,\"#f0f921\"]],\"type\":\"histogram2dcontour\"}],\"histogram2d\":[{\"colorbar\":{\"outlinewidth\":0,\"ticks\":\"\"},\"colorscale\":[[0.0,\"#0d0887\"],[0.1111111111111111,\"#46039f\"],[0.2222222222222222,\"#7201a8\"],[0.3333333333333333,\"#9c179e\"],[0.4444444444444444,\"#bd3786\"],[0.5555555555555556,\"#d8576b\"],[0.6666666666666666,\"#ed7953\"],[0.7777777777777778,\"#fb9f3a\"],[0.8888888888888888,\"#fdca26\"],[1.0,\"#f0f921\"]],\"type\":\"histogram2d\"}],\"histogram\":[{\"marker\":{\"pattern\":{\"fillmode\":\"overlay\",\"size\":10,\"solidity\":0.2}},\"type\":\"histogram\"}],\"mesh3d\":[{\"colorbar\":{\"outlinewidth\":0,\"ticks\":\"\"},\"type\":\"mesh3d\"}],\"parcoords\":[{\"line\":{\"colorbar\":{\"outlinewidth\":0,\"ticks\":\"\"}},\"type\":\"parcoords\"}],\"pie\":[{\"automargin\":true,\"type\":\"pie\"}],\"scatter3d\":[{\"line\":{\"colorbar\":{\"outlinewidth\":0,\"ticks\":\"\"}},\"marker\":{\"colorbar\":{\"outlinewidth\":0,\"ticks\":\"\"}},\"type\":\"scatter3d\"}],\"scattercarpet\":[{\"marker\":{\"colorbar\":{\"outlinewidth\":0,\"ticks\":\"\"}},\"type\":\"scattercarpet\"}],\"scattergeo\":[{\"marker\":{\"colorbar\":{\"outlinewidth\":0,\"ticks\":\"\"}},\"type\":\"scattergeo\"}],\"scattergl\":[{\"marker\":{\"colorbar\":{\"outlinewidth\":0,\"ticks\":\"\"}},\"type\":\"scattergl\"}],\"scattermapbox\":[{\"marker\":{\"colorbar\":{\"outlinewidth\":0,\"ticks\":\"\"}},\"type\":\"scattermapbox\"}],\"scatterpolargl\":[{\"marker\":{\"colorbar\":{\"outlinewidth\":0,\"ticks\":\"\"}},\"type\":\"scatterpolargl\"}],\"scatterpolar\":[{\"marker\":{\"colorbar\":{\"outlinewidth\":0,\"ticks\":\"\"}},\"type\":\"scatterpolar\"}],\"scatter\":[{\"fillpattern\":{\"fillmode\":\"overlay\",\"size\":10,\"solidity\":0.2},\"type\":\"scatter\"}],\"scatterternary\":[{\"marker\":{\"colorbar\":{\"outlinewidth\":0,\"ticks\":\"\"}},\"type\":\"scatterternary\"}],\"surface\":[{\"colorbar\":{\"outlinewidth\":0,\"ticks\":\"\"},\"colorscale\":[[0.0,\"#0d0887\"],[0.1111111111111111,\"#46039f\"],[0.2222222222222222,\"#7201a8\"],[0.3333333333333333,\"#9c179e\"],[0.4444444444444444,\"#bd3786\"],[0.5555555555555556,\"#d8576b\"],[0.6666666666666666,\"#ed7953\"],[0.7777777777777778,\"#fb9f3a\"],[0.8888888888888888,\"#fdca26\"],[1.0,\"#f0f921\"]],\"type\":\"surface\"}],\"table\":[{\"cells\":{\"fill\":{\"color\":\"#EBF0F8\"},\"line\":{\"color\":\"white\"}},\"header\":{\"fill\":{\"color\":\"#C8D4E3\"},\"line\":{\"color\":\"white\"}},\"type\":\"table\"}]},\"layout\":{\"annotationdefaults\":{\"arrowcolor\":\"#2a3f5f\",\"arrowhead\":0,\"arrowwidth\":1},\"autotypenumbers\":\"strict\",\"coloraxis\":{\"colorbar\":{\"outlinewidth\":0,\"ticks\":\"\"}},\"colorscale\":{\"diverging\":[[0,\"#8e0152\"],[0.1,\"#c51b7d\"],[0.2,\"#de77ae\"],[0.3,\"#f1b6da\"],[0.4,\"#fde0ef\"],[0.5,\"#f7f7f7\"],[0.6,\"#e6f5d0\"],[0.7,\"#b8e186\"],[0.8,\"#7fbc41\"],[0.9,\"#4d9221\"],[1,\"#276419\"]],\"sequential\":[[0.0,\"#0d0887\"],[0.1111111111111111,\"#46039f\"],[0.2222222222222222,\"#7201a8\"],[0.3333333333333333,\"#9c179e\"],[0.4444444444444444,\"#bd3786\"],[0.5555555555555556,\"#d8576b\"],[0.6666666666666666,\"#ed7953\"],[0.7777777777777778,\"#fb9f3a\"],[0.8888888888888888,\"#fdca26\"],[1.0,\"#f0f921\"]],\"sequentialminus\":[[0.0,\"#0d0887\"],[0.1111111111111111,\"#46039f\"],[0.2222222222222222,\"#7201a8\"],[0.3333333333333333,\"#9c179e\"],[0.4444444444444444,\"#bd3786\"],[0.5555555555555556,\"#d8576b\"],[0.6666666666666666,\"#ed7953\"],[0.7777777777777778,\"#fb9f3a\"],[0.8888888888888888,\"#fdca26\"],[1.0,\"#f0f921\"]]},\"colorway\":[\"#636efa\",\"#EF553B\",\"#00cc96\",\"#ab63fa\",\"#FFA15A\",\"#19d3f3\",\"#FF6692\",\"#B6E880\",\"#FF97FF\",\"#FECB52\"],\"font\":{\"color\":\"#2a3f5f\"},\"geo\":{\"bgcolor\":\"white\",\"lakecolor\":\"white\",\"landcolor\":\"white\",\"showlakes\":true,\"showland\":true,\"subunitcolor\":\"#C8D4E3\"},\"hoverlabel\":{\"align\":\"left\"},\"hovermode\":\"closest\",\"mapbox\":{\"style\":\"light\"},\"paper_bgcolor\":\"white\",\"plot_bgcolor\":\"white\",\"polar\":{\"angularaxis\":{\"gridcolor\":\"#EBF0F8\",\"linecolor\":\"#EBF0F8\",\"ticks\":\"\"},\"bgcolor\":\"white\",\"radialaxis\":{\"gridcolor\":\"#EBF0F8\",\"linecolor\":\"#EBF0F8\",\"ticks\":\"\"}},\"scene\":{\"xaxis\":{\"backgroundcolor\":\"white\",\"gridcolor\":\"#DFE8F3\",\"gridwidth\":2,\"linecolor\":\"#EBF0F8\",\"showbackground\":true,\"ticks\":\"\",\"zerolinecolor\":\"#EBF0F8\"},\"yaxis\":{\"backgroundcolor\":\"white\",\"gridcolor\":\"#DFE8F3\",\"gridwidth\":2,\"linecolor\":\"#EBF0F8\",\"showbackground\":true,\"ticks\":\"\",\"zerolinecolor\":\"#EBF0F8\"},\"zaxis\":{\"backgroundcolor\":\"white\",\"gridcolor\":\"#DFE8F3\",\"gridwidth\":2,\"linecolor\":\"#EBF0F8\",\"showbackground\":true,\"ticks\":\"\",\"zerolinecolor\":\"#EBF0F8\"}},\"shapedefaults\":{\"line\":{\"color\":\"#2a3f5f\"}},\"ternary\":{\"aaxis\":{\"gridcolor\":\"#DFE8F3\",\"linecolor\":\"#A2B1C6\",\"ticks\":\"\"},\"baxis\":{\"gridcolor\":\"#DFE8F3\",\"linecolor\":\"#A2B1C6\",\"ticks\":\"\"},\"bgcolor\":\"white\",\"caxis\":{\"gridcolor\":\"#DFE8F3\",\"linecolor\":\"#A2B1C6\",\"ticks\":\"\"}},\"title\":{\"x\":0.05},\"xaxis\":{\"automargin\":true,\"gridcolor\":\"#EBF0F8\",\"linecolor\":\"#EBF0F8\",\"ticks\":\"\",\"title\":{\"standoff\":15},\"zerolinecolor\":\"#EBF0F8\",\"zerolinewidth\":2},\"yaxis\":{\"automargin\":true,\"gridcolor\":\"#EBF0F8\",\"linecolor\":\"#EBF0F8\",\"ticks\":\"\",\"title\":{\"standoff\":15},\"zerolinecolor\":\"#EBF0F8\",\"zerolinewidth\":2}}},\"xaxis\":{\"anchor\":\"y\",\"domain\":[0.0,1.0],\"title\":{\"text\":\"Date\"}},\"yaxis\":{\"anchor\":\"x\",\"domain\":[0.0,1.0],\"title\":{\"text\":\"Trade Value (USD)\"},\"tickformat\":\"$,.2s\"},\"legend\":{\"title\":{\"text\":\"Transport Mode\"},\"tracegroupgap\":0},\"title\":{\"text\":\"Freight Value by Transport Mode Over Time\",\"font\":{\"size\":18}},\"hovermode\":\"x unified\",\"height\":500,\"width\":1000},                        {\"responsive\": true}                    ).then(function(){\n",
              "                            \n",
              "var gd = document.getElementById('05a27f8a-cb06-445c-83b4-91dd6ebe88e3');\n",
              "var x = new MutationObserver(function (mutations, observer) {{\n",
              "        var display = window.getComputedStyle(gd).display;\n",
              "        if (!display || display === 'none') {{\n",
              "            console.log([gd, 'removed!']);\n",
              "            Plotly.purge(gd);\n",
              "            observer.disconnect();\n",
              "        }}\n",
              "}});\n",
              "\n",
              "// Listen for the removal of the full notebook cells\n",
              "var notebookContainer = gd.closest('#notebook-container');\n",
              "if (notebookContainer) {{\n",
              "    x.observe(notebookContainer, {childList: true});\n",
              "}}\n",
              "\n",
              "// Listen for the clearing of the current output cell\n",
              "var outputEl = gd.closest('.output');\n",
              "if (outputEl) {{\n",
              "    x.observe(outputEl, {childList: true});\n",
              "}}\n",
              "\n",
              "                        })                };                            </script>        </div>\n",
              "</body>\n",
              "</html>"
            ]
          },
          "metadata": {}
        }
      ],
      "source": [
        "grouped_mode_trend = df.groupby(['DATE', 'DISAGMOT'])['VALUE'].sum().reset_index()\n",
        "\n",
        "fig = px.line(\n",
        "    grouped_mode_trend,\n",
        "    x='DATE',\n",
        "    y='VALUE',\n",
        "    color='DISAGMOT',\n",
        "    title='Freight Value by Transport Mode Over Time',\n",
        "    labels={'VALUE': 'Trade Value (USD)', 'DATE': 'Date'},\n",
        "    template='plotly_white'\n",
        ")\n",
        "\n",
        "fig.update_layout(\n",
        "    yaxis_tickformat='$,.2s',\n",
        "    title_font_size=18,\n",
        "    legend_title='Transport Mode',\n",
        "    hovermode='x unified',\n",
        "    height=500,\n",
        "    width=1000\n",
        ")\n",
        "\n",
        "fig.show()"
      ]
    },
    {
      "cell_type": "markdown",
      "source": [
        "### **2.\tTrade Trends Across Canada and Mexico**"
      ],
      "metadata": {
        "id": "A1IW_LDIrc4g"
      }
    },
    {
      "cell_type": "code",
      "source": [
        "# Filter only Canada and Mexico\n",
        "can_mex_df = df[df['COUNTRY'].isin([1220, 2010])].copy()\n",
        "\n",
        "# Map country and trade type\n",
        "can_mex_df['COUNTRY'] = can_mex_df['COUNTRY'].map({1220: 'Canada', 2010: 'Mexico'})\n",
        "can_mex_df['TRDTYPE'] = can_mex_df['TRDTYPE'].map({1: 'Export', 2: 'Import'})\n",
        "\n",
        "# Group by DATE, COUNTRY, TRDTYPE and sum VALUE\n",
        "trend_split = can_mex_df.groupby(['DATE', 'COUNTRY', 'TRDTYPE'])['VALUE'].sum().reset_index()"
      ],
      "metadata": {
        "id": "VCb72c1AruRQ"
      },
      "execution_count": 11,
      "outputs": []
    },
    {
      "cell_type": "markdown",
      "source": [
        "**Exports**"
      ],
      "metadata": {
        "id": "WbbtGHCo2Z_N"
      }
    },
    {
      "cell_type": "code",
      "source": [
        "# Filter for exports only\n",
        "export_df = trend_split[trend_split['TRDTYPE'] == 'Export']\n",
        "\n",
        "fig_export = px.line(\n",
        "    export_df,\n",
        "    x='DATE',\n",
        "    y='VALUE',\n",
        "    color='COUNTRY',\n",
        "    title='Freight Export Value Trend (Canada vs Mexico)',\n",
        "    labels={'VALUE': 'Export Value (USD)', 'DATE': 'Date'},\n",
        "    template='ggplot2'\n",
        ")\n",
        "\n",
        "fig_export.update_layout(\n",
        "    font=dict(family='Segoe UI', size=14, color='black'),\n",
        "    title_font_size=20,\n",
        "    height=500,\n",
        "    width=1050,\n",
        "    plot_bgcolor='white',\n",
        "    paper_bgcolor='white',\n",
        "    hovermode='x unified'\n",
        ")\n",
        "\n",
        "fig_export.update_yaxes(\n",
        "    title='Export Value (Billions USD)',\n",
        "    tickformat=',.2s',\n",
        "    tickprefix='$',\n",
        "    showgrid=True,\n",
        "    gridcolor='lightgray'\n",
        ")\n",
        "\n",
        "fig_export.update_xaxes(\n",
        "    title='Date',\n",
        "    showgrid=True,\n",
        "    gridcolor='lightgray'\n",
        ")\n",
        "\n",
        "fig_export.show()"
      ],
      "metadata": {
        "colab": {
          "base_uri": "https://localhost:8080/",
          "height": 517
        },
        "id": "QnqWpD-dv65n",
        "outputId": "e5139b22-9ee4-4d8d-ee70-339a09f16499"
      },
      "execution_count": 14,
      "outputs": [
        {
          "output_type": "display_data",
          "data": {
            "text/html": [
              "<html>\n",
              "<head><meta charset=\"utf-8\" /></head>\n",
              "<body>\n",
              "    <div>            <script src=\"https://cdnjs.cloudflare.com/ajax/libs/mathjax/2.7.5/MathJax.js?config=TeX-AMS-MML_SVG\"></script><script type=\"text/javascript\">if (window.MathJax && window.MathJax.Hub && window.MathJax.Hub.Config) {window.MathJax.Hub.Config({SVG: {font: \"STIX-Web\"}});}</script>                <script type=\"text/javascript\">window.PlotlyConfig = {MathJaxConfig: 'local'};</script>\n",
              "        <script charset=\"utf-8\" src=\"https://cdn.plot.ly/plotly-2.35.2.min.js\"></script>                <div id=\"66971c86-baba-4aae-8977-5ae2aa718b87\" class=\"plotly-graph-div\" style=\"height:500px; width:1050px;\"></div>            <script type=\"text/javascript\">                                    window.PLOTLYENV=window.PLOTLYENV || {};                                    if (document.getElementById(\"66971c86-baba-4aae-8977-5ae2aa718b87\")) {                    Plotly.newPlot(                        \"66971c86-baba-4aae-8977-5ae2aa718b87\",                        [{\"hovertemplate\":\"COUNTRY=Canada\\u003cbr\\u003eDate=%{x}\\u003cbr\\u003eExport Value (USD)=%{y}\\u003cextra\\u003e\\u003c\\u002fextra\\u003e\",\"legendgroup\":\"Canada\",\"line\":{\"color\":\"#F8766D\",\"dash\":\"solid\"},\"marker\":{\"symbol\":\"circle\"},\"mode\":\"lines\",\"name\":\"Canada\",\"orientation\":\"v\",\"showlegend\":true,\"x\":[\"2020-01-01\",\"2020-02-01\",\"2020-03-01\",\"2020-04-01\",\"2020-05-01\",\"2020-06-01\",\"2020-07-01\",\"2020-08-01\",\"2020-09-01\",\"2021-01-01\",\"2021-02-01\",\"2021-03-01\",\"2021-04-01\",\"2021-05-01\",\"2021-06-01\",\"2021-07-01\",\"2021-08-01\",\"2021-09-01\",\"2021-10-01\",\"2021-11-01\",\"2021-12-01\",\"2022-01-01\",\"2022-02-01\",\"2022-03-01\",\"2022-04-01\",\"2022-05-01\",\"2022-06-01\",\"2022-07-01\",\"2022-08-01\",\"2022-09-01\",\"2022-10-01\",\"2022-11-01\",\"2022-12-01\",\"2023-01-01\",\"2023-02-01\",\"2023-03-01\",\"2023-04-01\",\"2023-05-01\",\"2023-06-01\",\"2023-07-01\",\"2023-08-01\",\"2023-09-01\",\"2023-10-01\",\"2023-11-01\",\"2023-12-01\",\"2024-01-01\",\"2024-02-01\",\"2024-03-01\",\"2024-04-01\",\"2024-05-01\",\"2024-06-01\",\"2024-07-01\",\"2024-08-01\",\"2024-09-01\"],\"xaxis\":\"x\",\"y\":[450905684260,416646959778,376501907536,207069979284,177985197456,201028610620,168655032136,136967092068,93198365168,1165648285194,532087070640,613384905650,503267368280,457076212308,426721404240,360106752390,308842920168,245969595080,218455567744,165783015162,110049124476,1348616827122,606806674752,713182413020,619789022420,550597196898,523864190144,411919266948,374680997460,304639063220,239357358288,177465667380,111210868992,492975807408,432713609904,445436648104,352328934528,307748047540,249567758792,171865255992,124016067232,59367415992,58158216512,58151694134,55550695260,52688214572,56987641924,61717086616,61293936620,60570700240,59812211620,55400751126,59839028252,58305265250],\"yaxis\":\"y\",\"type\":\"scatter\"},{\"hovertemplate\":\"COUNTRY=Mexico\\u003cbr\\u003eDate=%{x}\\u003cbr\\u003eExport Value (USD)=%{y}\\u003cextra\\u003e\\u003c\\u002fextra\\u003e\",\"legendgroup\":\"Mexico\",\"line\":{\"color\":\"#A3A500\",\"dash\":\"solid\"},\"marker\":{\"symbol\":\"circle\"},\"mode\":\"lines\",\"name\":\"Mexico\",\"orientation\":\"v\",\"showlegend\":true,\"x\":[\"2020-01-01\",\"2020-02-01\",\"2020-03-01\",\"2020-04-01\",\"2020-05-01\",\"2020-06-01\",\"2020-07-01\",\"2020-08-01\",\"2020-09-01\",\"2021-01-01\",\"2021-02-01\",\"2021-03-01\",\"2021-04-01\",\"2021-05-01\",\"2021-06-01\",\"2021-07-01\",\"2021-08-01\",\"2021-09-01\",\"2021-10-01\",\"2021-11-01\",\"2021-12-01\",\"2022-01-01\",\"2022-02-01\",\"2022-03-01\",\"2022-04-01\",\"2022-05-01\",\"2022-06-01\",\"2022-07-01\",\"2022-08-01\",\"2022-09-01\",\"2022-10-01\",\"2022-11-01\",\"2022-12-01\",\"2023-01-01\",\"2023-02-01\",\"2023-03-01\",\"2023-04-01\",\"2023-05-01\",\"2023-06-01\",\"2023-07-01\",\"2023-08-01\",\"2023-09-01\",\"2023-10-01\",\"2023-11-01\",\"2023-12-01\",\"2024-01-01\",\"2024-02-01\",\"2024-03-01\",\"2024-04-01\",\"2024-05-01\",\"2024-06-01\",\"2024-07-01\",\"2024-08-01\",\"2024-09-01\"],\"xaxis\":\"x\",\"y\":[416669727420,349135081146,320752601568,175376140114,125281052088,157867562980,147586879416,102279995436,74809760736,1059440582040,505089215496,517125968172,451132055060,410376038958,386124220736,331244006282,290165144328,227836797850,195777045816,144528630696,94961073144,1264335370852,569144378640,627658673994,546277187340,520393056048,455320326208,382764154920,359797180620,279140044970,224048320328,153569170074,99676157944,485054491284,399125643968,409810908472,296609233860,272754419380,219098157496,158428804512,116062599476,55134939972,59735058732,51982605748,47640625790,52960510980,53562156848,53799105258,58795928324,58174044984,55367916994,57430332452,60039721452,56657399858],\"yaxis\":\"y\",\"type\":\"scatter\"}],                        {\"template\":{\"data\":{\"barpolar\":[{\"marker\":{\"line\":{\"color\":\"rgb(237,237,237)\",\"width\":0.5},\"pattern\":{\"fillmode\":\"overlay\",\"size\":10,\"solidity\":0.2}},\"type\":\"barpolar\"}],\"bar\":[{\"error_x\":{\"color\":\"rgb(51,51,51)\"},\"error_y\":{\"color\":\"rgb(51,51,51)\"},\"marker\":{\"line\":{\"color\":\"rgb(237,237,237)\",\"width\":0.5},\"pattern\":{\"fillmode\":\"overlay\",\"size\":10,\"solidity\":0.2}},\"type\":\"bar\"}],\"carpet\":[{\"aaxis\":{\"endlinecolor\":\"rgb(51,51,51)\",\"gridcolor\":\"white\",\"linecolor\":\"white\",\"minorgridcolor\":\"white\",\"startlinecolor\":\"rgb(51,51,51)\"},\"baxis\":{\"endlinecolor\":\"rgb(51,51,51)\",\"gridcolor\":\"white\",\"linecolor\":\"white\",\"minorgridcolor\":\"white\",\"startlinecolor\":\"rgb(51,51,51)\"},\"type\":\"carpet\"}],\"choropleth\":[{\"colorbar\":{\"outlinewidth\":0,\"tickcolor\":\"rgb(237,237,237)\",\"ticklen\":6,\"ticks\":\"inside\"},\"type\":\"choropleth\"}],\"contourcarpet\":[{\"colorbar\":{\"outlinewidth\":0,\"tickcolor\":\"rgb(237,237,237)\",\"ticklen\":6,\"ticks\":\"inside\"},\"type\":\"contourcarpet\"}],\"contour\":[{\"colorbar\":{\"outlinewidth\":0,\"tickcolor\":\"rgb(237,237,237)\",\"ticklen\":6,\"ticks\":\"inside\"},\"colorscale\":[[0,\"rgb(20,44,66)\"],[1,\"rgb(90,179,244)\"]],\"type\":\"contour\"}],\"heatmapgl\":[{\"colorbar\":{\"outlinewidth\":0,\"tickcolor\":\"rgb(237,237,237)\",\"ticklen\":6,\"ticks\":\"inside\"},\"colorscale\":[[0,\"rgb(20,44,66)\"],[1,\"rgb(90,179,244)\"]],\"type\":\"heatmapgl\"}],\"heatmap\":[{\"colorbar\":{\"outlinewidth\":0,\"tickcolor\":\"rgb(237,237,237)\",\"ticklen\":6,\"ticks\":\"inside\"},\"colorscale\":[[0,\"rgb(20,44,66)\"],[1,\"rgb(90,179,244)\"]],\"type\":\"heatmap\"}],\"histogram2dcontour\":[{\"colorbar\":{\"outlinewidth\":0,\"tickcolor\":\"rgb(237,237,237)\",\"ticklen\":6,\"ticks\":\"inside\"},\"colorscale\":[[0,\"rgb(20,44,66)\"],[1,\"rgb(90,179,244)\"]],\"type\":\"histogram2dcontour\"}],\"histogram2d\":[{\"colorbar\":{\"outlinewidth\":0,\"tickcolor\":\"rgb(237,237,237)\",\"ticklen\":6,\"ticks\":\"inside\"},\"colorscale\":[[0,\"rgb(20,44,66)\"],[1,\"rgb(90,179,244)\"]],\"type\":\"histogram2d\"}],\"histogram\":[{\"marker\":{\"pattern\":{\"fillmode\":\"overlay\",\"size\":10,\"solidity\":0.2}},\"type\":\"histogram\"}],\"mesh3d\":[{\"colorbar\":{\"outlinewidth\":0,\"tickcolor\":\"rgb(237,237,237)\",\"ticklen\":6,\"ticks\":\"inside\"},\"type\":\"mesh3d\"}],\"parcoords\":[{\"line\":{\"colorbar\":{\"outlinewidth\":0,\"tickcolor\":\"rgb(237,237,237)\",\"ticklen\":6,\"ticks\":\"inside\"}},\"type\":\"parcoords\"}],\"pie\":[{\"automargin\":true,\"type\":\"pie\"}],\"scatter3d\":[{\"line\":{\"colorbar\":{\"outlinewidth\":0,\"tickcolor\":\"rgb(237,237,237)\",\"ticklen\":6,\"ticks\":\"inside\"}},\"marker\":{\"colorbar\":{\"outlinewidth\":0,\"tickcolor\":\"rgb(237,237,237)\",\"ticklen\":6,\"ticks\":\"inside\"}},\"type\":\"scatter3d\"}],\"scattercarpet\":[{\"marker\":{\"colorbar\":{\"outlinewidth\":0,\"tickcolor\":\"rgb(237,237,237)\",\"ticklen\":6,\"ticks\":\"inside\"}},\"type\":\"scattercarpet\"}],\"scattergeo\":[{\"marker\":{\"colorbar\":{\"outlinewidth\":0,\"tickcolor\":\"rgb(237,237,237)\",\"ticklen\":6,\"ticks\":\"inside\"}},\"type\":\"scattergeo\"}],\"scattergl\":[{\"marker\":{\"colorbar\":{\"outlinewidth\":0,\"tickcolor\":\"rgb(237,237,237)\",\"ticklen\":6,\"ticks\":\"inside\"}},\"type\":\"scattergl\"}],\"scattermapbox\":[{\"marker\":{\"colorbar\":{\"outlinewidth\":0,\"tickcolor\":\"rgb(237,237,237)\",\"ticklen\":6,\"ticks\":\"inside\"}},\"type\":\"scattermapbox\"}],\"scatterpolargl\":[{\"marker\":{\"colorbar\":{\"outlinewidth\":0,\"tickcolor\":\"rgb(237,237,237)\",\"ticklen\":6,\"ticks\":\"inside\"}},\"type\":\"scatterpolargl\"}],\"scatterpolar\":[{\"marker\":{\"colorbar\":{\"outlinewidth\":0,\"tickcolor\":\"rgb(237,237,237)\",\"ticklen\":6,\"ticks\":\"inside\"}},\"type\":\"scatterpolar\"}],\"scatter\":[{\"fillpattern\":{\"fillmode\":\"overlay\",\"size\":10,\"solidity\":0.2},\"type\":\"scatter\"}],\"scatterternary\":[{\"marker\":{\"colorbar\":{\"outlinewidth\":0,\"tickcolor\":\"rgb(237,237,237)\",\"ticklen\":6,\"ticks\":\"inside\"}},\"type\":\"scatterternary\"}],\"surface\":[{\"colorbar\":{\"outlinewidth\":0,\"tickcolor\":\"rgb(237,237,237)\",\"ticklen\":6,\"ticks\":\"inside\"},\"colorscale\":[[0,\"rgb(20,44,66)\"],[1,\"rgb(90,179,244)\"]],\"type\":\"surface\"}],\"table\":[{\"cells\":{\"fill\":{\"color\":\"rgb(237,237,237)\"},\"line\":{\"color\":\"white\"}},\"header\":{\"fill\":{\"color\":\"rgb(217,217,217)\"},\"line\":{\"color\":\"white\"}},\"type\":\"table\"}]},\"layout\":{\"annotationdefaults\":{\"arrowhead\":0,\"arrowwidth\":1},\"autotypenumbers\":\"strict\",\"coloraxis\":{\"colorbar\":{\"outlinewidth\":0,\"tickcolor\":\"rgb(237,237,237)\",\"ticklen\":6,\"ticks\":\"inside\"}},\"colorscale\":{\"sequential\":[[0,\"rgb(20,44,66)\"],[1,\"rgb(90,179,244)\"]],\"sequentialminus\":[[0,\"rgb(20,44,66)\"],[1,\"rgb(90,179,244)\"]]},\"colorway\":[\"#F8766D\",\"#A3A500\",\"#00BF7D\",\"#00B0F6\",\"#E76BF3\"],\"font\":{\"color\":\"rgb(51,51,51)\"},\"geo\":{\"bgcolor\":\"white\",\"lakecolor\":\"white\",\"landcolor\":\"rgb(237,237,237)\",\"showlakes\":true,\"showland\":true,\"subunitcolor\":\"white\"},\"hoverlabel\":{\"align\":\"left\"},\"hovermode\":\"closest\",\"paper_bgcolor\":\"white\",\"plot_bgcolor\":\"rgb(237,237,237)\",\"polar\":{\"angularaxis\":{\"gridcolor\":\"white\",\"linecolor\":\"white\",\"showgrid\":true,\"tickcolor\":\"rgb(51,51,51)\",\"ticks\":\"outside\"},\"bgcolor\":\"rgb(237,237,237)\",\"radialaxis\":{\"gridcolor\":\"white\",\"linecolor\":\"white\",\"showgrid\":true,\"tickcolor\":\"rgb(51,51,51)\",\"ticks\":\"outside\"}},\"scene\":{\"xaxis\":{\"backgroundcolor\":\"rgb(237,237,237)\",\"gridcolor\":\"white\",\"gridwidth\":2,\"linecolor\":\"white\",\"showbackground\":true,\"showgrid\":true,\"tickcolor\":\"rgb(51,51,51)\",\"ticks\":\"outside\",\"zerolinecolor\":\"white\"},\"yaxis\":{\"backgroundcolor\":\"rgb(237,237,237)\",\"gridcolor\":\"white\",\"gridwidth\":2,\"linecolor\":\"white\",\"showbackground\":true,\"showgrid\":true,\"tickcolor\":\"rgb(51,51,51)\",\"ticks\":\"outside\",\"zerolinecolor\":\"white\"},\"zaxis\":{\"backgroundcolor\":\"rgb(237,237,237)\",\"gridcolor\":\"white\",\"gridwidth\":2,\"linecolor\":\"white\",\"showbackground\":true,\"showgrid\":true,\"tickcolor\":\"rgb(51,51,51)\",\"ticks\":\"outside\",\"zerolinecolor\":\"white\"}},\"shapedefaults\":{\"fillcolor\":\"black\",\"line\":{\"width\":0},\"opacity\":0.3},\"ternary\":{\"aaxis\":{\"gridcolor\":\"white\",\"linecolor\":\"white\",\"showgrid\":true,\"tickcolor\":\"rgb(51,51,51)\",\"ticks\":\"outside\"},\"baxis\":{\"gridcolor\":\"white\",\"linecolor\":\"white\",\"showgrid\":true,\"tickcolor\":\"rgb(51,51,51)\",\"ticks\":\"outside\"},\"bgcolor\":\"rgb(237,237,237)\",\"caxis\":{\"gridcolor\":\"white\",\"linecolor\":\"white\",\"showgrid\":true,\"tickcolor\":\"rgb(51,51,51)\",\"ticks\":\"outside\"}},\"xaxis\":{\"automargin\":true,\"gridcolor\":\"white\",\"linecolor\":\"white\",\"showgrid\":true,\"tickcolor\":\"rgb(51,51,51)\",\"ticks\":\"outside\",\"title\":{\"standoff\":15},\"zerolinecolor\":\"white\"},\"yaxis\":{\"automargin\":true,\"gridcolor\":\"white\",\"linecolor\":\"white\",\"showgrid\":true,\"tickcolor\":\"rgb(51,51,51)\",\"ticks\":\"outside\",\"title\":{\"standoff\":15},\"zerolinecolor\":\"white\"}}},\"xaxis\":{\"anchor\":\"y\",\"domain\":[0.0,1.0],\"title\":{\"text\":\"Date\"},\"showgrid\":true,\"gridcolor\":\"lightgray\"},\"yaxis\":{\"anchor\":\"x\",\"domain\":[0.0,1.0],\"title\":{\"text\":\"Export Value (Billions USD)\"},\"tickformat\":\",.2s\",\"tickprefix\":\"$\",\"showgrid\":true,\"gridcolor\":\"lightgray\"},\"legend\":{\"title\":{\"text\":\"COUNTRY\"},\"tracegroupgap\":0},\"title\":{\"text\":\"Freight Export Value Trend (Canada vs Mexico)\",\"font\":{\"size\":20}},\"font\":{\"family\":\"Segoe UI\",\"size\":14,\"color\":\"black\"},\"height\":500,\"width\":1050,\"plot_bgcolor\":\"white\",\"paper_bgcolor\":\"white\",\"hovermode\":\"x unified\"},                        {\"responsive\": true}                    ).then(function(){\n",
              "                            \n",
              "var gd = document.getElementById('66971c86-baba-4aae-8977-5ae2aa718b87');\n",
              "var x = new MutationObserver(function (mutations, observer) {{\n",
              "        var display = window.getComputedStyle(gd).display;\n",
              "        if (!display || display === 'none') {{\n",
              "            console.log([gd, 'removed!']);\n",
              "            Plotly.purge(gd);\n",
              "            observer.disconnect();\n",
              "        }}\n",
              "}});\n",
              "\n",
              "// Listen for the removal of the full notebook cells\n",
              "var notebookContainer = gd.closest('#notebook-container');\n",
              "if (notebookContainer) {{\n",
              "    x.observe(notebookContainer, {childList: true});\n",
              "}}\n",
              "\n",
              "// Listen for the clearing of the current output cell\n",
              "var outputEl = gd.closest('.output');\n",
              "if (outputEl) {{\n",
              "    x.observe(outputEl, {childList: true});\n",
              "}}\n",
              "\n",
              "                        })                };                            </script>        </div>\n",
              "</body>\n",
              "</html>"
            ]
          },
          "metadata": {}
        }
      ]
    },
    {
      "cell_type": "markdown",
      "source": [
        "**Imports**"
      ],
      "metadata": {
        "id": "4b-tC38s2tFs"
      }
    },
    {
      "cell_type": "code",
      "source": [
        "# Filter for imports only\n",
        "import_df = trend_split[trend_split['TRDTYPE'] == 'Import']\n",
        "\n",
        "fig_import = px.line(\n",
        "    import_df,\n",
        "    x='DATE',\n",
        "    y='VALUE',\n",
        "    color='COUNTRY',\n",
        "    title='Freight Import Value Trend (Canada vs Mexico)',\n",
        "    labels={'VALUE': 'Import Value (USD)', 'DATE': 'Date'},\n",
        "    template='ggplot2'\n",
        ")\n",
        "\n",
        "fig_import.update_layout(\n",
        "    font=dict(family='Segoe UI', size=14, color='black'),\n",
        "    title_font_size=20,\n",
        "    height=500,\n",
        "    width=1050,\n",
        "    plot_bgcolor='white',\n",
        "    paper_bgcolor='white',\n",
        "    hovermode='x unified'\n",
        ")\n",
        "\n",
        "fig_import.update_yaxes(\n",
        "    title='Import Value (Billions USD)',\n",
        "    tickformat=',.2s',\n",
        "    tickprefix='$',\n",
        "    showgrid=True,\n",
        "    gridcolor='lightgray'\n",
        ")\n",
        "\n",
        "fig_import.update_xaxes(\n",
        "    title='Date',\n",
        "    showgrid=True,\n",
        "    gridcolor='lightgray'\n",
        ")\n",
        "\n",
        "fig_import.show()"
      ],
      "metadata": {
        "colab": {
          "base_uri": "https://localhost:8080/",
          "height": 517
        },
        "id": "uVuhbC4S2vh1",
        "outputId": "05f58ef8-70ea-432d-930d-1fe317373a6c"
      },
      "execution_count": 15,
      "outputs": [
        {
          "output_type": "display_data",
          "data": {
            "text/html": [
              "<html>\n",
              "<head><meta charset=\"utf-8\" /></head>\n",
              "<body>\n",
              "    <div>            <script src=\"https://cdnjs.cloudflare.com/ajax/libs/mathjax/2.7.5/MathJax.js?config=TeX-AMS-MML_SVG\"></script><script type=\"text/javascript\">if (window.MathJax && window.MathJax.Hub && window.MathJax.Hub.Config) {window.MathJax.Hub.Config({SVG: {font: \"STIX-Web\"}});}</script>                <script type=\"text/javascript\">window.PlotlyConfig = {MathJaxConfig: 'local'};</script>\n",
              "        <script charset=\"utf-8\" src=\"https://cdn.plot.ly/plotly-2.35.2.min.js\"></script>                <div id=\"71db7569-835f-4b60-b574-a5e637438da1\" class=\"plotly-graph-div\" style=\"height:500px; width:1050px;\"></div>            <script type=\"text/javascript\">                                    window.PLOTLYENV=window.PLOTLYENV || {};                                    if (document.getElementById(\"71db7569-835f-4b60-b574-a5e637438da1\")) {                    Plotly.newPlot(                        \"71db7569-835f-4b60-b574-a5e637438da1\",                        [{\"hovertemplate\":\"COUNTRY=Canada\\u003cbr\\u003eDate=%{x}\\u003cbr\\u003eImport Value (USD)=%{y}\\u003cextra\\u003e\\u003c\\u002fextra\\u003e\",\"legendgroup\":\"Canada\",\"line\":{\"color\":\"#F8766D\",\"dash\":\"solid\"},\"marker\":{\"symbol\":\"circle\"},\"mode\":\"lines\",\"name\":\"Canada\",\"orientation\":\"v\",\"showlegend\":true,\"x\":[\"2020-01-01\",\"2020-02-01\",\"2020-03-01\",\"2020-04-01\",\"2020-05-01\",\"2020-06-01\",\"2020-07-01\",\"2020-08-01\",\"2020-09-01\",\"2021-01-01\",\"2021-02-01\",\"2021-03-01\",\"2021-04-01\",\"2021-05-01\",\"2021-06-01\",\"2021-07-01\",\"2021-08-01\",\"2021-09-01\",\"2021-10-01\",\"2021-11-01\",\"2021-12-01\",\"2022-01-01\",\"2022-02-01\",\"2022-03-01\",\"2022-04-01\",\"2022-05-01\",\"2022-06-01\",\"2022-07-01\",\"2022-08-01\",\"2022-09-01\",\"2022-10-01\",\"2022-11-01\",\"2022-12-01\",\"2023-01-01\",\"2023-02-01\",\"2023-03-01\",\"2023-04-01\",\"2023-05-01\",\"2023-06-01\",\"2023-07-01\",\"2023-08-01\",\"2023-09-01\",\"2023-10-01\",\"2023-11-01\",\"2023-12-01\",\"2024-01-01\",\"2024-02-01\",\"2024-03-01\",\"2024-04-01\",\"2024-05-01\",\"2024-06-01\",\"2024-07-01\",\"2024-08-01\",\"2024-09-01\"],\"xaxis\":\"x\",\"y\":[507626379380,438239931660,401987948944,209658064154,190436143440,203574751330,178724023240,142566734178,98339318468,1352420335092,605174580336,655558688708,549405503980,523486892106,514033669072,419704134766,372824153856,297907840880,250236520928,202515253086,132213262468,1712882100360,742163546880,889923931798,761502162960,727753646628,649693184704,531737180954,465811107480,360479703120,283618287056,203069116686,131560589300,620277163308,515936630688,525807981048,413011822296,368128765780,280890094656,198587507766,144939809048,70038292230,73256684288,72282788722,66738126610,66618254638,66790349650,68436189578,69767120666,71338762178,68786448956,71597896032,66072750056,69266608758],\"yaxis\":\"y\",\"type\":\"scatter\"}],                        {\"template\":{\"data\":{\"barpolar\":[{\"marker\":{\"line\":{\"color\":\"rgb(237,237,237)\",\"width\":0.5},\"pattern\":{\"fillmode\":\"overlay\",\"size\":10,\"solidity\":0.2}},\"type\":\"barpolar\"}],\"bar\":[{\"error_x\":{\"color\":\"rgb(51,51,51)\"},\"error_y\":{\"color\":\"rgb(51,51,51)\"},\"marker\":{\"line\":{\"color\":\"rgb(237,237,237)\",\"width\":0.5},\"pattern\":{\"fillmode\":\"overlay\",\"size\":10,\"solidity\":0.2}},\"type\":\"bar\"}],\"carpet\":[{\"aaxis\":{\"endlinecolor\":\"rgb(51,51,51)\",\"gridcolor\":\"white\",\"linecolor\":\"white\",\"minorgridcolor\":\"white\",\"startlinecolor\":\"rgb(51,51,51)\"},\"baxis\":{\"endlinecolor\":\"rgb(51,51,51)\",\"gridcolor\":\"white\",\"linecolor\":\"white\",\"minorgridcolor\":\"white\",\"startlinecolor\":\"rgb(51,51,51)\"},\"type\":\"carpet\"}],\"choropleth\":[{\"colorbar\":{\"outlinewidth\":0,\"tickcolor\":\"rgb(237,237,237)\",\"ticklen\":6,\"ticks\":\"inside\"},\"type\":\"choropleth\"}],\"contourcarpet\":[{\"colorbar\":{\"outlinewidth\":0,\"tickcolor\":\"rgb(237,237,237)\",\"ticklen\":6,\"ticks\":\"inside\"},\"type\":\"contourcarpet\"}],\"contour\":[{\"colorbar\":{\"outlinewidth\":0,\"tickcolor\":\"rgb(237,237,237)\",\"ticklen\":6,\"ticks\":\"inside\"},\"colorscale\":[[0,\"rgb(20,44,66)\"],[1,\"rgb(90,179,244)\"]],\"type\":\"contour\"}],\"heatmapgl\":[{\"colorbar\":{\"outlinewidth\":0,\"tickcolor\":\"rgb(237,237,237)\",\"ticklen\":6,\"ticks\":\"inside\"},\"colorscale\":[[0,\"rgb(20,44,66)\"],[1,\"rgb(90,179,244)\"]],\"type\":\"heatmapgl\"}],\"heatmap\":[{\"colorbar\":{\"outlinewidth\":0,\"tickcolor\":\"rgb(237,237,237)\",\"ticklen\":6,\"ticks\":\"inside\"},\"colorscale\":[[0,\"rgb(20,44,66)\"],[1,\"rgb(90,179,244)\"]],\"type\":\"heatmap\"}],\"histogram2dcontour\":[{\"colorbar\":{\"outlinewidth\":0,\"tickcolor\":\"rgb(237,237,237)\",\"ticklen\":6,\"ticks\":\"inside\"},\"colorscale\":[[0,\"rgb(20,44,66)\"],[1,\"rgb(90,179,244)\"]],\"type\":\"histogram2dcontour\"}],\"histogram2d\":[{\"colorbar\":{\"outlinewidth\":0,\"tickcolor\":\"rgb(237,237,237)\",\"ticklen\":6,\"ticks\":\"inside\"},\"colorscale\":[[0,\"rgb(20,44,66)\"],[1,\"rgb(90,179,244)\"]],\"type\":\"histogram2d\"}],\"histogram\":[{\"marker\":{\"pattern\":{\"fillmode\":\"overlay\",\"size\":10,\"solidity\":0.2}},\"type\":\"histogram\"}],\"mesh3d\":[{\"colorbar\":{\"outlinewidth\":0,\"tickcolor\":\"rgb(237,237,237)\",\"ticklen\":6,\"ticks\":\"inside\"},\"type\":\"mesh3d\"}],\"parcoords\":[{\"line\":{\"colorbar\":{\"outlinewidth\":0,\"tickcolor\":\"rgb(237,237,237)\",\"ticklen\":6,\"ticks\":\"inside\"}},\"type\":\"parcoords\"}],\"pie\":[{\"automargin\":true,\"type\":\"pie\"}],\"scatter3d\":[{\"line\":{\"colorbar\":{\"outlinewidth\":0,\"tickcolor\":\"rgb(237,237,237)\",\"ticklen\":6,\"ticks\":\"inside\"}},\"marker\":{\"colorbar\":{\"outlinewidth\":0,\"tickcolor\":\"rgb(237,237,237)\",\"ticklen\":6,\"ticks\":\"inside\"}},\"type\":\"scatter3d\"}],\"scattercarpet\":[{\"marker\":{\"colorbar\":{\"outlinewidth\":0,\"tickcolor\":\"rgb(237,237,237)\",\"ticklen\":6,\"ticks\":\"inside\"}},\"type\":\"scattercarpet\"}],\"scattergeo\":[{\"marker\":{\"colorbar\":{\"outlinewidth\":0,\"tickcolor\":\"rgb(237,237,237)\",\"ticklen\":6,\"ticks\":\"inside\"}},\"type\":\"scattergeo\"}],\"scattergl\":[{\"marker\":{\"colorbar\":{\"outlinewidth\":0,\"tickcolor\":\"rgb(237,237,237)\",\"ticklen\":6,\"ticks\":\"inside\"}},\"type\":\"scattergl\"}],\"scattermapbox\":[{\"marker\":{\"colorbar\":{\"outlinewidth\":0,\"tickcolor\":\"rgb(237,237,237)\",\"ticklen\":6,\"ticks\":\"inside\"}},\"type\":\"scattermapbox\"}],\"scatterpolargl\":[{\"marker\":{\"colorbar\":{\"outlinewidth\":0,\"tickcolor\":\"rgb(237,237,237)\",\"ticklen\":6,\"ticks\":\"inside\"}},\"type\":\"scatterpolargl\"}],\"scatterpolar\":[{\"marker\":{\"colorbar\":{\"outlinewidth\":0,\"tickcolor\":\"rgb(237,237,237)\",\"ticklen\":6,\"ticks\":\"inside\"}},\"type\":\"scatterpolar\"}],\"scatter\":[{\"fillpattern\":{\"fillmode\":\"overlay\",\"size\":10,\"solidity\":0.2},\"type\":\"scatter\"}],\"scatterternary\":[{\"marker\":{\"colorbar\":{\"outlinewidth\":0,\"tickcolor\":\"rgb(237,237,237)\",\"ticklen\":6,\"ticks\":\"inside\"}},\"type\":\"scatterternary\"}],\"surface\":[{\"colorbar\":{\"outlinewidth\":0,\"tickcolor\":\"rgb(237,237,237)\",\"ticklen\":6,\"ticks\":\"inside\"},\"colorscale\":[[0,\"rgb(20,44,66)\"],[1,\"rgb(90,179,244)\"]],\"type\":\"surface\"}],\"table\":[{\"cells\":{\"fill\":{\"color\":\"rgb(237,237,237)\"},\"line\":{\"color\":\"white\"}},\"header\":{\"fill\":{\"color\":\"rgb(217,217,217)\"},\"line\":{\"color\":\"white\"}},\"type\":\"table\"}]},\"layout\":{\"annotationdefaults\":{\"arrowhead\":0,\"arrowwidth\":1},\"autotypenumbers\":\"strict\",\"coloraxis\":{\"colorbar\":{\"outlinewidth\":0,\"tickcolor\":\"rgb(237,237,237)\",\"ticklen\":6,\"ticks\":\"inside\"}},\"colorscale\":{\"sequential\":[[0,\"rgb(20,44,66)\"],[1,\"rgb(90,179,244)\"]],\"sequentialminus\":[[0,\"rgb(20,44,66)\"],[1,\"rgb(90,179,244)\"]]},\"colorway\":[\"#F8766D\",\"#A3A500\",\"#00BF7D\",\"#00B0F6\",\"#E76BF3\"],\"font\":{\"color\":\"rgb(51,51,51)\"},\"geo\":{\"bgcolor\":\"white\",\"lakecolor\":\"white\",\"landcolor\":\"rgb(237,237,237)\",\"showlakes\":true,\"showland\":true,\"subunitcolor\":\"white\"},\"hoverlabel\":{\"align\":\"left\"},\"hovermode\":\"closest\",\"paper_bgcolor\":\"white\",\"plot_bgcolor\":\"rgb(237,237,237)\",\"polar\":{\"angularaxis\":{\"gridcolor\":\"white\",\"linecolor\":\"white\",\"showgrid\":true,\"tickcolor\":\"rgb(51,51,51)\",\"ticks\":\"outside\"},\"bgcolor\":\"rgb(237,237,237)\",\"radialaxis\":{\"gridcolor\":\"white\",\"linecolor\":\"white\",\"showgrid\":true,\"tickcolor\":\"rgb(51,51,51)\",\"ticks\":\"outside\"}},\"scene\":{\"xaxis\":{\"backgroundcolor\":\"rgb(237,237,237)\",\"gridcolor\":\"white\",\"gridwidth\":2,\"linecolor\":\"white\",\"showbackground\":true,\"showgrid\":true,\"tickcolor\":\"rgb(51,51,51)\",\"ticks\":\"outside\",\"zerolinecolor\":\"white\"},\"yaxis\":{\"backgroundcolor\":\"rgb(237,237,237)\",\"gridcolor\":\"white\",\"gridwidth\":2,\"linecolor\":\"white\",\"showbackground\":true,\"showgrid\":true,\"tickcolor\":\"rgb(51,51,51)\",\"ticks\":\"outside\",\"zerolinecolor\":\"white\"},\"zaxis\":{\"backgroundcolor\":\"rgb(237,237,237)\",\"gridcolor\":\"white\",\"gridwidth\":2,\"linecolor\":\"white\",\"showbackground\":true,\"showgrid\":true,\"tickcolor\":\"rgb(51,51,51)\",\"ticks\":\"outside\",\"zerolinecolor\":\"white\"}},\"shapedefaults\":{\"fillcolor\":\"black\",\"line\":{\"width\":0},\"opacity\":0.3},\"ternary\":{\"aaxis\":{\"gridcolor\":\"white\",\"linecolor\":\"white\",\"showgrid\":true,\"tickcolor\":\"rgb(51,51,51)\",\"ticks\":\"outside\"},\"baxis\":{\"gridcolor\":\"white\",\"linecolor\":\"white\",\"showgrid\":true,\"tickcolor\":\"rgb(51,51,51)\",\"ticks\":\"outside\"},\"bgcolor\":\"rgb(237,237,237)\",\"caxis\":{\"gridcolor\":\"white\",\"linecolor\":\"white\",\"showgrid\":true,\"tickcolor\":\"rgb(51,51,51)\",\"ticks\":\"outside\"}},\"xaxis\":{\"automargin\":true,\"gridcolor\":\"white\",\"linecolor\":\"white\",\"showgrid\":true,\"tickcolor\":\"rgb(51,51,51)\",\"ticks\":\"outside\",\"title\":{\"standoff\":15},\"zerolinecolor\":\"white\"},\"yaxis\":{\"automargin\":true,\"gridcolor\":\"white\",\"linecolor\":\"white\",\"showgrid\":true,\"tickcolor\":\"rgb(51,51,51)\",\"ticks\":\"outside\",\"title\":{\"standoff\":15},\"zerolinecolor\":\"white\"}}},\"xaxis\":{\"anchor\":\"y\",\"domain\":[0.0,1.0],\"title\":{\"text\":\"Date\"},\"showgrid\":true,\"gridcolor\":\"lightgray\"},\"yaxis\":{\"anchor\":\"x\",\"domain\":[0.0,1.0],\"title\":{\"text\":\"Import Value (Billions USD)\"},\"tickformat\":\",.2s\",\"tickprefix\":\"$\",\"showgrid\":true,\"gridcolor\":\"lightgray\"},\"legend\":{\"title\":{\"text\":\"COUNTRY\"},\"tracegroupgap\":0},\"title\":{\"text\":\"Freight Import Value Trend (Canada vs Mexico)\",\"font\":{\"size\":20}},\"font\":{\"family\":\"Segoe UI\",\"size\":14,\"color\":\"black\"},\"height\":500,\"width\":1050,\"plot_bgcolor\":\"white\",\"paper_bgcolor\":\"white\",\"hovermode\":\"x unified\"},                        {\"responsive\": true}                    ).then(function(){\n",
              "                            \n",
              "var gd = document.getElementById('71db7569-835f-4b60-b574-a5e637438da1');\n",
              "var x = new MutationObserver(function (mutations, observer) {{\n",
              "        var display = window.getComputedStyle(gd).display;\n",
              "        if (!display || display === 'none') {{\n",
              "            console.log([gd, 'removed!']);\n",
              "            Plotly.purge(gd);\n",
              "            observer.disconnect();\n",
              "        }}\n",
              "}});\n",
              "\n",
              "// Listen for the removal of the full notebook cells\n",
              "var notebookContainer = gd.closest('#notebook-container');\n",
              "if (notebookContainer) {{\n",
              "    x.observe(notebookContainer, {childList: true});\n",
              "}}\n",
              "\n",
              "// Listen for the clearing of the current output cell\n",
              "var outputEl = gd.closest('.output');\n",
              "if (outputEl) {{\n",
              "    x.observe(outputEl, {childList: true});\n",
              "}}\n",
              "\n",
              "                        })                };                            </script>        </div>\n",
              "</body>\n",
              "</html>"
            ]
          },
          "metadata": {}
        }
      ]
    },
    {
      "cell_type": "markdown",
      "source": [
        "### **3.\tCommodities with the most freight value and weight**"
      ],
      "metadata": {
        "id": "kdh2olilBMuj"
      }
    },
    {
      "cell_type": "code",
      "source": [
        "# Group by COMMODITY2\n",
        "top_commodities = df.groupby('COMMODITY2')[['VALUE', 'SHIPWT']].sum().reset_index()\n",
        "\n",
        "# Sort and get top 10 by VALUE\n",
        "top_by_value = top_commodities.sort_values(by='VALUE', ascending=False).head(10)\n",
        "\n",
        "# Sort and get top 10 by WEIGHT\n",
        "top_by_weight = top_commodities.sort_values(by='SHIPWT', ascending=False).head(10)"
      ],
      "metadata": {
        "colab": {
          "base_uri": "https://localhost:8080/",
          "height": 222
        },
        "id": "H9CE9OhmBvrS",
        "outputId": "6871ecac-e402-4685-b0a1-de8d23c64e3b"
      },
      "execution_count": 1,
      "outputs": [
        {
          "output_type": "error",
          "ename": "NameError",
          "evalue": "name 'df' is not defined",
          "traceback": [
            "\u001b[0;31m---------------------------------------------------------------------------\u001b[0m",
            "\u001b[0;31mNameError\u001b[0m                                 Traceback (most recent call last)",
            "\u001b[0;32m/tmp/ipython-input-1-3315727400.py\u001b[0m in \u001b[0;36m<cell line: 0>\u001b[0;34m()\u001b[0m\n\u001b[1;32m      1\u001b[0m \u001b[0;31m# Group by COMMODITY2\u001b[0m\u001b[0;34m\u001b[0m\u001b[0;34m\u001b[0m\u001b[0m\n\u001b[0;32m----> 2\u001b[0;31m \u001b[0mtop_commodities\u001b[0m \u001b[0;34m=\u001b[0m \u001b[0mdf\u001b[0m\u001b[0;34m.\u001b[0m\u001b[0mgroupby\u001b[0m\u001b[0;34m(\u001b[0m\u001b[0;34m'COMMODITY2'\u001b[0m\u001b[0;34m)\u001b[0m\u001b[0;34m[\u001b[0m\u001b[0;34m[\u001b[0m\u001b[0;34m'VALUE'\u001b[0m\u001b[0;34m,\u001b[0m \u001b[0;34m'SHIPWT'\u001b[0m\u001b[0;34m]\u001b[0m\u001b[0;34m]\u001b[0m\u001b[0;34m.\u001b[0m\u001b[0msum\u001b[0m\u001b[0;34m(\u001b[0m\u001b[0;34m)\u001b[0m\u001b[0;34m.\u001b[0m\u001b[0mreset_index\u001b[0m\u001b[0;34m(\u001b[0m\u001b[0;34m)\u001b[0m\u001b[0;34m\u001b[0m\u001b[0;34m\u001b[0m\u001b[0m\n\u001b[0m\u001b[1;32m      3\u001b[0m \u001b[0;34m\u001b[0m\u001b[0m\n\u001b[1;32m      4\u001b[0m \u001b[0;31m# Sort and get top 10 by VALUE\u001b[0m\u001b[0;34m\u001b[0m\u001b[0;34m\u001b[0m\u001b[0m\n\u001b[1;32m      5\u001b[0m \u001b[0mtop_by_value\u001b[0m \u001b[0;34m=\u001b[0m \u001b[0mtop_commodities\u001b[0m\u001b[0;34m.\u001b[0m\u001b[0msort_values\u001b[0m\u001b[0;34m(\u001b[0m\u001b[0mby\u001b[0m\u001b[0;34m=\u001b[0m\u001b[0;34m'VALUE'\u001b[0m\u001b[0;34m,\u001b[0m \u001b[0mascending\u001b[0m\u001b[0;34m=\u001b[0m\u001b[0;32mFalse\u001b[0m\u001b[0;34m)\u001b[0m\u001b[0;34m.\u001b[0m\u001b[0mhead\u001b[0m\u001b[0;34m(\u001b[0m\u001b[0;36m10\u001b[0m\u001b[0;34m)\u001b[0m\u001b[0;34m\u001b[0m\u001b[0;34m\u001b[0m\u001b[0m\n",
            "\u001b[0;31mNameError\u001b[0m: name 'df' is not defined"
          ]
        }
      ]
    }
  ],
  "metadata": {
    "colab": {
      "collapsed_sections": [
        "olHliRgr6t82",
        "9hCNnuh2sbqr",
        "pS1HvQ9nskg7",
        "yzdPbFjksmbK",
        "lswQ0OrQsus-",
        "qes8Eyuksy8y",
        "TIm71-o4s3Sb",
        "3oj8BJjUo9PY",
        "NY2PvmZNv2SP"
      ],
      "provenance": [],
      "machine_shape": "hm",
      "include_colab_link": true
    },
    "kernelspec": {
      "display_name": "Python 3",
      "name": "python3"
    },
    "language_info": {
      "codemirror_mode": {
        "name": "ipython",
        "version": 3
      },
      "file_extension": ".py",
      "mimetype": "text/x-python",
      "name": "python",
      "nbconvert_exporter": "python",
      "pygments_lexer": "ipython3",
      "version": "3.13.5"
    }
  },
  "nbformat": 4,
  "nbformat_minor": 0
}