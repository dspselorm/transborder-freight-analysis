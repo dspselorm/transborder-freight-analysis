{
  "nbformat": 4,
  "nbformat_minor": 0,
  "metadata": {
    "colab": {
      "provenance": [],
      "collapsed_sections": [
        "9hCNnuh2sbqr",
        "pS1HvQ9nskg7",
        "yzdPbFjksmbK",
        "lswQ0OrQsus-",
        "qes8Eyuksy8y",
        "TIm71-o4s3Sb",
        "3oj8BJjUo9PY"
      ],
      "mount_file_id": "1qaRiTyPuH_rynEjPiVksLngz3OkYL2Xx",
      "authorship_tag": "ABX9TyOiQhPAlzb7kzG9P3M9LTWU",
      "include_colab_link": true
    },
    "kernelspec": {
      "name": "python3",
      "display_name": "Python 3"
    },
    "language_info": {
      "name": "python"
    }
  },
  "cells": [
    {
      "cell_type": "markdown",
      "metadata": {
        "id": "view-in-github",
        "colab_type": "text"
      },
      "source": [
        "<a href=\"https://colab.research.google.com/github/dspselorm/transborder-freight-analysis/blob/main/TransBorder_Analysis_Project.ipynb\" target=\"_parent\"><img src=\"https://colab.research.google.com/assets/colab-badge.svg\" alt=\"Open In Colab\"/></a>"
      ]
    },
    {
      "cell_type": "markdown",
      "source": [
        "### **LIBRARIES**"
      ],
      "metadata": {
        "id": "olHliRgr6t82"
      }
    },
    {
      "cell_type": "code",
      "source": [
        "import pandas as pd\n",
        "import numpy as np\n",
        "import glob\n",
        "import os"
      ],
      "metadata": {
        "id": "khhLJYmw6p4B"
      },
      "execution_count": 1,
      "outputs": []
    },
    {
      "cell_type": "code",
      "source": [
        "from google.colab import drive\n",
        "drive.mount('/content/drive')"
      ],
      "metadata": {
        "colab": {
          "base_uri": "https://localhost:8080/"
        },
        "id": "z6NRaHQs4q1E",
        "outputId": "340e613c-2e77-4d5d-a360-94d5b463c220"
      },
      "execution_count": null,
      "outputs": [
        {
          "output_type": "stream",
          "name": "stdout",
          "text": [
            "Drive already mounted at /content/drive; to attempt to forcibly remount, call drive.mount(\"/content/drive\", force_remount=True).\n"
          ]
        }
      ]
    },
    {
      "cell_type": "markdown",
      "source": [
        "### **Merge and Save all 2020 CSVs**"
      ],
      "metadata": {
        "id": "9hCNnuh2sbqr"
      }
    },
    {
      "cell_type": "code",
      "execution_count": null,
      "metadata": {
        "colab": {
          "base_uri": "https://localhost:8080/"
        },
        "collapsed": true,
        "id": "FJIeL_Xm6ZeV",
        "outputId": "67d2f52d-92da-4f0a-a04d-bc3240fd434c"
      },
      "outputs": [
        {
          "output_type": "stream",
          "name": "stdout",
          "text": [
            "Drive already mounted at /content/drive; to attempt to forcibly remount, call drive.mount(\"/content/drive\", force_remount=True).\n",
            "Loaded: dot1_0120.csv with 26169 rows\n",
            "Loaded: dot1_ytd_0120.csv with 26169 rows\n"
          ]
        },
        {
          "output_type": "stream",
          "name": "stderr",
          "text": [
            "/tmp/ipython-input-2-2249145376.py:11: DtypeWarning: Columns (4,11) have mixed types. Specify dtype option on import or set low_memory=False.\n",
            "  df = pd.read_csv(file)\n"
          ]
        },
        {
          "output_type": "stream",
          "name": "stdout",
          "text": [
            "Loaded: dot2_0120.csv with 73211 rows\n"
          ]
        },
        {
          "output_type": "stream",
          "name": "stderr",
          "text": [
            "/tmp/ipython-input-2-2249145376.py:11: DtypeWarning: Columns (4,11) have mixed types. Specify dtype option on import or set low_memory=False.\n",
            "  df = pd.read_csv(file)\n"
          ]
        },
        {
          "output_type": "stream",
          "name": "stdout",
          "text": [
            "Loaded: dot2_ytd_0120.csv with 73211 rows\n",
            "Loaded: dot3_0120.csv with 16870 rows\n",
            "Loaded: dot3_ytd_0120.csv with 16870 rows\n",
            "Loaded: dot3_ytd_0220.csv with 33672 rows\n"
          ]
        },
        {
          "output_type": "stream",
          "name": "stderr",
          "text": [
            "/tmp/ipython-input-2-2249145376.py:11: DtypeWarning: Columns (4,11) have mixed types. Specify dtype option on import or set low_memory=False.\n",
            "  df = pd.read_csv(file)\n"
          ]
        },
        {
          "output_type": "stream",
          "name": "stdout",
          "text": [
            "Loaded: dot2_ytd_0220.csv with 146243 rows\n",
            "Loaded: dot1_ytd_0220.csv with 52480 rows\n"
          ]
        },
        {
          "output_type": "stream",
          "name": "stderr",
          "text": [
            "/tmp/ipython-input-2-2249145376.py:11: DtypeWarning: Columns (4,11) have mixed types. Specify dtype option on import or set low_memory=False.\n",
            "  df = pd.read_csv(file)\n"
          ]
        },
        {
          "output_type": "stream",
          "name": "stdout",
          "text": [
            "Loaded: dot2_0220.csv with 73032 rows\n",
            "Loaded: dot1_0220.csv with 26311 rows\n",
            "Loaded: dot3_0220.csv with 16802 rows\n",
            "Loaded: dot1_0320.csv with 27231 rows\n",
            "Loaded: dot1_ytd_0320.csv with 79711 rows\n"
          ]
        },
        {
          "output_type": "stream",
          "name": "stderr",
          "text": [
            "/tmp/ipython-input-2-2249145376.py:11: DtypeWarning: Columns (4,11) have mixed types. Specify dtype option on import or set low_memory=False.\n",
            "  df = pd.read_csv(file)\n"
          ]
        },
        {
          "output_type": "stream",
          "name": "stdout",
          "text": [
            "Loaded: dot2_0320.csv with 74667 rows\n",
            "Loaded: dot2_ytd_0320.csv with 220910 rows\n",
            "Loaded: dot3_0320.csv with 17384 rows\n",
            "Loaded: dot3_ytd_0320.csv with 51056 rows\n",
            "Loaded: dot2_0420.csv with 64884 rows\n",
            "Loaded: dot2_ytd_0420.csv with 285794 rows\n",
            "Loaded: dot3_0420.csv with 15416 rows\n"
          ]
        },
        {
          "output_type": "stream",
          "name": "stderr",
          "text": [
            "/tmp/ipython-input-2-2249145376.py:11: DtypeWarning: Columns (9) have mixed types. Specify dtype option on import or set low_memory=False.\n",
            "  df = pd.read_csv(file)\n"
          ]
        },
        {
          "output_type": "stream",
          "name": "stdout",
          "text": [
            "Loaded: dot3_ytd_0420.csv with 66472 rows\n",
            "Loaded: dot1_0420.csv with 24384 rows\n",
            "Loaded: dot1_ytd_0420.csv with 104095 rows\n",
            "Loaded: dot1_0520.csv with 24155 rows\n",
            "Loaded: dot1_ytd_0520.csv with 128250 rows\n",
            "Loaded: dot2_0520.csv with 64715 rows\n",
            "Loaded: dot2_ytd_0520.csv with 350509 rows\n",
            "Loaded: dot3_0520.csv with 15582 rows\n",
            "Loaded: dot3_ytd_0520.csv with 82054 rows\n",
            "Loaded: dot1_ytd_0620.csv with 153674 rows\n"
          ]
        },
        {
          "output_type": "stream",
          "name": "stderr",
          "text": [
            "/tmp/ipython-input-2-2249145376.py:11: DtypeWarning: Columns (4,11) have mixed types. Specify dtype option on import or set low_memory=False.\n",
            "  df = pd.read_csv(file)\n"
          ]
        },
        {
          "output_type": "stream",
          "name": "stdout",
          "text": [
            "Loaded: dot2_0620.csv with 69259 rows\n",
            "Loaded: dot2_ytd_0620.csv with 419768 rows\n",
            "Loaded: dot3_0620.csv with 16246 rows\n",
            "Loaded: dot3_ytd_0620.csv with 98300 rows\n",
            "Loaded: dot1_0620.csv with 25424 rows\n",
            "Loaded: dot2_ytd_0720.csv with 490595 rows\n"
          ]
        },
        {
          "output_type": "stream",
          "name": "stderr",
          "text": [
            "/tmp/ipython-input-2-2249145376.py:11: DtypeWarning: Columns (4,11) have mixed types. Specify dtype option on import or set low_memory=False.\n",
            "  df = pd.read_csv(file)\n"
          ]
        },
        {
          "output_type": "stream",
          "name": "stdout",
          "text": [
            "Loaded: dot2_0720.csv with 70827 rows\n",
            "Loaded: dot1_0720.csv with 26017 rows\n",
            "Loaded: dot1_ytd_0720.csv with 179691 rows\n",
            "Loaded: dot3_0720.csv with 16672 rows\n",
            "Loaded: dot3_ytd_0720.csv with 114972 rows\n"
          ]
        },
        {
          "output_type": "stream",
          "name": "stderr",
          "text": [
            "/tmp/ipython-input-2-2249145376.py:11: DtypeWarning: Columns (9) have mixed types. Specify dtype option on import or set low_memory=False.\n",
            "  df = pd.read_csv(file)\n"
          ]
        },
        {
          "output_type": "stream",
          "name": "stdout",
          "text": [
            "Loaded: dot3_ytd_0820.csv with 131620 rows\n",
            "Loaded: dot1_0820.csv with 25950 rows\n"
          ]
        },
        {
          "output_type": "stream",
          "name": "stderr",
          "text": [
            "/tmp/ipython-input-2-2249145376.py:11: DtypeWarning: Columns (4,11) have mixed types. Specify dtype option on import or set low_memory=False.\n",
            "  df = pd.read_csv(file)\n"
          ]
        },
        {
          "output_type": "stream",
          "name": "stdout",
          "text": [
            "Loaded: dot1_ytd_0820.csv with 205641 rows\n"
          ]
        },
        {
          "output_type": "stream",
          "name": "stderr",
          "text": [
            "/tmp/ipython-input-2-2249145376.py:11: DtypeWarning: Columns (4,11) have mixed types. Specify dtype option on import or set low_memory=False.\n",
            "  df = pd.read_csv(file)\n"
          ]
        },
        {
          "output_type": "stream",
          "name": "stdout",
          "text": [
            "Loaded: dot2_0820.csv with 71551 rows\n",
            "Loaded: dot2_ytd_0820.csv with 562146 rows\n",
            "Loaded: dot3_0820.csv with 16648 rows\n",
            "Loaded: dot1_0920.csv with 26388 rows\n",
            "Loaded: dot1_ytd_0920.csv with 232029 rows\n"
          ]
        },
        {
          "output_type": "stream",
          "name": "stderr",
          "text": [
            "/tmp/ipython-input-2-2249145376.py:11: DtypeWarning: Columns (4,11) have mixed types. Specify dtype option on import or set low_memory=False.\n",
            "  df = pd.read_csv(file)\n"
          ]
        },
        {
          "output_type": "stream",
          "name": "stdout",
          "text": [
            "Loaded: dot2_0920.csv with 72735 rows\n",
            "Loaded: dot2_ytd_0920.csv with 634881 rows\n",
            "Loaded: dot3_0920.csv with 16902 rows\n",
            "Loaded: dot3_ytd_0920.csv with 148522 rows\n",
            "Successfully merged 54 files into a single DataFrame with 6104767 rows.\n",
            "Merged file saved to: /content/drive/MyDrive/Azubi_TMP/TransBorder_Analysis_Project/Dataset/All_Months_2020/merged_data_2020.csv\n"
          ]
        }
      ],
      "source": [
        "# Define the path to your data folder\n",
        "data_folder_2020 = '/content/drive/MyDrive/Azubi_TMP/TransBorder_Analysis_Project/Dataset/All_Months_2020/'\n",
        "data_2020 = glob.glob(os.path.join(data_folder_2020, \"*.csv\"))\n",
        "\n",
        "# Read and combine all CSV files in 2020 folder\n",
        "df_2020 = []\n",
        "\n",
        "for file in data_2020:\n",
        "    try:\n",
        "        df = pd.read_csv(file)\n",
        "        df_2020.append(df)\n",
        "        print(f\"Loaded: {os.path.basename(file)} with {len(df)} rows\")\n",
        "    except Exception as e:\n",
        "        print(f\"Error loading {file}: {e}\")\n",
        "\n",
        "# Concatenate all DataFrames into one\n",
        "combined_df = pd.concat(df_2020, ignore_index=True)\n",
        "print(f\"Successfully merged {len(df_2020)} files into a single DataFrame with {len(combined_df)} rows.\")\n",
        "\n",
        "# Save the combined data\n",
        "output_path = os.path.join('/content/drive/MyDrive/Azubi_TMP/TransBorder_Analysis_Project/Dataset/', \"merged_data_2020.csv\")\n",
        "combined_df.to_csv(output_path, index=False)\n",
        "print(f\"Merged file saved to: {output_path}\")\n"
      ]
    },
    {
      "cell_type": "markdown",
      "source": [
        "### **Merge and Save all 2021 CSVs**"
      ],
      "metadata": {
        "id": "pS1HvQ9nskg7"
      }
    },
    {
      "cell_type": "code",
      "source": [
        "# Define the path to your data folder\n",
        "data_folder_2021 = '/content/drive/MyDrive/Azubi_TMP/TransBorder_Analysis_Project/Dataset/All_Months_2021/'\n",
        "data_2021 = glob.glob(os.path.join(data_folder_2021, \"*.csv\"))\n",
        "\n",
        "# Read and combine all CSV files in 2021 folder\n",
        "df_2021 = []\n",
        "\n",
        "for file in data_2021:\n",
        "    try:\n",
        "        df = pd.read_csv(file)\n",
        "        df_2021.append(df)\n",
        "        print(f\"Loaded: {os.path.basename(file)} with {len(df)} rows\")\n",
        "    except Exception as e:\n",
        "        print(f\"Error loading {file}: {e}\")\n",
        "\n",
        "# Concatenate all DataFrames into one\n",
        "combined_df = pd.concat(df_2021, ignore_index=True)\n",
        "print(f\"Successfully merged {len(df_2021)} files into a single DataFrame with {len(combined_df)} rows.\")\n",
        "\n",
        "# Save the combined data\n",
        "output_path = os.path.join('/content/drive/MyDrive/Azubi_TMP/TransBorder_Analysis_Project/Dataset/', \"merged_data_2021.csv\")\n",
        "combined_df.to_csv(output_path, index=False)\n",
        "print(f\"Merged file saved to: {output_path}\")"
      ],
      "metadata": {
        "colab": {
          "base_uri": "https://localhost:8080/"
        },
        "collapsed": true,
        "id": "o2dLoZdFmpJb",
        "outputId": "032a2187-953b-44bc-9b06-e1c80828eff5"
      },
      "execution_count": null,
      "outputs": [
        {
          "output_type": "stream",
          "name": "stdout",
          "text": [
            "Loaded: dot3_ytd_0121.csv with 16597 rows\n",
            "Loaded: dot1_0121.csv with 25968 rows\n",
            "Loaded: dot1_ytd_0121.csv with 25968 rows\n"
          ]
        },
        {
          "output_type": "stream",
          "name": "stderr",
          "text": [
            "/tmp/ipython-input-4-2477998144.py:10: DtypeWarning: Columns (4,11) have mixed types. Specify dtype option on import or set low_memory=False.\n",
            "  df = pd.read_csv(file)\n"
          ]
        },
        {
          "output_type": "stream",
          "name": "stdout",
          "text": [
            "Loaded: dot2_0121.csv with 72051 rows\n"
          ]
        },
        {
          "output_type": "stream",
          "name": "stderr",
          "text": [
            "/tmp/ipython-input-4-2477998144.py:10: DtypeWarning: Columns (4,11) have mixed types. Specify dtype option on import or set low_memory=False.\n",
            "  df = pd.read_csv(file)\n"
          ]
        },
        {
          "output_type": "stream",
          "name": "stdout",
          "text": [
            "Loaded: dot2_ytd_0121.csv with 72051 rows\n",
            "Loaded: dot3_0121.csv with 16597 rows\n",
            "Loaded: dot1_0221.csv with 25895 rows\n",
            "Loaded: dot1_ytd_0221.csv with 51863 rows\n"
          ]
        },
        {
          "output_type": "stream",
          "name": "stderr",
          "text": [
            "/tmp/ipython-input-4-2477998144.py:10: DtypeWarning: Columns (4,11) have mixed types. Specify dtype option on import or set low_memory=False.\n",
            "  df = pd.read_csv(file)\n"
          ]
        },
        {
          "output_type": "stream",
          "name": "stdout",
          "text": [
            "Loaded: dot2_0221.csv with 71396 rows\n"
          ]
        },
        {
          "output_type": "stream",
          "name": "stderr",
          "text": [
            "/tmp/ipython-input-4-2477998144.py:10: DtypeWarning: Columns (4,11) have mixed types. Specify dtype option on import or set low_memory=False.\n",
            "  df = pd.read_csv(file)\n"
          ]
        },
        {
          "output_type": "stream",
          "name": "stdout",
          "text": [
            "Loaded: dot2_ytd_0221.csv with 143447 rows\n",
            "Loaded: dot3_0221.csv with 16628 rows\n",
            "Loaded: dot3_ytd_0221.csv with 33225 rows\n",
            "Loaded: dot3_ytd_0321.csv with 50900 rows\n",
            "Loaded: dot1_0321.csv with 28003 rows\n",
            "Loaded: dot1_ytd_0321.csv with 79866 rows\n"
          ]
        },
        {
          "output_type": "stream",
          "name": "stderr",
          "text": [
            "/tmp/ipython-input-4-2477998144.py:10: DtypeWarning: Columns (4,11) have mixed types. Specify dtype option on import or set low_memory=False.\n",
            "  df = pd.read_csv(file)\n"
          ]
        },
        {
          "output_type": "stream",
          "name": "stdout",
          "text": [
            "Loaded: dot2_0321.csv with 77747 rows\n",
            "Loaded: dot2_ytd_0321.csv with 221194 rows\n",
            "Loaded: dot3_0321.csv with 17675 rows\n",
            "Loaded: dot1_0421.csv with 27475 rows\n",
            "Loaded: dot1_ytd_0421.csv with 107341 rows\n"
          ]
        },
        {
          "output_type": "stream",
          "name": "stderr",
          "text": [
            "/tmp/ipython-input-4-2477998144.py:10: DtypeWarning: Columns (4,11) have mixed types. Specify dtype option on import or set low_memory=False.\n",
            "  df = pd.read_csv(file)\n"
          ]
        },
        {
          "output_type": "stream",
          "name": "stdout",
          "text": [
            "Loaded: dot2_0421.csv with 76057 rows\n",
            "Loaded: dot2_ytd_0421.csv with 297251 rows\n",
            "Loaded: dot3_0421.csv with 17472 rows\n"
          ]
        },
        {
          "output_type": "stream",
          "name": "stderr",
          "text": [
            "/tmp/ipython-input-4-2477998144.py:10: DtypeWarning: Columns (9) have mixed types. Specify dtype option on import or set low_memory=False.\n",
            "  df = pd.read_csv(file)\n"
          ]
        },
        {
          "output_type": "stream",
          "name": "stdout",
          "text": [
            "Loaded: dot3_ytd_0421.csv with 68372 rows\n",
            "Loaded: dot1_0521.csv with 27492 rows\n",
            "Loaded: dot1_ytd_0521.csv with 134833 rows\n",
            "Loaded: dot2_0521.csv with 75501 rows\n",
            "Loaded: dot2_ytd_0521.csv with 372752 rows\n",
            "Loaded: dot3_0521.csv with 17439 rows\n",
            "Loaded: dot3_ytd_0521.csv with 85811 rows\n",
            "Loaded: dot1_ytd_0621.csv with 162567 rows\n",
            "Loaded: dot2_ytd_0621.csv with 449125 rows\n",
            "Loaded: dot3_ytd_0621.csv with 103315 rows\n",
            "Loaded: dot3_0621.csv with 17504 rows\n",
            "Loaded: dot1_0621.csv with 27734 rows\n"
          ]
        },
        {
          "output_type": "stream",
          "name": "stderr",
          "text": [
            "/tmp/ipython-input-4-2477998144.py:10: DtypeWarning: Columns (4,11) have mixed types. Specify dtype option on import or set low_memory=False.\n",
            "  df = pd.read_csv(file)\n"
          ]
        },
        {
          "output_type": "stream",
          "name": "stdout",
          "text": [
            "Loaded: dot2_0621.csv with 76373 rows\n",
            "Loaded: dot1_0721.csv with 27550 rows\n",
            "Loaded: dot1_ytd_0721.csv with 190117 rows\n"
          ]
        },
        {
          "output_type": "stream",
          "name": "stderr",
          "text": [
            "/tmp/ipython-input-4-2477998144.py:10: DtypeWarning: Columns (4,11) have mixed types. Specify dtype option on import or set low_memory=False.\n",
            "  df = pd.read_csv(file)\n"
          ]
        },
        {
          "output_type": "stream",
          "name": "stdout",
          "text": [
            "Loaded: dot2_0721.csv with 75458 rows\n"
          ]
        },
        {
          "output_type": "stream",
          "name": "stderr",
          "text": [
            "/tmp/ipython-input-4-2477998144.py:10: DtypeWarning: Columns (4,11) have mixed types. Specify dtype option on import or set low_memory=False.\n",
            "  df = pd.read_csv(file)\n"
          ]
        },
        {
          "output_type": "stream",
          "name": "stdout",
          "text": [
            "Loaded: dot2_ytd_0721.csv with 524583 rows\n",
            "Loaded: dot3_0721.csv with 17466 rows\n",
            "Loaded: dot3_ytd_0721.csv with 120781 rows\n",
            "Loaded: dot1_0821.csv with 27606 rows\n",
            "Loaded: dot1_ytd_0821.csv with 217723 rows\n"
          ]
        },
        {
          "output_type": "stream",
          "name": "stderr",
          "text": [
            "/tmp/ipython-input-4-2477998144.py:10: DtypeWarning: Columns (4,11) have mixed types. Specify dtype option on import or set low_memory=False.\n",
            "  df = pd.read_csv(file)\n"
          ]
        },
        {
          "output_type": "stream",
          "name": "stdout",
          "text": [
            "Loaded: dot2_0821.csv with 75698 rows\n"
          ]
        },
        {
          "output_type": "stream",
          "name": "stderr",
          "text": [
            "/tmp/ipython-input-4-2477998144.py:10: DtypeWarning: Columns (4,11) have mixed types. Specify dtype option on import or set low_memory=False.\n",
            "  df = pd.read_csv(file)\n"
          ]
        },
        {
          "output_type": "stream",
          "name": "stdout",
          "text": [
            "Loaded: dot2_ytd_0821.csv with 600281 rows\n",
            "Loaded: dot3_0821.csv with 17461 rows\n",
            "Loaded: dot3_ytd_0821.csv with 138242 rows\n",
            "Loaded: dot3_ytd_0921.csv with 155673 rows\n",
            "Loaded: dot1_0921.csv with 27343 rows\n",
            "Loaded: dot1_ytd_0921.csv with 245066 rows\n"
          ]
        },
        {
          "output_type": "stream",
          "name": "stderr",
          "text": [
            "/tmp/ipython-input-4-2477998144.py:10: DtypeWarning: Columns (4,11) have mixed types. Specify dtype option on import or set low_memory=False.\n",
            "  df = pd.read_csv(file)\n"
          ]
        },
        {
          "output_type": "stream",
          "name": "stdout",
          "text": [
            "Loaded: dot2_0921.csv with 75358 rows\n"
          ]
        },
        {
          "output_type": "stream",
          "name": "stderr",
          "text": [
            "/tmp/ipython-input-4-2477998144.py:10: DtypeWarning: Columns (4,11) have mixed types. Specify dtype option on import or set low_memory=False.\n",
            "  df = pd.read_csv(file)\n"
          ]
        },
        {
          "output_type": "stream",
          "name": "stdout",
          "text": [
            "Loaded: dot2_ytd_0921.csv with 675639 rows\n",
            "Loaded: dot3_0921.csv with 17431 rows\n",
            "Loaded: dot1_1021.csv with 27876 rows\n",
            "Loaded: dot1_ytd_1021.csv with 272942 rows\n"
          ]
        },
        {
          "output_type": "stream",
          "name": "stderr",
          "text": [
            "/tmp/ipython-input-4-2477998144.py:10: DtypeWarning: Columns (4,11) have mixed types. Specify dtype option on import or set low_memory=False.\n",
            "  df = pd.read_csv(file)\n"
          ]
        },
        {
          "output_type": "stream",
          "name": "stdout",
          "text": [
            "Loaded: dot2_1021.csv with 76652 rows\n",
            "Loaded: dot2_ytd_1021.csv with 752291 rows\n",
            "Loaded: dot3_1021.csv with 17487 rows\n",
            "Loaded: dot3_ytd_1021.csv with 173160 rows\n",
            "Loaded: dot3_ytd_1121.csv with 190604 rows\n",
            "Loaded: dot1_1121.csv with 27544 rows\n",
            "Loaded: dot1_ytd_1121.csv with 300486 rows\n"
          ]
        },
        {
          "output_type": "stream",
          "name": "stderr",
          "text": [
            "/tmp/ipython-input-4-2477998144.py:10: DtypeWarning: Columns (4,11) have mixed types. Specify dtype option on import or set low_memory=False.\n",
            "  df = pd.read_csv(file)\n"
          ]
        },
        {
          "output_type": "stream",
          "name": "stdout",
          "text": [
            "Loaded: dot2_1121.csv with 75689 rows\n",
            "Loaded: dot2_ytd_1121.csv with 827980 rows\n",
            "Loaded: dot3_1121.csv with 17444 rows\n",
            "Loaded: dot1_1221.csv with 27098 rows\n",
            "Loaded: dot1_2021.csv with 59407 rows\n",
            "Loaded: dot1_ytd_1221.csv with 327584 rows\n"
          ]
        },
        {
          "output_type": "stream",
          "name": "stderr",
          "text": [
            "/tmp/ipython-input-4-2477998144.py:10: DtypeWarning: Columns (4,11) have mixed types. Specify dtype option on import or set low_memory=False.\n",
            "  df = pd.read_csv(file)\n"
          ]
        },
        {
          "output_type": "stream",
          "name": "stdout",
          "text": [
            "Loaded: dot2_1221.csv with 74636 rows\n"
          ]
        },
        {
          "output_type": "stream",
          "name": "stderr",
          "text": [
            "/tmp/ipython-input-4-2477998144.py:10: DtypeWarning: Columns (4,8) have mixed types. Specify dtype option on import or set low_memory=False.\n",
            "  df = pd.read_csv(file)\n"
          ]
        },
        {
          "output_type": "stream",
          "name": "stdout",
          "text": [
            "Loaded: dot2_2021.csv with 152131 rows\n",
            "Loaded: dot2_ytd_1221.csv with 902616 rows\n",
            "Loaded: dot3_1221.csv with 17174 rows\n",
            "Loaded: dot3_2021.csv with 33258 rows\n",
            "Loaded: dot3_ytd_1221.csv with 207778 rows\n",
            "Successfully merged 75 files into a single DataFrame with 10982798 rows.\n",
            "Merged file saved to: /content/drive/MyDrive/Azubi_TMP/TransBorder_Analysis_Project/Dataset/merged_data_2021.csv\n"
          ]
        }
      ]
    },
    {
      "cell_type": "markdown",
      "source": [
        "### **Merge and Save all 2022 CSVs**"
      ],
      "metadata": {
        "id": "yzdPbFjksmbK"
      }
    },
    {
      "cell_type": "code",
      "source": [
        "# Define the path to your data folder\n",
        "data_folder_2022 = '/content/drive/MyDrive/Azubi_TMP/TransBorder_Analysis_Project/Dataset/All_Months_2022/'\n",
        "data_2022 = glob.glob(os.path.join(data_folder_2022, \"*.csv\"))\n",
        "\n",
        "# Read and combine all CSV files in 2022 folder\n",
        "df_2022 = []\n",
        "\n",
        "for file in data_2022:\n",
        "    try:\n",
        "        df = pd.read_csv(file)\n",
        "        df_2022.append(df)\n",
        "        print(f\"Loaded: {os.path.basename(file)} with {len(df)} rows\")\n",
        "    except Exception as e:\n",
        "        print(f\"Error loading {file}: {e}\")\n",
        "\n",
        "# Concatenate all DataFrames into one\n",
        "combined_df = pd.concat(df_2022, ignore_index=True)\n",
        "print(f\"Successfully merged {len(df_2022)} files into a single DataFrame with {len(combined_df)} rows.\")\n",
        "\n",
        "# Save the combined data\n",
        "output_path = os.path.join('/content/drive/MyDrive/Azubi_TMP/TransBorder_Analysis_Project/Dataset/', \"merged_data_2022.csv\")\n",
        "combined_df.to_csv(output_path, index=False)\n",
        "print(f\"Merged file saved to: {output_path}\")"
      ],
      "metadata": {
        "colab": {
          "base_uri": "https://localhost:8080/"
        },
        "collapsed": true,
        "id": "Vz7HRMNypgFD",
        "outputId": "6e85f8a8-1d20-4a76-94cd-85614b938bf3"
      },
      "execution_count": null,
      "outputs": [
        {
          "output_type": "stream",
          "name": "stdout",
          "text": [
            "Loaded: dot3_ytd_0122.csv with 16673 rows\n",
            "Loaded: dot1_0122.csv with 26614 rows\n",
            "Loaded: dot1_ytd_0122.csv with 26614 rows\n"
          ]
        },
        {
          "output_type": "stream",
          "name": "stderr",
          "text": [
            "/tmp/ipython-input-5-4091811327.py:10: DtypeWarning: Columns (4,11) have mixed types. Specify dtype option on import or set low_memory=False.\n",
            "  df = pd.read_csv(file)\n"
          ]
        },
        {
          "output_type": "stream",
          "name": "stdout",
          "text": [
            "Loaded: dot2_0122.csv with 72636 rows\n"
          ]
        },
        {
          "output_type": "stream",
          "name": "stderr",
          "text": [
            "/tmp/ipython-input-5-4091811327.py:10: DtypeWarning: Columns (4,11) have mixed types. Specify dtype option on import or set low_memory=False.\n",
            "  df = pd.read_csv(file)\n"
          ]
        },
        {
          "output_type": "stream",
          "name": "stdout",
          "text": [
            "Loaded: dot2_ytd_0122.csv with 72636 rows\n",
            "Loaded: dot3_0122.csv with 16673 rows\n",
            "Loaded: dot3_ytd_0222.csv with 34187 rows\n",
            "Loaded: dot1_0222.csv with 28122 rows\n",
            "Loaded: dot1_ytd_0222.csv with 54736 rows\n",
            "Loaded: dot2_0222.csv with 74397 rows\n"
          ]
        },
        {
          "output_type": "stream",
          "name": "stderr",
          "text": [
            "/tmp/ipython-input-5-4091811327.py:10: DtypeWarning: Columns (4,11) have mixed types. Specify dtype option on import or set low_memory=False.\n",
            "  df = pd.read_csv(file)\n"
          ]
        },
        {
          "output_type": "stream",
          "name": "stdout",
          "text": [
            "Loaded: dot2_ytd_0222.csv with 147033 rows\n",
            "Loaded: dot3_0222.csv with 17514 rows\n",
            "Loaded: dot1_ytd_0322.csv with 83859 rows\n"
          ]
        },
        {
          "output_type": "stream",
          "name": "stderr",
          "text": [
            "/tmp/ipython-input-5-4091811327.py:10: DtypeWarning: Columns (4,11) have mixed types. Specify dtype option on import or set low_memory=False.\n",
            "  df = pd.read_csv(file)\n"
          ]
        },
        {
          "output_type": "stream",
          "name": "stdout",
          "text": [
            "Loaded: dot2_0322.csv with 79877 rows\n",
            "Loaded: dot2_ytd_0322.csv with 226910 rows\n",
            "Loaded: dot3_0322.csv with 18060 rows\n",
            "Loaded: dot3_ytd_0322.csv with 52247 rows\n",
            "Loaded: dot1_0322.csv with 29123 rows\n"
          ]
        },
        {
          "output_type": "stream",
          "name": "stderr",
          "text": [
            "/tmp/ipython-input-5-4091811327.py:10: DtypeWarning: Columns (9) have mixed types. Specify dtype option on import or set low_memory=False.\n",
            "  df = pd.read_csv(file)\n"
          ]
        },
        {
          "output_type": "stream",
          "name": "stdout",
          "text": [
            "Loaded: dot3_ytd_0422.csv with 70280 rows\n",
            "Loaded: dot1_0422.csv with 28377 rows\n",
            "Loaded: dot1_ytd_0422.csv with 112236 rows\n"
          ]
        },
        {
          "output_type": "stream",
          "name": "stderr",
          "text": [
            "/tmp/ipython-input-5-4091811327.py:10: DtypeWarning: Columns (4,11) have mixed types. Specify dtype option on import or set low_memory=False.\n",
            "  df = pd.read_csv(file)\n"
          ]
        },
        {
          "output_type": "stream",
          "name": "stdout",
          "text": [
            "Loaded: dot2_0422.csv with 78427 rows\n",
            "Loaded: dot2_ytd_0422.csv with 305337 rows\n",
            "Loaded: dot3_0422.csv with 18033 rows\n",
            "Loaded: dot3_ytd_0522.csv with 88013 rows\n",
            "Loaded: dot1_0522.csv with 28568 rows\n"
          ]
        },
        {
          "output_type": "stream",
          "name": "stderr",
          "text": [
            "/tmp/ipython-input-5-4091811327.py:10: DtypeWarning: Columns (4,11) have mixed types. Specify dtype option on import or set low_memory=False.\n",
            "  df = pd.read_csv(file)\n"
          ]
        },
        {
          "output_type": "stream",
          "name": "stdout",
          "text": [
            "Loaded: dot1_ytd_0522.csv with 140804 rows\n"
          ]
        },
        {
          "output_type": "stream",
          "name": "stderr",
          "text": [
            "/tmp/ipython-input-5-4091811327.py:10: DtypeWarning: Columns (4,11) have mixed types. Specify dtype option on import or set low_memory=False.\n",
            "  df = pd.read_csv(file)\n"
          ]
        },
        {
          "output_type": "stream",
          "name": "stdout",
          "text": [
            "Loaded: dot2_0522.csv with 78464 rows\n",
            "Loaded: dot2_ytd_0522.csv with 383801 rows\n",
            "Loaded: dot3_0522.csv with 17733 rows\n",
            "Loaded: dot3_ytd_0622.csv with 105742 rows\n",
            "Loaded: dot1_0622.csv with 28547 rows\n",
            "Loaded: dot1_ytd_0622.csv with 169351 rows\n"
          ]
        },
        {
          "output_type": "stream",
          "name": "stderr",
          "text": [
            "/tmp/ipython-input-5-4091811327.py:10: DtypeWarning: Columns (4,11) have mixed types. Specify dtype option on import or set low_memory=False.\n",
            "  df = pd.read_csv(file)\n"
          ]
        },
        {
          "output_type": "stream",
          "name": "stdout",
          "text": [
            "Loaded: dot2_0622.csv with 78532 rows\n"
          ]
        },
        {
          "output_type": "stream",
          "name": "stderr",
          "text": [
            "/tmp/ipython-input-5-4091811327.py:10: DtypeWarning: Columns (4,11) have mixed types. Specify dtype option on import or set low_memory=False.\n",
            "  df = pd.read_csv(file)\n"
          ]
        },
        {
          "output_type": "stream",
          "name": "stdout",
          "text": [
            "Loaded: dot2_ytd_0622.csv with 462333 rows\n",
            "Loaded: dot3_0622.csv with 17729 rows\n",
            "Loaded: dot3_ytd_0722.csv with 118261 rows\n",
            "Loaded: dot1_0722.csv with 27887 rows\n"
          ]
        },
        {
          "output_type": "stream",
          "name": "stderr",
          "text": [
            "/tmp/ipython-input-5-4091811327.py:10: DtypeWarning: Columns (4,11) have mixed types. Specify dtype option on import or set low_memory=False.\n",
            "  df = pd.read_csv(file)\n"
          ]
        },
        {
          "output_type": "stream",
          "name": "stdout",
          "text": [
            "Loaded: dot1_ytd_0722.csv with 197238 rows\n"
          ]
        },
        {
          "output_type": "stream",
          "name": "stderr",
          "text": [
            "/tmp/ipython-input-5-4091811327.py:10: DtypeWarning: Columns (4,11) have mixed types. Specify dtype option on import or set low_memory=False.\n",
            "  df = pd.read_csv(file)\n"
          ]
        },
        {
          "output_type": "stream",
          "name": "stdout",
          "text": [
            "Loaded: dot2_0722.csv with 76519 rows\n"
          ]
        },
        {
          "output_type": "stream",
          "name": "stderr",
          "text": [
            "/tmp/ipython-input-5-4091811327.py:10: DtypeWarning: Columns (4,11) have mixed types. Specify dtype option on import or set low_memory=False.\n",
            "  df = pd.read_csv(file)\n"
          ]
        },
        {
          "output_type": "stream",
          "name": "stdout",
          "text": [
            "Loaded: dot2_ytd_0722.csv with 538852 rows\n",
            "Loaded: dot3_0722.csv with 17404 rows\n",
            "Loaded: dot3_0822.csv with 17657 rows\n",
            "Loaded: dot1_ytd_0822.csv with 225730 rows\n"
          ]
        },
        {
          "output_type": "stream",
          "name": "stderr",
          "text": [
            "/tmp/ipython-input-5-4091811327.py:10: DtypeWarning: Columns (4,11) have mixed types. Specify dtype option on import or set low_memory=False.\n",
            "  df = pd.read_csv(file)\n"
          ]
        },
        {
          "output_type": "stream",
          "name": "stdout",
          "text": [
            "Loaded: dot2_0822.csv with 78282 rows\n",
            "Loaded: dot1_0822.csv with 28492 rows\n",
            "Loaded: dot2_ytd_0822.csv with 617134 rows\n",
            "Loaded: dot3_ytd_0822.csv with 140803 rows\n",
            "Loaded: dot1_0922.csv with 28306 rows\n"
          ]
        },
        {
          "output_type": "stream",
          "name": "stderr",
          "text": [
            "/tmp/ipython-input-5-4091811327.py:10: DtypeWarning: Columns (4,11) have mixed types. Specify dtype option on import or set low_memory=False.\n",
            "  df = pd.read_csv(file)\n"
          ]
        },
        {
          "output_type": "stream",
          "name": "stdout",
          "text": [
            "Loaded: dot2_0922.csv with 77181 rows\n",
            "Loaded: dot3_0922.csv with 17418 rows\n",
            "Loaded: dot2_ytd_0922.csv with 694315 rows\n",
            "Loaded: dot1_ytd_0922.csv with 254036 rows\n",
            "Loaded: dot3_ytd_0922.csv with 158221 rows\n",
            "Loaded: dot1_1022.csv with 28486 rows\n"
          ]
        },
        {
          "output_type": "stream",
          "name": "stderr",
          "text": [
            "/tmp/ipython-input-5-4091811327.py:10: DtypeWarning: Columns (4,11) have mixed types. Specify dtype option on import or set low_memory=False.\n",
            "  df = pd.read_csv(file)\n"
          ]
        },
        {
          "output_type": "stream",
          "name": "stdout",
          "text": [
            "Loaded: dot2_1022.csv with 77872 rows\n",
            "Loaded: dot1_ytd_1022.csv with 282522 rows\n",
            "Loaded: dot3_1022.csv with 17643 rows\n",
            "Loaded: dot3_ytd_1022.csv with 175864 rows\n",
            "Loaded: dot2_ytd_1022.csv with 772187 rows\n",
            "Loaded: dot3_1122.csv with 17327 rows\n"
          ]
        },
        {
          "output_type": "stream",
          "name": "stderr",
          "text": [
            "/tmp/ipython-input-5-4091811327.py:10: DtypeWarning: Columns (4,11) have mixed types. Specify dtype option on import or set low_memory=False.\n",
            "  df = pd.read_csv(file)\n"
          ]
        },
        {
          "output_type": "stream",
          "name": "stdout",
          "text": [
            "Loaded: dot2_1122.csv with 76597 rows\n",
            "Loaded: dot1_ytd_1122.csv with 310560 rows\n",
            "Loaded: dot1_1122.csv with 28038 rows\n",
            "Loaded: dot2_ytd_1122.csv with 848784 rows\n",
            "Loaded: dot3_ytd_1122.csv with 193191 rows\n",
            "Loaded: dot1_1222.csv with 27541 rows\n"
          ]
        },
        {
          "output_type": "stream",
          "name": "stderr",
          "text": [
            "/tmp/ipython-input-5-4091811327.py:10: DtypeWarning: Columns (4,11) have mixed types. Specify dtype option on import or set low_memory=False.\n",
            "  df = pd.read_csv(file)\n"
          ]
        },
        {
          "output_type": "stream",
          "name": "stdout",
          "text": [
            "Loaded: dot2_1222.csv with 74556 rows\n",
            "Loaded: dot3_1222.csv with 17165 rows\n",
            "Loaded: dot1_ytd_1222.csv with 338101 rows\n"
          ]
        },
        {
          "output_type": "stream",
          "name": "stderr",
          "text": [
            "/tmp/ipython-input-5-4091811327.py:10: DtypeWarning: Columns (4,11) have mixed types. Specify dtype option on import or set low_memory=False.\n",
            "  df = pd.read_csv(file)\n"
          ]
        },
        {
          "output_type": "stream",
          "name": "stdout",
          "text": [
            "Loaded: dot2_ytd_1222.csv with 923340 rows\n",
            "Loaded: dot3_ytd_1222.csv with 210356 rows\n",
            "Loaded: dot3_2022.csv with 33948 rows\n",
            "Loaded: dot1_2022.csv with 61719 rows\n"
          ]
        },
        {
          "output_type": "stream",
          "name": "stderr",
          "text": [
            "/tmp/ipython-input-5-4091811327.py:10: DtypeWarning: Columns (4,8) have mixed types. Specify dtype option on import or set low_memory=False.\n",
            "  df = pd.read_csv(file)\n"
          ]
        },
        {
          "output_type": "stream",
          "name": "stdout",
          "text": [
            "Loaded: dot2_2022.csv with 156199 rows\n",
            "Successfully merged 75 files into a single DataFrame with 11275950 rows.\n",
            "Merged file saved to: /content/drive/MyDrive/Azubi_TMP/TransBorder_Analysis_Project/Dataset/merged_data_2022.csv\n"
          ]
        }
      ]
    },
    {
      "cell_type": "markdown",
      "source": [
        "### **Merge and Save all 2023 CSVs**"
      ],
      "metadata": {
        "id": "lswQ0OrQsus-"
      }
    },
    {
      "cell_type": "code",
      "source": [
        "# Define the path to your data folder\n",
        "data_folder_2023 = '/content/drive/MyDrive/Azubi_TMP/TransBorder_Analysis_Project/Dataset/All_Months_2023/'\n",
        "data_2023 = glob.glob(os.path.join(data_folder_2023, \"*.csv\"))\n",
        "\n",
        "# Read and combine all CSV files in 2023 folder\n",
        "df_2023 = []\n",
        "\n",
        "for file in data_2023:\n",
        "    try:\n",
        "        df = pd.read_csv(file)\n",
        "        df_2023.append(df)\n",
        "        print(f\"Loaded: {os.path.basename(file)} with {len(df)} rows\")\n",
        "    except Exception as e:\n",
        "        print(f\"Error loading {file}: {e}\")\n",
        "\n",
        "# Concatenate all DataFrames into one\n",
        "combined_df = pd.concat(df_2023, ignore_index=True)\n",
        "print(f\"Successfully merged {len(df_2023)} files into a single DataFrame with {len(combined_df)} rows.\")\n",
        "\n",
        "# Save the combined data\n",
        "output_path = os.path.join('/content/drive/MyDrive/Azubi_TMP/TransBorder_Analysis_Project/Dataset/', \"merged_data_2023.csv\")\n",
        "combined_df.to_csv(output_path, index=False)\n",
        "print(f\"Merged file saved to: {output_path}\")"
      ],
      "metadata": {
        "colab": {
          "base_uri": "https://localhost:8080/"
        },
        "collapsed": true,
        "id": "RFPphBqVqs2r",
        "outputId": "1aceeaa5-60c5-49d9-9529-ea9258e75a66"
      },
      "execution_count": null,
      "outputs": [
        {
          "output_type": "stream",
          "name": "stdout",
          "text": [
            "Loaded: dot1_0123.csv with 27837 rows\n",
            "Loaded: dot3_0123.csv with 17179 rows\n",
            "Loaded: dot3_ytd_0123.csv with 17179 rows\n"
          ]
        },
        {
          "output_type": "stream",
          "name": "stderr",
          "text": [
            "/tmp/ipython-input-6-1769527231.py:10: DtypeWarning: Columns (4,11) have mixed types. Specify dtype option on import or set low_memory=False.\n",
            "  df = pd.read_csv(file)\n"
          ]
        },
        {
          "output_type": "stream",
          "name": "stdout",
          "text": [
            "Loaded: dot2_ytd_0123.csv with 75504 rows\n",
            "Loaded: dot1_ytd_0123.csv with 27837 rows\n"
          ]
        },
        {
          "output_type": "stream",
          "name": "stderr",
          "text": [
            "/tmp/ipython-input-6-1769527231.py:10: DtypeWarning: Columns (4,11) have mixed types. Specify dtype option on import or set low_memory=False.\n",
            "  df = pd.read_csv(file)\n"
          ]
        },
        {
          "output_type": "stream",
          "name": "stdout",
          "text": [
            "Loaded: dot2_0123.csv with 75504 rows\n"
          ]
        },
        {
          "output_type": "stream",
          "name": "stderr",
          "text": [
            "/tmp/ipython-input-6-1769527231.py:10: DtypeWarning: Columns (4,11) have mixed types. Specify dtype option on import or set low_memory=False.\n",
            "  df = pd.read_csv(file)\n"
          ]
        },
        {
          "output_type": "stream",
          "name": "stdout",
          "text": [
            "Loaded: dot2_0223.csv with 75564 rows\n",
            "Loaded: dot1_0223.csv with 27646 rows\n",
            "Loaded: dot3_0223.csv with 17000 rows\n"
          ]
        },
        {
          "output_type": "stream",
          "name": "stderr",
          "text": [
            "/tmp/ipython-input-6-1769527231.py:10: DtypeWarning: Columns (4,11) have mixed types. Specify dtype option on import or set low_memory=False.\n",
            "  df = pd.read_csv(file)\n"
          ]
        },
        {
          "output_type": "stream",
          "name": "stdout",
          "text": [
            "Loaded: dot2_ytd_0223.csv with 151068 rows\n",
            "Loaded: dot3_ytd_0223.csv with 34179 rows\n",
            "Loaded: dot1_ytd_0223.csv with 55483 rows\n",
            "Loaded: dot1_0323.csv with 29100 rows\n"
          ]
        },
        {
          "output_type": "stream",
          "name": "stderr",
          "text": [
            "/tmp/ipython-input-6-1769527231.py:10: DtypeWarning: Columns (4,11) have mixed types. Specify dtype option on import or set low_memory=False.\n",
            "  df = pd.read_csv(file)\n"
          ]
        },
        {
          "output_type": "stream",
          "name": "stdout",
          "text": [
            "Loaded: dot2_0323.csv with 80305 rows\n",
            "Loaded: dot3_0323.csv with 17857 rows\n",
            "Loaded: dot3_ytd_0323.csv with 52036 rows\n",
            "Loaded: dot1_ytd_0323.csv with 84583 rows\n",
            "Loaded: dot2_ytd_0323.csv with 231373 rows\n",
            "Loaded: dot1_0423.csv with 28044 rows\n"
          ]
        },
        {
          "output_type": "stream",
          "name": "stderr",
          "text": [
            "/tmp/ipython-input-6-1769527231.py:10: DtypeWarning: Columns (4,11) have mixed types. Specify dtype option on import or set low_memory=False.\n",
            "  df = pd.read_csv(file)\n"
          ]
        },
        {
          "output_type": "stream",
          "name": "stdout",
          "text": [
            "Loaded: dot2_0423.csv with 77386 rows\n",
            "Loaded: dot1_ytd_0423.csv with 112627 rows\n",
            "Loaded: dot3_0423.csv with 17464 rows\n",
            "Loaded: dot2_ytd_0423.csv with 308759 rows\n"
          ]
        },
        {
          "output_type": "stream",
          "name": "stderr",
          "text": [
            "/tmp/ipython-input-6-1769527231.py:10: DtypeWarning: Columns (9) have mixed types. Specify dtype option on import or set low_memory=False.\n",
            "  df = pd.read_csv(file)\n"
          ]
        },
        {
          "output_type": "stream",
          "name": "stdout",
          "text": [
            "Loaded: dot3_ytd_0423.csv with 69500 rows\n",
            "Loaded: dot1_0523.csv with 28977 rows\n",
            "Loaded: dot3_0523.csv with 17863 rows\n"
          ]
        },
        {
          "output_type": "stream",
          "name": "stderr",
          "text": [
            "/tmp/ipython-input-6-1769527231.py:10: DtypeWarning: Columns (4,11) have mixed types. Specify dtype option on import or set low_memory=False.\n",
            "  df = pd.read_csv(file)\n"
          ]
        },
        {
          "output_type": "stream",
          "name": "stdout",
          "text": [
            "Loaded: dot2_0523.csv with 79084 rows\n"
          ]
        },
        {
          "output_type": "stream",
          "name": "stderr",
          "text": [
            "/tmp/ipython-input-6-1769527231.py:10: DtypeWarning: Columns (4,11) have mixed types. Specify dtype option on import or set low_memory=False.\n",
            "  df = pd.read_csv(file)\n"
          ]
        },
        {
          "output_type": "stream",
          "name": "stdout",
          "text": [
            "Loaded: dot1_ytd_0523.csv with 141604 rows\n",
            "Loaded: dot2_ytd_0523.csv with 387843 rows\n",
            "Loaded: dot3_ytd_0523.csv with 87363 rows\n",
            "Loaded: dot1_ytd_0623.csv with 170568 rows\n"
          ]
        },
        {
          "output_type": "stream",
          "name": "stderr",
          "text": [
            "/tmp/ipython-input-6-1769527231.py:10: DtypeWarning: Columns (4,11) have mixed types. Specify dtype option on import or set low_memory=False.\n",
            "  df = pd.read_csv(file)\n"
          ]
        },
        {
          "output_type": "stream",
          "name": "stdout",
          "text": [
            "Loaded: dot2_0623.csv with 79048 rows\n",
            "Loaded: dot1_0623.csv with 28964 rows\n",
            "Loaded: dot3_0623.csv with 17769 rows\n"
          ]
        },
        {
          "output_type": "stream",
          "name": "stderr",
          "text": [
            "/tmp/ipython-input-6-1769527231.py:10: DtypeWarning: Columns (4,11) have mixed types. Specify dtype option on import or set low_memory=False.\n",
            "  df = pd.read_csv(file)\n"
          ]
        },
        {
          "output_type": "stream",
          "name": "stdout",
          "text": [
            "Loaded: dot2_ytd_0623.csv with 466891 rows\n",
            "Loaded: dot3_ytd_0623.csv with 105132 rows\n"
          ]
        },
        {
          "output_type": "stream",
          "name": "stderr",
          "text": [
            "/tmp/ipython-input-6-1769527231.py:10: DtypeWarning: Columns (4,11) have mixed types. Specify dtype option on import or set low_memory=False.\n",
            "  df = pd.read_csv(file)\n"
          ]
        },
        {
          "output_type": "stream",
          "name": "stdout",
          "text": [
            "Loaded: dot1_ytd_0723.csv with 198971 rows\n",
            "Loaded: dot3_0723.csv with 17456 rows\n",
            "Loaded: dot1_0723.csv with 28403 rows\n"
          ]
        },
        {
          "output_type": "stream",
          "name": "stderr",
          "text": [
            "/tmp/ipython-input-6-1769527231.py:10: DtypeWarning: Columns (4,11) have mixed types. Specify dtype option on import or set low_memory=False.\n",
            "  df = pd.read_csv(file)\n"
          ]
        },
        {
          "output_type": "stream",
          "name": "stdout",
          "text": [
            "Loaded: dot2_0723.csv with 77008 rows\n"
          ]
        },
        {
          "output_type": "stream",
          "name": "stderr",
          "text": [
            "/tmp/ipython-input-6-1769527231.py:10: DtypeWarning: Columns (4,11) have mixed types. Specify dtype option on import or set low_memory=False.\n",
            "  df = pd.read_csv(file)\n"
          ]
        },
        {
          "output_type": "stream",
          "name": "stdout",
          "text": [
            "Loaded: dot2_ytd_0723.csv with 543899 rows\n",
            "Loaded: dot3_ytd_0723.csv with 122588 rows\n",
            "Loaded: dot1_ytd_0823.csv with 227784 rows\n",
            "Loaded: dot3_0823.csv with 17531 rows\n"
          ]
        },
        {
          "output_type": "stream",
          "name": "stderr",
          "text": [
            "/tmp/ipython-input-6-1769527231.py:10: DtypeWarning: Columns (4,11) have mixed types. Specify dtype option on import or set low_memory=False.\n",
            "  df = pd.read_csv(file)\n"
          ]
        },
        {
          "output_type": "stream",
          "name": "stdout",
          "text": [
            "Loaded: dot2_0823.csv with 78905 rows\n",
            "Loaded: dot1_0823.csv with 28813 rows\n",
            "Loaded: dot2_ytd_0823.csv with 622804 rows\n",
            "Loaded: dot3_ytd_0823.csv with 140119 rows\n",
            "Loaded: dot1_0923.csv with 28367 rows\n",
            "Loaded: dot2_0923.csv with 77678 rows\n",
            "Loaded: dot3_0923.csv with 17500 rows\n",
            "Loaded: dot3_1023.csv with 17663 rows\n"
          ]
        },
        {
          "output_type": "stream",
          "name": "stderr",
          "text": [
            "/tmp/ipython-input-6-1769527231.py:10: DtypeWarning: Columns (4,11) have mixed types. Specify dtype option on import or set low_memory=False.\n",
            "  df = pd.read_csv(file)\n"
          ]
        },
        {
          "output_type": "stream",
          "name": "stdout",
          "text": [
            "Loaded: dot2_1023.csv with 78772 rows\n",
            "Loaded: dot1_1023.csv with 28848 rows\n",
            "Loaded: dot1_1123.csv with 28675 rows\n",
            "Loaded: dot3_1123.csv with 17339 rows\n"
          ]
        },
        {
          "output_type": "stream",
          "name": "stderr",
          "text": [
            "/tmp/ipython-input-6-1769527231.py:10: DtypeWarning: Columns (4,11) have mixed types. Specify dtype option on import or set low_memory=False.\n",
            "  df = pd.read_csv(file)\n"
          ]
        },
        {
          "output_type": "stream",
          "name": "stdout",
          "text": [
            "Loaded: dot2_1123.csv with 77774 rows\n",
            "Loaded: dot1_1223.csv with 27994 rows\n"
          ]
        },
        {
          "output_type": "stream",
          "name": "stderr",
          "text": [
            "/tmp/ipython-input-6-1769527231.py:10: DtypeWarning: Columns (4,11) have mixed types. Specify dtype option on import or set low_memory=False.\n",
            "  df = pd.read_csv(file)\n"
          ]
        },
        {
          "output_type": "stream",
          "name": "stdout",
          "text": [
            "Loaded: dot2_1223.csv with 75316 rows\n",
            "Loaded: dot3_1223.csv with 16842 rows\n",
            "Successfully merged 60 files into a single DataFrame with 5919169 rows.\n",
            "Merged file saved to: /content/drive/MyDrive/Azubi_TMP/TransBorder_Analysis_Project/Dataset/merged_data_2023.csv\n"
          ]
        }
      ]
    },
    {
      "cell_type": "markdown",
      "source": [
        "### **Merge and Save all 2024 CSVs**"
      ],
      "metadata": {
        "id": "qes8Eyuksy8y"
      }
    },
    {
      "cell_type": "code",
      "source": [
        "# Define the path to your data folder\n",
        "data_folder_2024 = '/content/drive/MyDrive/Azubi_TMP/TransBorder_Analysis_Project/Dataset/All_Months_2024/'\n",
        "data_2024 = glob.glob(os.path.join(data_folder_2024, \"*.csv\"))\n",
        "\n",
        "# Read and combine all CSV files in 2024 folder\n",
        "df_2024 = []\n",
        "\n",
        "for file in data_2024:\n",
        "    try:\n",
        "        df = pd.read_csv(file)\n",
        "        df_2024.append(df)\n",
        "        print(f\"Loaded: {os.path.basename(file)} with {len(df)} rows\")\n",
        "    except Exception as e:\n",
        "        print(f\"Error loading {file}: {e}\")\n",
        "\n",
        "# Concatenate all DataFrames into one\n",
        "combined_df = pd.concat(df_2024, ignore_index=True)\n",
        "print(f\"Successfully merged {len(df_2024)} files into a single DataFrame with {len(combined_df)} rows.\")\n",
        "\n",
        "# Save the combined data\n",
        "output_path = os.path.join('/content/drive/MyDrive/Azubi_TMP/TransBorder_Analysis_Project/Dataset/', \"merged_data_2024.csv\")\n",
        "combined_df.to_csv(output_path, index=False)\n",
        "print(f\"Merged file saved to: {output_path}\")"
      ],
      "metadata": {
        "colab": {
          "base_uri": "https://localhost:8080/"
        },
        "collapsed": true,
        "id": "ZEx53C6kr2Rs",
        "outputId": "28de6bd7-8c08-4844-972e-fe816e03d590"
      },
      "execution_count": null,
      "outputs": [
        {
          "output_type": "stream",
          "name": "stdout",
          "text": [
            "Loaded: dot3_0124.csv with 16820 rows\n"
          ]
        },
        {
          "output_type": "stream",
          "name": "stderr",
          "text": [
            "/tmp/ipython-input-7-4168835109.py:10: DtypeWarning: Columns (4,11) have mixed types. Specify dtype option on import or set low_memory=False.\n",
            "  df = pd.read_csv(file)\n"
          ]
        },
        {
          "output_type": "stream",
          "name": "stdout",
          "text": [
            "Loaded: dot2_0124.csv with 76041 rows\n",
            "Loaded: dot1_0124.csv with 28060 rows\n",
            "Loaded: dot1_0224.csv with 28739 rows\n",
            "Loaded: dot3_0224.csv with 17334 rows\n"
          ]
        },
        {
          "output_type": "stream",
          "name": "stderr",
          "text": [
            "/tmp/ipython-input-7-4168835109.py:10: DtypeWarning: Columns (4,11) have mixed types. Specify dtype option on import or set low_memory=False.\n",
            "  df = pd.read_csv(file)\n"
          ]
        },
        {
          "output_type": "stream",
          "name": "stdout",
          "text": [
            "Loaded: dot2_0224.csv with 77607 rows\n",
            "Loaded: dot1_0324.csv with 29190 rows\n"
          ]
        },
        {
          "output_type": "stream",
          "name": "stderr",
          "text": [
            "/tmp/ipython-input-7-4168835109.py:10: DtypeWarning: Columns (4,11) have mixed types. Specify dtype option on import or set low_memory=False.\n",
            "  df = pd.read_csv(file)\n"
          ]
        },
        {
          "output_type": "stream",
          "name": "stdout",
          "text": [
            "Loaded: dot2_0324.csv with 79017 rows\n",
            "Loaded: dot3_0424.csv with 17683 rows\n",
            "Loaded: dot1_0424.csv with 29657 rows\n"
          ]
        },
        {
          "output_type": "stream",
          "name": "stderr",
          "text": [
            "/tmp/ipython-input-7-4168835109.py:10: DtypeWarning: Columns (4,11) have mixed types. Specify dtype option on import or set low_memory=False.\n",
            "  df = pd.read_csv(file)\n"
          ]
        },
        {
          "output_type": "stream",
          "name": "stdout",
          "text": [
            "Loaded: dot2_0424.csv with 80604 rows\n"
          ]
        },
        {
          "output_type": "stream",
          "name": "stderr",
          "text": [
            "/tmp/ipython-input-7-4168835109.py:10: DtypeWarning: Columns (4,11) have mixed types. Specify dtype option on import or set low_memory=False.\n",
            "  df = pd.read_csv(file)\n"
          ]
        },
        {
          "output_type": "stream",
          "name": "stdout",
          "text": [
            "Loaded: dot2_0524.csv with 80201 rows\n",
            "Loaded: dot3_0524.csv with 17716 rows\n",
            "Loaded: dot1_0524.csv with 29593 rows\n",
            "Loaded: dot1_0624.csv with 28916 rows\n",
            "Loaded: dot3_0624.csv with 17329 rows\n"
          ]
        },
        {
          "output_type": "stream",
          "name": "stderr",
          "text": [
            "/tmp/ipython-input-7-4168835109.py:10: DtypeWarning: Columns (4,11) have mixed types. Specify dtype option on import or set low_memory=False.\n",
            "  df = pd.read_csv(file)\n"
          ]
        },
        {
          "output_type": "stream",
          "name": "stdout",
          "text": [
            "Loaded: dot2_0624.csv with 78547 rows\n"
          ]
        },
        {
          "output_type": "stream",
          "name": "stderr",
          "text": [
            "/tmp/ipython-input-7-4168835109.py:10: DtypeWarning: Columns (4,11) have mixed types. Specify dtype option on import or set low_memory=False.\n",
            "  df = pd.read_csv(file)\n"
          ]
        },
        {
          "output_type": "stream",
          "name": "stdout",
          "text": [
            "Loaded: dot2_0724.csv with 79183 rows\n",
            "Loaded: dot3_0724.csv with 17438 rows\n",
            "Loaded: dot1_0724.csv with 29214 rows\n"
          ]
        },
        {
          "output_type": "stream",
          "name": "stderr",
          "text": [
            "/tmp/ipython-input-7-4168835109.py:10: DtypeWarning: Columns (4,11) have mixed types. Specify dtype option on import or set low_memory=False.\n",
            "  df = pd.read_csv(file)\n"
          ]
        },
        {
          "output_type": "stream",
          "name": "stdout",
          "text": [
            "Loaded: dot2_0824.csv with 79426 rows\n",
            "Loaded: dot3_0824.csv with 17532 rows\n",
            "Loaded: dot1_0824.csv with 29128 rows\n"
          ]
        },
        {
          "output_type": "stream",
          "name": "stderr",
          "text": [
            "/tmp/ipython-input-7-4168835109.py:10: DtypeWarning: Columns (4,11) have mixed types. Specify dtype option on import or set low_memory=False.\n",
            "  df = pd.read_csv(file)\n"
          ]
        },
        {
          "output_type": "stream",
          "name": "stdout",
          "text": [
            "Loaded: dot2_0924.csv with 77817 rows\n",
            "Loaded: dot1_0924.csv with 28606 rows\n",
            "Loaded: dot3_0924.csv with 17145 rows\n",
            "Successfully merged 26 files into a single DataFrame with 1108543 rows.\n",
            "Merged file saved to: /content/drive/MyDrive/Azubi_TMP/TransBorder_Analysis_Project/Dataset/merged_data_2024.csv\n"
          ]
        }
      ]
    },
    {
      "cell_type": "markdown",
      "source": [
        "### **Finally, Merge and Save CSVs for all Years**"
      ],
      "metadata": {
        "id": "TIm71-o4s3Sb"
      }
    },
    {
      "cell_type": "code",
      "source": [
        "# Define the path to your data folder\n",
        "data_folder = '/content/drive/MyDrive/Azubi_TMP/TransBorder_Analysis_Project/Dataset/'\n",
        "data_all_years = glob.glob(os.path.join(data_folder, \"*.csv\"))\n",
        "\n",
        "# Read and combine all CSV files for all years\n",
        "df_all = []\n",
        "\n",
        "for file in data_all_years:\n",
        "    try:\n",
        "        df = pd.read_csv(file)\n",
        "        df_all.append(df)\n",
        "        print(f\"Loaded: {os.path.basename(file)} with {len(df)} rows\")\n",
        "    except Exception as e:\n",
        "        print(f\"Error loading {file}: {e}\")\n",
        "\n",
        "# Concatenate all DataFrames into one\n",
        "combined_df = pd.concat(df_all, ignore_index=True)\n",
        "print(f\"Successfully merged {len(df_all)} files into a single DataFrame with {len(combined_df)} rows.\")\n",
        "\n",
        "# Save the combined data\n",
        "output_path = os.path.join('/content/drive/MyDrive/Azubi_TMP/TransBorder_Analysis_Project/Dataset/', \"Full_Dataset.csv\")\n",
        "combined_df.to_csv(output_path, index=False)\n",
        "print(f\"Merged file saved to: {output_path}\")"
      ],
      "metadata": {
        "colab": {
          "base_uri": "https://localhost:8080/"
        },
        "collapsed": true,
        "id": "8Bf8fKRetFav",
        "outputId": "ef2b541d-bacf-4fe0-a67d-bdc667f1d712"
      },
      "execution_count": null,
      "outputs": [
        {
          "output_type": "stream",
          "name": "stderr",
          "text": [
            "/tmp/ipython-input-3-4022733008.py:10: DtypeWarning: Columns (1,2,4,5) have mixed types. Specify dtype option on import or set low_memory=False.\n",
            "  df = pd.read_csv(file)\n"
          ]
        },
        {
          "output_type": "stream",
          "name": "stdout",
          "text": [
            "Loaded: merged_data_2020.csv with 6104767 rows\n"
          ]
        },
        {
          "output_type": "stream",
          "name": "stderr",
          "text": [
            "/tmp/ipython-input-3-4022733008.py:10: DtypeWarning: Columns (1,12,13,14) have mixed types. Specify dtype option on import or set low_memory=False.\n",
            "  df = pd.read_csv(file)\n"
          ]
        },
        {
          "output_type": "stream",
          "name": "stdout",
          "text": [
            "Loaded: merged_data_2021.csv with 10982798 rows\n"
          ]
        },
        {
          "output_type": "stream",
          "name": "stderr",
          "text": [
            "/tmp/ipython-input-3-4022733008.py:10: DtypeWarning: Columns (1,9,12,13,14) have mixed types. Specify dtype option on import or set low_memory=False.\n",
            "  df = pd.read_csv(file)\n"
          ]
        },
        {
          "output_type": "stream",
          "name": "stdout",
          "text": [
            "Loaded: merged_data_2022.csv with 11275950 rows\n"
          ]
        },
        {
          "output_type": "stream",
          "name": "stderr",
          "text": [
            "/tmp/ipython-input-3-4022733008.py:10: DtypeWarning: Columns (1,2,4,5) have mixed types. Specify dtype option on import or set low_memory=False.\n",
            "  df = pd.read_csv(file)\n"
          ]
        },
        {
          "output_type": "stream",
          "name": "stdout",
          "text": [
            "Loaded: merged_data_2023.csv with 5919169 rows\n"
          ]
        },
        {
          "output_type": "stream",
          "name": "stderr",
          "text": [
            "/tmp/ipython-input-3-4022733008.py:10: DtypeWarning: Columns (1) have mixed types. Specify dtype option on import or set low_memory=False.\n",
            "  df = pd.read_csv(file)\n"
          ]
        },
        {
          "output_type": "stream",
          "name": "stdout",
          "text": [
            "Loaded: merged_data_2024.csv with 1108543 rows\n",
            "Successfully merged 5 files into a single DataFrame with 35391227 rows.\n",
            "Merged file saved to: /content/drive/MyDrive/Azubi_TMP/TransBorder_Analysis_Project/Dataset/Full_Dataset.csv\n"
          ]
        }
      ]
    },
    {
      "cell_type": "markdown",
      "source": [
        "### **Uploading Dataset For Analysis**"
      ],
      "metadata": {
        "id": "3oj8BJjUo9PY"
      }
    },
    {
      "cell_type": "code",
      "source": [
        "chunksize = 100000\n",
        "chunks = []\n",
        "\n",
        "for chunk in pd.read_csv(\"/content/drive/MyDrive/Azubi_TMP/TransBorder_Analysis_Project/Dataset/Full_Dataset.csv\", chunksize=chunksize):\n",
        "\n",
        "    filtered_chunk = chunk[~(chunk['MEXSTATE'].isnull() & chunk['CANPROV'].isnull())]\n",
        "\n",
        "    chunks.append(filtered_chunk)\n",
        "\n",
        "df = pd.concat(chunks, ignore_index=True)\n",
        "print(\"File loaded successfully with shape:\", df.shape)"
      ],
      "metadata": {
        "id": "k6vOMJiXzX-w",
        "colab": {
          "base_uri": "https://localhost:8080/"
        },
        "collapsed": true,
        "outputId": "9d6e095c-9ffb-44b8-bf1d-23cd03e857e4"
      },
      "execution_count": 2,
      "outputs": [
        {
          "output_type": "stream",
          "name": "stderr",
          "text": [
            "/tmp/ipython-input-2-1468734196.py:4: DtypeWarning: Columns (2) have mixed types. Specify dtype option on import or set low_memory=False.\n",
            "  for chunk in pd.read_csv(\"/content/drive/MyDrive/Azubi_TMP/TransBorder_Analysis_Project/Dataset/Full_Dataset.csv\", chunksize=chunksize):\n",
            "/tmp/ipython-input-2-1468734196.py:4: DtypeWarning: Columns (2) have mixed types. Specify dtype option on import or set low_memory=False.\n",
            "  for chunk in pd.read_csv(\"/content/drive/MyDrive/Azubi_TMP/TransBorder_Analysis_Project/Dataset/Full_Dataset.csv\", chunksize=chunksize):\n",
            "/tmp/ipython-input-2-1468734196.py:4: DtypeWarning: Columns (1,4,5) have mixed types. Specify dtype option on import or set low_memory=False.\n",
            "  for chunk in pd.read_csv(\"/content/drive/MyDrive/Azubi_TMP/TransBorder_Analysis_Project/Dataset/Full_Dataset.csv\", chunksize=chunksize):\n",
            "/tmp/ipython-input-2-1468734196.py:4: DtypeWarning: Columns (2) have mixed types. Specify dtype option on import or set low_memory=False.\n",
            "  for chunk in pd.read_csv(\"/content/drive/MyDrive/Azubi_TMP/TransBorder_Analysis_Project/Dataset/Full_Dataset.csv\", chunksize=chunksize):\n",
            "/tmp/ipython-input-2-1468734196.py:4: DtypeWarning: Columns (2,4) have mixed types. Specify dtype option on import or set low_memory=False.\n",
            "  for chunk in pd.read_csv(\"/content/drive/MyDrive/Azubi_TMP/TransBorder_Analysis_Project/Dataset/Full_Dataset.csv\", chunksize=chunksize):\n",
            "/tmp/ipython-input-2-1468734196.py:4: DtypeWarning: Columns (2) have mixed types. Specify dtype option on import or set low_memory=False.\n",
            "  for chunk in pd.read_csv(\"/content/drive/MyDrive/Azubi_TMP/TransBorder_Analysis_Project/Dataset/Full_Dataset.csv\", chunksize=chunksize):\n",
            "/tmp/ipython-input-2-1468734196.py:4: DtypeWarning: Columns (4) have mixed types. Specify dtype option on import or set low_memory=False.\n",
            "  for chunk in pd.read_csv(\"/content/drive/MyDrive/Azubi_TMP/TransBorder_Analysis_Project/Dataset/Full_Dataset.csv\", chunksize=chunksize):\n",
            "/tmp/ipython-input-2-1468734196.py:4: DtypeWarning: Columns (2) have mixed types. Specify dtype option on import or set low_memory=False.\n",
            "  for chunk in pd.read_csv(\"/content/drive/MyDrive/Azubi_TMP/TransBorder_Analysis_Project/Dataset/Full_Dataset.csv\", chunksize=chunksize):\n",
            "/tmp/ipython-input-2-1468734196.py:4: DtypeWarning: Columns (2,4) have mixed types. Specify dtype option on import or set low_memory=False.\n",
            "  for chunk in pd.read_csv(\"/content/drive/MyDrive/Azubi_TMP/TransBorder_Analysis_Project/Dataset/Full_Dataset.csv\", chunksize=chunksize):\n",
            "/tmp/ipython-input-2-1468734196.py:4: DtypeWarning: Columns (1,4,5) have mixed types. Specify dtype option on import or set low_memory=False.\n",
            "  for chunk in pd.read_csv(\"/content/drive/MyDrive/Azubi_TMP/TransBorder_Analysis_Project/Dataset/Full_Dataset.csv\", chunksize=chunksize):\n",
            "/tmp/ipython-input-2-1468734196.py:4: DtypeWarning: Columns (2) have mixed types. Specify dtype option on import or set low_memory=False.\n",
            "  for chunk in pd.read_csv(\"/content/drive/MyDrive/Azubi_TMP/TransBorder_Analysis_Project/Dataset/Full_Dataset.csv\", chunksize=chunksize):\n",
            "/tmp/ipython-input-2-1468734196.py:4: DtypeWarning: Columns (1,5) have mixed types. Specify dtype option on import or set low_memory=False.\n",
            "  for chunk in pd.read_csv(\"/content/drive/MyDrive/Azubi_TMP/TransBorder_Analysis_Project/Dataset/Full_Dataset.csv\", chunksize=chunksize):\n",
            "/tmp/ipython-input-2-1468734196.py:4: DtypeWarning: Columns (2) have mixed types. Specify dtype option on import or set low_memory=False.\n",
            "  for chunk in pd.read_csv(\"/content/drive/MyDrive/Azubi_TMP/TransBorder_Analysis_Project/Dataset/Full_Dataset.csv\", chunksize=chunksize):\n",
            "/tmp/ipython-input-2-1468734196.py:4: DtypeWarning: Columns (1,4,5) have mixed types. Specify dtype option on import or set low_memory=False.\n",
            "  for chunk in pd.read_csv(\"/content/drive/MyDrive/Azubi_TMP/TransBorder_Analysis_Project/Dataset/Full_Dataset.csv\", chunksize=chunksize):\n",
            "/tmp/ipython-input-2-1468734196.py:4: DtypeWarning: Columns (1,4,5) have mixed types. Specify dtype option on import or set low_memory=False.\n",
            "  for chunk in pd.read_csv(\"/content/drive/MyDrive/Azubi_TMP/TransBorder_Analysis_Project/Dataset/Full_Dataset.csv\", chunksize=chunksize):\n",
            "/tmp/ipython-input-2-1468734196.py:4: DtypeWarning: Columns (2) have mixed types. Specify dtype option on import or set low_memory=False.\n",
            "  for chunk in pd.read_csv(\"/content/drive/MyDrive/Azubi_TMP/TransBorder_Analysis_Project/Dataset/Full_Dataset.csv\", chunksize=chunksize):\n",
            "/tmp/ipython-input-2-1468734196.py:4: DtypeWarning: Columns (2) have mixed types. Specify dtype option on import or set low_memory=False.\n",
            "  for chunk in pd.read_csv(\"/content/drive/MyDrive/Azubi_TMP/TransBorder_Analysis_Project/Dataset/Full_Dataset.csv\", chunksize=chunksize):\n",
            "/tmp/ipython-input-2-1468734196.py:4: DtypeWarning: Columns (1,4,5) have mixed types. Specify dtype option on import or set low_memory=False.\n",
            "  for chunk in pd.read_csv(\"/content/drive/MyDrive/Azubi_TMP/TransBorder_Analysis_Project/Dataset/Full_Dataset.csv\", chunksize=chunksize):\n",
            "/tmp/ipython-input-2-1468734196.py:4: DtypeWarning: Columns (2) have mixed types. Specify dtype option on import or set low_memory=False.\n",
            "  for chunk in pd.read_csv(\"/content/drive/MyDrive/Azubi_TMP/TransBorder_Analysis_Project/Dataset/Full_Dataset.csv\", chunksize=chunksize):\n",
            "/tmp/ipython-input-2-1468734196.py:4: DtypeWarning: Columns (1,4,5) have mixed types. Specify dtype option on import or set low_memory=False.\n",
            "  for chunk in pd.read_csv(\"/content/drive/MyDrive/Azubi_TMP/TransBorder_Analysis_Project/Dataset/Full_Dataset.csv\", chunksize=chunksize):\n",
            "/tmp/ipython-input-2-1468734196.py:4: DtypeWarning: Columns (2) have mixed types. Specify dtype option on import or set low_memory=False.\n",
            "  for chunk in pd.read_csv(\"/content/drive/MyDrive/Azubi_TMP/TransBorder_Analysis_Project/Dataset/Full_Dataset.csv\", chunksize=chunksize):\n",
            "/tmp/ipython-input-2-1468734196.py:4: DtypeWarning: Columns (1,4,5) have mixed types. Specify dtype option on import or set low_memory=False.\n",
            "  for chunk in pd.read_csv(\"/content/drive/MyDrive/Azubi_TMP/TransBorder_Analysis_Project/Dataset/Full_Dataset.csv\", chunksize=chunksize):\n",
            "/tmp/ipython-input-2-1468734196.py:4: DtypeWarning: Columns (2) have mixed types. Specify dtype option on import or set low_memory=False.\n",
            "  for chunk in pd.read_csv(\"/content/drive/MyDrive/Azubi_TMP/TransBorder_Analysis_Project/Dataset/Full_Dataset.csv\", chunksize=chunksize):\n",
            "/tmp/ipython-input-2-1468734196.py:4: DtypeWarning: Columns (1,4,5) have mixed types. Specify dtype option on import or set low_memory=False.\n",
            "  for chunk in pd.read_csv(\"/content/drive/MyDrive/Azubi_TMP/TransBorder_Analysis_Project/Dataset/Full_Dataset.csv\", chunksize=chunksize):\n",
            "/tmp/ipython-input-2-1468734196.py:4: DtypeWarning: Columns (2) have mixed types. Specify dtype option on import or set low_memory=False.\n",
            "  for chunk in pd.read_csv(\"/content/drive/MyDrive/Azubi_TMP/TransBorder_Analysis_Project/Dataset/Full_Dataset.csv\", chunksize=chunksize):\n",
            "/tmp/ipython-input-2-1468734196.py:4: DtypeWarning: Columns (2,4) have mixed types. Specify dtype option on import or set low_memory=False.\n",
            "  for chunk in pd.read_csv(\"/content/drive/MyDrive/Azubi_TMP/TransBorder_Analysis_Project/Dataset/Full_Dataset.csv\", chunksize=chunksize):\n",
            "/tmp/ipython-input-2-1468734196.py:4: DtypeWarning: Columns (1,4,5) have mixed types. Specify dtype option on import or set low_memory=False.\n",
            "  for chunk in pd.read_csv(\"/content/drive/MyDrive/Azubi_TMP/TransBorder_Analysis_Project/Dataset/Full_Dataset.csv\", chunksize=chunksize):\n",
            "/tmp/ipython-input-2-1468734196.py:4: DtypeWarning: Columns (2) have mixed types. Specify dtype option on import or set low_memory=False.\n",
            "  for chunk in pd.read_csv(\"/content/drive/MyDrive/Azubi_TMP/TransBorder_Analysis_Project/Dataset/Full_Dataset.csv\", chunksize=chunksize):\n",
            "/tmp/ipython-input-2-1468734196.py:4: DtypeWarning: Columns (1,5) have mixed types. Specify dtype option on import or set low_memory=False.\n",
            "  for chunk in pd.read_csv(\"/content/drive/MyDrive/Azubi_TMP/TransBorder_Analysis_Project/Dataset/Full_Dataset.csv\", chunksize=chunksize):\n",
            "/tmp/ipython-input-2-1468734196.py:4: DtypeWarning: Columns (2,4) have mixed types. Specify dtype option on import or set low_memory=False.\n",
            "  for chunk in pd.read_csv(\"/content/drive/MyDrive/Azubi_TMP/TransBorder_Analysis_Project/Dataset/Full_Dataset.csv\", chunksize=chunksize):\n",
            "/tmp/ipython-input-2-1468734196.py:4: DtypeWarning: Columns (1,4,5) have mixed types. Specify dtype option on import or set low_memory=False.\n",
            "  for chunk in pd.read_csv(\"/content/drive/MyDrive/Azubi_TMP/TransBorder_Analysis_Project/Dataset/Full_Dataset.csv\", chunksize=chunksize):\n",
            "/tmp/ipython-input-2-1468734196.py:4: DtypeWarning: Columns (2) have mixed types. Specify dtype option on import or set low_memory=False.\n",
            "  for chunk in pd.read_csv(\"/content/drive/MyDrive/Azubi_TMP/TransBorder_Analysis_Project/Dataset/Full_Dataset.csv\", chunksize=chunksize):\n",
            "/tmp/ipython-input-2-1468734196.py:4: DtypeWarning: Columns (2) have mixed types. Specify dtype option on import or set low_memory=False.\n",
            "  for chunk in pd.read_csv(\"/content/drive/MyDrive/Azubi_TMP/TransBorder_Analysis_Project/Dataset/Full_Dataset.csv\", chunksize=chunksize):\n",
            "/tmp/ipython-input-2-1468734196.py:4: DtypeWarning: Columns (1,4,5) have mixed types. Specify dtype option on import or set low_memory=False.\n",
            "  for chunk in pd.read_csv(\"/content/drive/MyDrive/Azubi_TMP/TransBorder_Analysis_Project/Dataset/Full_Dataset.csv\", chunksize=chunksize):\n",
            "/tmp/ipython-input-2-1468734196.py:4: DtypeWarning: Columns (2) have mixed types. Specify dtype option on import or set low_memory=False.\n",
            "  for chunk in pd.read_csv(\"/content/drive/MyDrive/Azubi_TMP/TransBorder_Analysis_Project/Dataset/Full_Dataset.csv\", chunksize=chunksize):\n",
            "/tmp/ipython-input-2-1468734196.py:4: DtypeWarning: Columns (2) have mixed types. Specify dtype option on import or set low_memory=False.\n",
            "  for chunk in pd.read_csv(\"/content/drive/MyDrive/Azubi_TMP/TransBorder_Analysis_Project/Dataset/Full_Dataset.csv\", chunksize=chunksize):\n",
            "/tmp/ipython-input-2-1468734196.py:4: DtypeWarning: Columns (1,4,5) have mixed types. Specify dtype option on import or set low_memory=False.\n",
            "  for chunk in pd.read_csv(\"/content/drive/MyDrive/Azubi_TMP/TransBorder_Analysis_Project/Dataset/Full_Dataset.csv\", chunksize=chunksize):\n",
            "/tmp/ipython-input-2-1468734196.py:4: DtypeWarning: Columns (2) have mixed types. Specify dtype option on import or set low_memory=False.\n",
            "  for chunk in pd.read_csv(\"/content/drive/MyDrive/Azubi_TMP/TransBorder_Analysis_Project/Dataset/Full_Dataset.csv\", chunksize=chunksize):\n",
            "/tmp/ipython-input-2-1468734196.py:4: DtypeWarning: Columns (2) have mixed types. Specify dtype option on import or set low_memory=False.\n",
            "  for chunk in pd.read_csv(\"/content/drive/MyDrive/Azubi_TMP/TransBorder_Analysis_Project/Dataset/Full_Dataset.csv\", chunksize=chunksize):\n",
            "/tmp/ipython-input-2-1468734196.py:4: DtypeWarning: Columns (2) have mixed types. Specify dtype option on import or set low_memory=False.\n",
            "  for chunk in pd.read_csv(\"/content/drive/MyDrive/Azubi_TMP/TransBorder_Analysis_Project/Dataset/Full_Dataset.csv\", chunksize=chunksize):\n",
            "/tmp/ipython-input-2-1468734196.py:4: DtypeWarning: Columns (2,4) have mixed types. Specify dtype option on import or set low_memory=False.\n",
            "  for chunk in pd.read_csv(\"/content/drive/MyDrive/Azubi_TMP/TransBorder_Analysis_Project/Dataset/Full_Dataset.csv\", chunksize=chunksize):\n",
            "/tmp/ipython-input-2-1468734196.py:4: DtypeWarning: Columns (1,4,5) have mixed types. Specify dtype option on import or set low_memory=False.\n",
            "  for chunk in pd.read_csv(\"/content/drive/MyDrive/Azubi_TMP/TransBorder_Analysis_Project/Dataset/Full_Dataset.csv\", chunksize=chunksize):\n",
            "/tmp/ipython-input-2-1468734196.py:4: DtypeWarning: Columns (1,4,5) have mixed types. Specify dtype option on import or set low_memory=False.\n",
            "  for chunk in pd.read_csv(\"/content/drive/MyDrive/Azubi_TMP/TransBorder_Analysis_Project/Dataset/Full_Dataset.csv\", chunksize=chunksize):\n",
            "/tmp/ipython-input-2-1468734196.py:4: DtypeWarning: Columns (1,4,5) have mixed types. Specify dtype option on import or set low_memory=False.\n",
            "  for chunk in pd.read_csv(\"/content/drive/MyDrive/Azubi_TMP/TransBorder_Analysis_Project/Dataset/Full_Dataset.csv\", chunksize=chunksize):\n",
            "/tmp/ipython-input-2-1468734196.py:4: DtypeWarning: Columns (2) have mixed types. Specify dtype option on import or set low_memory=False.\n",
            "  for chunk in pd.read_csv(\"/content/drive/MyDrive/Azubi_TMP/TransBorder_Analysis_Project/Dataset/Full_Dataset.csv\", chunksize=chunksize):\n",
            "/tmp/ipython-input-2-1468734196.py:4: DtypeWarning: Columns (2) have mixed types. Specify dtype option on import or set low_memory=False.\n",
            "  for chunk in pd.read_csv(\"/content/drive/MyDrive/Azubi_TMP/TransBorder_Analysis_Project/Dataset/Full_Dataset.csv\", chunksize=chunksize):\n",
            "/tmp/ipython-input-2-1468734196.py:4: DtypeWarning: Columns (2) have mixed types. Specify dtype option on import or set low_memory=False.\n",
            "  for chunk in pd.read_csv(\"/content/drive/MyDrive/Azubi_TMP/TransBorder_Analysis_Project/Dataset/Full_Dataset.csv\", chunksize=chunksize):\n",
            "/tmp/ipython-input-2-1468734196.py:4: DtypeWarning: Columns (1,4,5) have mixed types. Specify dtype option on import or set low_memory=False.\n",
            "  for chunk in pd.read_csv(\"/content/drive/MyDrive/Azubi_TMP/TransBorder_Analysis_Project/Dataset/Full_Dataset.csv\", chunksize=chunksize):\n",
            "/tmp/ipython-input-2-1468734196.py:4: DtypeWarning: Columns (1,4,5) have mixed types. Specify dtype option on import or set low_memory=False.\n",
            "  for chunk in pd.read_csv(\"/content/drive/MyDrive/Azubi_TMP/TransBorder_Analysis_Project/Dataset/Full_Dataset.csv\", chunksize=chunksize):\n",
            "/tmp/ipython-input-2-1468734196.py:4: DtypeWarning: Columns (2) have mixed types. Specify dtype option on import or set low_memory=False.\n",
            "  for chunk in pd.read_csv(\"/content/drive/MyDrive/Azubi_TMP/TransBorder_Analysis_Project/Dataset/Full_Dataset.csv\", chunksize=chunksize):\n",
            "/tmp/ipython-input-2-1468734196.py:4: DtypeWarning: Columns (2) have mixed types. Specify dtype option on import or set low_memory=False.\n",
            "  for chunk in pd.read_csv(\"/content/drive/MyDrive/Azubi_TMP/TransBorder_Analysis_Project/Dataset/Full_Dataset.csv\", chunksize=chunksize):\n",
            "/tmp/ipython-input-2-1468734196.py:4: DtypeWarning: Columns (2) have mixed types. Specify dtype option on import or set low_memory=False.\n",
            "  for chunk in pd.read_csv(\"/content/drive/MyDrive/Azubi_TMP/TransBorder_Analysis_Project/Dataset/Full_Dataset.csv\", chunksize=chunksize):\n",
            "/tmp/ipython-input-2-1468734196.py:4: DtypeWarning: Columns (1,5) have mixed types. Specify dtype option on import or set low_memory=False.\n",
            "  for chunk in pd.read_csv(\"/content/drive/MyDrive/Azubi_TMP/TransBorder_Analysis_Project/Dataset/Full_Dataset.csv\", chunksize=chunksize):\n",
            "/tmp/ipython-input-2-1468734196.py:4: DtypeWarning: Columns (2) have mixed types. Specify dtype option on import or set low_memory=False.\n",
            "  for chunk in pd.read_csv(\"/content/drive/MyDrive/Azubi_TMP/TransBorder_Analysis_Project/Dataset/Full_Dataset.csv\", chunksize=chunksize):\n",
            "/tmp/ipython-input-2-1468734196.py:4: DtypeWarning: Columns (2) have mixed types. Specify dtype option on import or set low_memory=False.\n",
            "  for chunk in pd.read_csv(\"/content/drive/MyDrive/Azubi_TMP/TransBorder_Analysis_Project/Dataset/Full_Dataset.csv\", chunksize=chunksize):\n",
            "/tmp/ipython-input-2-1468734196.py:4: DtypeWarning: Columns (1,4,5) have mixed types. Specify dtype option on import or set low_memory=False.\n",
            "  for chunk in pd.read_csv(\"/content/drive/MyDrive/Azubi_TMP/TransBorder_Analysis_Project/Dataset/Full_Dataset.csv\", chunksize=chunksize):\n",
            "/tmp/ipython-input-2-1468734196.py:4: DtypeWarning: Columns (1,4,5) have mixed types. Specify dtype option on import or set low_memory=False.\n",
            "  for chunk in pd.read_csv(\"/content/drive/MyDrive/Azubi_TMP/TransBorder_Analysis_Project/Dataset/Full_Dataset.csv\", chunksize=chunksize):\n",
            "/tmp/ipython-input-2-1468734196.py:4: DtypeWarning: Columns (1,4,5) have mixed types. Specify dtype option on import or set low_memory=False.\n",
            "  for chunk in pd.read_csv(\"/content/drive/MyDrive/Azubi_TMP/TransBorder_Analysis_Project/Dataset/Full_Dataset.csv\", chunksize=chunksize):\n",
            "/tmp/ipython-input-2-1468734196.py:4: DtypeWarning: Columns (2) have mixed types. Specify dtype option on import or set low_memory=False.\n",
            "  for chunk in pd.read_csv(\"/content/drive/MyDrive/Azubi_TMP/TransBorder_Analysis_Project/Dataset/Full_Dataset.csv\", chunksize=chunksize):\n",
            "/tmp/ipython-input-2-1468734196.py:4: DtypeWarning: Columns (1,4,5) have mixed types. Specify dtype option on import or set low_memory=False.\n",
            "  for chunk in pd.read_csv(\"/content/drive/MyDrive/Azubi_TMP/TransBorder_Analysis_Project/Dataset/Full_Dataset.csv\", chunksize=chunksize):\n",
            "/tmp/ipython-input-2-1468734196.py:4: DtypeWarning: Columns (2) have mixed types. Specify dtype option on import or set low_memory=False.\n",
            "  for chunk in pd.read_csv(\"/content/drive/MyDrive/Azubi_TMP/TransBorder_Analysis_Project/Dataset/Full_Dataset.csv\", chunksize=chunksize):\n",
            "/tmp/ipython-input-2-1468734196.py:4: DtypeWarning: Columns (1,5) have mixed types. Specify dtype option on import or set low_memory=False.\n",
            "  for chunk in pd.read_csv(\"/content/drive/MyDrive/Azubi_TMP/TransBorder_Analysis_Project/Dataset/Full_Dataset.csv\", chunksize=chunksize):\n",
            "/tmp/ipython-input-2-1468734196.py:4: DtypeWarning: Columns (2) have mixed types. Specify dtype option on import or set low_memory=False.\n",
            "  for chunk in pd.read_csv(\"/content/drive/MyDrive/Azubi_TMP/TransBorder_Analysis_Project/Dataset/Full_Dataset.csv\", chunksize=chunksize):\n",
            "/tmp/ipython-input-2-1468734196.py:4: DtypeWarning: Columns (2) have mixed types. Specify dtype option on import or set low_memory=False.\n",
            "  for chunk in pd.read_csv(\"/content/drive/MyDrive/Azubi_TMP/TransBorder_Analysis_Project/Dataset/Full_Dataset.csv\", chunksize=chunksize):\n",
            "/tmp/ipython-input-2-1468734196.py:4: DtypeWarning: Columns (2) have mixed types. Specify dtype option on import or set low_memory=False.\n",
            "  for chunk in pd.read_csv(\"/content/drive/MyDrive/Azubi_TMP/TransBorder_Analysis_Project/Dataset/Full_Dataset.csv\", chunksize=chunksize):\n",
            "/tmp/ipython-input-2-1468734196.py:4: DtypeWarning: Columns (2) have mixed types. Specify dtype option on import or set low_memory=False.\n",
            "  for chunk in pd.read_csv(\"/content/drive/MyDrive/Azubi_TMP/TransBorder_Analysis_Project/Dataset/Full_Dataset.csv\", chunksize=chunksize):\n",
            "/tmp/ipython-input-2-1468734196.py:4: DtypeWarning: Columns (2) have mixed types. Specify dtype option on import or set low_memory=False.\n",
            "  for chunk in pd.read_csv(\"/content/drive/MyDrive/Azubi_TMP/TransBorder_Analysis_Project/Dataset/Full_Dataset.csv\", chunksize=chunksize):\n",
            "/tmp/ipython-input-2-1468734196.py:4: DtypeWarning: Columns (2,4) have mixed types. Specify dtype option on import or set low_memory=False.\n",
            "  for chunk in pd.read_csv(\"/content/drive/MyDrive/Azubi_TMP/TransBorder_Analysis_Project/Dataset/Full_Dataset.csv\", chunksize=chunksize):\n",
            "/tmp/ipython-input-2-1468734196.py:4: DtypeWarning: Columns (2,4) have mixed types. Specify dtype option on import or set low_memory=False.\n",
            "  for chunk in pd.read_csv(\"/content/drive/MyDrive/Azubi_TMP/TransBorder_Analysis_Project/Dataset/Full_Dataset.csv\", chunksize=chunksize):\n",
            "/tmp/ipython-input-2-1468734196.py:4: DtypeWarning: Columns (2) have mixed types. Specify dtype option on import or set low_memory=False.\n",
            "  for chunk in pd.read_csv(\"/content/drive/MyDrive/Azubi_TMP/TransBorder_Analysis_Project/Dataset/Full_Dataset.csv\", chunksize=chunksize):\n",
            "/tmp/ipython-input-2-1468734196.py:4: DtypeWarning: Columns (2) have mixed types. Specify dtype option on import or set low_memory=False.\n",
            "  for chunk in pd.read_csv(\"/content/drive/MyDrive/Azubi_TMP/TransBorder_Analysis_Project/Dataset/Full_Dataset.csv\", chunksize=chunksize):\n",
            "/tmp/ipython-input-2-1468734196.py:4: DtypeWarning: Columns (4) have mixed types. Specify dtype option on import or set low_memory=False.\n",
            "  for chunk in pd.read_csv(\"/content/drive/MyDrive/Azubi_TMP/TransBorder_Analysis_Project/Dataset/Full_Dataset.csv\", chunksize=chunksize):\n",
            "/tmp/ipython-input-2-1468734196.py:4: DtypeWarning: Columns (2) have mixed types. Specify dtype option on import or set low_memory=False.\n",
            "  for chunk in pd.read_csv(\"/content/drive/MyDrive/Azubi_TMP/TransBorder_Analysis_Project/Dataset/Full_Dataset.csv\", chunksize=chunksize):\n",
            "/tmp/ipython-input-2-1468734196.py:4: DtypeWarning: Columns (2) have mixed types. Specify dtype option on import or set low_memory=False.\n",
            "  for chunk in pd.read_csv(\"/content/drive/MyDrive/Azubi_TMP/TransBorder_Analysis_Project/Dataset/Full_Dataset.csv\", chunksize=chunksize):\n",
            "/tmp/ipython-input-2-1468734196.py:4: DtypeWarning: Columns (1,4,5) have mixed types. Specify dtype option on import or set low_memory=False.\n",
            "  for chunk in pd.read_csv(\"/content/drive/MyDrive/Azubi_TMP/TransBorder_Analysis_Project/Dataset/Full_Dataset.csv\", chunksize=chunksize):\n",
            "/tmp/ipython-input-2-1468734196.py:4: DtypeWarning: Columns (2) have mixed types. Specify dtype option on import or set low_memory=False.\n",
            "  for chunk in pd.read_csv(\"/content/drive/MyDrive/Azubi_TMP/TransBorder_Analysis_Project/Dataset/Full_Dataset.csv\", chunksize=chunksize):\n",
            "/tmp/ipython-input-2-1468734196.py:4: DtypeWarning: Columns (2) have mixed types. Specify dtype option on import or set low_memory=False.\n",
            "  for chunk in pd.read_csv(\"/content/drive/MyDrive/Azubi_TMP/TransBorder_Analysis_Project/Dataset/Full_Dataset.csv\", chunksize=chunksize):\n",
            "/tmp/ipython-input-2-1468734196.py:4: DtypeWarning: Columns (2,4) have mixed types. Specify dtype option on import or set low_memory=False.\n",
            "  for chunk in pd.read_csv(\"/content/drive/MyDrive/Azubi_TMP/TransBorder_Analysis_Project/Dataset/Full_Dataset.csv\", chunksize=chunksize):\n",
            "/tmp/ipython-input-2-1468734196.py:4: DtypeWarning: Columns (1,4,5) have mixed types. Specify dtype option on import or set low_memory=False.\n",
            "  for chunk in pd.read_csv(\"/content/drive/MyDrive/Azubi_TMP/TransBorder_Analysis_Project/Dataset/Full_Dataset.csv\", chunksize=chunksize):\n",
            "/tmp/ipython-input-2-1468734196.py:4: DtypeWarning: Columns (2) have mixed types. Specify dtype option on import or set low_memory=False.\n",
            "  for chunk in pd.read_csv(\"/content/drive/MyDrive/Azubi_TMP/TransBorder_Analysis_Project/Dataset/Full_Dataset.csv\", chunksize=chunksize):\n",
            "/tmp/ipython-input-2-1468734196.py:4: DtypeWarning: Columns (1,4,5) have mixed types. Specify dtype option on import or set low_memory=False.\n",
            "  for chunk in pd.read_csv(\"/content/drive/MyDrive/Azubi_TMP/TransBorder_Analysis_Project/Dataset/Full_Dataset.csv\", chunksize=chunksize):\n",
            "/tmp/ipython-input-2-1468734196.py:4: DtypeWarning: Columns (1,4,5) have mixed types. Specify dtype option on import or set low_memory=False.\n",
            "  for chunk in pd.read_csv(\"/content/drive/MyDrive/Azubi_TMP/TransBorder_Analysis_Project/Dataset/Full_Dataset.csv\", chunksize=chunksize):\n",
            "/tmp/ipython-input-2-1468734196.py:4: DtypeWarning: Columns (2) have mixed types. Specify dtype option on import or set low_memory=False.\n",
            "  for chunk in pd.read_csv(\"/content/drive/MyDrive/Azubi_TMP/TransBorder_Analysis_Project/Dataset/Full_Dataset.csv\", chunksize=chunksize):\n",
            "/tmp/ipython-input-2-1468734196.py:4: DtypeWarning: Columns (1,4,5) have mixed types. Specify dtype option on import or set low_memory=False.\n",
            "  for chunk in pd.read_csv(\"/content/drive/MyDrive/Azubi_TMP/TransBorder_Analysis_Project/Dataset/Full_Dataset.csv\", chunksize=chunksize):\n",
            "/tmp/ipython-input-2-1468734196.py:4: DtypeWarning: Columns (1,4,5) have mixed types. Specify dtype option on import or set low_memory=False.\n",
            "  for chunk in pd.read_csv(\"/content/drive/MyDrive/Azubi_TMP/TransBorder_Analysis_Project/Dataset/Full_Dataset.csv\", chunksize=chunksize):\n",
            "/tmp/ipython-input-2-1468734196.py:4: DtypeWarning: Columns (2) have mixed types. Specify dtype option on import or set low_memory=False.\n",
            "  for chunk in pd.read_csv(\"/content/drive/MyDrive/Azubi_TMP/TransBorder_Analysis_Project/Dataset/Full_Dataset.csv\", chunksize=chunksize):\n",
            "/tmp/ipython-input-2-1468734196.py:4: DtypeWarning: Columns (2) have mixed types. Specify dtype option on import or set low_memory=False.\n",
            "  for chunk in pd.read_csv(\"/content/drive/MyDrive/Azubi_TMP/TransBorder_Analysis_Project/Dataset/Full_Dataset.csv\", chunksize=chunksize):\n",
            "/tmp/ipython-input-2-1468734196.py:4: DtypeWarning: Columns (2) have mixed types. Specify dtype option on import or set low_memory=False.\n",
            "  for chunk in pd.read_csv(\"/content/drive/MyDrive/Azubi_TMP/TransBorder_Analysis_Project/Dataset/Full_Dataset.csv\", chunksize=chunksize):\n",
            "/tmp/ipython-input-2-1468734196.py:4: DtypeWarning: Columns (2) have mixed types. Specify dtype option on import or set low_memory=False.\n",
            "  for chunk in pd.read_csv(\"/content/drive/MyDrive/Azubi_TMP/TransBorder_Analysis_Project/Dataset/Full_Dataset.csv\", chunksize=chunksize):\n",
            "/tmp/ipython-input-2-1468734196.py:4: DtypeWarning: Columns (2) have mixed types. Specify dtype option on import or set low_memory=False.\n",
            "  for chunk in pd.read_csv(\"/content/drive/MyDrive/Azubi_TMP/TransBorder_Analysis_Project/Dataset/Full_Dataset.csv\", chunksize=chunksize):\n",
            "/tmp/ipython-input-2-1468734196.py:4: DtypeWarning: Columns (2) have mixed types. Specify dtype option on import or set low_memory=False.\n",
            "  for chunk in pd.read_csv(\"/content/drive/MyDrive/Azubi_TMP/TransBorder_Analysis_Project/Dataset/Full_Dataset.csv\", chunksize=chunksize):\n",
            "/tmp/ipython-input-2-1468734196.py:4: DtypeWarning: Columns (2) have mixed types. Specify dtype option on import or set low_memory=False.\n",
            "  for chunk in pd.read_csv(\"/content/drive/MyDrive/Azubi_TMP/TransBorder_Analysis_Project/Dataset/Full_Dataset.csv\", chunksize=chunksize):\n",
            "/tmp/ipython-input-2-1468734196.py:4: DtypeWarning: Columns (2) have mixed types. Specify dtype option on import or set low_memory=False.\n",
            "  for chunk in pd.read_csv(\"/content/drive/MyDrive/Azubi_TMP/TransBorder_Analysis_Project/Dataset/Full_Dataset.csv\", chunksize=chunksize):\n",
            "/tmp/ipython-input-2-1468734196.py:4: DtypeWarning: Columns (4) have mixed types. Specify dtype option on import or set low_memory=False.\n",
            "  for chunk in pd.read_csv(\"/content/drive/MyDrive/Azubi_TMP/TransBorder_Analysis_Project/Dataset/Full_Dataset.csv\", chunksize=chunksize):\n"
          ]
        },
        {
          "output_type": "stream",
          "name": "stdout",
          "text": [
            "File loaded successfully with shape: (28355597, 15)\n"
          ]
        }
      ]
    },
    {
      "cell_type": "markdown",
      "source": [
        "### **Dataset Initial View**"
      ],
      "metadata": {
        "id": "D8rgP2904q3J"
      }
    },
    {
      "cell_type": "code",
      "source": [
        "df.head()"
      ],
      "metadata": {
        "colab": {
          "base_uri": "https://localhost:8080/",
          "height": 206
        },
        "id": "q2wbzho45fmZ",
        "outputId": "87bd4e93-8b0f-4617-a436-ec469f307c9c"
      },
      "execution_count": 3,
      "outputs": [
        {
          "output_type": "execute_result",
          "data": {
            "text/plain": [
              "   TRDTYPE USASTATE  DEPE  DISAGMOT MEXSTATE CANPROV  COUNTRY   VALUE  SHIPWT  \\\n",
              "0        1       AK  07XX         3      NaN      XA     1220    3302     378   \n",
              "1        1       AK  20XX         3      NaN      XA     1220  133362     137   \n",
              "2        1       AK  20XX         3      NaN      XA     1220   49960      66   \n",
              "3        1       AK  20XX         3      NaN      XC     1220   21184    3418   \n",
              "4        1       AK  20XX         3      NaN      XM     1220    4253       2   \n",
              "\n",
              "   FREIGHT_CHARGES   DF CONTCODE  MONTH    YEAR  COMMODITY2  \n",
              "0              125  1.0        X    1.0  2020.0         NaN  \n",
              "1             1563  1.0        X    1.0  2020.0         NaN  \n",
              "2             2631  2.0        X    1.0  2020.0         NaN  \n",
              "3              795  1.0        X    1.0  2020.0         NaN  \n",
              "4               75  1.0        X    1.0  2020.0         NaN  "
            ],
            "text/html": [
              "\n",
              "  <div id=\"df-3663b42f-6490-4af4-8544-eb7d75c9c01d\" class=\"colab-df-container\">\n",
              "    <div>\n",
              "<style scoped>\n",
              "    .dataframe tbody tr th:only-of-type {\n",
              "        vertical-align: middle;\n",
              "    }\n",
              "\n",
              "    .dataframe tbody tr th {\n",
              "        vertical-align: top;\n",
              "    }\n",
              "\n",
              "    .dataframe thead th {\n",
              "        text-align: right;\n",
              "    }\n",
              "</style>\n",
              "<table border=\"1\" class=\"dataframe\">\n",
              "  <thead>\n",
              "    <tr style=\"text-align: right;\">\n",
              "      <th></th>\n",
              "      <th>TRDTYPE</th>\n",
              "      <th>USASTATE</th>\n",
              "      <th>DEPE</th>\n",
              "      <th>DISAGMOT</th>\n",
              "      <th>MEXSTATE</th>\n",
              "      <th>CANPROV</th>\n",
              "      <th>COUNTRY</th>\n",
              "      <th>VALUE</th>\n",
              "      <th>SHIPWT</th>\n",
              "      <th>FREIGHT_CHARGES</th>\n",
              "      <th>DF</th>\n",
              "      <th>CONTCODE</th>\n",
              "      <th>MONTH</th>\n",
              "      <th>YEAR</th>\n",
              "      <th>COMMODITY2</th>\n",
              "    </tr>\n",
              "  </thead>\n",
              "  <tbody>\n",
              "    <tr>\n",
              "      <th>0</th>\n",
              "      <td>1</td>\n",
              "      <td>AK</td>\n",
              "      <td>07XX</td>\n",
              "      <td>3</td>\n",
              "      <td>NaN</td>\n",
              "      <td>XA</td>\n",
              "      <td>1220</td>\n",
              "      <td>3302</td>\n",
              "      <td>378</td>\n",
              "      <td>125</td>\n",
              "      <td>1.0</td>\n",
              "      <td>X</td>\n",
              "      <td>1.0</td>\n",
              "      <td>2020.0</td>\n",
              "      <td>NaN</td>\n",
              "    </tr>\n",
              "    <tr>\n",
              "      <th>1</th>\n",
              "      <td>1</td>\n",
              "      <td>AK</td>\n",
              "      <td>20XX</td>\n",
              "      <td>3</td>\n",
              "      <td>NaN</td>\n",
              "      <td>XA</td>\n",
              "      <td>1220</td>\n",
              "      <td>133362</td>\n",
              "      <td>137</td>\n",
              "      <td>1563</td>\n",
              "      <td>1.0</td>\n",
              "      <td>X</td>\n",
              "      <td>1.0</td>\n",
              "      <td>2020.0</td>\n",
              "      <td>NaN</td>\n",
              "    </tr>\n",
              "    <tr>\n",
              "      <th>2</th>\n",
              "      <td>1</td>\n",
              "      <td>AK</td>\n",
              "      <td>20XX</td>\n",
              "      <td>3</td>\n",
              "      <td>NaN</td>\n",
              "      <td>XA</td>\n",
              "      <td>1220</td>\n",
              "      <td>49960</td>\n",
              "      <td>66</td>\n",
              "      <td>2631</td>\n",
              "      <td>2.0</td>\n",
              "      <td>X</td>\n",
              "      <td>1.0</td>\n",
              "      <td>2020.0</td>\n",
              "      <td>NaN</td>\n",
              "    </tr>\n",
              "    <tr>\n",
              "      <th>3</th>\n",
              "      <td>1</td>\n",
              "      <td>AK</td>\n",
              "      <td>20XX</td>\n",
              "      <td>3</td>\n",
              "      <td>NaN</td>\n",
              "      <td>XC</td>\n",
              "      <td>1220</td>\n",
              "      <td>21184</td>\n",
              "      <td>3418</td>\n",
              "      <td>795</td>\n",
              "      <td>1.0</td>\n",
              "      <td>X</td>\n",
              "      <td>1.0</td>\n",
              "      <td>2020.0</td>\n",
              "      <td>NaN</td>\n",
              "    </tr>\n",
              "    <tr>\n",
              "      <th>4</th>\n",
              "      <td>1</td>\n",
              "      <td>AK</td>\n",
              "      <td>20XX</td>\n",
              "      <td>3</td>\n",
              "      <td>NaN</td>\n",
              "      <td>XM</td>\n",
              "      <td>1220</td>\n",
              "      <td>4253</td>\n",
              "      <td>2</td>\n",
              "      <td>75</td>\n",
              "      <td>1.0</td>\n",
              "      <td>X</td>\n",
              "      <td>1.0</td>\n",
              "      <td>2020.0</td>\n",
              "      <td>NaN</td>\n",
              "    </tr>\n",
              "  </tbody>\n",
              "</table>\n",
              "</div>\n",
              "    <div class=\"colab-df-buttons\">\n",
              "\n",
              "  <div class=\"colab-df-container\">\n",
              "    <button class=\"colab-df-convert\" onclick=\"convertToInteractive('df-3663b42f-6490-4af4-8544-eb7d75c9c01d')\"\n",
              "            title=\"Convert this dataframe to an interactive table.\"\n",
              "            style=\"display:none;\">\n",
              "\n",
              "  <svg xmlns=\"http://www.w3.org/2000/svg\" height=\"24px\" viewBox=\"0 -960 960 960\">\n",
              "    <path d=\"M120-120v-720h720v720H120Zm60-500h600v-160H180v160Zm220 220h160v-160H400v160Zm0 220h160v-160H400v160ZM180-400h160v-160H180v160Zm440 0h160v-160H620v160ZM180-180h160v-160H180v160Zm440 0h160v-160H620v160Z\"/>\n",
              "  </svg>\n",
              "    </button>\n",
              "\n",
              "  <style>\n",
              "    .colab-df-container {\n",
              "      display:flex;\n",
              "      gap: 12px;\n",
              "    }\n",
              "\n",
              "    .colab-df-convert {\n",
              "      background-color: #E8F0FE;\n",
              "      border: none;\n",
              "      border-radius: 50%;\n",
              "      cursor: pointer;\n",
              "      display: none;\n",
              "      fill: #1967D2;\n",
              "      height: 32px;\n",
              "      padding: 0 0 0 0;\n",
              "      width: 32px;\n",
              "    }\n",
              "\n",
              "    .colab-df-convert:hover {\n",
              "      background-color: #E2EBFA;\n",
              "      box-shadow: 0px 1px 2px rgba(60, 64, 67, 0.3), 0px 1px 3px 1px rgba(60, 64, 67, 0.15);\n",
              "      fill: #174EA6;\n",
              "    }\n",
              "\n",
              "    .colab-df-buttons div {\n",
              "      margin-bottom: 4px;\n",
              "    }\n",
              "\n",
              "    [theme=dark] .colab-df-convert {\n",
              "      background-color: #3B4455;\n",
              "      fill: #D2E3FC;\n",
              "    }\n",
              "\n",
              "    [theme=dark] .colab-df-convert:hover {\n",
              "      background-color: #434B5C;\n",
              "      box-shadow: 0px 1px 3px 1px rgba(0, 0, 0, 0.15);\n",
              "      filter: drop-shadow(0px 1px 2px rgba(0, 0, 0, 0.3));\n",
              "      fill: #FFFFFF;\n",
              "    }\n",
              "  </style>\n",
              "\n",
              "    <script>\n",
              "      const buttonEl =\n",
              "        document.querySelector('#df-3663b42f-6490-4af4-8544-eb7d75c9c01d button.colab-df-convert');\n",
              "      buttonEl.style.display =\n",
              "        google.colab.kernel.accessAllowed ? 'block' : 'none';\n",
              "\n",
              "      async function convertToInteractive(key) {\n",
              "        const element = document.querySelector('#df-3663b42f-6490-4af4-8544-eb7d75c9c01d');\n",
              "        const dataTable =\n",
              "          await google.colab.kernel.invokeFunction('convertToInteractive',\n",
              "                                                    [key], {});\n",
              "        if (!dataTable) return;\n",
              "\n",
              "        const docLinkHtml = 'Like what you see? Visit the ' +\n",
              "          '<a target=\"_blank\" href=https://colab.research.google.com/notebooks/data_table.ipynb>data table notebook</a>'\n",
              "          + ' to learn more about interactive tables.';\n",
              "        element.innerHTML = '';\n",
              "        dataTable['output_type'] = 'display_data';\n",
              "        await google.colab.output.renderOutput(dataTable, element);\n",
              "        const docLink = document.createElement('div');\n",
              "        docLink.innerHTML = docLinkHtml;\n",
              "        element.appendChild(docLink);\n",
              "      }\n",
              "    </script>\n",
              "  </div>\n",
              "\n",
              "\n",
              "    <div id=\"df-74d85e14-5677-4042-9be1-6b18d2404bfe\">\n",
              "      <button class=\"colab-df-quickchart\" onclick=\"quickchart('df-74d85e14-5677-4042-9be1-6b18d2404bfe')\"\n",
              "                title=\"Suggest charts\"\n",
              "                style=\"display:none;\">\n",
              "\n",
              "<svg xmlns=\"http://www.w3.org/2000/svg\" height=\"24px\"viewBox=\"0 0 24 24\"\n",
              "     width=\"24px\">\n",
              "    <g>\n",
              "        <path d=\"M19 3H5c-1.1 0-2 .9-2 2v14c0 1.1.9 2 2 2h14c1.1 0 2-.9 2-2V5c0-1.1-.9-2-2-2zM9 17H7v-7h2v7zm4 0h-2V7h2v10zm4 0h-2v-4h2v4z\"/>\n",
              "    </g>\n",
              "</svg>\n",
              "      </button>\n",
              "\n",
              "<style>\n",
              "  .colab-df-quickchart {\n",
              "      --bg-color: #E8F0FE;\n",
              "      --fill-color: #1967D2;\n",
              "      --hover-bg-color: #E2EBFA;\n",
              "      --hover-fill-color: #174EA6;\n",
              "      --disabled-fill-color: #AAA;\n",
              "      --disabled-bg-color: #DDD;\n",
              "  }\n",
              "\n",
              "  [theme=dark] .colab-df-quickchart {\n",
              "      --bg-color: #3B4455;\n",
              "      --fill-color: #D2E3FC;\n",
              "      --hover-bg-color: #434B5C;\n",
              "      --hover-fill-color: #FFFFFF;\n",
              "      --disabled-bg-color: #3B4455;\n",
              "      --disabled-fill-color: #666;\n",
              "  }\n",
              "\n",
              "  .colab-df-quickchart {\n",
              "    background-color: var(--bg-color);\n",
              "    border: none;\n",
              "    border-radius: 50%;\n",
              "    cursor: pointer;\n",
              "    display: none;\n",
              "    fill: var(--fill-color);\n",
              "    height: 32px;\n",
              "    padding: 0;\n",
              "    width: 32px;\n",
              "  }\n",
              "\n",
              "  .colab-df-quickchart:hover {\n",
              "    background-color: var(--hover-bg-color);\n",
              "    box-shadow: 0 1px 2px rgba(60, 64, 67, 0.3), 0 1px 3px 1px rgba(60, 64, 67, 0.15);\n",
              "    fill: var(--button-hover-fill-color);\n",
              "  }\n",
              "\n",
              "  .colab-df-quickchart-complete:disabled,\n",
              "  .colab-df-quickchart-complete:disabled:hover {\n",
              "    background-color: var(--disabled-bg-color);\n",
              "    fill: var(--disabled-fill-color);\n",
              "    box-shadow: none;\n",
              "  }\n",
              "\n",
              "  .colab-df-spinner {\n",
              "    border: 2px solid var(--fill-color);\n",
              "    border-color: transparent;\n",
              "    border-bottom-color: var(--fill-color);\n",
              "    animation:\n",
              "      spin 1s steps(1) infinite;\n",
              "  }\n",
              "\n",
              "  @keyframes spin {\n",
              "    0% {\n",
              "      border-color: transparent;\n",
              "      border-bottom-color: var(--fill-color);\n",
              "      border-left-color: var(--fill-color);\n",
              "    }\n",
              "    20% {\n",
              "      border-color: transparent;\n",
              "      border-left-color: var(--fill-color);\n",
              "      border-top-color: var(--fill-color);\n",
              "    }\n",
              "    30% {\n",
              "      border-color: transparent;\n",
              "      border-left-color: var(--fill-color);\n",
              "      border-top-color: var(--fill-color);\n",
              "      border-right-color: var(--fill-color);\n",
              "    }\n",
              "    40% {\n",
              "      border-color: transparent;\n",
              "      border-right-color: var(--fill-color);\n",
              "      border-top-color: var(--fill-color);\n",
              "    }\n",
              "    60% {\n",
              "      border-color: transparent;\n",
              "      border-right-color: var(--fill-color);\n",
              "    }\n",
              "    80% {\n",
              "      border-color: transparent;\n",
              "      border-right-color: var(--fill-color);\n",
              "      border-bottom-color: var(--fill-color);\n",
              "    }\n",
              "    90% {\n",
              "      border-color: transparent;\n",
              "      border-bottom-color: var(--fill-color);\n",
              "    }\n",
              "  }\n",
              "</style>\n",
              "\n",
              "      <script>\n",
              "        async function quickchart(key) {\n",
              "          const quickchartButtonEl =\n",
              "            document.querySelector('#' + key + ' button');\n",
              "          quickchartButtonEl.disabled = true;  // To prevent multiple clicks.\n",
              "          quickchartButtonEl.classList.add('colab-df-spinner');\n",
              "          try {\n",
              "            const charts = await google.colab.kernel.invokeFunction(\n",
              "                'suggestCharts', [key], {});\n",
              "          } catch (error) {\n",
              "            console.error('Error during call to suggestCharts:', error);\n",
              "          }\n",
              "          quickchartButtonEl.classList.remove('colab-df-spinner');\n",
              "          quickchartButtonEl.classList.add('colab-df-quickchart-complete');\n",
              "        }\n",
              "        (() => {\n",
              "          let quickchartButtonEl =\n",
              "            document.querySelector('#df-74d85e14-5677-4042-9be1-6b18d2404bfe button');\n",
              "          quickchartButtonEl.style.display =\n",
              "            google.colab.kernel.accessAllowed ? 'block' : 'none';\n",
              "        })();\n",
              "      </script>\n",
              "    </div>\n",
              "\n",
              "    </div>\n",
              "  </div>\n"
            ],
            "application/vnd.google.colaboratory.intrinsic+json": {
              "type": "dataframe",
              "variable_name": "df"
            }
          },
          "metadata": {},
          "execution_count": 3
        }
      ]
    },
    {
      "cell_type": "code",
      "source": [
        "df.info()"
      ],
      "metadata": {
        "colab": {
          "base_uri": "https://localhost:8080/"
        },
        "id": "v4yH-UWzn_fB",
        "outputId": "f957f677-8d27-43ba-841a-d06cb3c663ca"
      },
      "execution_count": 4,
      "outputs": [
        {
          "output_type": "stream",
          "name": "stdout",
          "text": [
            "<class 'pandas.core.frame.DataFrame'>\n",
            "RangeIndex: 28355597 entries, 0 to 28355596\n",
            "Data columns (total 15 columns):\n",
            " #   Column           Dtype  \n",
            "---  ------           -----  \n",
            " 0   TRDTYPE          int64  \n",
            " 1   USASTATE         object \n",
            " 2   DEPE             object \n",
            " 3   DISAGMOT         int64  \n",
            " 4   MEXSTATE         object \n",
            " 5   CANPROV          object \n",
            " 6   COUNTRY          int64  \n",
            " 7   VALUE            int64  \n",
            " 8   SHIPWT           int64  \n",
            " 9   FREIGHT_CHARGES  int64  \n",
            " 10  DF               float64\n",
            " 11  CONTCODE         object \n",
            " 12  MONTH            float64\n",
            " 13  YEAR             float64\n",
            " 14  COMMODITY2       float64\n",
            "dtypes: float64(4), int64(6), object(5)\n",
            "memory usage: 3.2+ GB\n"
          ]
        }
      ]
    },
    {
      "cell_type": "code",
      "source": [
        "df.isnull().sum()"
      ],
      "metadata": {
        "colab": {
          "base_uri": "https://localhost:8080/",
          "height": 554
        },
        "id": "-oeqDOnyopqT",
        "outputId": "3cf7a66a-d890-46dd-df66-a519cc7b923b"
      },
      "execution_count": 5,
      "outputs": [
        {
          "output_type": "execute_result",
          "data": {
            "text/plain": [
              "TRDTYPE                   0\n",
              "USASTATE                  0\n",
              "DEPE               20854845\n",
              "DISAGMOT                  0\n",
              "MEXSTATE           18476837\n",
              "CANPROV             9878760\n",
              "COUNTRY                   0\n",
              "VALUE                     0\n",
              "SHIPWT                    0\n",
              "FREIGHT_CHARGES           0\n",
              "DF                  7894981\n",
              "CONTCODE                  0\n",
              "MONTH                404893\n",
              "YEAR                      0\n",
              "COMMODITY2          7500752\n",
              "dtype: int64"
            ],
            "text/html": [
              "<div>\n",
              "<style scoped>\n",
              "    .dataframe tbody tr th:only-of-type {\n",
              "        vertical-align: middle;\n",
              "    }\n",
              "\n",
              "    .dataframe tbody tr th {\n",
              "        vertical-align: top;\n",
              "    }\n",
              "\n",
              "    .dataframe thead th {\n",
              "        text-align: right;\n",
              "    }\n",
              "</style>\n",
              "<table border=\"1\" class=\"dataframe\">\n",
              "  <thead>\n",
              "    <tr style=\"text-align: right;\">\n",
              "      <th></th>\n",
              "      <th>0</th>\n",
              "    </tr>\n",
              "  </thead>\n",
              "  <tbody>\n",
              "    <tr>\n",
              "      <th>TRDTYPE</th>\n",
              "      <td>0</td>\n",
              "    </tr>\n",
              "    <tr>\n",
              "      <th>USASTATE</th>\n",
              "      <td>0</td>\n",
              "    </tr>\n",
              "    <tr>\n",
              "      <th>DEPE</th>\n",
              "      <td>20854845</td>\n",
              "    </tr>\n",
              "    <tr>\n",
              "      <th>DISAGMOT</th>\n",
              "      <td>0</td>\n",
              "    </tr>\n",
              "    <tr>\n",
              "      <th>MEXSTATE</th>\n",
              "      <td>18476837</td>\n",
              "    </tr>\n",
              "    <tr>\n",
              "      <th>CANPROV</th>\n",
              "      <td>9878760</td>\n",
              "    </tr>\n",
              "    <tr>\n",
              "      <th>COUNTRY</th>\n",
              "      <td>0</td>\n",
              "    </tr>\n",
              "    <tr>\n",
              "      <th>VALUE</th>\n",
              "      <td>0</td>\n",
              "    </tr>\n",
              "    <tr>\n",
              "      <th>SHIPWT</th>\n",
              "      <td>0</td>\n",
              "    </tr>\n",
              "    <tr>\n",
              "      <th>FREIGHT_CHARGES</th>\n",
              "      <td>0</td>\n",
              "    </tr>\n",
              "    <tr>\n",
              "      <th>DF</th>\n",
              "      <td>7894981</td>\n",
              "    </tr>\n",
              "    <tr>\n",
              "      <th>CONTCODE</th>\n",
              "      <td>0</td>\n",
              "    </tr>\n",
              "    <tr>\n",
              "      <th>MONTH</th>\n",
              "      <td>404893</td>\n",
              "    </tr>\n",
              "    <tr>\n",
              "      <th>YEAR</th>\n",
              "      <td>0</td>\n",
              "    </tr>\n",
              "    <tr>\n",
              "      <th>COMMODITY2</th>\n",
              "      <td>7500752</td>\n",
              "    </tr>\n",
              "  </tbody>\n",
              "</table>\n",
              "</div><br><label><b>dtype:</b> int64</label>"
            ]
          },
          "metadata": {},
          "execution_count": 5
        }
      ]
    },
    {
      "cell_type": "markdown",
      "source": [
        "## **Tackling Missing Values**"
      ],
      "metadata": {
        "id": "NY2PvmZNv2SP"
      }
    },
    {
      "cell_type": "markdown",
      "source": [
        "### **Year**\n",
        "1 missing value. Replace with the previous value"
      ],
      "metadata": {
        "id": "IahsyFOlv-6g"
      }
    },
    {
      "cell_type": "code",
      "source": [
        "df['YEAR'] = df['YEAR'].fillna(method='bfill')"
      ],
      "metadata": {
        "colab": {
          "base_uri": "https://localhost:8080/"
        },
        "id": "mdFSYzuDvhQf",
        "outputId": "7eeba8b3-d52a-47d9-ec58-0813abe3fcde"
      },
      "execution_count": 6,
      "outputs": [
        {
          "output_type": "stream",
          "name": "stderr",
          "text": [
            "/tmp/ipython-input-6-4109573208.py:1: FutureWarning: Series.fillna with 'method' is deprecated and will raise in a future version. Use obj.ffill() or obj.bfill() instead.\n",
            "  df['YEAR'] = df['YEAR'].fillna(method='bfill')\n"
          ]
        }
      ]
    },
    {
      "cell_type": "markdown",
      "source": [
        "### **Month**\n",
        "Group by year and fill with modal month for each year. I the modal month for a particular year cannot be determined, replace with month 1 (January)."
      ],
      "metadata": {
        "id": "ebJvTSHF4ZlD"
      }
    },
    {
      "cell_type": "code",
      "source": [
        "df['MONTH'] = df.groupby('YEAR')['MONTH'].transform(lambda x: x.fillna(x.mode()[0] if not x.mode().empty else 1))"
      ],
      "metadata": {
        "id": "o3rV2pFg43rr"
      },
      "execution_count": 7,
      "outputs": []
    },
    {
      "cell_type": "markdown",
      "source": [
        "### **Commodity2**\n",
        "Group by country and fill with modal commodity code for each country. If modal commodity code is undetermined, fill with a new code category 00, representing Unknown."
      ],
      "metadata": {
        "id": "5hG1GqSO-lix"
      }
    },
    {
      "cell_type": "code",
      "source": [
        "# Precompute the mode per country\n",
        "commodity_mode_map = df.groupby('COUNTRY')['COMMODITY2'].agg(lambda x: x.mode().iloc[0] if not x.mode().empty else 00).to_dict()\n",
        "\n",
        "# Fill missing values using the map\n",
        "df['COMMODITY2'] = df['COMMODITY2'].fillna(df['COUNTRY'].map(commodity_mode_map))"
      ],
      "metadata": {
        "id": "AoC81N8RV7tx"
      },
      "execution_count": 8,
      "outputs": []
    },
    {
      "cell_type": "markdown",
      "source": [
        "### **USASTATE, MEXSTATE & CANPROV**\n",
        "---\n",
        "The USASTATE column should not have any null values, because each record is either an export or import to or from either of MEXSTATE or CANPROV. However, the MEXSTATE and CANPROV columns can have null values. But then again, no row can have both MEXSTATE and CANPROV empty at the same time.\n",
        "\n",
        "**Confirm number of missing values in USASTATE column.**"
      ],
      "metadata": {
        "id": "RCEdP2m0qSGi"
      }
    },
    {
      "cell_type": "code",
      "source": [
        "missing_usa = df[df['USASTATE'].isnull()]\n",
        "print(\"Missing USASTATE rows:\", len(missing_usa))"
      ],
      "metadata": {
        "colab": {
          "base_uri": "https://localhost:8080/"
        },
        "id": "pLoO9YgypMzw",
        "outputId": "ee759921-6f0e-428f-be67-a7c301fe9db6"
      },
      "execution_count": 9,
      "outputs": [
        {
          "output_type": "stream",
          "name": "stdout",
          "text": [
            "Missing USASTATE rows: 0\n"
          ]
        }
      ]
    },
    {
      "cell_type": "markdown",
      "source": [
        "**Check number of rows where both MEXSTATE and CANPROV fields are null.**"
      ],
      "metadata": {
        "id": "40AKU-xHsLM4"
      }
    },
    {
      "cell_type": "code",
      "source": [
        "both_missing = df[df['MEXSTATE'].isnull() & df['CANPROV'].isnull()]\n",
        "print(\"Rows where both MEXSTATE and CANPROV are null:\", len(both_missing))"
      ],
      "metadata": {
        "colab": {
          "base_uri": "https://localhost:8080/"
        },
        "id": "YLDOTz4VpTap",
        "outputId": "4d26e47e-0dcc-4987-df2f-f0d13eaa22b5"
      },
      "execution_count": 10,
      "outputs": [
        {
          "output_type": "stream",
          "name": "stdout",
          "text": [
            "Rows where both MEXSTATE and CANPROV are null: 0\n"
          ]
        }
      ]
    },
    {
      "cell_type": "markdown",
      "source": [
        "**Now check if there are rows where both MEXSTATE and CANPROV have values. This should not exist.**"
      ],
      "metadata": {
        "id": "aYyXyoT6sVJv"
      }
    },
    {
      "cell_type": "code",
      "source": [
        "both_filled = df[df['MEXSTATE'].notnull() & df['CANPROV'].notnull()]\n",
        "print(\"Rows where both MEXSTATE and CANPROV are filled:\", len(both_filled))"
      ],
      "metadata": {
        "colab": {
          "base_uri": "https://localhost:8080/"
        },
        "id": "sEVw-84Sppbx",
        "outputId": "b6d57b3c-da62-4d44-f6d3-452cf3476908"
      },
      "execution_count": 11,
      "outputs": [
        {
          "output_type": "stream",
          "name": "stdout",
          "text": [
            "Rows where both MEXSTATE and CANPROV are filled: 0\n"
          ]
        }
      ]
    },
    {
      "cell_type": "markdown",
      "source": [
        "**Fill in empty values in USASTATE column with modal USASTATE per District/Port  (DEPE)**"
      ],
      "metadata": {
        "id": "fLNw_kNZ-qPo"
      }
    },
    {
      "cell_type": "code",
      "source": [
        "# Get most common USASTATE per DEPE\n",
        "usastate_map = df.groupby('DEPE')['USASTATE'].agg(lambda x: x.mode().iloc[0] if not x.mode().empty else None).to_dict()\n",
        "\n",
        "# Fill missing values using the map\n",
        "df['USASTATE'] = df['USASTATE'].fillna(df['DEPE'].map(usastate_map))"
      ],
      "metadata": {
        "id": "R7pA-yaDs8wv"
      },
      "execution_count": 12,
      "outputs": []
    },
    {
      "cell_type": "code",
      "source": [
        "df.isnull().sum()"
      ],
      "metadata": {
        "colab": {
          "base_uri": "https://localhost:8080/",
          "height": 554
        },
        "id": "IY_3W5xzvf4v",
        "outputId": "5c6dfa81-186a-4a06-be4b-e4ad1ee226e5"
      },
      "execution_count": 13,
      "outputs": [
        {
          "output_type": "execute_result",
          "data": {
            "text/plain": [
              "TRDTYPE                   0\n",
              "USASTATE                  0\n",
              "DEPE               20854845\n",
              "DISAGMOT                  0\n",
              "MEXSTATE           18476837\n",
              "CANPROV             9878760\n",
              "COUNTRY                   0\n",
              "VALUE                     0\n",
              "SHIPWT                    0\n",
              "FREIGHT_CHARGES           0\n",
              "DF                  7894981\n",
              "CONTCODE                  0\n",
              "MONTH                     0\n",
              "YEAR                      0\n",
              "COMMODITY2                0\n",
              "dtype: int64"
            ],
            "text/html": [
              "<div>\n",
              "<style scoped>\n",
              "    .dataframe tbody tr th:only-of-type {\n",
              "        vertical-align: middle;\n",
              "    }\n",
              "\n",
              "    .dataframe tbody tr th {\n",
              "        vertical-align: top;\n",
              "    }\n",
              "\n",
              "    .dataframe thead th {\n",
              "        text-align: right;\n",
              "    }\n",
              "</style>\n",
              "<table border=\"1\" class=\"dataframe\">\n",
              "  <thead>\n",
              "    <tr style=\"text-align: right;\">\n",
              "      <th></th>\n",
              "      <th>0</th>\n",
              "    </tr>\n",
              "  </thead>\n",
              "  <tbody>\n",
              "    <tr>\n",
              "      <th>TRDTYPE</th>\n",
              "      <td>0</td>\n",
              "    </tr>\n",
              "    <tr>\n",
              "      <th>USASTATE</th>\n",
              "      <td>0</td>\n",
              "    </tr>\n",
              "    <tr>\n",
              "      <th>DEPE</th>\n",
              "      <td>20854845</td>\n",
              "    </tr>\n",
              "    <tr>\n",
              "      <th>DISAGMOT</th>\n",
              "      <td>0</td>\n",
              "    </tr>\n",
              "    <tr>\n",
              "      <th>MEXSTATE</th>\n",
              "      <td>18476837</td>\n",
              "    </tr>\n",
              "    <tr>\n",
              "      <th>CANPROV</th>\n",
              "      <td>9878760</td>\n",
              "    </tr>\n",
              "    <tr>\n",
              "      <th>COUNTRY</th>\n",
              "      <td>0</td>\n",
              "    </tr>\n",
              "    <tr>\n",
              "      <th>VALUE</th>\n",
              "      <td>0</td>\n",
              "    </tr>\n",
              "    <tr>\n",
              "      <th>SHIPWT</th>\n",
              "      <td>0</td>\n",
              "    </tr>\n",
              "    <tr>\n",
              "      <th>FREIGHT_CHARGES</th>\n",
              "      <td>0</td>\n",
              "    </tr>\n",
              "    <tr>\n",
              "      <th>DF</th>\n",
              "      <td>7894981</td>\n",
              "    </tr>\n",
              "    <tr>\n",
              "      <th>CONTCODE</th>\n",
              "      <td>0</td>\n",
              "    </tr>\n",
              "    <tr>\n",
              "      <th>MONTH</th>\n",
              "      <td>0</td>\n",
              "    </tr>\n",
              "    <tr>\n",
              "      <th>YEAR</th>\n",
              "      <td>0</td>\n",
              "    </tr>\n",
              "    <tr>\n",
              "      <th>COMMODITY2</th>\n",
              "      <td>0</td>\n",
              "    </tr>\n",
              "  </tbody>\n",
              "</table>\n",
              "</div><br><label><b>dtype:</b> int64</label>"
            ]
          },
          "metadata": {},
          "execution_count": 13
        }
      ]
    },
    {
      "cell_type": "markdown",
      "source": [
        "**Save rows where both MEXSTATE and CANPROV are null as a CSV (backup), and then drop them from the dataset**"
      ],
      "metadata": {
        "id": "IKvKV1u03Xhc"
      }
    },
    {
      "cell_type": "code",
      "source": [
        "# Save rows where both MEXSTATE and CANPROV are null as a CSV\n",
        "both_missing.to_csv(\"/content/drive/MyDrive/Azubi_TMP/TransBorder_Analysis_Project/Dataset/rows_with_both_mexstate_canprov_null.csv\", index=False)"
      ],
      "metadata": {
        "id": "oed65DdhwKuy"
      },
      "execution_count": null,
      "outputs": []
    },
    {
      "cell_type": "markdown",
      "source": [
        "**District/Port (DEPE)**\n",
        "\n",
        "It is incomplete to have a freight without an associated porto of entry or exit, thus the DEPE column should not be empty."
      ],
      "metadata": {
        "id": "-8wLQPjoF_sa"
      }
    },
    {
      "cell_type": "code",
      "source": [
        "# Check number of missing values in DEPE column\n",
        "missing_depe = df[df['DEPE'].isnull()]\n",
        "print(\"Rows with missing DEPE (port):\", missing_depe.shape[0])"
      ],
      "metadata": {
        "colab": {
          "base_uri": "https://localhost:8080/"
        },
        "id": "0nbxQ7osGdHJ",
        "outputId": "d0f01d12-ea07-4ae1-8794-9ba2059764f5"
      },
      "execution_count": 14,
      "outputs": [
        {
          "output_type": "stream",
          "name": "stdout",
          "text": [
            "Rows with missing DEPE (port): 20854845\n"
          ]
        }
      ]
    },
    {
      "cell_type": "code",
      "source": [
        "# compute common DEPE per usastate\n",
        "depe_map = df.groupby('USASTATE')['DEPE'].agg(lambda x: x.mode().iloc[0] if not x.mode().empty else None).to_dict()\n",
        "\n",
        "# Fill missing DEPE based on usastate\n",
        "df['DEPE'] = df['DEPE'].fillna(df['USASTATE'].map(depe_map))"
      ],
      "metadata": {
        "id": "3a1nreisQXwL"
      },
      "execution_count": 15,
      "outputs": []
    },
    {
      "cell_type": "code",
      "source": [
        "df.isnull().sum()"
      ],
      "metadata": {
        "colab": {
          "base_uri": "https://localhost:8080/",
          "height": 554
        },
        "id": "7sU5N-hKRkub",
        "outputId": "7658044d-5b60-4cc1-9cd6-9d55c638a2cd"
      },
      "execution_count": 16,
      "outputs": [
        {
          "output_type": "execute_result",
          "data": {
            "text/plain": [
              "TRDTYPE                   0\n",
              "USASTATE                  0\n",
              "DEPE                      0\n",
              "DISAGMOT                  0\n",
              "MEXSTATE           18476837\n",
              "CANPROV             9878760\n",
              "COUNTRY                   0\n",
              "VALUE                     0\n",
              "SHIPWT                    0\n",
              "FREIGHT_CHARGES           0\n",
              "DF                  7894981\n",
              "CONTCODE                  0\n",
              "MONTH                     0\n",
              "YEAR                      0\n",
              "COMMODITY2                0\n",
              "dtype: int64"
            ],
            "text/html": [
              "<div>\n",
              "<style scoped>\n",
              "    .dataframe tbody tr th:only-of-type {\n",
              "        vertical-align: middle;\n",
              "    }\n",
              "\n",
              "    .dataframe tbody tr th {\n",
              "        vertical-align: top;\n",
              "    }\n",
              "\n",
              "    .dataframe thead th {\n",
              "        text-align: right;\n",
              "    }\n",
              "</style>\n",
              "<table border=\"1\" class=\"dataframe\">\n",
              "  <thead>\n",
              "    <tr style=\"text-align: right;\">\n",
              "      <th></th>\n",
              "      <th>0</th>\n",
              "    </tr>\n",
              "  </thead>\n",
              "  <tbody>\n",
              "    <tr>\n",
              "      <th>TRDTYPE</th>\n",
              "      <td>0</td>\n",
              "    </tr>\n",
              "    <tr>\n",
              "      <th>USASTATE</th>\n",
              "      <td>0</td>\n",
              "    </tr>\n",
              "    <tr>\n",
              "      <th>DEPE</th>\n",
              "      <td>0</td>\n",
              "    </tr>\n",
              "    <tr>\n",
              "      <th>DISAGMOT</th>\n",
              "      <td>0</td>\n",
              "    </tr>\n",
              "    <tr>\n",
              "      <th>MEXSTATE</th>\n",
              "      <td>18476837</td>\n",
              "    </tr>\n",
              "    <tr>\n",
              "      <th>CANPROV</th>\n",
              "      <td>9878760</td>\n",
              "    </tr>\n",
              "    <tr>\n",
              "      <th>COUNTRY</th>\n",
              "      <td>0</td>\n",
              "    </tr>\n",
              "    <tr>\n",
              "      <th>VALUE</th>\n",
              "      <td>0</td>\n",
              "    </tr>\n",
              "    <tr>\n",
              "      <th>SHIPWT</th>\n",
              "      <td>0</td>\n",
              "    </tr>\n",
              "    <tr>\n",
              "      <th>FREIGHT_CHARGES</th>\n",
              "      <td>0</td>\n",
              "    </tr>\n",
              "    <tr>\n",
              "      <th>DF</th>\n",
              "      <td>7894981</td>\n",
              "    </tr>\n",
              "    <tr>\n",
              "      <th>CONTCODE</th>\n",
              "      <td>0</td>\n",
              "    </tr>\n",
              "    <tr>\n",
              "      <th>MONTH</th>\n",
              "      <td>0</td>\n",
              "    </tr>\n",
              "    <tr>\n",
              "      <th>YEAR</th>\n",
              "      <td>0</td>\n",
              "    </tr>\n",
              "    <tr>\n",
              "      <th>COMMODITY2</th>\n",
              "      <td>0</td>\n",
              "    </tr>\n",
              "  </tbody>\n",
              "</table>\n",
              "</div><br><label><b>dtype:</b> int64</label>"
            ]
          },
          "metadata": {},
          "execution_count": 16
        }
      ]
    },
    {
      "cell_type": "markdown",
      "source": [
        "**Domestic/Foreign (DF)**\n",
        "\n",
        "Since the Transaction Type tells whether it's an import or export, we can infer from that column to fill null values in the DF column. Export means Domestic and Import means Foreign."
      ],
      "metadata": {
        "id": "Q_DIJRXcUpwa"
      }
    },
    {
      "cell_type": "code",
      "source": [
        "# Fill DF = 1 for exports (TRDTYPE == 1), only where DF is missing\n",
        "df.loc[(df['DF'].isnull()) & (df['TRDTYPE'] == 1), 'DF'] = 1\n",
        "\n",
        "# Fill DF = 2 for imports (TRDTYPE == 2), only where DF is missing\n",
        "df.loc[(df['DF'].isnull()) & (df['TRDTYPE'] == 2), 'DF'] = 2"
      ],
      "metadata": {
        "id": "g0cPKdbBUt3x"
      },
      "execution_count": 17,
      "outputs": []
    },
    {
      "cell_type": "code",
      "source": [
        "df.isnull().sum()"
      ],
      "metadata": {
        "colab": {
          "base_uri": "https://localhost:8080/",
          "height": 554
        },
        "id": "MSQE91jGVPm1",
        "outputId": "16b3dd94-7078-4739-f6ed-0bc773e983a0"
      },
      "execution_count": 18,
      "outputs": [
        {
          "output_type": "execute_result",
          "data": {
            "text/plain": [
              "TRDTYPE                   0\n",
              "USASTATE                  0\n",
              "DEPE                      0\n",
              "DISAGMOT                  0\n",
              "MEXSTATE           18476837\n",
              "CANPROV             9878760\n",
              "COUNTRY                   0\n",
              "VALUE                     0\n",
              "SHIPWT                    0\n",
              "FREIGHT_CHARGES           0\n",
              "DF                        0\n",
              "CONTCODE                  0\n",
              "MONTH                     0\n",
              "YEAR                      0\n",
              "COMMODITY2                0\n",
              "dtype: int64"
            ],
            "text/html": [
              "<div>\n",
              "<style scoped>\n",
              "    .dataframe tbody tr th:only-of-type {\n",
              "        vertical-align: middle;\n",
              "    }\n",
              "\n",
              "    .dataframe tbody tr th {\n",
              "        vertical-align: top;\n",
              "    }\n",
              "\n",
              "    .dataframe thead th {\n",
              "        text-align: right;\n",
              "    }\n",
              "</style>\n",
              "<table border=\"1\" class=\"dataframe\">\n",
              "  <thead>\n",
              "    <tr style=\"text-align: right;\">\n",
              "      <th></th>\n",
              "      <th>0</th>\n",
              "    </tr>\n",
              "  </thead>\n",
              "  <tbody>\n",
              "    <tr>\n",
              "      <th>TRDTYPE</th>\n",
              "      <td>0</td>\n",
              "    </tr>\n",
              "    <tr>\n",
              "      <th>USASTATE</th>\n",
              "      <td>0</td>\n",
              "    </tr>\n",
              "    <tr>\n",
              "      <th>DEPE</th>\n",
              "      <td>0</td>\n",
              "    </tr>\n",
              "    <tr>\n",
              "      <th>DISAGMOT</th>\n",
              "      <td>0</td>\n",
              "    </tr>\n",
              "    <tr>\n",
              "      <th>MEXSTATE</th>\n",
              "      <td>18476837</td>\n",
              "    </tr>\n",
              "    <tr>\n",
              "      <th>CANPROV</th>\n",
              "      <td>9878760</td>\n",
              "    </tr>\n",
              "    <tr>\n",
              "      <th>COUNTRY</th>\n",
              "      <td>0</td>\n",
              "    </tr>\n",
              "    <tr>\n",
              "      <th>VALUE</th>\n",
              "      <td>0</td>\n",
              "    </tr>\n",
              "    <tr>\n",
              "      <th>SHIPWT</th>\n",
              "      <td>0</td>\n",
              "    </tr>\n",
              "    <tr>\n",
              "      <th>FREIGHT_CHARGES</th>\n",
              "      <td>0</td>\n",
              "    </tr>\n",
              "    <tr>\n",
              "      <th>DF</th>\n",
              "      <td>0</td>\n",
              "    </tr>\n",
              "    <tr>\n",
              "      <th>CONTCODE</th>\n",
              "      <td>0</td>\n",
              "    </tr>\n",
              "    <tr>\n",
              "      <th>MONTH</th>\n",
              "      <td>0</td>\n",
              "    </tr>\n",
              "    <tr>\n",
              "      <th>YEAR</th>\n",
              "      <td>0</td>\n",
              "    </tr>\n",
              "    <tr>\n",
              "      <th>COMMODITY2</th>\n",
              "      <td>0</td>\n",
              "    </tr>\n",
              "  </tbody>\n",
              "</table>\n",
              "</div><br><label><b>dtype:</b> int64</label>"
            ]
          },
          "metadata": {},
          "execution_count": 18
        }
      ]
    }
  ]
}